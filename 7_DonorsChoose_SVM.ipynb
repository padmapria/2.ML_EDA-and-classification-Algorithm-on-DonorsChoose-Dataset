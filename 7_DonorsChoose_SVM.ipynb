{
 "cells": [
  {
   "cell_type": "markdown",
   "metadata": {
    "colab_type": "text",
    "id": "7pzFaN8TOh78"
   },
   "source": [
    "# DonorsChoose"
   ]
  },
  {
   "cell_type": "markdown",
   "metadata": {
    "colab_type": "text",
    "id": "EVZ5rn7COh7-"
   },
   "source": [
    "<p>\n",
    "DonorsChoose.org receives hundreds of thousands of project proposals each year for classroom projects in need of funding. Right now, a large number of volunteers is needed to manually screen each submission before it's approved to be posted on the DonorsChoose.org website.\n",
    "</p>\n",
    "<p>\n",
    "    Next year, DonorsChoose.org expects to receive close to 500,000 project proposals. As a result, there are three main problems they need to solve:\n",
    "<ul>\n",
    "<li>\n",
    "    How to scale current manual processes and resources to screen 500,000 projects so that they can be posted as quickly and as efficiently as possible</li>\n",
    "    <li>How to increase the consistency of project vetting across different volunteers to improve the experience for teachers</li>\n",
    "    <li>How to focus volunteer time on the applications that need the most assistance</li>\n",
    "    </ul>\n",
    "</p>    \n",
    "<p>\n",
    "The goal of the competition is to predict whether or not a DonorsChoose.org project proposal submitted by a teacher will be approved, using the text of project descriptions as well as additional metadata about the project, teacher, and school. DonorsChoose.org can then use this information to identify projects most likely to need further review before approval.\n",
    "</p>"
   ]
  },
  {
   "cell_type": "markdown",
   "metadata": {
    "colab_type": "text",
    "id": "UZQ1FGY_Oh7_"
   },
   "source": [
    "## About the DonorsChoose Data Set\n",
    "\n",
    "The `train.csv` data set provided by DonorsChoose contains the following features:\n",
    "\n",
    "Feature | Description \n",
    "----------|---------------\n",
    "**`project_id`** | A unique identifier for the proposed project. **Example:** `p036502`   \n",
    "**`project_title`**    | Title of the project. **Examples:**<br><ul><li><code>Art Will Make You Happy!</code></li><li><code>First Grade Fun</code></li></ul> \n",
    "**`project_grade_category`** | Grade level of students for which the project is targeted. One of the following enumerated values: <br/><ul><li><code>Grades PreK-2</code></li><li><code>Grades 3-5</code></li><li><code>Grades 6-8</code></li><li><code>Grades 9-12</code></li></ul>  \n",
    " **`project_subject_categories`** | One or more (comma-separated) subject categories for the project from the following enumerated list of values:  <br/><ul><li><code>Applied Learning</code></li><li><code>Care &amp; Hunger</code></li><li><code>Health &amp; Sports</code></li><li><code>History &amp; Civics</code></li><li><code>Literacy &amp; Language</code></li><li><code>Math &amp; Science</code></li><li><code>Music &amp; The Arts</code></li><li><code>Special Needs</code></li><li><code>Warmth</code></li></ul><br/> **Examples:** <br/><ul><li><code>Music &amp; The Arts</code></li><li><code>Literacy &amp; Language, Math &amp; Science</code></li>  \n",
    "  **`school_state`** | State where school is located ([Two-letter U.S. postal code](https://en.wikipedia.org/wiki/List_of_U.S._state_abbreviations#Postal_codes)). **Example:** `WY`\n",
    "**`project_subject_subcategories`** | One or more (comma-separated) subject subcategories for the project. **Examples:** <br/><ul><li><code>Literacy</code></li><li><code>Literature &amp; Writing, Social Sciences</code></li></ul> \n",
    "**`project_resource_summary`** | An explanation of the resources needed for the project. **Example:** <br/><ul><li><code>My students need hands on literacy materials to manage sensory needs!</code</li></ul> \n",
    "**`project_essay_1`**    | First application essay<sup>*</sup>  \n",
    "**`project_essay_2`**    | Second application essay<sup>*</sup> \n",
    "**`project_essay_3`**    | Third application essay<sup>*</sup> \n",
    "**`project_essay_4`**    | Fourth application essay<sup>*</sup> \n",
    "**`project_submitted_datetime`** | Datetime when project application was submitted. **Example:** `2016-04-28 12:43:56.245`   \n",
    "**`teacher_id`** | A unique identifier for the teacher of the proposed project. **Example:** `bdf8baa8fedef6bfeec7ae4ff1c15c56`  \n",
    "**`teacher_prefix`** | Teacher's title. One of the following enumerated values: <br/><ul><li><code>nan</code></li><li><code>Dr.</code></li><li><code>Mr.</code></li><li><code>Mrs.</code></li><li><code>Ms.</code></li><li><code>Teacher.</code></li></ul>  \n",
    "**`teacher_number_of_previously_posted_projects`** | Number of project applications previously submitted by the same teacher. **Example:** `2` \n",
    "\n",
    "<sup>*</sup> See the section <b>Notes on the Essay Data</b> for more details about these features.\n",
    "\n",
    "Additionally, the `resources.csv` data set provides more data about the resources required for each project. Each line in this file represents a resource required by a project:\n",
    "\n",
    "Feature | Description \n",
    "----------|---------------\n",
    "**`id`** | A `project_id` value from the `train.csv` file.  **Example:** `p036502`   \n",
    "**`description`** | Desciption of the resource. **Example:** `Tenor Saxophone Reeds, Box of 25`   \n",
    "**`quantity`** | Quantity of the resource required. **Example:** `3`   \n",
    "**`price`** | Price of the resource required. **Example:** `9.95`   \n",
    "\n",
    "**Note:** Many projects require multiple resources. The `id` value corresponds to a `project_id` in train.csv, so you use it as a key to retrieve all resources needed for a project:\n",
    "\n",
    "The data set contains the following label (the value you will attempt to predict):\n",
    "\n",
    "Label | Description\n",
    "----------|---------------\n",
    "`project_is_approved` | A binary flag indicating whether DonorsChoose approved the project. A value of `0` indicates the project was not approved, and a value of `1` indicates the project was approved."
   ]
  },
  {
   "cell_type": "markdown",
   "metadata": {
    "colab_type": "text",
    "id": "sCCs5GkfOh8A"
   },
   "source": [
    "### Notes on the Essay Data\n",
    "\n",
    "<ul>\n",
    "Prior to May 17, 2016, the prompts for the essays were as follows:\n",
    "<li>__project_essay_1:__ \"Introduce us to your classroom\"</li>\n",
    "<li>__project_essay_2:__ \"Tell us more about your students\"</li>\n",
    "<li>__project_essay_3:__ \"Describe how your students will use the materials you're requesting\"</li>\n",
    "<li>__project_essay_3:__ \"Close by sharing why your project will make a difference\"</li>\n",
    "</ul>\n",
    "\n",
    "\n",
    "<ul>\n",
    "Starting on May 17, 2016, the number of essays was reduced from 4 to 2, and the prompts for the first 2 essays were changed to the following:<br>\n",
    "<li>__project_essay_1:__ \"Describe your students: What makes your students special? Specific details about their background, your neighborhood, and your school are all helpful.\"</li>\n",
    "<li>__project_essay_2:__ \"About your project: How will these materials make a difference in your students' learning and improve their school lives?\"</li>\n",
    "<br>For all projects with project_submitted_datetime of 2016-05-17 and later, the values of project_essay_3 and project_essay_4 will be NaN.\n",
    "</ul>\n"
   ]
  },
  {
   "cell_type": "code",
   "execution_count": 1,
   "metadata": {
    "ExecuteTime": {
     "end_time": "2019-10-04T04:53:26.789528Z",
     "start_time": "2019-10-04T04:53:14.066902Z"
    },
    "colab": {},
    "colab_type": "code",
    "id": "bq-I4gTiOh8B",
    "outputId": "7fa6df60-d2e1-483b-8b5b-c287060d7dd2"
   },
   "outputs": [],
   "source": [
    "%matplotlib inline\n",
    "import warnings\n",
    "warnings.filterwarnings(\"ignore\")\n",
    "\n",
    "import sqlite3\n",
    "import pandas as pd\n",
    "import numpy as np\n",
    "import nltk\n",
    "import string\n",
    "import matplotlib.pyplot as plt\n",
    "import seaborn as sns\n",
    "from sklearn.feature_extraction.text import TfidfTransformer\n",
    "from sklearn.feature_extraction.text import TfidfVectorizer\n",
    "\n",
    "from sklearn.feature_extraction.text import CountVectorizer\n",
    "from sklearn.metrics import confusion_matrix\n",
    "from sklearn import metrics\n",
    "from sklearn.metrics import roc_curve, auc\n",
    "from nltk.stem.porter import PorterStemmer\n",
    "\n",
    "import re\n",
    "# Tutorial about Python regular expressions: https://pymotw.com/2/re/\n",
    "import string\n",
    "from nltk.corpus import stopwords\n",
    "from nltk.stem import PorterStemmer\n",
    "from nltk.stem.wordnet import WordNetLemmatizer\n",
    "\n",
    "from gensim.models import Word2Vec\n",
    "from gensim.models import KeyedVectors\n",
    "import pickle\n",
    "\n",
    "from tqdm import tqdm\n",
    "import os\n",
    "\n",
    "from collections import Counter"
   ]
  },
  {
   "cell_type": "markdown",
   "metadata": {
    "colab_type": "text",
    "id": "zLR1LA2oOh8L"
   },
   "source": [
    "## 1.1 Reading Data"
   ]
  },
  {
   "cell_type": "code",
   "execution_count": 2,
   "metadata": {
    "ExecuteTime": {
     "end_time": "2019-10-04T04:53:33.126238Z",
     "start_time": "2019-10-04T04:53:26.793533Z"
    },
    "colab": {},
    "colab_type": "code",
    "id": "h_7d8KKsOh8M"
   },
   "outputs": [],
   "source": [
    "project_data = pd.read_csv('train_data.csv',nrows=50000)\n",
    "resource_data = pd.read_csv('resources.csv')"
   ]
  },
  {
   "cell_type": "code",
   "execution_count": 3,
   "metadata": {
    "ExecuteTime": {
     "end_time": "2019-10-04T04:53:33.210298Z",
     "start_time": "2019-10-04T04:53:33.137246Z"
    },
    "colab": {},
    "colab_type": "code",
    "id": "z-37jMkROh8P",
    "outputId": "e1f7c478-cebd-438d-c78e-869b8cb02893"
   },
   "outputs": [
    {
     "name": "stdout",
     "output_type": "stream",
     "text": [
      "Number of data points in train data (50000, 17)\n",
      "--------------------------------------------------\n",
      "The attributes of data : ['Unnamed: 0' 'id' 'teacher_id' 'teacher_prefix' 'school_state'\n",
      " 'project_submitted_datetime' 'project_grade_category'\n",
      " 'project_subject_categories' 'project_subject_subcategories'\n",
      " 'project_title' 'project_essay_1' 'project_essay_2' 'project_essay_3'\n",
      " 'project_essay_4' 'project_resource_summary'\n",
      " 'teacher_number_of_previously_posted_projects' 'project_is_approved']\n"
     ]
    }
   ],
   "source": [
    "print(\"Number of data points in train data\", project_data.shape)\n",
    "print('-'*50)\n",
    "print(\"The attributes of data :\", project_data.columns.values)"
   ]
  },
  {
   "cell_type": "code",
   "execution_count": 4,
   "metadata": {
    "ExecuteTime": {
     "end_time": "2019-10-04T04:53:33.405607Z",
     "start_time": "2019-10-04T04:53:33.224308Z"
    },
    "colab": {},
    "colab_type": "code",
    "id": "JFvPg4TZOh8U",
    "outputId": "c90140d4-aeca-4315-d468-29bfe1e66fff"
   },
   "outputs": [
    {
     "name": "stdout",
     "output_type": "stream",
     "text": [
      "Number of data points in train data (1541272, 4)\n",
      "['id' 'description' 'quantity' 'price']\n"
     ]
    },
    {
     "data": {
      "text/html": [
       "<div>\n",
       "<style scoped>\n",
       "    .dataframe tbody tr th:only-of-type {\n",
       "        vertical-align: middle;\n",
       "    }\n",
       "\n",
       "    .dataframe tbody tr th {\n",
       "        vertical-align: top;\n",
       "    }\n",
       "\n",
       "    .dataframe thead th {\n",
       "        text-align: right;\n",
       "    }\n",
       "</style>\n",
       "<table border=\"1\" class=\"dataframe\">\n",
       "  <thead>\n",
       "    <tr style=\"text-align: right;\">\n",
       "      <th></th>\n",
       "      <th>id</th>\n",
       "      <th>description</th>\n",
       "      <th>quantity</th>\n",
       "      <th>price</th>\n",
       "    </tr>\n",
       "  </thead>\n",
       "  <tbody>\n",
       "    <tr>\n",
       "      <th>0</th>\n",
       "      <td>p233245</td>\n",
       "      <td>LC652 - Lakeshore Double-Space Mobile Drying Rack</td>\n",
       "      <td>1</td>\n",
       "      <td>149.00</td>\n",
       "    </tr>\n",
       "    <tr>\n",
       "      <th>1</th>\n",
       "      <td>p069063</td>\n",
       "      <td>Bouncy Bands for Desks (Blue support pipes)</td>\n",
       "      <td>3</td>\n",
       "      <td>14.95</td>\n",
       "    </tr>\n",
       "  </tbody>\n",
       "</table>\n",
       "</div>"
      ],
      "text/plain": [
       "        id                                        description  quantity  \\\n",
       "0  p233245  LC652 - Lakeshore Double-Space Mobile Drying Rack         1   \n",
       "1  p069063        Bouncy Bands for Desks (Blue support pipes)         3   \n",
       "\n",
       "    price  \n",
       "0  149.00  \n",
       "1   14.95  "
      ]
     },
     "execution_count": 4,
     "metadata": {},
     "output_type": "execute_result"
    }
   ],
   "source": [
    "print(\"Number of data points in train data\", resource_data.shape)\n",
    "print(resource_data.columns.values)\n",
    "resource_data.head(2)"
   ]
  },
  {
   "cell_type": "markdown",
   "metadata": {
    "colab_type": "text",
    "id": "pTDWxnUOOh8Y"
   },
   "source": [
    "## 1.2 preprocessing of `project_subject_categories`"
   ]
  },
  {
   "cell_type": "code",
   "execution_count": 5,
   "metadata": {
    "ExecuteTime": {
     "end_time": "2019-10-04T04:53:33.881578Z",
     "start_time": "2019-10-04T04:53:33.410589Z"
    },
    "colab": {},
    "colab_type": "code",
    "id": "gw_I3RrXOh8Z"
   },
   "outputs": [],
   "source": [
    "catogories = list(project_data['project_subject_categories'].values)\n",
    "# remove special characters from list of strings python: https://stackoverflow.com/a/47301924/4084039\n",
    "\n",
    "# https://www.geeksforgeeks.org/removing-stop-words-nltk-python/\n",
    "# https://stackoverflow.com/questions/23669024/how-to-strip-a-specific-word-from-a-string\n",
    "# https://stackoverflow.com/questions/8270092/remove-all-whitespace-in-a-string-in-python\n",
    "cat_list = []\n",
    "for i in catogories:\n",
    "    temp = \"\"\n",
    "    # consider we have text like this \"Math & Science, Warmth, Care & Hunger\"\n",
    "    for j in i.split(','): # it will split it in three parts [\"Math & Science\", \"Warmth\", \"Care & Hunger\"]\n",
    "        if 'The' in j.split(): # this will split each of the catogory based on space \"Math & Science\"=> \"Math\",\"&\", \"Science\"\n",
    "            j=j.replace('The','') # if we have the words \"The\" we are going to replace it with ''(i.e removing 'The')\n",
    "        j = j.replace(' ','') # we are placeing all the ' '(space) with ''(empty) ex:\"Math & Science\"=>\"Math&Science\"\n",
    "        temp+=j.strip()+\" \" #\" abc \".strip() will return \"abc\", remove the trailing spaces\n",
    "        temp = temp.replace('&','_') # we are replacing the & value into \n",
    "    cat_list.append(temp.strip())\n",
    "    \n",
    "project_data['clean_categories'] = cat_list\n",
    "project_data.drop(['project_subject_categories'], axis=1, inplace=True)\n",
    "\n",
    "from collections import Counter\n",
    "my_counter = Counter()\n",
    "for word in project_data['clean_categories'].values:\n",
    "    my_counter.update(word.split())\n",
    "\n",
    "cat_dict = dict(my_counter)\n",
    "sorted_cat_dict = dict(sorted(cat_dict.items(), key=lambda kv: kv[1]))\n"
   ]
  },
  {
   "cell_type": "markdown",
   "metadata": {
    "colab_type": "text",
    "id": "uPeyOZOvOh8d"
   },
   "source": [
    "## 1.3 preprocessing of `project_subject_subcategories`"
   ]
  },
  {
   "cell_type": "code",
   "execution_count": 6,
   "metadata": {
    "ExecuteTime": {
     "end_time": "2019-10-04T04:53:34.258767Z",
     "start_time": "2019-10-04T04:53:33.886582Z"
    },
    "colab": {},
    "colab_type": "code",
    "id": "uA4uC5YxOh8d"
   },
   "outputs": [],
   "source": [
    "sub_catogories = list(project_data['project_subject_subcategories'].values)\n",
    "# remove special characters from list of strings python: https://stackoverflow.com/a/47301924/4084039\n",
    "\n",
    "# https://www.geeksforgeeks.org/removing-stop-words-nltk-python/\n",
    "# https://stackoverflow.com/questions/23669024/how-to-strip-a-specific-word-from-a-string\n",
    "# https://stackoverflow.com/questions/8270092/remove-all-whitespace-in-a-string-in-python\n",
    "\n",
    "sub_cat_list = []\n",
    "for i in sub_catogories:\n",
    "    temp = \"\"\n",
    "    # consider we have text like this \"Math & Science, Warmth, Care & Hunger\"\n",
    "    for j in i.split(','): # it will split it in three parts [\"Math & Science\", \"Warmth\", \"Care & Hunger\"]\n",
    "        if 'The' in j.split(): # this will split each of the catogory based on space \"Math & Science\"=> \"Math\",\"&\", \"Science\"\n",
    "            j=j.replace('The','') # if we have the words \"The\" we are going to replace it with ''(i.e removing 'The')\n",
    "        j = j.replace(' ','') # we are placeing all the ' '(space) with ''(empty) ex:\"Math & Science\"=>\"Math&Science\"\n",
    "        temp +=j.strip()+\" \"#\" abc \".strip() will return \"abc\", remove the trailing spaces\n",
    "        temp = temp.replace('&','_')\n",
    "    sub_cat_list.append(temp.strip())\n",
    "\n",
    "project_data['clean_subcategories'] = sub_cat_list\n",
    "project_data.drop(['project_subject_subcategories'], axis=1, inplace=True)\n",
    "\n",
    "# count of all the words in corpus python: https://stackoverflow.com/a/22898595/4084039\n",
    "my_counter = Counter()\n",
    "for word in project_data['clean_subcategories'].values:\n",
    "    my_counter.update(word.split())\n",
    "    \n",
    "sub_cat_dict = dict(my_counter)\n",
    "sorted_sub_cat_dict = dict(sorted(sub_cat_dict.items(), key=lambda kv: kv[1]))"
   ]
  },
  {
   "cell_type": "markdown",
   "metadata": {
    "colab_type": "text",
    "id": "yWnCu3ufOh8h"
   },
   "source": [
    "## 1.3 Text preprocessing"
   ]
  },
  {
   "cell_type": "code",
   "execution_count": 7,
   "metadata": {
    "ExecuteTime": {
     "end_time": "2019-10-04T04:53:34.821185Z",
     "start_time": "2019-10-04T04:53:34.263771Z"
    },
    "colab": {},
    "colab_type": "code",
    "id": "U05smU87Oh8i"
   },
   "outputs": [],
   "source": [
    "# merge two column text dataframe: \n",
    "project_data[\"essay\"] = project_data[\"project_essay_1\"].map(str) +\\\n",
    "                        project_data[\"project_essay_2\"].map(str) + \\\n",
    "                        project_data[\"project_essay_3\"].map(str) + \\\n",
    "                        project_data[\"project_essay_4\"].map(str)"
   ]
  },
  {
   "cell_type": "code",
   "execution_count": 8,
   "metadata": {
    "ExecuteTime": {
     "end_time": "2019-10-04T04:53:34.865199Z",
     "start_time": "2019-10-04T04:53:34.830175Z"
    },
    "colab": {},
    "colab_type": "code",
    "id": "AuHJ0TPjOh8k",
    "outputId": "51dd6ce4-2245-409a-a25e-3faada0c7be7"
   },
   "outputs": [
    {
     "data": {
      "text/html": [
       "<div>\n",
       "<style scoped>\n",
       "    .dataframe tbody tr th:only-of-type {\n",
       "        vertical-align: middle;\n",
       "    }\n",
       "\n",
       "    .dataframe tbody tr th {\n",
       "        vertical-align: top;\n",
       "    }\n",
       "\n",
       "    .dataframe thead th {\n",
       "        text-align: right;\n",
       "    }\n",
       "</style>\n",
       "<table border=\"1\" class=\"dataframe\">\n",
       "  <thead>\n",
       "    <tr style=\"text-align: right;\">\n",
       "      <th></th>\n",
       "      <th>Unnamed: 0</th>\n",
       "      <th>id</th>\n",
       "      <th>teacher_id</th>\n",
       "      <th>teacher_prefix</th>\n",
       "      <th>school_state</th>\n",
       "      <th>project_submitted_datetime</th>\n",
       "      <th>project_grade_category</th>\n",
       "      <th>project_title</th>\n",
       "      <th>project_essay_1</th>\n",
       "      <th>project_essay_2</th>\n",
       "      <th>project_essay_3</th>\n",
       "      <th>project_essay_4</th>\n",
       "      <th>project_resource_summary</th>\n",
       "      <th>teacher_number_of_previously_posted_projects</th>\n",
       "      <th>project_is_approved</th>\n",
       "      <th>clean_categories</th>\n",
       "      <th>clean_subcategories</th>\n",
       "      <th>essay</th>\n",
       "    </tr>\n",
       "  </thead>\n",
       "  <tbody>\n",
       "    <tr>\n",
       "      <th>0</th>\n",
       "      <td>160221</td>\n",
       "      <td>p253737</td>\n",
       "      <td>c90749f5d961ff158d4b4d1e7dc665fc</td>\n",
       "      <td>Mrs.</td>\n",
       "      <td>IN</td>\n",
       "      <td>2016-12-05 13:43:57</td>\n",
       "      <td>Grades PreK-2</td>\n",
       "      <td>Educational Support for English Learners at Home</td>\n",
       "      <td>My students are English learners that are work...</td>\n",
       "      <td>\\\"The limits of your language are the limits o...</td>\n",
       "      <td>NaN</td>\n",
       "      <td>NaN</td>\n",
       "      <td>My students need opportunities to practice beg...</td>\n",
       "      <td>0</td>\n",
       "      <td>0</td>\n",
       "      <td>Literacy_Language</td>\n",
       "      <td>ESL Literacy</td>\n",
       "      <td>My students are English learners that are work...</td>\n",
       "    </tr>\n",
       "    <tr>\n",
       "      <th>1</th>\n",
       "      <td>140945</td>\n",
       "      <td>p258326</td>\n",
       "      <td>897464ce9ddc600bced1151f324dd63a</td>\n",
       "      <td>Mr.</td>\n",
       "      <td>FL</td>\n",
       "      <td>2016-10-25 09:22:10</td>\n",
       "      <td>Grades 6-8</td>\n",
       "      <td>Wanted: Projector for Hungry Learners</td>\n",
       "      <td>Our students arrive to our school eager to lea...</td>\n",
       "      <td>The projector we need for our school is very c...</td>\n",
       "      <td>NaN</td>\n",
       "      <td>NaN</td>\n",
       "      <td>My students need a projector to help with view...</td>\n",
       "      <td>7</td>\n",
       "      <td>1</td>\n",
       "      <td>History_Civics Health_Sports</td>\n",
       "      <td>Civics_Government TeamSports</td>\n",
       "      <td>Our students arrive to our school eager to lea...</td>\n",
       "    </tr>\n",
       "  </tbody>\n",
       "</table>\n",
       "</div>"
      ],
      "text/plain": [
       "   Unnamed: 0       id                        teacher_id teacher_prefix  \\\n",
       "0      160221  p253737  c90749f5d961ff158d4b4d1e7dc665fc           Mrs.   \n",
       "1      140945  p258326  897464ce9ddc600bced1151f324dd63a            Mr.   \n",
       "\n",
       "  school_state project_submitted_datetime project_grade_category  \\\n",
       "0           IN        2016-12-05 13:43:57          Grades PreK-2   \n",
       "1           FL        2016-10-25 09:22:10             Grades 6-8   \n",
       "\n",
       "                                      project_title  \\\n",
       "0  Educational Support for English Learners at Home   \n",
       "1             Wanted: Projector for Hungry Learners   \n",
       "\n",
       "                                     project_essay_1  \\\n",
       "0  My students are English learners that are work...   \n",
       "1  Our students arrive to our school eager to lea...   \n",
       "\n",
       "                                     project_essay_2 project_essay_3  \\\n",
       "0  \\\"The limits of your language are the limits o...             NaN   \n",
       "1  The projector we need for our school is very c...             NaN   \n",
       "\n",
       "  project_essay_4                           project_resource_summary  \\\n",
       "0             NaN  My students need opportunities to practice beg...   \n",
       "1             NaN  My students need a projector to help with view...   \n",
       "\n",
       "   teacher_number_of_previously_posted_projects  project_is_approved  \\\n",
       "0                                             0                    0   \n",
       "1                                             7                    1   \n",
       "\n",
       "               clean_categories           clean_subcategories  \\\n",
       "0             Literacy_Language                  ESL Literacy   \n",
       "1  History_Civics Health_Sports  Civics_Government TeamSports   \n",
       "\n",
       "                                               essay  \n",
       "0  My students are English learners that are work...  \n",
       "1  Our students arrive to our school eager to lea...  "
      ]
     },
     "execution_count": 8,
     "metadata": {},
     "output_type": "execute_result"
    }
   ],
   "source": [
    "project_data.head(2)"
   ]
  },
  {
   "cell_type": "code",
   "execution_count": 9,
   "metadata": {
    "ExecuteTime": {
     "end_time": "2019-10-04T04:53:35.028314Z",
     "start_time": "2019-10-04T04:53:34.877206Z"
    },
    "colab": {},
    "colab_type": "code",
    "id": "_-dRYBFlOh8o"
   },
   "outputs": [],
   "source": [
    "#### 1.4.2.3 Using Pretrained Models: TFIDF weighted W2V"
   ]
  },
  {
   "cell_type": "code",
   "execution_count": 10,
   "metadata": {
    "ExecuteTime": {
     "end_time": "2019-10-04T04:53:35.204458Z",
     "start_time": "2019-10-04T04:53:35.039322Z"
    },
    "colab": {},
    "colab_type": "code",
    "id": "zjTFpwQ6Oh8s",
    "outputId": "23131400-2935-4ce4-9d58-58967b0f7cdf"
   },
   "outputs": [
    {
     "name": "stdout",
     "output_type": "stream",
     "text": [
      "My students are English learners that are working on English as their second or third languages. We are a melting pot of refugees, immigrants, and native-born Americans bringing the gift of language to our school. \\r\\n\\r\\n We have over 24 languages represented in our English Learner program with students at every level of mastery.  We also have over 40 countries represented with the families within our school.  Each student brings a wealth of knowledge and experiences to us that open our eyes to new cultures, beliefs, and respect.\\\"The limits of your language are the limits of your world.\\\"-Ludwig Wittgenstein  Our English learner's have a strong support system at home that begs for more resources.  Many times our parents are learning to read and speak English along side of their children.  Sometimes this creates barriers for parents to be able to help their child learn phonetics, letter recognition, and other reading skills.\\r\\n\\r\\nBy providing these dvd's and players, students are able to continue their mastery of the English language even if no one at home is able to assist.  All families with students within the Level 1 proficiency status, will be a offered to be a part of this program.  These educational videos will be specially chosen by the English Learner Teacher and will be sent home regularly to watch.  The videos are to help the child develop early reading skills.\\r\\n\\r\\nParents that do not have access to a dvd player will have the opportunity to check out a dvd player to use for the year.  The plan is to use these videos and educational dvd's for the years to come for other EL students.\\r\\nnannan\n",
      "==================================================\n",
      "The 51 fifth grade students that will cycle through my classroom this year all love learning, at least most of the time. At our school, 97.3% of the students receive free or reduced price lunch. Of the 560 students, 97.3% are minority students. \\r\\nThe school has a vibrant community that loves to get together and celebrate. Around Halloween there is a whole school parade to show off the beautiful costumes that students wear. On Cinco de Mayo we put on a big festival with crafts made by the students, dances, and games. At the end of the year the school hosts a carnival to celebrate the hard work put in during the school year, with a dunk tank being the most popular activity.My students will use these five brightly colored Hokki stools in place of regular, stationary, 4-legged chairs. As I will only have a total of ten in the classroom and not enough for each student to have an individual one, they will be used in a variety of ways. During independent reading time they will be used as special chairs students will each use on occasion. I will utilize them in place of chairs at my small group tables during math and reading times. The rest of the day they will be used by the students who need the highest amount of movement in their life in order to stay focused on school.\\r\\n\\r\\nWhenever asked what the classroom is missing, my students always say more Hokki Stools. They can't get their fill of the 5 stools we already have. When the students are sitting in group with me on the Hokki Stools, they are always moving, but at the same time doing their work. Anytime the students get to pick where they can sit, the Hokki Stools are the first to be taken. There are always students who head over to the kidney table to get one of the stools who are disappointed as there are not enough of them. \\r\\n\\r\\nWe ask a lot of students to sit for 7 hours a day. The Hokki stools will be a compromise that allow my students to do desk work and move at the same time. These stools will help students to meet their 60 minutes a day of movement by allowing them to activate their core muscles for balance while they sit. For many of my students, these chairs will take away the barrier that exists in schools for a child who can't sit still.nannan\n",
      "==================================================\n",
      "How do you remember your days of school? Was it in a sterile environment with plain walls, rows of desks, and a teacher in front of the room? A typical day in our room is nothing like that. I work hard to create a warm inviting themed room for my students look forward to coming to each day.\\r\\n\\r\\nMy class is made up of 28 wonderfully unique boys and girls of mixed races in Arkansas.\\r\\nThey attend a Title I school, which means there is a high enough percentage of free and reduced-price lunch to qualify. Our school is an \\\"open classroom\\\" concept, which is very unique as there are no walls separating the classrooms. These 9 and 10 year-old students are very eager learners; they are like sponges, absorbing all the information and experiences and keep on wanting more.With these resources such as the comfy red throw pillows and the whimsical nautical hanging decor and the blue fish nets, I will be able to help create the mood in our classroom setting to be one of a themed nautical environment. Creating a classroom environment is very important in the success in each and every child's education. The nautical photo props will be used with each child as they step foot into our classroom for the first time on Meet the Teacher evening. I'll take pictures of each child with them, have them developed, and then hung in our classroom ready for their first day of 4th grade.  This kind gesture will set the tone before even the first day of school! The nautical thank you cards will be used throughout the year by the students as they create thank you cards to their team groups.\\r\\n\\r\\nYour generous donations will help me to help make our classroom a fun, inviting, learning environment from day one.\\r\\n\\r\\nIt costs lost of money out of my own pocket on resources to get our classroom ready. Please consider helping with this project to make our new school year a very successful one. Thank you!nannan\n",
      "==================================================\n",
      "My kindergarten students have varied disabilities ranging from speech and language delays, cognitive delays, gross/fine motor delays, to autism. They are eager beavers and always strive to work their hardest working past their limitations. \\r\\n\\r\\nThe materials we have are the ones I seek out for my students. I teach in a Title I school where most of the students receive free or reduced price lunch.  Despite their disabilities and limitations, my students love coming to school and come eager to learn and explore.Have you ever felt like you had ants in your pants and you needed to groove and move as you were in a meeting? This is how my kids feel all the time. The want to be able to move as they learn or so they say.Wobble chairs are the answer and I love then because they develop their core, which enhances gross motor and in Turn fine motor skills. \\r\\nThey also want to learn through games, my kids don't want to sit and do worksheets. They want to learn to count by jumping and playing. Physical engagement is the key to our success. The number toss and color and shape mats can make that happen. My students will forget they are doing work and just have the fun a 6 year old deserves.nannan\n"
     ]
    }
   ],
   "source": [
    "# printing some random reviews\n",
    "print(project_data['essay'].values[0])\n",
    "print(\"=\"*50)\n",
    "print(project_data['essay'].values[150])\n",
    "print(\"=\"*50)\n",
    "print(project_data['essay'].values[1000])\n",
    "print(\"=\"*50)\n",
    "print(project_data['essay'].values[20000])\n"
   ]
  },
  {
   "cell_type": "code",
   "execution_count": 11,
   "metadata": {
    "ExecuteTime": {
     "end_time": "2019-10-04T04:53:35.326546Z",
     "start_time": "2019-10-04T04:53:35.208464Z"
    },
    "colab": {},
    "colab_type": "code",
    "id": "MGdcsQGDOh8v"
   },
   "outputs": [],
   "source": [
    "# https://stackoverflow.com/a/47091490/4084039\n",
    "import re\n",
    "\n",
    "def decontracted(phrase):\n",
    "    # specific\n",
    "    phrase = re.sub(r\"won't\", \"will not\", phrase)\n",
    "    phrase = re.sub(r\"can\\'t\", \"can not\", phrase)\n",
    "\n",
    "    # general\n",
    "    phrase = re.sub(r\"n\\'t\", \" not\", phrase)\n",
    "    phrase = re.sub(r\"\\'re\", \" are\", phrase)\n",
    "    phrase = re.sub(r\"\\'s\", \" is\", phrase)\n",
    "    phrase = re.sub(r\"\\'d\", \" would\", phrase)\n",
    "    phrase = re.sub(r\"\\'ll\", \" will\", phrase)\n",
    "    phrase = re.sub(r\"\\'t\", \" not\", phrase)\n",
    "    phrase = re.sub(r\"\\'ve\", \" have\", phrase)\n",
    "    phrase = re.sub(r\"\\'m\", \" am\", phrase)\n",
    "    return phrase"
   ]
  },
  {
   "cell_type": "code",
   "execution_count": 12,
   "metadata": {
    "ExecuteTime": {
     "end_time": "2019-10-04T04:53:35.471647Z",
     "start_time": "2019-10-04T04:53:35.331548Z"
    },
    "colab": {},
    "colab_type": "code",
    "id": "loyUeAjHOh8z",
    "outputId": "81ddaada-e995-4404-ab93-b049c94a85e8"
   },
   "outputs": [
    {
     "name": "stdout",
     "output_type": "stream",
     "text": [
      "My kindergarten students have varied disabilities ranging from speech and language delays, cognitive delays, gross/fine motor delays, to autism. They are eager beavers and always strive to work their hardest working past their limitations. \\r\\n\\r\\nThe materials we have are the ones I seek out for my students. I teach in a Title I school where most of the students receive free or reduced price lunch.  Despite their disabilities and limitations, my students love coming to school and come eager to learn and explore.Have you ever felt like you had ants in your pants and you needed to groove and move as you were in a meeting? This is how my kids feel all the time. The want to be able to move as they learn or so they say.Wobble chairs are the answer and I love then because they develop their core, which enhances gross motor and in Turn fine motor skills. \\r\\nThey also want to learn through games, my kids do not want to sit and do worksheets. They want to learn to count by jumping and playing. Physical engagement is the key to our success. The number toss and color and shape mats can make that happen. My students will forget they are doing work and just have the fun a 6 year old deserves.nannan\n",
      "==================================================\n"
     ]
    }
   ],
   "source": [
    "sent = decontracted(project_data['essay'].values[20000])\n",
    "print(sent)\n",
    "print(\"=\"*50)"
   ]
  },
  {
   "cell_type": "code",
   "execution_count": 13,
   "metadata": {
    "ExecuteTime": {
     "end_time": "2019-10-04T04:53:35.605907Z",
     "start_time": "2019-10-04T04:53:35.477651Z"
    },
    "colab": {},
    "colab_type": "code",
    "id": "yLZz_CbMOh84",
    "outputId": "861d8e1d-550c-4861-a3ac-efa430d4ad07"
   },
   "outputs": [
    {
     "name": "stdout",
     "output_type": "stream",
     "text": [
      "My kindergarten students have varied disabilities ranging from speech and language delays, cognitive delays, gross/fine motor delays, to autism. They are eager beavers and always strive to work their hardest working past their limitations.     The materials we have are the ones I seek out for my students. I teach in a Title I school where most of the students receive free or reduced price lunch.  Despite their disabilities and limitations, my students love coming to school and come eager to learn and explore.Have you ever felt like you had ants in your pants and you needed to groove and move as you were in a meeting? This is how my kids feel all the time. The want to be able to move as they learn or so they say.Wobble chairs are the answer and I love then because they develop their core, which enhances gross motor and in Turn fine motor skills.   They also want to learn through games, my kids do not want to sit and do worksheets. They want to learn to count by jumping and playing. Physical engagement is the key to our success. The number toss and color and shape mats can make that happen. My students will forget they are doing work and just have the fun a 6 year old deserves.nannan\n"
     ]
    }
   ],
   "source": [
    "# \\r \\n \\t remove from string python: http://texthandler.com/info/remove-line-breaks-python/\n",
    "sent = sent.replace('\\\\r', ' ')\n",
    "sent = sent.replace('\\\\\"', ' ')\n",
    "sent = sent.replace('\\\\n', ' ')\n",
    "print(sent)"
   ]
  },
  {
   "cell_type": "code",
   "execution_count": 14,
   "metadata": {
    "ExecuteTime": {
     "end_time": "2019-10-04T04:53:35.771613Z",
     "start_time": "2019-10-04T04:53:35.609910Z"
    },
    "colab": {},
    "colab_type": "code",
    "id": "QBEg9vnkOh8_",
    "outputId": "ae570fb3-3203-4540-ddfb-a0661e23f7a7"
   },
   "outputs": [
    {
     "name": "stdout",
     "output_type": "stream",
     "text": [
      "My kindergarten students have varied disabilities ranging from speech and language delays cognitive delays gross fine motor delays to autism They are eager beavers and always strive to work their hardest working past their limitations The materials we have are the ones I seek out for my students I teach in a Title I school where most of the students receive free or reduced price lunch Despite their disabilities and limitations my students love coming to school and come eager to learn and explore Have you ever felt like you had ants in your pants and you needed to groove and move as you were in a meeting This is how my kids feel all the time The want to be able to move as they learn or so they say Wobble chairs are the answer and I love then because they develop their core which enhances gross motor and in Turn fine motor skills They also want to learn through games my kids do not want to sit and do worksheets They want to learn to count by jumping and playing Physical engagement is the key to our success The number toss and color and shape mats can make that happen My students will forget they are doing work and just have the fun a 6 year old deserves nannan\n"
     ]
    }
   ],
   "source": [
    "#remove spacial character: https://stackoverflow.com/a/5843547/4084039\n",
    "sent = re.sub('[^A-Za-z0-9]+', ' ', sent)\n",
    "print(sent)"
   ]
  },
  {
   "cell_type": "code",
   "execution_count": 15,
   "metadata": {
    "ExecuteTime": {
     "end_time": "2019-10-04T04:53:35.892864Z",
     "start_time": "2019-10-04T04:53:35.783621Z"
    },
    "colab": {},
    "colab_type": "code",
    "id": "f9xBNXfxOh9F"
   },
   "outputs": [],
   "source": [
    "# https://gist.github.com/sebleier/554280\n",
    "# we are removing the words from the stop words list: 'no', 'nor', 'not'\n",
    "stopwords= ['i', 'me', 'my', 'myself', 'we', 'our', 'ours', 'ourselves', 'you', \"you're\", \"you've\",\\\n",
    "            \"you'll\", \"you'd\", 'your', 'yours', 'yourself', 'yourselves', 'he', 'him', 'his', 'himself', \\\n",
    "            'she', \"she's\", 'her', 'hers', 'herself', 'it', \"it's\", 'its', 'itself', 'they', 'them', 'their',\\\n",
    "            'theirs', 'themselves', 'what', 'which', 'who', 'whom', 'this', 'that', \"that'll\", 'these', 'those', \\\n",
    "            'am', 'is', 'are', 'was', 'were', 'be', 'been', 'being', 'have', 'has', 'had', 'having', 'do', 'does', \\\n",
    "            'did', 'doing', 'a', 'an', 'the', 'and', 'but', 'if', 'or', 'because', 'as', 'until', 'while', 'of', \\\n",
    "            'at', 'by', 'for', 'with', 'about', 'against', 'between', 'into', 'through', 'during', 'before', 'after',\\\n",
    "            'above', 'below', 'to', 'from', 'up', 'down', 'in', 'out', 'on', 'off', 'over', 'under', 'again', 'further',\\\n",
    "            'then', 'once', 'here', 'there', 'when', 'where', 'why', 'how', 'all', 'any', 'both', 'each', 'few', 'more',\\\n",
    "            'most', 'other', 'some', 'such', 'only', 'own', 'same', 'so', 'than', 'too', 'very', \\\n",
    "            's', 't', 'can', 'will', 'just', 'don', \"don't\", 'should', \"should've\", 'now', 'd', 'll', 'm', 'o', 're', \\\n",
    "            've', 'y', 'ain', 'aren', \"aren't\", 'couldn', \"couldn't\", 'didn', \"didn't\", 'doesn', \"doesn't\", 'hadn',\\\n",
    "            \"hadn't\", 'hasn', \"hasn't\", 'haven', \"haven't\", 'isn', \"isn't\", 'ma', 'mightn', \"mightn't\", 'mustn',\\\n",
    "            \"mustn't\", 'needn', \"needn't\", 'shan', \"shan't\", 'shouldn', \"shouldn't\", 'wasn', \"wasn't\", 'weren', \"weren't\", \\\n",
    "            'won', \"won't\", 'wouldn', \"wouldn't\"]"
   ]
  },
  {
   "cell_type": "code",
   "execution_count": 16,
   "metadata": {
    "ExecuteTime": {
     "end_time": "2019-10-04T04:54:25.266189Z",
     "start_time": "2019-10-04T04:53:35.896869Z"
    },
    "colab": {},
    "colab_type": "code",
    "id": "ykn0tBvpOh9M",
    "outputId": "86b5e136-bfb4-4881-dda8-6de1752ffb6d"
   },
   "outputs": [
    {
     "name": "stderr",
     "output_type": "stream",
     "text": [
      "100%|██████████████████████████████████| 50000/50000 [00:48<00:00, 1023.44it/s]\n"
     ]
    }
   ],
   "source": [
    "# Combining all the above stundents \n",
    "from tqdm import tqdm\n",
    "import num2words\n",
    "preprocessed_essays = []\n",
    "# tqdm is for printing the status bar\n",
    "for sentance in tqdm(project_data['essay'].values):\n",
    "    sent = decontracted(sentance)\n",
    "    sent = sent.replace('\\\\r', ' ')\n",
    "    sent = sent.replace('\\\\\"', ' ')\n",
    "    sent = sent.replace('\\\\n', ' ')\n",
    "    sent = re.sub(r\"(\\d+)\", lambda x: num2words.num2words(int(x.group(0))), sent)\n",
    "    sent = re.sub('[^A-Za-z0-9]+', ' ', sent)\n",
    "    # https://gist.github.com/sebleier/554280\n",
    "    sent = ' '.join(e for e in sent.split() if e not in stopwords)\n",
    "    preprocessed_essays.append(sent.lower().strip())"
   ]
  },
  {
   "cell_type": "code",
   "execution_count": 17,
   "metadata": {
    "ExecuteTime": {
     "end_time": "2019-10-04T04:54:25.286203Z",
     "start_time": "2019-10-04T04:54:25.272195Z"
    },
    "colab": {},
    "colab_type": "code",
    "id": "xQcuOWaaOh9P",
    "outputId": "26a0789c-ccca-4fb5-b6c7-8eba65a400d3"
   },
   "outputs": [
    {
     "data": {
      "text/plain": [
       "'my kindergarten students varied disabilities ranging speech language delays cognitive delays gross fine motor delays autism they eager beavers always strive work hardest working past limitations the materials ones i seek students i teach title i school students receive free reduced price lunch despite disabilities limitations students love coming school come eager learn explore have ever felt like ants pants needed groove move meeting this kids feel time the want able move learn say wobble chairs answer i love develop core enhances gross motor turn fine motor skills they also want learn games kids not want sit worksheets they want learn count jumping playing physical engagement key success the number toss color shape mats make happen my students forget work fun six year old deserves nannan'"
      ]
     },
     "execution_count": 17,
     "metadata": {},
     "output_type": "execute_result"
    }
   ],
   "source": [
    "# after preprocesing\n",
    "preprocessed_essays[20000]"
   ]
  },
  {
   "cell_type": "markdown",
   "metadata": {
    "colab_type": "text",
    "id": "dATutMFcOh9S"
   },
   "source": [
    "<h2><font color='red'> 1.4 Preprocessing of `project_title`</font></h2>"
   ]
  },
  {
   "cell_type": "code",
   "execution_count": 18,
   "metadata": {
    "ExecuteTime": {
     "end_time": "2019-10-04T04:54:27.668895Z",
     "start_time": "2019-10-04T04:54:25.291206Z"
    },
    "colab": {},
    "colab_type": "code",
    "id": "7BrWMw3vOh9T"
   },
   "outputs": [
    {
     "name": "stderr",
     "output_type": "stream",
     "text": [
      "100%|█████████████████████████████████| 50000/50000 [00:02<00:00, 22516.68it/s]\n"
     ]
    }
   ],
   "source": [
    "# similarly you can preprocess the titles also\n",
    "# Combining all the above statemennts \n",
    "#Replacing number with text https://stackoverflow.com/questions/40040177/search-and-replace-numbers-with-words-in-file\n",
    "#re.sub(r\"(\\d+)\", lambda x: num2words.num2words(int(x.group(0))), sent)\n",
    "from tqdm import tqdm\n",
    "import num2words\n",
    "preprocessed_title = []\n",
    "# tqdm is for printing the status bar\n",
    "for sentance in tqdm(project_data['project_title'].values):\n",
    "    sent = decontracted(sentance)\n",
    "    sent = sent.replace('\\\\r', ' ')\n",
    "    sent = sent.replace('\\\\\"', ' ')\n",
    "    sent = sent.replace('\\\\n', ' ')\n",
    "    sent = re.sub(r\"(\\d+)\", lambda x: num2words.num2words(int(x.group(0))), sent)\n",
    "    sent = re.sub('[^A-Za-z0-9]+', ' ', sent)\n",
    "    # https://gist.github.com/sebleier/554280\n",
    "    sent = ' '.join(e for e in sent.split() if e not in stopwords)\n",
    "    preprocessed_title.append(sent.lower().strip())"
   ]
  },
  {
   "cell_type": "code",
   "execution_count": 19,
   "metadata": {
    "ExecuteTime": {
     "end_time": "2019-10-04T04:54:27.788980Z",
     "start_time": "2019-10-04T04:54:27.674899Z"
    }
   },
   "outputs": [
    {
     "name": "stderr",
     "output_type": "stream",
     "text": [
      "100%|████████████████████████████████| 50000/50000 [00:00<00:00, 561403.81it/s]\n"
     ]
    },
    {
     "data": {
      "text/plain": [
       "['Grades_PreK_2', 'Grades_6_8', 'Grades_9_12', 'Grades_3_5']"
      ]
     },
     "execution_count": 19,
     "metadata": {},
     "output_type": "execute_result"
    }
   ],
   "source": [
    "#process project grade remove replace space with _ and replace - with _\n",
    "preprocessed_grade = []\n",
    "for sentance in  tqdm(project_data['project_grade_category'].values):\n",
    "    sentance=sentance.replace(\" \",\"_\")\n",
    "    sentance = sentance.replace(\"-\",\"_\")\n",
    "    preprocessed_grade.append(sentance)\n",
    "list(set(preprocessed_grade))"
   ]
  },
  {
   "cell_type": "markdown",
   "metadata": {},
   "source": [
    "<h2><font color='red'> 1.4.1 Combining Resource data and project data`</font></h2>"
   ]
  },
  {
   "cell_type": "code",
   "execution_count": 20,
   "metadata": {
    "ExecuteTime": {
     "end_time": "2019-10-04T04:54:29.249872Z",
     "start_time": "2019-10-04T04:54:27.792983Z"
    }
   },
   "outputs": [
    {
     "name": "stdout",
     "output_type": "stream",
     "text": [
      "Index(['Unnamed: 0', 'id', 'teacher_id', 'teacher_prefix', 'school_state',\n",
      "       'project_submitted_datetime', 'project_grade_category', 'project_title',\n",
      "       'project_essay_1', 'project_essay_2', 'project_essay_3',\n",
      "       'project_essay_4', 'project_resource_summary',\n",
      "       'teacher_number_of_previously_posted_projects', 'project_is_approved',\n",
      "       'clean_categories', 'clean_subcategories', 'essay'],\n",
      "      dtype='object')\n",
      "Index(['Unnamed: 0', 'id', 'teacher_id', 'teacher_prefix', 'school_state',\n",
      "       'project_submitted_datetime', 'project_grade_category', 'project_title',\n",
      "       'project_essay_1', 'project_essay_2', 'project_essay_3',\n",
      "       'project_essay_4', 'project_resource_summary',\n",
      "       'teacher_number_of_previously_posted_projects', 'project_is_approved',\n",
      "       'clean_categories', 'clean_subcategories', 'essay', 'price',\n",
      "       'quantity'],\n",
      "      dtype='object')\n"
     ]
    }
   ],
   "source": [
    "price_data = resource_data.groupby('id').agg({'price':'sum', 'quantity':'sum'}).reset_index()\n",
    "print(project_data.columns)\n",
    "project_data = pd.merge(project_data, price_data, on='id', how='left')\n",
    "print(project_data.columns)"
   ]
  },
  {
   "cell_type": "markdown",
   "metadata": {
    "ExecuteTime": {
     "end_time": "2019-09-25T10:58:35.003265Z",
     "start_time": "2019-09-25T10:58:34.993260Z"
    }
   },
   "source": [
    "<h2><font color='red'> 1.4.2 Finding wordcount of essay and title and Sentiment Analysis of essay`</font></h2>"
   ]
  },
  {
   "cell_type": "code",
   "execution_count": 21,
   "metadata": {
    "ExecuteTime": {
     "end_time": "2019-10-04T04:54:29.950391Z",
     "start_time": "2019-10-04T04:54:29.253876Z"
    }
   },
   "outputs": [],
   "source": [
    "project_data['essay'] = preprocessed_essays\n",
    "project_data['project_title']= preprocessed_title\n",
    "project_data['project_grade_category']=preprocessed_grade\n",
    "project_data['title_wordcount'] = project_data.project_title.apply(lambda x: len(str(x).split(' ')))\n",
    "project_data['essay_wordcount'] = project_data.essay.apply(lambda x: len(str(x).split(' ')))\n"
   ]
  },
  {
   "cell_type": "code",
   "execution_count": 22,
   "metadata": {
    "ExecuteTime": {
     "end_time": "2019-10-04T04:56:58.818307Z",
     "start_time": "2019-10-04T04:54:29.954397Z"
    }
   },
   "outputs": [
    {
     "name": "stderr",
     "output_type": "stream",
     "text": [
      "[nltk_data] Downloading package vader_lexicon to\n",
      "[nltk_data]     C:\\Users\\5558\\AppData\\Roaming\\nltk_data...\n",
      "[nltk_data]   Package vader_lexicon is already up-to-date!\n",
      "100%|███████████████████████████████████| 50000/50000 [02:28<00:00, 337.58it/s]\n"
     ]
    }
   ],
   "source": [
    "import nltk\n",
    "from nltk.sentiment.vader import SentimentIntensityAnalyzer\n",
    "nltk.download('vader_lexicon')\n",
    "\n",
    "sentiment_value=[]\n",
    "sid = SentimentIntensityAnalyzer()\n",
    "for essay in tqdm(project_data['essay']):\n",
    "    senti_score = sid.polarity_scores(essay)\n",
    "    # we can use these 4 things as features/attributes (neg, neu, pos, compound)\n",
    "    # neg: 0.0, neu: 0.753, pos: 0.247, compound: 0.93\n",
    "    \n",
    "    sentiment_value.append(int(senti_score['pos'] *100) )\n",
    "\n",
    "project_data['essay_sentiment_score'] = sentiment_value"
   ]
  },
  {
   "cell_type": "markdown",
   "metadata": {},
   "source": [
    "<h2><font color='red'>[1.4.3] Splitting data into Train and cross validation(or test): Stratified Sampling</font></h2>"
   ]
  },
  {
   "cell_type": "code",
   "execution_count": 23,
   "metadata": {
    "ExecuteTime": {
     "end_time": "2019-10-04T04:56:59.161529Z",
     "start_time": "2019-10-04T04:56:58.839300Z"
    }
   },
   "outputs": [],
   "source": [
    "# train test split\n",
    "y_label= project_data['project_is_approved']\n",
    "X_label = project_data.drop(columns='project_is_approved')\n",
    "\n",
    "from sklearn.model_selection import train_test_split\n",
    "X_train, X_test, y_train, y_test = train_test_split(X_label, y_label, test_size=0.33, stratify=y_label)\n"
   ]
  },
  {
   "cell_type": "code",
   "execution_count": 24,
   "metadata": {
    "ExecuteTime": {
     "end_time": "2019-10-04T04:56:59.196556Z",
     "start_time": "2019-10-04T04:56:59.177541Z"
    }
   },
   "outputs": [
    {
     "name": "stdout",
     "output_type": "stream",
     "text": [
      "(33500, 22)\n",
      "(16500, 22)\n"
     ]
    }
   ],
   "source": [
    "print(X_train.shape)\n",
    "print(X_test.shape)\n"
   ]
  },
  {
   "cell_type": "code",
   "execution_count": 25,
   "metadata": {
    "ExecuteTime": {
     "end_time": "2019-10-04T04:56:59.327648Z",
     "start_time": "2019-10-04T04:56:59.203559Z"
    }
   },
   "outputs": [
    {
     "data": {
      "text/plain": [
       "Index(['Unnamed: 0', 'id', 'teacher_id', 'teacher_prefix', 'school_state',\n",
       "       'project_submitted_datetime', 'project_grade_category', 'project_title',\n",
       "       'project_essay_1', 'project_essay_2', 'project_essay_3',\n",
       "       'project_essay_4', 'project_resource_summary',\n",
       "       'teacher_number_of_previously_posted_projects', 'clean_categories',\n",
       "       'clean_subcategories', 'essay', 'price', 'quantity', 'title_wordcount',\n",
       "       'essay_wordcount', 'essay_sentiment_score'],\n",
       "      dtype='object')"
      ]
     },
     "execution_count": 25,
     "metadata": {},
     "output_type": "execute_result"
    }
   ],
   "source": [
    "X_train.columns"
   ]
  },
  {
   "cell_type": "markdown",
   "metadata": {
    "colab_type": "text",
    "id": "q7zXfuktOh9W"
   },
   "source": [
    "## 1.5 Preparing data for models"
   ]
  },
  {
   "cell_type": "code",
   "execution_count": 26,
   "metadata": {
    "ExecuteTime": {
     "end_time": "2019-10-04T04:56:59.463745Z",
     "start_time": "2019-10-04T04:56:59.331651Z"
    },
    "colab": {},
    "colab_type": "code",
    "id": "GWx5ER5XOh9X",
    "outputId": "06f931bc-ff9a-4635-9af7-f65d095a7448"
   },
   "outputs": [
    {
     "data": {
      "text/plain": [
       "Index(['Unnamed: 0', 'id', 'teacher_id', 'teacher_prefix', 'school_state',\n",
       "       'project_submitted_datetime', 'project_grade_category', 'project_title',\n",
       "       'project_essay_1', 'project_essay_2', 'project_essay_3',\n",
       "       'project_essay_4', 'project_resource_summary',\n",
       "       'teacher_number_of_previously_posted_projects', 'project_is_approved',\n",
       "       'clean_categories', 'clean_subcategories', 'essay', 'price', 'quantity',\n",
       "       'title_wordcount', 'essay_wordcount', 'essay_sentiment_score'],\n",
       "      dtype='object')"
      ]
     },
     "execution_count": 26,
     "metadata": {},
     "output_type": "execute_result"
    }
   ],
   "source": [
    "project_data.columns"
   ]
  },
  {
   "cell_type": "markdown",
   "metadata": {
    "colab_type": "text",
    "id": "j2-sbIVbOh9a"
   },
   "source": [
    "we are going to consider\n",
    "\n",
    "       - school_state : categorical data\n",
    "       - clean_categories : categorical data\n",
    "       - clean_subcategories : categorical data\n",
    "       - project_grade_category : categorical data\n",
    "       - teacher_prefix : categorical data\n",
    "       \n",
    "       - project_title : text data\n",
    "       - text : text data\n",
    "       - project_resource_summary: text data (optinal)\n",
    "       \n",
    "       - quantity : numerical (optinal)\n",
    "       - teacher_number_of_previously_posted_projects : numerical\n",
    "       - price : numerical"
   ]
  },
  {
   "cell_type": "markdown",
   "metadata": {
    "colab_type": "text",
    "id": "OeLLx404Oh9c"
   },
   "source": [
    "### 1.5.1 Vectorizing Categorical data"
   ]
  },
  {
   "cell_type": "markdown",
   "metadata": {
    "colab_type": "text",
    "id": "iRhx2UDvOh9c"
   },
   "source": [
    "- https://www.appliedaicourse.com/course/applied-ai-course-online/lessons/handling-categorical-and-numerical-features/"
   ]
  },
  {
   "cell_type": "code",
   "execution_count": 27,
   "metadata": {
    "ExecuteTime": {
     "end_time": "2019-10-04T04:57:00.336054Z",
     "start_time": "2019-10-04T04:56:59.469748Z"
    },
    "colab": {},
    "colab_type": "code",
    "id": "K2pZQs6mOh9d",
    "outputId": "bd7e8d29-676b-4bfb-f33b-4f407f5a02b0"
   },
   "outputs": [
    {
     "name": "stdout",
     "output_type": "stream",
     "text": [
      "After vectorizations\n",
      "(33500, 9) (33500,)\n",
      "(16500, 9) (16500,)\n",
      "['appliedlearning', 'care_hunger', 'health_sports', 'history_civics', 'literacy_language', 'math_science', 'music_arts', 'specialneeds', 'warmth']\n",
      "====================================================================================================\n"
     ]
    }
   ],
   "source": [
    "# we use count vectorizer to convert the values into one \n",
    "vectorizer = CountVectorizer()\n",
    "vectorizer.fit(X_train['clean_categories'].values) # fit has to happen only on train data\n",
    "\n",
    "# we use the fitted CountVectorizer to convert the text to vector\n",
    "X_train_categories_ohc = vectorizer.transform(X_train['clean_categories'].values)\n",
    "#X_cv_categories_ohc = vectorizer.transform(X_cv['clean_categories'].values)\n",
    "X_test_categories_ohc = vectorizer.transform(X_test['clean_categories'].values)\n",
    "\n",
    "print(\"After vectorizations\")\n",
    "print(X_train_categories_ohc.shape, y_train.shape)\n",
    "#print(X_cv_categories_ohc.shape, y_cv.shape)\n",
    "print(X_test_categories_ohc.shape, y_test.shape)\n",
    "print(vectorizer.get_feature_names())\n",
    "print(\"=\"*100)"
   ]
  },
  {
   "cell_type": "code",
   "execution_count": 28,
   "metadata": {
    "ExecuteTime": {
     "end_time": "2019-10-04T04:57:00.998523Z",
     "start_time": "2019-10-04T04:57:00.344058Z"
    }
   },
   "outputs": [
    {
     "name": "stdout",
     "output_type": "stream",
     "text": [
      "After vectorizations\n",
      "(33500, 30) (33500,)\n",
      "(16500, 30) (16500,)\n",
      "['appliedsciences', 'care_hunger', 'charactereducation', 'civics_government', 'college_careerprep', 'communityservice', 'earlydevelopment', 'economics', 'environmentalscience', 'esl', 'extracurricular', 'financialliteracy', 'foreignlanguages', 'gym_fitness', 'health_lifescience', 'health_wellness', 'history_geography', 'literacy', 'literature_writing', 'mathematics', 'music', 'nutritioneducation', 'other', 'parentinvolvement', 'performingarts', 'socialsciences', 'specialneeds', 'teamsports', 'visualarts', 'warmth']\n",
      "====================================================================================================\n"
     ]
    }
   ],
   "source": [
    "# we use count vectorizer to convert the values into one \n",
    "vectorizer = CountVectorizer()\n",
    "vectorizer.fit(X_train['clean_subcategories'].values) # fit has to happen only on train data\n",
    "\n",
    "# we use the fitted CountVectorizer to convert the text to vector\n",
    "X_train_sub_categories_ohc = vectorizer.transform(X_train['clean_subcategories'].values)\n",
    "#X_cv_sub_categories_ohc = vectorizer.transform(X_cv['clean_subcategories'].values)\n",
    "X_test_sub_categories_ohc = vectorizer.transform(X_test['clean_subcategories'].values)\n",
    "\n",
    "print(\"After vectorizations\")\n",
    "print(X_train_sub_categories_ohc.shape, y_train.shape)\n",
    "#print(X_cv_sub_categories_ohc.shape, y_cv.shape)\n",
    "print(X_test_sub_categories_ohc.shape, y_test.shape)\n",
    "print(vectorizer.get_feature_names())\n",
    "print(\"=\"*100)"
   ]
  },
  {
   "cell_type": "code",
   "execution_count": 29,
   "metadata": {
    "ExecuteTime": {
     "end_time": "2019-10-04T04:57:01.487872Z",
     "start_time": "2019-10-04T04:57:01.005528Z"
    }
   },
   "outputs": [
    {
     "name": "stdout",
     "output_type": "stream",
     "text": [
      "After vectorizations\n",
      "(33500, 51) (33500,)\n",
      "(16500, 51) (16500,)\n",
      "['ak', 'al', 'ar', 'az', 'ca', 'co', 'ct', 'dc', 'de', 'fl', 'ga', 'hi', 'ia', 'id', 'il', 'in', 'ks', 'ky', 'la', 'ma', 'md', 'me', 'mi', 'mn', 'mo', 'ms', 'mt', 'nc', 'nd', 'ne', 'nh', 'nj', 'nm', 'nv', 'ny', 'oh', 'ok', 'or', 'pa', 'ri', 'sc', 'sd', 'tn', 'tx', 'ut', 'va', 'vt', 'wa', 'wi', 'wv', 'wy']\n",
      "====================================================================================================\n"
     ]
    }
   ],
   "source": [
    "# you can do the similar thing with state, teacher_prefix and project_grade_category also\n",
    "# we use count vectorizer to convert the values into one \n",
    "vectorizer = CountVectorizer()\n",
    "vectorizer.fit(X_train['school_state'].values) # fit has to happen only on train data\n",
    "\n",
    "# we use the fitted CountVectorizer to convert the text to vector\n",
    "X_train_state_ohe = vectorizer.transform(X_train['school_state'].values)\n",
    "#X_cv_state_ohe = vectorizer.transform(X_cv['school_state'].values)\n",
    "X_test_state_ohe = vectorizer.transform(X_test['school_state'].values)\n",
    "\n",
    "print(\"After vectorizations\")\n",
    "print(X_train_state_ohe.shape, y_train.shape)\n",
    "#print(X_cv_state_ohe.shape, y_cv.shape)\n",
    "print(X_test_state_ohe.shape, y_test.shape)\n",
    "print(vectorizer.get_feature_names())\n",
    "print(\"=\"*100)"
   ]
  },
  {
   "cell_type": "code",
   "execution_count": 30,
   "metadata": {
    "ExecuteTime": {
     "end_time": "2019-10-04T04:57:02.152344Z",
     "start_time": "2019-10-04T04:57:01.493875Z"
    },
    "colab": {},
    "colab_type": "code",
    "id": "s9d0-QVfOh9h",
    "outputId": "2945c3fd-1f08-4843-cb8f-4c94ebb5c473"
   },
   "outputs": [
    {
     "name": "stdout",
     "output_type": "stream",
     "text": [
      "After vectorizations\n",
      "(33500, 5) (33500,)\n",
      "(16500, 5) (16500,)\n",
      "['dr', 'mr', 'mrs', 'ms', 'teacher']\n",
      "====================================================================================================\n"
     ]
    }
   ],
   "source": [
    "vectorizer = CountVectorizer()\n",
    "vectorizer.fit(X_train['teacher_prefix'].values.astype('U')) # fit has to happen only on train data\n",
    "\n",
    "# we use the fitted CountVectorizer to convert the text to vector\n",
    "X_train_teacher_ohe = vectorizer.transform(X_train['teacher_prefix'].values.astype('U'))\n",
    "#X_cv_teacher_ohe = vectorizer.transform(X_cv['teacher_prefix'].values.astype('U'))\n",
    "X_test_teacher_ohe = vectorizer.transform(X_test['teacher_prefix'].values.astype('U'))\n",
    "\n",
    "print(\"After vectorizations\")\n",
    "print(X_train_teacher_ohe.shape, y_train.shape)\n",
    "#print(X_cv_teacher_ohe.shape, y_cv.shape)\n",
    "print(X_test_teacher_ohe.shape, y_test.shape)\n",
    "print(vectorizer.get_feature_names())\n",
    "print(\"=\"*100)"
   ]
  },
  {
   "cell_type": "code",
   "execution_count": 31,
   "metadata": {
    "ExecuteTime": {
     "end_time": "2019-10-04T04:57:02.710740Z",
     "start_time": "2019-10-04T04:57:02.160349Z"
    }
   },
   "outputs": [
    {
     "name": "stdout",
     "output_type": "stream",
     "text": [
      "After vectorizations\n",
      "(33500, 4) (33500,)\n",
      "(16500, 4) (16500,)\n",
      "['grades_3_5', 'grades_6_8', 'grades_9_12', 'grades_prek_2']\n",
      "====================================================================================================\n"
     ]
    }
   ],
   "source": [
    "vectorizer = CountVectorizer()\n",
    "vectorizer.fit(X_train['project_grade_category'].values) # fit has to happen only on train data\n",
    "\n",
    "# we use the fitted CountVectorizer to convert the text to vector\n",
    "X_train_grade_ohe = vectorizer.transform(X_train['project_grade_category'].values)\n",
    "#X_cv_grade_ohe = vectorizer.transform(X_cv['project_grade_category'].values)\n",
    "X_test_grade_ohe = vectorizer.transform(X_test['project_grade_category'].values)\n",
    "\n",
    "print(\"After vectorizations\")\n",
    "print(X_train_grade_ohe.shape, y_train.shape)\n",
    "#print(X_cv_grade_ohe.shape, y_cv.shape)\n",
    "print(X_test_grade_ohe.shape, y_test.shape)\n",
    "print(vectorizer.get_feature_names())\n",
    "print(\"=\"*100)"
   ]
  },
  {
   "cell_type": "markdown",
   "metadata": {
    "colab_type": "text",
    "id": "ACyCSq0LOh9o"
   },
   "source": [
    "### 1.5.2 Vectorizing Text data"
   ]
  },
  {
   "cell_type": "markdown",
   "metadata": {
    "colab_type": "text",
    "id": "NMbzzOsPOh9p"
   },
   "source": [
    "#### 1.5.2.1 Bag of words"
   ]
  },
  {
   "cell_type": "code",
   "execution_count": 32,
   "metadata": {
    "ExecuteTime": {
     "end_time": "2019-10-04T04:57:51.775588Z",
     "start_time": "2019-10-04T04:57:02.715742Z"
    },
    "colab": {},
    "colab_type": "code",
    "id": "7dfCHNPwOh9p",
    "outputId": "e0d7b0f7-5183-4d1d-949d-2970532c054f"
   },
   "outputs": [
    {
     "name": "stdout",
     "output_type": "stream",
     "text": [
      "some feature names  ['abilities', 'ability', 'ability learn', 'ability levels', 'able', 'able access', 'able choose', 'able complete', 'able control', 'able create']\n",
      "==================================================\n",
      "the type of count vectorizer  <class 'scipy.sparse.csr.csr_matrix'>\n",
      "the shape of out text BOW vectorizer  (16500, 5000)\n",
      "the number of unique words  5000\n"
     ]
    }
   ],
   "source": [
    "# We are considering only the words which appeared in at least 10 documents(rows or projects).\n",
    "#BoW\n",
    "preprocessed_essays =X_train['essay'].astype('U')\n",
    "count_vect = CountVectorizer(ngram_range=(1,2),min_df=10,max_features=5000) #in scikit-learn\n",
    "count_vect.fit(preprocessed_essays)\n",
    "print(\"some feature names \", count_vect.get_feature_names()[:10])\n",
    "print('='*50)\n",
    "\n",
    "x_essay_bow1 = count_vect.transform(preprocessed_essays.astype('U'))\n",
    "#cv_essay_bow1 = count_vect.transform(X_cv['essay'].astype('U'))\n",
    "essay_bow1 = count_vect.transform(X_test['essay'].astype('U'))\n",
    "print(\"the type of count vectorizer \",type(essay_bow1))\n",
    "print(\"the shape of out text BOW vectorizer \",essay_bow1.get_shape())\n",
    "print(\"the number of unique words \", essay_bow1.get_shape()[1])\n",
    "\n",
    "\n",
    "#Normalization of BOW\n",
    "from sklearn.preprocessing import Normalizer\n",
    "w_normalized = Normalizer()\n",
    "\n",
    "w_normalized.fit(x_essay_bow1)\n",
    "\n",
    "x_essay_bow = w_normalized.transform(x_essay_bow1)\n",
    "#cv_essay_bow = w_normalized.transform(cv_essay_bow1)\n",
    "essay_bow = w_normalized.transform(essay_bow1)"
   ]
  },
  {
   "cell_type": "code",
   "execution_count": 33,
   "metadata": {
    "ExecuteTime": {
     "end_time": "2019-10-04T04:57:54.037194Z",
     "start_time": "2019-10-04T04:57:51.779591Z"
    },
    "colab": {},
    "colab_type": "code",
    "id": "4O-uj3ieOh9s"
   },
   "outputs": [
    {
     "name": "stdout",
     "output_type": "stream",
     "text": [
      "some feature names  ['abc', 'about', 'about it', 'about our', 'about reading', 'academic', 'academic success', 'academics', 'access', 'access technology']\n",
      "==================================================\n",
      "the type of count vectorizer  <class 'scipy.sparse.csr.csr_matrix'>\n",
      "the shape of out title BOW vectorizer  (16500, 2732)\n",
      "the number of unique words  2732\n"
     ]
    }
   ],
   "source": [
    "# you can vectorize the title also \n",
    "# before you vectorize the title make sure you preprocess it\n",
    "preprocessed_title =X_train['project_title'].astype('U')\n",
    "count_vect = CountVectorizer(ngram_range=(1,2),min_df=10,max_features=5000) #in scikit-learn\n",
    "count_vect.fit(preprocessed_title)\n",
    "print(\"some feature names \", count_vect.get_feature_names()[:10])\n",
    "print('='*50)\n",
    "\n",
    "x_title_bow1 = count_vect.transform(preprocessed_title)\n",
    "#cv_title_bow1 = count_vect.transform(X_cv['project_title'].astype('U'))\n",
    "title_bow1 = count_vect.transform(X_test['project_title'].astype('U'))\n",
    "print(\"the type of count vectorizer \",type(title_bow1))\n",
    "print(\"the shape of out title BOW vectorizer \",title_bow1.get_shape())\n",
    "print(\"the number of unique words \", title_bow1.get_shape()[1])\n",
    "\n",
    "#Normalization of BOW title\n",
    "from sklearn.preprocessing import Normalizer\n",
    "w_normalized = Normalizer()\n",
    "\n",
    "w_normalized.fit(x_title_bow1)\n",
    "\n",
    "x_title_bow = w_normalized.transform(x_title_bow1)\n",
    "#cv_title_bow = w_normalized.transform(cv_title_bow1)\n",
    "title_bow = w_normalized.transform(title_bow1)"
   ]
  },
  {
   "cell_type": "markdown",
   "metadata": {
    "colab_type": "text",
    "id": "z2gxZ2ogOh9w"
   },
   "source": [
    "#### 1.5.2.2 TFIDF vectorizer"
   ]
  },
  {
   "cell_type": "code",
   "execution_count": 34,
   "metadata": {
    "ExecuteTime": {
     "end_time": "2019-10-04T04:58:35.933946Z",
     "start_time": "2019-10-04T04:57:54.042198Z"
    },
    "colab": {},
    "colab_type": "code",
    "id": "T8uozAbyOh9x",
    "outputId": "426a0029-fdd0-4d97-b4b3-d3cee508365f"
   },
   "outputs": [
    {
     "name": "stdout",
     "output_type": "stream",
     "text": [
      "Shape of matrix after one hot encodig  ['abilities', 'ability', 'ability learn', 'ability levels', 'able', 'able access', 'able choose', 'able complete', 'able control', 'able create']\n",
      "==================================================\n",
      "the type of count vectorizer  <class 'scipy.sparse.csr.csr_matrix'>\n",
      "the shape of out text tfidf vectorizer  (16500, 5000)\n",
      "the number of unique words  5000\n"
     ]
    }
   ],
   "source": [
    "from sklearn.feature_extraction.text import TfidfVectorizer\n",
    "preprocessed_essays =X_train['essay']\n",
    "vectorizer = TfidfVectorizer(ngram_range=(1,2),min_df=10,max_features=5000)\n",
    "vectorizer.fit_transform(preprocessed_essays.astype('U'))\n",
    "print(\"Shape of matrix after one hot encodig \",vectorizer.get_feature_names()[:10])\n",
    "print('='*50)\n",
    "\n",
    "x_essay_tfidf1 = vectorizer.transform(preprocessed_essays.astype('U'))\n",
    "#cv_essay_tfidf1= vectorizer.transform(X_cv['essay'].astype('U'))\n",
    "essay_tfidf1 = vectorizer.transform(X_test['essay'].astype('U'))\n",
    "print(\"the type of count vectorizer \",type(essay_tfidf1))\n",
    "print(\"the shape of out text tfidf vectorizer \",essay_tfidf1.get_shape())\n",
    "print(\"the number of unique words \", essay_tfidf1.get_shape()[1])\n",
    "\n",
    "\n",
    "#Normalization of TfIdf\n",
    "from sklearn.preprocessing import Normalizer\n",
    "w_normalized = Normalizer()\n",
    "\n",
    "w_normalized.fit(x_essay_tfidf1)\n",
    "\n",
    "x_essay_tfidf = w_normalized.transform(x_essay_tfidf1)\n",
    "#cv_essay_tfidf = w_normalized.transform(cv_essay_tfidf1)\n",
    "essay_tfidf = w_normalized.transform(essay_tfidf1)"
   ]
  },
  {
   "cell_type": "code",
   "execution_count": 35,
   "metadata": {
    "ExecuteTime": {
     "end_time": "2019-10-04T04:58:37.759244Z",
     "start_time": "2019-10-04T04:58:35.940952Z"
    }
   },
   "outputs": [
    {
     "name": "stdout",
     "output_type": "stream",
     "text": [
      "some feature names  ['abc', 'about', 'about it', 'about our', 'about reading', 'academic', 'academic success', 'academics', 'access', 'access technology']\n",
      "==================================================\n",
      "the type of count vectorizer  <class 'scipy.sparse.csr.csr_matrix'>\n",
      "the shape of out title tfidf vectorizer  (16500, 2732)\n",
      "the number of unique words  2732\n"
     ]
    }
   ],
   "source": [
    "# Similarly you can vectorize for title also\n",
    "from sklearn.feature_extraction.text import TfidfVectorizer\n",
    "preprocessed_title =X_train['project_title'].astype('U')\n",
    "vectorizer = TfidfVectorizer(ngram_range=(1,2),min_df=10,max_features=5000)\n",
    "vectorizer.fit_transform(preprocessed_title)\n",
    "print(\"some feature names \", vectorizer.get_feature_names()[:10])\n",
    "print('='*50)\n",
    "\n",
    "x_title_tfidf1 = vectorizer.transform(preprocessed_title)\n",
    "#cv_title_tfidf1 = vectorizer.transform(X_cv['project_title'].astype('U'))\n",
    "title_tfidf1 = vectorizer.transform(X_test['project_title'].astype('U'))\n",
    "print(\"the type of count vectorizer \",type(title_tfidf1))\n",
    "print(\"the shape of out title tfidf vectorizer \",title_tfidf1.get_shape())\n",
    "print(\"the number of unique words \", title_tfidf1.get_shape()[1])\n",
    "\n",
    "\n",
    "#Normalization of TfIdf title\n",
    "from sklearn.preprocessing import Normalizer\n",
    "w_normalized = Normalizer()\n",
    "\n",
    "w_normalized.fit(x_title_tfidf1)\n",
    "\n",
    "x_title_tfidf = w_normalized.transform(x_title_tfidf1)\n",
    "#cv_title_tfidf = w_normalized.transform(cv_title_tfidf1)\n",
    "title_tfidf = w_normalized.transform(title_tfidf1)\n"
   ]
  },
  {
   "cell_type": "markdown",
   "metadata": {
    "colab_type": "text",
    "id": "73m5MNjoOh90"
   },
   "source": [
    "#### 1.5.2.3 Using Pretrained Models: Avg W2V"
   ]
  },
  {
   "cell_type": "code",
   "execution_count": 36,
   "metadata": {
    "ExecuteTime": {
     "end_time": "2019-10-04T04:58:37.776257Z",
     "start_time": "2019-10-04T04:58:37.765248Z"
    },
    "colab": {},
    "colab_type": "code",
    "id": "Lw3Z1hdgOh90",
    "outputId": "ab64423f-a68f-43ab-ddec-d8cd8d001e68"
   },
   "outputs": [
    {
     "data": {
      "text/plain": [
       "'\\n# Reading glove vectors in python: https://stackoverflow.com/a/38230349/4084039\\ndef loadGloveModel(gloveFile):\\n    print (\"Loading Glove Model\")\\n    f = open(gloveFile,\\'r\\', encoding=\"utf8\")\\n    model = {}\\n    for line in tqdm(f):\\n        splitLine = line.split()\\n        word = splitLine[0]\\n        embedding = np.array([float(val) for val in splitLine[1:]])\\n        model[word] = embedding\\n    print (\"Done.\",len(model),\" words loaded!\")\\n    return model\\nmodel = loadGloveModel(\\'glove.42B.300d.txt\\')\\n\\n# ============================\\nOutput:\\n    \\nLoading Glove Model\\n1917495it [06:32, 4879.69it/s]\\nDone. 1917495  words loaded!\\n\\n# ============================\\n\\nwords = []\\nfor i in preproced_texts:\\n    words.extend(i.split(\\' \\'))\\n\\nfor i in preproced_titles:\\n    words.extend(i.split(\\' \\'))\\nprint(\"all the words in the coupus\", len(words))\\nwords = set(words)\\nprint(\"the unique words in the coupus\", len(words))\\n\\ninter_words = set(model.keys()).intersection(words)\\nprint(\"The number of words that are present in both glove vectors and our coupus\",       len(inter_words),\"(\",np.round(len(inter_words)/len(words)*100,3),\"%)\")\\n\\nwords_courpus = {}\\nwords_glove = set(model.keys())\\nfor i in words:\\n    if i in words_glove:\\n        words_courpus[i] = model[i]\\nprint(\"word 2 vec length\", len(words_courpus))\\n\\n\\n# stronging variables into pickle files python: http://www.jessicayung.com/how-to-use-pickle-to-save-and-load-variables-in-python/\\n\\nimport pickle\\nwith open(\\'glove_vectors\\', \\'wb\\') as f:\\n    pickle.dump(words_courpus, f)\\n\\n\\n'"
      ]
     },
     "execution_count": 36,
     "metadata": {},
     "output_type": "execute_result"
    }
   ],
   "source": [
    "'''\n",
    "# Reading glove vectors in python: https://stackoverflow.com/a/38230349/4084039\n",
    "def loadGloveModel(gloveFile):\n",
    "    print (\"Loading Glove Model\")\n",
    "    f = open(gloveFile,'r', encoding=\"utf8\")\n",
    "    model = {}\n",
    "    for line in tqdm(f):\n",
    "        splitLine = line.split()\n",
    "        word = splitLine[0]\n",
    "        embedding = np.array([float(val) for val in splitLine[1:]])\n",
    "        model[word] = embedding\n",
    "    print (\"Done.\",len(model),\" words loaded!\")\n",
    "    return model\n",
    "model = loadGloveModel('glove.42B.300d.txt')\n",
    "\n",
    "# ============================\n",
    "Output:\n",
    "    \n",
    "Loading Glove Model\n",
    "1917495it [06:32, 4879.69it/s]\n",
    "Done. 1917495  words loaded!\n",
    "\n",
    "# ============================\n",
    "\n",
    "words = []\n",
    "for i in preproced_texts:\n",
    "    words.extend(i.split(' '))\n",
    "\n",
    "for i in preproced_titles:\n",
    "    words.extend(i.split(' '))\n",
    "print(\"all the words in the coupus\", len(words))\n",
    "words = set(words)\n",
    "print(\"the unique words in the coupus\", len(words))\n",
    "\n",
    "inter_words = set(model.keys()).intersection(words)\n",
    "print(\"The number of words that are present in both glove vectors and our coupus\", \\\n",
    "      len(inter_words),\"(\",np.round(len(inter_words)/len(words)*100,3),\"%)\")\n",
    "\n",
    "words_courpus = {}\n",
    "words_glove = set(model.keys())\n",
    "for i in words:\n",
    "    if i in words_glove:\n",
    "        words_courpus[i] = model[i]\n",
    "print(\"word 2 vec length\", len(words_courpus))\n",
    "\n",
    "\n",
    "# stronging variables into pickle files python: http://www.jessicayung.com/how-to-use-pickle-to-save-and-load-variables-in-python/\n",
    "\n",
    "import pickle\n",
    "with open('glove_vectors', 'wb') as f:\n",
    "    pickle.dump(words_courpus, f)\n",
    "\n",
    "\n",
    "'''"
   ]
  },
  {
   "cell_type": "code",
   "execution_count": 37,
   "metadata": {
    "ExecuteTime": {
     "end_time": "2019-10-04T04:58:39.624555Z",
     "start_time": "2019-10-04T04:58:37.780258Z"
    },
    "colab": {},
    "colab_type": "code",
    "id": "J4sL80mSOh93"
   },
   "outputs": [],
   "source": [
    "# stronging variables into pickle files python: http://www.jessicayung.com/how-to-use-pickle-to-save-and-load-variables-in-python/\n",
    "# make sure you have the glove_vectors file\n",
    "with open('glove_vectors', 'rb') as f:\n",
    "    model = pickle.load(f)\n",
    "    glove_words =  set(model.keys())"
   ]
  },
  {
   "cell_type": "code",
   "execution_count": 38,
   "metadata": {
    "ExecuteTime": {
     "end_time": "2019-10-04T04:58:39.638529Z",
     "start_time": "2019-10-04T04:58:39.628531Z"
    },
    "colab": {},
    "colab_type": "code",
    "id": "HXVbeaR6Oh96",
    "outputId": "aea4fabb-d6d1-43ac-c4af-8dec514cfdd1",
    "scrolled": true
   },
   "outputs": [],
   "source": [
    "# average Word2Vec\n",
    "# compute average word2vec for each review.\n",
    "def computeAvgW2V(list_of_sentance):\n",
    "    avg_w2v_vectors = []; # the avg-w2v for each sentence/review is stored in this list\n",
    "    for sentence in tqdm(list_of_sentance): # for each review/sentence\n",
    "        vector = np.zeros(300) # as word vectors are of zero length\n",
    "        cnt_words =0; # num of words with a valid vector in the sentence/review\n",
    "        for word in sentence.split(): # for each word in a review/sentence\n",
    "            if word in glove_words:\n",
    "                vector += model[word]\n",
    "                cnt_words += 1\n",
    "        if cnt_words != 0:\n",
    "            vector /= cnt_words\n",
    "        avg_w2v_vectors.append(vector)\n",
    "    print(len(avg_w2v_vectors))\n",
    "    print(len(avg_w2v_vectors[0]))\n",
    "    return avg_w2v_vectors"
   ]
  },
  {
   "cell_type": "code",
   "execution_count": 39,
   "metadata": {
    "ExecuteTime": {
     "end_time": "2019-10-04T04:59:04.727494Z",
     "start_time": "2019-10-04T04:58:39.643530Z"
    }
   },
   "outputs": [
    {
     "name": "stderr",
     "output_type": "stream",
     "text": [
      "100%|██████████████████████████████████| 33500/33500 [00:15<00:00, 2118.21it/s]\n"
     ]
    },
    {
     "name": "stdout",
     "output_type": "stream",
     "text": [
      "33500\n",
      "300\n"
     ]
    },
    {
     "name": "stderr",
     "output_type": "stream",
     "text": [
      "100%|██████████████████████████████████| 16500/16500 [00:08<00:00, 2036.09it/s]\n"
     ]
    },
    {
     "name": "stdout",
     "output_type": "stream",
     "text": [
      "16500\n",
      "300\n"
     ]
    }
   ],
   "source": [
    "preprocessed_essays =X_train['essay'].astype('U')\n",
    "list_of_sentance=[]\n",
    "for sentance in preprocessed_essays:\n",
    "    list_of_sentance.append(sentance)\n",
    "      \n",
    "test_list_of_sentance=[]\n",
    "for sentance in X_test['essay'].astype('U'):\n",
    "    test_list_of_sentance.append(sentance)\n",
    "    \n",
    "x_essay_avg1  = computeAvgW2V(list_of_sentance)  \n",
    "essay_avg1 = computeAvgW2V(test_list_of_sentance)  \n",
    "\n",
    "'''\n",
    "cv_list_of_sentance=[]\n",
    "for sentance in X_cv['essay'].astype('U'):\n",
    "    cv_list_of_sentance.append(sentance)\n",
    "cv_essay_avg1 = computeAvgW2V(cv_list_of_sentance)\n",
    "'''\n",
    "    \n",
    "#Normalization of AvgW2V\n",
    "from sklearn.preprocessing import Normalizer\n",
    "w_normalized = Normalizer()\n",
    "\n",
    "w_normalized.fit(x_essay_avg1)\n",
    "\n",
    "x_essay_avg = w_normalized.transform(x_essay_avg1)\n",
    "#cv_essay_avg = w_normalized.transform(cv_essay_avg1)\n",
    "essay_avg = w_normalized.transform(essay_avg1)"
   ]
  },
  {
   "cell_type": "code",
   "execution_count": 40,
   "metadata": {
    "ExecuteTime": {
     "end_time": "2019-10-04T04:59:30.748955Z",
     "start_time": "2019-10-04T04:59:04.732477Z"
    }
   },
   "outputs": [
    {
     "name": "stderr",
     "output_type": "stream",
     "text": [
      "100%|██████████████████████████████████| 33500/33500 [00:17<00:00, 1889.07it/s]\n"
     ]
    },
    {
     "name": "stdout",
     "output_type": "stream",
     "text": [
      "33500\n",
      "300\n"
     ]
    },
    {
     "name": "stderr",
     "output_type": "stream",
     "text": [
      "100%|██████████████████████████████████| 16500/16500 [00:07<00:00, 2133.85it/s]\n"
     ]
    },
    {
     "name": "stdout",
     "output_type": "stream",
     "text": [
      "16500\n",
      "300\n"
     ]
    }
   ],
   "source": [
    "preprocessed_title =X_train['project_title']\n",
    "list_of_title=[]\n",
    "for sentance in preprocessed_title:\n",
    "    list_of_title.append(sentance)\n",
    "    \n",
    "test_list_of_title=[]\n",
    "for sentance in X_test['project_title']:\n",
    "    test_list_of_title.append(sentance)\n",
    "    \n",
    "x_title_avg1  = computeAvgW2V(list_of_sentance)  \n",
    "title_avg1 = computeAvgW2V(test_list_of_sentance) \n",
    "\n",
    "'''\n",
    "cv_list_of_title=[]\n",
    "for sentance in X_cv['project_title']:\n",
    "    cv_list_of_title.append(sentance)\n",
    "cv_title_avg1 = computeAvgW2V(cv_list_of_sentance)\n",
    "\n",
    "'''\n",
    "#Normalization of AvgW2V title\n",
    "from sklearn.preprocessing import Normalizer\n",
    "w_normalized = Normalizer()\n",
    "\n",
    "w_normalized.fit(x_title_avg1)\n",
    "\n",
    "x_title_avg = w_normalized.transform(x_title_avg1)\n",
    "#cv_title_avg = w_normalized.transform(cv_title_avg1)\n",
    "title_avg = w_normalized.transform(title_avg1)"
   ]
  },
  {
   "cell_type": "markdown",
   "metadata": {
    "colab_type": "text",
    "id": "pAcQahGBOh99"
   },
   "source": [
    "#### 1.5.2.3 Using Pretrained Models: TFIDF weighted W2V"
   ]
  },
  {
   "cell_type": "code",
   "execution_count": 41,
   "metadata": {
    "ExecuteTime": {
     "end_time": "2019-10-04T04:59:38.429600Z",
     "start_time": "2019-10-04T04:59:30.755962Z"
    },
    "colab": {},
    "colab_type": "code",
    "id": "PhfDIGZzOh9-"
   },
   "outputs": [],
   "source": [
    "# S = [\"abc def pqr\", \"def def def abc\", \"pqr pqr def\"]\n",
    "preprocessed_essays =X_train['essay'].astype('U')\n",
    "tfidf_model = TfidfVectorizer()\n",
    "tfidf_model.fit(preprocessed_essays)\n",
    "# we are converting a dictionary with word as a key, and the idf as a value\n",
    "dictionary = dict(zip(tfidf_model.get_feature_names(), list(tfidf_model.idf_)))\n",
    "tfidf_words = set(tfidf_model.get_feature_names())"
   ]
  },
  {
   "cell_type": "code",
   "execution_count": 42,
   "metadata": {
    "ExecuteTime": {
     "end_time": "2019-10-04T04:59:38.446581Z",
     "start_time": "2019-10-04T04:59:38.433570Z"
    },
    "colab": {},
    "colab_type": "code",
    "id": "SVuQKgh1Oh-A",
    "outputId": "46de721d-a080-416f-c02e-7dbe5813d90d",
    "scrolled": true
   },
   "outputs": [],
   "source": [
    "# average Word2Vec\n",
    "# compute average word2vec for each review.\n",
    "def computeTfIdf(list_of_sentance):\n",
    "    tfidf_w2v_vectors = []; # the avg-w2v for each sentence/review is stored in this list\n",
    "    row=0;\n",
    "    for sentence in tqdm(list_of_sentance): # for each review/sentence\n",
    "        vector = np.zeros(300) # as word vectors are of zero length\n",
    "        tf_idf_weight =0; # num of words with a valid vector in the sentence/review\n",
    "        for word in sent: # for each word in a review/sentence\n",
    "            if word in glove_words and word in tfidf_words:\n",
    "                vec = model[word] # getting the vector for each word\n",
    "                # here we are multiplying idf value(dictionary[word]) and the tf value((sentence.count(word)/len(sentence.split())))\n",
    "                tf_idf = dictionary[word]*(sent.count(word)/len(sent)) # getting the tfidf value for each word\n",
    "                vector += (vec * tf_idf) # calculating tfidf weighted w2v\n",
    "                tf_idf_weight += tf_idf\n",
    "        if tf_idf_weight != 0:\n",
    "            vector /= tf_idf_weight\n",
    "        tfidf_w2v_vectors.append(vector)\n",
    "        row +=1;\n",
    "    return tfidf_w2v_vectors\n",
    "    "
   ]
  },
  {
   "cell_type": "code",
   "execution_count": 43,
   "metadata": {
    "ExecuteTime": {
     "end_time": "2019-10-04T04:59:41.567816Z",
     "start_time": "2019-10-04T04:59:38.451584Z"
    }
   },
   "outputs": [
    {
     "name": "stderr",
     "output_type": "stream",
     "text": [
      "100%|████████████████████████████████| 33500/33500 [00:00<00:00, 105271.06it/s]\n",
      "100%|█████████████████████████████████| 16500/16500 [00:00<00:00, 85876.97it/s]\n"
     ]
    }
   ],
   "source": [
    "preprocessed_essays =X_train['essay'].astype('U')\n",
    "list_of_sentance=[]\n",
    "for sentance in preprocessed_essays:\n",
    "    list_of_sentance.append(sentance.split())\n",
    "    \n",
    "test_list_of_sentance=[]\n",
    "for sentance in X_test['essay'].astype('U'):\n",
    "    test_list_of_sentance.append(sentance.split())\n",
    "\n",
    "x_essay_tfidf_avg1  = computeTfIdf(list_of_sentance)  \n",
    "essay_tfidf_avg1= computeTfIdf(test_list_of_sentance) \n",
    "\n",
    "'''\n",
    "cv_list_of_sentance=[]\n",
    "for sentance in X_cv['essay'].astype('U'):\n",
    "    cv_list_of_sentance.append(sentance.split())\n",
    "cv_essay_tfidf_avg1 = computeTfIdf(cv_list_of_sentance)\n",
    "'''   \n",
    "#Normalization of TfIdfW2V\n",
    "from sklearn.preprocessing import Normalizer\n",
    "w_normalized = Normalizer()\n",
    "\n",
    "w_normalized.fit(x_essay_tfidf_avg1)\n",
    "\n",
    "x_essay_tfidf_avg = w_normalized.transform(x_essay_tfidf_avg1)\n",
    "#cv_essay_tfidf_avg = w_normalized.transform(cv_essay_tfidf_avg1)\n",
    "essay_tfidf_avg = w_normalized.transform(essay_tfidf_avg1)"
   ]
  },
  {
   "cell_type": "markdown",
   "metadata": {
    "colab": {},
    "colab_type": "code",
    "collapsed": true,
    "id": "FiEp6kieOh-G"
   },
   "source": [
    "TFIDF weighted W2V title"
   ]
  },
  {
   "cell_type": "code",
   "execution_count": 44,
   "metadata": {
    "ExecuteTime": {
     "end_time": "2019-10-04T04:59:41.979108Z",
     "start_time": "2019-10-04T04:59:41.571818Z"
    }
   },
   "outputs": [],
   "source": [
    "# Similarly you can vectorize for title also\n",
    "# S = [\"abc def pqr\", \"def def def abc\", \"pqr pqr def\"]\n",
    "preprocessed_title =X_train['project_title'].astype('U')\n",
    "tfidf_model = TfidfVectorizer()\n",
    "tfidf_model.fit(preprocessed_title)\n",
    "# we are converting a dictionary with word as a key, and the idf as a value\n",
    "dictionary = dict(zip(tfidf_model.get_feature_names(), list(tfidf_model.idf_)))\n",
    "tfidf_words = set(tfidf_model.get_feature_names())"
   ]
  },
  {
   "cell_type": "code",
   "execution_count": 45,
   "metadata": {
    "ExecuteTime": {
     "end_time": "2019-10-04T04:59:41.999121Z",
     "start_time": "2019-10-04T04:59:41.985112Z"
    }
   },
   "outputs": [],
   "source": [
    "# average Word2Vec\n",
    "# compute average word2vec for each review.\n",
    "def computeTfIdf(list_of_sentance):\n",
    "    tfidf_w2v_vectors = []; # the avg-w2v for each sentence/review is stored in this list\n",
    "    row=0;\n",
    "    for sentence in tqdm(list_of_sentance): # for each review/sentence\n",
    "        vector = np.zeros(300) # as word vectors are of zero length\n",
    "        tf_idf_weight =0; # num of words with a valid vector in the sentence/review\n",
    "        for word in sent: # for each word in a review/sentence\n",
    "            if word in glove_words and word in tfidf_words:\n",
    "                vec = model[word] # getting the vector for each word\n",
    "                # here we are multiplying idf value(dictionary[word]) and the tf value((sentence.count(word)/len(sentence.split())))\n",
    "                tf_idf = dictionary[word]*(sent.count(word)/len(sent)) # getting the tfidf value for each word\n",
    "                vector += (vec * tf_idf) # calculating tfidf weighted w2v\n",
    "                tf_idf_weight += tf_idf\n",
    "        if tf_idf_weight != 0:\n",
    "            vector /= tf_idf_weight\n",
    "        tfidf_w2v_vectors.append(vector)\n",
    "        row +=1;\n",
    "    return tfidf_w2v_vectors"
   ]
  },
  {
   "cell_type": "code",
   "execution_count": 46,
   "metadata": {
    "ExecuteTime": {
     "end_time": "2019-10-04T04:59:43.297036Z",
     "start_time": "2019-10-04T04:59:42.006128Z"
    }
   },
   "outputs": [
    {
     "name": "stderr",
     "output_type": "stream",
     "text": [
      "100%|████████████████████████████████| 33500/33500 [00:00<00:00, 102373.14it/s]\n",
      "100%|█████████████████████████████████| 16500/16500 [00:00<00:00, 85877.82it/s]\n"
     ]
    }
   ],
   "source": [
    "preprocessed_title =X_train['project_title'].astype('U')\n",
    "list_of_title=[]\n",
    "for sentance in preprocessed_title:\n",
    "    list_of_title.append(sentance)\n",
    "    \n",
    "test_list_of_title=[]\n",
    "for sentance in X_test['project_title'].astype('U'):\n",
    "    test_list_of_title.append(sentance)\n",
    "    \n",
    "x_title_tfidf_avg1  = computeTfIdf(list_of_sentance)  \n",
    "title_tfidf_avg1 = computeTfIdf(test_list_of_sentance)  \n",
    "\n",
    "'''\n",
    "cv_list_of_title=[]\n",
    "for sentance in X_cv['project_title'].astype('U'):\n",
    "    cv_list_of_title.append(sentance)\n",
    "cv_title_tfidf_avg1 = computeTfIdf(cv_list_of_sentance)\n",
    "'''\n",
    "\n",
    "#Normalization of AvgW2V\n",
    "from sklearn.preprocessing import Normalizer\n",
    "w_normalized = Normalizer()\n",
    "\n",
    "w_normalized.fit(x_title_tfidf_avg1)\n",
    "\n",
    "x_title_tfidf_avg = w_normalized.transform(x_title_tfidf_avg1)\n",
    "#cv_title_tfidf_avg = w_normalized.transform(cv_title_tfidf_avg1)\n",
    "title_tfidf_avg = w_normalized.transform(title_tfidf_avg1)\n",
    "\n"
   ]
  },
  {
   "cell_type": "markdown",
   "metadata": {
    "colab_type": "text",
    "id": "nrHWjPsrOh-I"
   },
   "source": [
    "### 1.5.3 Vectorizing Numerical features"
   ]
  },
  {
   "cell_type": "code",
   "execution_count": 47,
   "metadata": {
    "ExecuteTime": {
     "end_time": "2019-10-04T04:59:43.332060Z",
     "start_time": "2019-10-04T04:59:43.303041Z"
    },
    "colab": {},
    "colab_type": "code",
    "id": "81MCqG8wOh-M"
   },
   "outputs": [
    {
     "name": "stdout",
     "output_type": "stream",
     "text": [
      "(33500, 1)\n",
      "[[4.42950612e-03]\n",
      " [9.33798861e-04]\n",
      " [1.70888837e-03]\n",
      " ...\n",
      " [1.95999778e-03]\n",
      " [2.93059716e-03]\n",
      " [5.70806771e-05]]\n"
     ]
    }
   ],
   "source": [
    "#1) For normalizing numerical data, we have to use reshape(1,-1) instead of (-1,1). \n",
    "#2) Normalizer by default normalizes on each sample(row).StandardScaler standardises on each feature(column).\n",
    "#3) If we use (-1,1) it means any number of rows and one column. So that makes normalizer on each row containing one column.This makes the value 1.\n",
    "#4) If we use (-1, 1) then  all your prices are 1. It wont be useful at all.  \n",
    "#5) Note: If the shape mismatch is the problem for not using (1,-1) you can reshape into (-1,1) again after normalization is done.\n",
    "#6) see the below example given in the comments\n",
    "'''\n",
    "Ex:\n",
    "After (-1,1) array is [[1],[2],[3]]\n",
    "Using normalizer results in\n",
    "[[1/1],[2/2],[3/3]] = [[1],[1],[1]]\n",
    "If you use (1,-1) array is [1,2,3]\n",
    "result is\n",
    "[1/sqrt(14) , 2/sqrt(14) , 3/sqrt(14) ] = [0.26,0.52, 0.78]\n",
    "\n",
    "'''\n",
    "\n",
    "from sklearn.preprocessing import Normalizer\n",
    "price_norm = Normalizer()\n",
    "\n",
    "price_norm.fit(X_train['price'].values.reshape(1,-1))\n",
    "\n",
    "train_price_norm = price_norm.transform(X_train['price'].values.reshape(1,-1)).T\n",
    "test_price_norm = price_norm.transform(X_test['price'].values.reshape(1,-1)).T\n",
    "\n",
    "print(train_price_norm.shape)\n",
    "print(train_price_norm)\n"
   ]
  },
  {
   "cell_type": "code",
   "execution_count": 48,
   "metadata": {
    "ExecuteTime": {
     "end_time": "2019-10-04T04:59:43.466156Z",
     "start_time": "2019-10-04T04:59:43.338064Z"
    }
   },
   "outputs": [
    {
     "name": "stdout",
     "output_type": "stream",
     "text": [
      "(33500, 1)\n",
      "[[0.00035052]\n",
      " [0.00105156]\n",
      " [0.0017526 ]\n",
      " ...\n",
      " [0.01261874]\n",
      " [0.00192786]\n",
      " [0.01051562]]\n"
     ]
    }
   ],
   "source": [
    "from sklearn.preprocessing import Normalizer\n",
    "quantity_norm = Normalizer()\n",
    "\n",
    "quantity_norm.fit(X_train['quantity'].values.reshape(1,-1))\n",
    "\n",
    "train_quantity_norm = quantity_norm.transform(X_train['quantity'].values.reshape(1,-1)).T\n",
    "test_quantity_norm = quantity_norm.transform(X_test['quantity'].values.reshape(1,-1)).T\n",
    "\n",
    "print(train_quantity_norm.shape)\n",
    "print(train_quantity_norm)"
   ]
  },
  {
   "cell_type": "code",
   "execution_count": 49,
   "metadata": {
    "ExecuteTime": {
     "end_time": "2019-10-04T04:59:43.584179Z",
     "start_time": "2019-10-04T04:59:43.471159Z"
    }
   },
   "outputs": [
    {
     "name": "stdout",
     "output_type": "stream",
     "text": [
      "(33500, 1)\n",
      "[[0.00560639]\n",
      " [0.00018085]\n",
      " [0.        ]\n",
      " ...\n",
      " [0.01446809]\n",
      " [0.        ]\n",
      " [0.00397873]]\n"
     ]
    }
   ],
   "source": [
    "from sklearn.preprocessing import Normalizer\n",
    "prev_proj_norm = Normalizer()\n",
    "\n",
    "prev_proj_norm.fit(X_train['teacher_number_of_previously_posted_projects'].values.reshape(1,-1))\n",
    "\n",
    "train_prev_proj_norm = prev_proj_norm.transform(X_train['teacher_number_of_previously_posted_projects'].values.reshape(1,-1)).T\n",
    "test_prev_proj_norm = prev_proj_norm.transform(X_test['teacher_number_of_previously_posted_projects'].values.reshape(1,-1)).T\n",
    "\n",
    "\n",
    "print(train_prev_proj_norm.shape)\n",
    "print(train_prev_proj_norm)"
   ]
  },
  {
   "cell_type": "code",
   "execution_count": 50,
   "metadata": {
    "ExecuteTime": {
     "end_time": "2019-10-04T04:59:43.724642Z",
     "start_time": "2019-10-04T04:59:43.588183Z"
    }
   },
   "outputs": [
    {
     "name": "stdout",
     "output_type": "stream",
     "text": [
      "(33500, 1)\n",
      "[[0.00907474]\n",
      " [0.00725979]\n",
      " [0.00403322]\n",
      " ...\n",
      " [0.00322658]\n",
      " [0.00604983]\n",
      " [0.00403322]]\n"
     ]
    }
   ],
   "source": [
    "from sklearn.preprocessing import Normalizer\n",
    "senti_norm = Normalizer()\n",
    "\n",
    "senti_norm.fit(X_train['essay_sentiment_score'].values.reshape(1,-1))\n",
    "\n",
    "train_senti_norm = senti_norm.transform(X_train['essay_sentiment_score'].values.reshape(1,-1)).T\n",
    "test_senti_norm = senti_norm.transform(X_test['essay_sentiment_score'].values.reshape(1,-1)).T\n",
    "\n",
    "\n",
    "print(train_senti_norm.shape)\n",
    "print(train_senti_norm)"
   ]
  },
  {
   "cell_type": "code",
   "execution_count": 51,
   "metadata": {
    "ExecuteTime": {
     "end_time": "2019-10-04T04:59:43.881358Z",
     "start_time": "2019-10-04T04:59:43.728636Z"
    }
   },
   "outputs": [
    {
     "name": "stdout",
     "output_type": "stream",
     "text": [
      "(33500, 1)\n",
      "[[0.00347553]\n",
      " [0.00347553]\n",
      " [0.00347553]\n",
      " ...\n",
      " [0.00347553]\n",
      " [0.00463404]\n",
      " [0.00579255]]\n"
     ]
    }
   ],
   "source": [
    "from sklearn.preprocessing import Normalizer\n",
    "tile_wordcount_norm = Normalizer()\n",
    "\n",
    "tile_wordcount_norm.fit(X_train['title_wordcount'].values.reshape(1,-1))\n",
    "\n",
    "train_title_wordcount_norm = tile_wordcount_norm.transform(X_train['title_wordcount'].values.reshape(1,-1)).T\n",
    "test_title_wordcount_norm = tile_wordcount_norm.transform(X_test['title_wordcount'].values.reshape(1,-1)).T\n",
    "\n",
    "\n",
    "print(train_title_wordcount_norm.shape)\n",
    "print(train_title_wordcount_norm)"
   ]
  },
  {
   "cell_type": "code",
   "execution_count": 52,
   "metadata": {
    "ExecuteTime": {
     "end_time": "2019-10-04T04:59:43.987527Z",
     "start_time": "2019-10-04T04:59:43.888362Z"
    }
   },
   "outputs": [
    {
     "name": "stdout",
     "output_type": "stream",
     "text": [
      "(33500, 1)\n",
      "[[0.0037275 ]\n",
      " [0.00425005]\n",
      " [0.00919683]\n",
      " ...\n",
      " [0.00735049]\n",
      " [0.0070718 ]\n",
      " [0.00407587]]\n"
     ]
    }
   ],
   "source": [
    "from sklearn.preprocessing import Normalizer\n",
    "essay_wordcount_norm = Normalizer()\n",
    "\n",
    "essay_wordcount_norm.fit(X_train['essay_wordcount'].values.reshape(1,-1))\n",
    "\n",
    "train_essay_wordcount_norm = essay_wordcount_norm.transform(X_train['essay_wordcount'].values.reshape(1,-1)).T\n",
    "test_essay_wordcount_norm = essay_wordcount_norm.transform(X_test['essay_wordcount'].values.reshape(1,-1)).T\n",
    "\n",
    "\n",
    "print(train_essay_wordcount_norm.shape)\n",
    "print(train_essay_wordcount_norm)"
   ]
  },
  {
   "cell_type": "markdown",
   "metadata": {},
   "source": [
    "### 1.5.4 Apply TruncatedSVD on TfidfVectorizer of essay text"
   ]
  },
  {
   "cell_type": "code",
   "execution_count": 54,
   "metadata": {
    "ExecuteTime": {
     "end_time": "2019-10-04T05:18:03.463763Z",
     "start_time": "2019-10-04T05:02:35.177383Z"
    }
   },
   "outputs": [
    {
     "name": "stderr",
     "output_type": "stream",
     "text": [
      "100%|███████████████████████████████████████████| 9/9 [15:27<00:00, 214.78s/it]\n"
     ]
    },
    {
     "name": "stdout",
     "output_type": "stream",
     "text": [
      "5 =  0.03047162090922561\n",
      "10 =  0.0516013323863125\n",
      "50 =  0.13348861877899906\n",
      "100 =  0.19531490320183192\n",
      "250 =  0.31634539927395733\n",
      "500 =  0.4460568545483957\n",
      "1000 =  0.6063311537991225\n",
      "2500 =  0.8467259505644127\n",
      "2900 =  0.8857404006673639\n"
     ]
    }
   ],
   "source": [
    "from sklearn.decomposition import TruncatedSVD\n",
    "\n",
    "index = [5,10,50,100,250,500,1000,2500,2900]\n",
    "variance_sum = []\n",
    "\n",
    "for i in tqdm(index):\n",
    "    svd = TruncatedSVD(n_components=i, n_iter= 5, random_state=5)\n",
    "    svd.fit(x_essay_tfidf)\n",
    "    variance_sum.append(svd.explained_variance_ratio_.sum())\n",
    "    \n",
    "for i in range(len(index)):\n",
    "    print(index[i], \"= \",variance_sum[i])\n"
   ]
  },
  {
   "cell_type": "markdown",
   "metadata": {},
   "source": [
    "using 2900 features will cover 88% so we are going to use that"
   ]
  },
  {
   "cell_type": "code",
   "execution_count": 55,
   "metadata": {
    "ExecuteTime": {
     "end_time": "2019-10-04T05:24:57.645856Z",
     "start_time": "2019-10-04T05:19:19.541082Z"
    }
   },
   "outputs": [
    {
     "name": "stdout",
     "output_type": "stream",
     "text": [
      "0.8857404006673639\n"
     ]
    }
   ],
   "source": [
    "from sklearn.decomposition import TruncatedSVD\n",
    "\n",
    "svd = TruncatedSVD(n_components=2900, n_iter= 5, random_state=5)\n",
    "svd.fit(x_essay_tfidf)\n",
    "print(svd.explained_variance_ratio_.sum())\n",
    "train_svd= svd.transform(x_essay_tfidf)\n",
    "test_svd= svd.transform(essay_tfidf)"
   ]
  },
  {
   "cell_type": "markdown",
   "metadata": {
    "colab_type": "text",
    "id": "JKnJ7MKdOh-S"
   },
   "source": [
    "### 1.5.5 Merging all the above features"
   ]
  },
  {
   "cell_type": "markdown",
   "metadata": {
    "colab_type": "text",
    "id": "upVvAD8KOh-S"
   },
   "source": [
    "- we need to merge all the numerical vectors i.e catogorical, text, numerical vectors"
   ]
  },
  {
   "cell_type": "code",
   "execution_count": 56,
   "metadata": {
    "ExecuteTime": {
     "end_time": "2019-10-04T05:24:58.140205Z",
     "start_time": "2019-10-04T05:24:57.649860Z"
    }
   },
   "outputs": [
    {
     "name": "stdout",
     "output_type": "stream",
     "text": [
      "(33500, 7834)\n",
      "(16500, 7834)\n"
     ]
    }
   ],
   "source": [
    "from scipy.sparse import hstack\n",
    "# with the same hstack function we are concatinating a sparse matrix and a dense matirx :)\n",
    "train_bow = hstack((X_train_categories_ohc, X_train_sub_categories_ohc,X_train_state_ohe,X_train_teacher_ohe, X_train_grade_ohe,\n",
    "                    train_price_norm,train_quantity_norm,train_prev_proj_norm, x_essay_bow,x_title_bow))\n",
    "print(train_bow.shape)\n",
    "\n",
    "test_bow = hstack((X_test_categories_ohc, X_test_sub_categories_ohc,X_test_state_ohe,X_test_teacher_ohe, X_test_grade_ohe,\n",
    "                    test_price_norm,test_quantity_norm,test_prev_proj_norm,essay_bow,title_bow))\n",
    "print(test_bow.shape)"
   ]
  },
  {
   "cell_type": "code",
   "execution_count": 57,
   "metadata": {
    "ExecuteTime": {
     "end_time": "2019-10-04T05:24:58.589524Z",
     "start_time": "2019-10-04T05:24:58.148212Z"
    }
   },
   "outputs": [
    {
     "name": "stdout",
     "output_type": "stream",
     "text": [
      "(33500, 7834)\n",
      "(16500, 7834)\n"
     ]
    }
   ],
   "source": [
    "#set 2\n",
    "train_tfidf = hstack((X_train_categories_ohc, X_train_sub_categories_ohc,X_train_state_ohe,X_train_teacher_ohe, X_train_grade_ohe,\n",
    "                      train_price_norm,train_quantity_norm,train_prev_proj_norm,x_essay_tfidf,x_title_tfidf))\n",
    "print(train_tfidf.shape)\n",
    "\n",
    "test_tfidf = hstack((X_test_categories_ohc, X_test_sub_categories_ohc,X_test_state_ohe,X_test_teacher_ohe, X_test_grade_ohe,\n",
    "                     test_price_norm,test_quantity_norm,test_prev_proj_norm,essay_tfidf,title_tfidf))\n",
    "print(test_tfidf.shape)"
   ]
  },
  {
   "cell_type": "code",
   "execution_count": 58,
   "metadata": {
    "ExecuteTime": {
     "end_time": "2019-10-04T05:25:00.888156Z",
     "start_time": "2019-10-04T05:24:58.597530Z"
    }
   },
   "outputs": [
    {
     "name": "stdout",
     "output_type": "stream",
     "text": [
      "(33500, 702)\n",
      "(16500, 702)\n"
     ]
    }
   ],
   "source": [
    "#set 3\n",
    "train_avg = hstack((X_train_categories_ohc, X_train_sub_categories_ohc,X_train_state_ohe,X_train_teacher_ohe, X_train_grade_ohe,\n",
    "                    train_price_norm,train_quantity_norm,train_prev_proj_norm,x_essay_avg,x_title_avg))\n",
    "print(train_avg.shape)\n",
    "\n",
    "test_avg = hstack((X_test_categories_ohc, X_test_sub_categories_ohc,X_test_state_ohe,X_test_teacher_ohe, X_test_grade_ohe,\n",
    "                   test_price_norm,test_quantity_norm,test_prev_proj_norm,essay_avg,title_avg))\n",
    "print(test_avg.shape)"
   ]
  },
  {
   "cell_type": "code",
   "execution_count": 59,
   "metadata": {
    "ExecuteTime": {
     "end_time": "2019-10-04T05:25:01.290443Z",
     "start_time": "2019-10-04T05:25:00.892159Z"
    }
   },
   "outputs": [
    {
     "name": "stdout",
     "output_type": "stream",
     "text": [
      "(33500, 702)\n",
      "(16500, 702)\n"
     ]
    }
   ],
   "source": [
    "#set 4\n",
    "train_tfidf_avg = hstack((X_train_categories_ohc, X_train_sub_categories_ohc,X_train_state_ohe,X_train_teacher_ohe, X_train_grade_ohe,\n",
    "                          train_price_norm,train_quantity_norm,train_prev_proj_norm,x_essay_tfidf_avg,x_title_tfidf_avg))\n",
    "print(train_tfidf_avg.shape)\n",
    "\n",
    "test_tfidf_avg = hstack((X_test_categories_ohc, X_test_sub_categories_ohc,X_test_state_ohe,X_test_teacher_ohe, X_test_grade_ohe,\n",
    "                         test_price_norm,test_quantity_norm,test_prev_proj_norm,essay_tfidf_avg,title_tfidf_avg))\n",
    "print(test_tfidf_avg.shape)"
   ]
  },
  {
   "cell_type": "code",
   "execution_count": 60,
   "metadata": {
    "ExecuteTime": {
     "end_time": "2019-10-04T05:25:14.555865Z",
     "start_time": "2019-10-04T05:25:01.295446Z"
    }
   },
   "outputs": [
    {
     "name": "stdout",
     "output_type": "stream",
     "text": [
      "(33500, 3005)\n",
      "(16500, 3005)\n"
     ]
    }
   ],
   "source": [
    "#Set 5\n",
    "\n",
    "train_set5 = hstack((X_train_categories_ohc, X_train_sub_categories_ohc,X_train_state_ohe,X_train_teacher_ohe, X_train_grade_ohe,\n",
    "                          train_price_norm,train_quantity_norm,train_prev_proj_norm,train_senti_norm,train_title_wordcount_norm,train_essay_wordcount_norm,train_svd))\n",
    "print(train_set5.shape)\n",
    "\n",
    "test_set5 = hstack((X_test_categories_ohc, X_test_sub_categories_ohc,X_test_state_ohe,X_test_teacher_ohe, X_test_grade_ohe,\n",
    "                         test_price_norm,test_quantity_norm,test_prev_proj_norm,test_senti_norm,test_title_wordcount_norm,test_essay_wordcount_norm,test_svd))\n",
    "print(test_set5.shape)\n"
   ]
  },
  {
   "cell_type": "markdown",
   "metadata": {
    "colab_type": "text",
    "id": "Drelm2SEOh-i"
   },
   "source": [
    "# Assignment 7: SVM"
   ]
  },
  {
   "cell_type": "markdown",
   "metadata": {
    "colab_type": "text",
    "id": "ZPHEJ2gOOh-l"
   },
   "source": [
    "<ol>\n",
    "    <li><strong>[Task-1] Apply Support Vector Machines(SGDClassifier with hinge loss: Linear SVM) on these feature sets</strong>\n",
    "        <ul>\n",
    "            <li><font color='red'>Set 1</font>: categorical, numerical features + project_title(BOW) + preprocessed_eassay (BOW)</li>\n",
    "            <li><font color='red'>Set 2</font>: categorical, numerical features + project_title(TFIDF)+  preprocessed_eassay (TFIDF)</li>\n",
    "            <li><font color='red'>Set 3</font>: categorical, numerical features + project_title(AVG W2V)+  preprocessed_eassay (AVG W2V)</li>\n",
    "            <li><font color='red'>Set 4</font>: categorical, numerical features + project_title(TFIDF W2V)+  preprocessed_eassay (TFIDF W2V)</li>        </ul>\n",
    "    </li>\n",
    "    <br>\n",
    "    <li><strong>The hyper paramter tuning (best alpha in range [10^-4 to 10^4], and the best penalty among 'l1', 'l2')</strong>\n",
    "        <ul>\n",
    "    <li>Find the best hyper parameter which will give the maximum <a href='https://www.appliedaicourse.com/course/applied-ai-course-online/lessons/receiver-operating-characteristic-curve-roc-curve-and-auc-1/'>AUC</a> value</li>\n",
    "    <li>Find the best hyper paramter using k-fold cross validation or simple cross validation data</li>\n",
    "    <li>Use gridsearch cv or randomsearch cv or you can also write your own for loops to do this task of hyperparameter tuning\n",
    "        </ul>\n",
    "            </li>\n",
    "    <br>\n",
    "    <li><strong>Representation of results</strong>\n",
    "        <ul>\n",
    "    <li>You need to plot the performance of model both on train data and cross validation data for each hyper parameter, like shown in the figure.\n",
    "    <img src='train_cv_auc.JPG' width=300px></li>\n",
    "    <li>Once after you found the best hyper parameter, you need to train your model with it, and find the AUC on test data and plot the ROC curve on both train and test.\n",
    "    <img src='train_test_auc.JPG' width=300px></li>\n",
    "    <li>Along with plotting ROC curve, you need to print the <a href='https://www.appliedaicourse.com/course/applied-ai-course-online/lessons/confusion-matrix-tpr-fpr-fnr-tnr-1/'>confusion matrix</a> with predicted and original labels of test data points. Please visualize your confusion matrices using <a href='https://seaborn.pydata.org/generated/seaborn.heatmap.html'>seaborn heatmaps.\n",
    "    <img src='confusion_matrix.png' width=300px></li>\n",
    "        </ul>\n",
    "    </li>\n",
    "    <br>\n",
    "    <li><strong>[Task-2] Apply the Support Vector Machines on these features by finding the best hyper paramter as suggested in step 2 and step 3</strong>\n",
    "        <ul>\n",
    "    <li> Consider these set of features <font color='red'> Set 5 :</font>\n",
    "            <ul>\n",
    "                <li><strong>school_state</strong> : categorical data</li>\n",
    "                <li><strong>clean_categories</strong> : categorical data</li>\n",
    "                <li><strong>clean_subcategories</strong> : categorical data</li>\n",
    "                <li><strong>project_grade_category</strong> :categorical data</li>\n",
    "                <li><strong>teacher_prefix</strong> : categorical data</li>\n",
    "                <li><strong>quantity</strong> : numerical data</li>\n",
    "                <li><strong>teacher_number_of_previously_posted_projects</strong> : numerical data</li>\n",
    "                <li><strong>price</strong> : numerical data</li>\n",
    "                <li><strong>sentiment score's of each of the essay</strong> : numerical data</li>\n",
    "                <li><strong>number of words in the title</strong> : numerical data</li>\n",
    "                <li><strong>number of words in the combine essays</strong> : numerical data</li>\n",
    "                <li><strong>Apply <a href='http://scikit-learn.org/stable/modules/generated/sklearn.decomposition.TruncatedSVD.html'>TruncatedSVD</a> on <a href='https://scikit-learn.org/stable/modules/generated/sklearn.feature_extraction.text.TfidfVectorizer.html'>TfidfVectorizer</a> of essay text, choose the number of components (`n_components`) using <a href='https://www.appliedaicourse.com/course/applied-ai-course-online/lessons/pca-code-example-using-non-visualization/'>elbow method</a></strong> : numerical data</li>\n",
    "            </ul>\n",
    "         <br>\n",
    "    </li>\n",
    "    <br>\n",
    "    <li><strong>Conclusion</strong>\n",
    "        <ul>\n",
    "    <li>You need to summarize the results at the end of the notebook, summarize it in the table format. To print out a table please refer to this prettytable library<a href='http://zetcode.com/python/prettytable/'>  link</a> \n",
    "        <img src='summary.JPG' width=400px>\n",
    "    </li>\n",
    "        </ul>\n",
    "</ol>"
   ]
  },
  {
   "cell_type": "markdown",
   "metadata": {
    "colab_type": "text",
    "id": "g-wL7ps2Oh-m"
   },
   "source": [
    "<h4><font color='red'>Note: Data Leakage</font></h4>\n",
    "\n",
    "1. There will be an issue of data-leakage if you vectorize the entire data and then split it into train/cv/test.\n",
    "2. To avoid the issue of data-leakage, make sure to split your data first and then vectorize it. \n",
    "3. While vectorizing your data, apply the method fit_transform() on you train data, and apply the method transform() on cv/test data.\n",
    "4. For more details please go through this <a href='https://soundcloud.com/applied-ai-course/leakage-bow-and-tfidf'>link.</a>"
   ]
  },
  {
   "cell_type": "markdown",
   "metadata": {
    "colab_type": "text",
    "id": "cy1c6UN2Oh-n"
   },
   "source": [
    "<h1>2. Support Vector Machines </h1>"
   ]
  },
  {
   "cell_type": "code",
   "execution_count": 61,
   "metadata": {
    "ExecuteTime": {
     "end_time": "2019-10-04T05:25:15.191175Z",
     "start_time": "2019-10-04T05:25:14.562869Z"
    }
   },
   "outputs": [],
   "source": [
    "from prettytable import PrettyTable\n",
    "table = PrettyTable()\n",
    "table.field_names = [\"Vectorizer\", \"Hyper parameter\", \"AUC\"]"
   ]
  },
  {
   "cell_type": "code",
   "execution_count": 62,
   "metadata": {
    "ExecuteTime": {
     "end_time": "2019-10-04T05:25:15.231154Z",
     "start_time": "2019-10-04T05:25:15.219145Z"
    }
   },
   "outputs": [],
   "source": [
    "def find_best_threshold(threshould, fpr, tpr):\n",
    "    t = threshould[np.argmax(tpr*(1-fpr))]\n",
    "    # (tpr*(1-fpr)) will be maximum if your fpr is very low and tpr is very high\n",
    "    print(\"the maximum value of tpr*(1-fpr)\", max(tpr*(1-fpr)), \"for threshold\", np.round(t,3))\n",
    "    return t\n",
    "\n",
    "def predict_with_best_t(proba, threshould):\n",
    "    predictions = []\n",
    "    for i in proba:\n",
    "        if i>=threshould:\n",
    "            predictions.append(1)\n",
    "        else:\n",
    "            predictions.append(0)\n",
    "    return predictions"
   ]
  },
  {
   "cell_type": "code",
   "execution_count": null,
   "metadata": {
    "ExecuteTime": {
     "start_time": "2019-10-07T08:51:47.631Z"
    }
   },
   "outputs": [],
   "source": [
    "#using gridsearchcv\n",
    "# https://scikit-learn.org/stable/modules/generated/sklearn.model_selection.GridSearchCV.html\n",
    "#https://stackoverflow.com/questions/52580023/how-to-get-the-best-estimator-parameters-out-from-pipelined-gridsearch-and-cro\n",
    "from sklearn.model_selection import GridSearchCV\n",
    "from sklearn.linear_model import SGDClassifier\n",
    "import math\n",
    "\n",
    "#Alpha is the hyper parameter of Naive Bayes\n",
    "def Train_data(X_tr,y_train,vectorizer):\n",
    "    tuned_parameters = [{'alpha': [10**-4, 10**-3,10**-2, 10**-1, 10**0, 10**1,10**2,10**3,10**4], 'penalty': ['l2','l1'] }]\n",
    "    \n",
    "    clf = GridSearchCV(SGDClassifier(loss='hinge',class_weight='balanced'), tuned_parameters, cv=3, scoring='roc_auc', return_train_score=True)\n",
    "    clf.fit(X_tr, y_train)\n",
    "    \n",
    "    best_parameters = clf.best_params_\n",
    "    print(\"The best parameters for using this model is\", best_parameters)\n",
    "    print(\"Best Estimator \",clf.best_estimator_)\n",
    "    \n",
    "    K =  clf.cv_results_['param_alpha']\n",
    "   \n",
    "    train_auc = clf.cv_results_['mean_train_score']\n",
    "    train_auc_std = clf.cv_results_['std_train_score']\n",
    "    cv_auc = clf.cv_results_['mean_test_score'] \n",
    "    cv_auc_std= clf.cv_results_['std_test_score'] \n",
    "            \n",
    "    #Array to log https://www.geeksforgeeks.org/numpy-log10-python/\n",
    "    #To fix error, 'numpy.float64' object has no attribute 'log10'   \n",
    "    #https://stackoverflow.com/questions/47208473/attributeerror-numpy-float64-object-has-no-attribute-log10\n",
    "    alpha_log = np.log10(K.astype(np.float64))\n",
    "\n",
    "    plt.plot(alpha_log, train_auc, label='Train AUC')\n",
    "    # this code is copied from here: https://stackoverflow.com/a/48803361/4084039\n",
    "    # plt.gca().fill_between(K, train_auc - train_auc_std,train_auc + train_auc_std,alpha=0.2,color='darkblue')\n",
    "\n",
    "    plt.plot(alpha_log, cv_auc, label='CV AUC')\n",
    "    # this code is copied from here: https://stackoverflow.com/a/48803361/4084039\n",
    "    # plt.gca().fill_between(K, cv_auc - cv_auc_std,cv_auc + cv_auc_std,alpha=0.2,color='darkorange')\n",
    "\n",
    "    plt.scatter(alpha_log, train_auc, label='Train AUC points')\n",
    "    plt.scatter(alpha_log, cv_auc, label='CV AUC points')\n",
    "\n",
    "    plt.legend()\n",
    "    plt.xlabel(\"hyperparameter : alpha\")\n",
    "    plt.ylabel(\"AUC\")\n",
    "    plt.title(\"AUC on various alphas using %s on text features\"%vectorizer)\n",
    "    plt.grid()\n",
    "    plt.show()\n",
    "    \n",
    "    results = pd.DataFrame.from_dict(clf.cv_results_)\n",
    "    results = results.sort_values(['param_alpha'])\n",
    "    "
   ]
  },
  {
   "cell_type": "code",
   "execution_count": 64,
   "metadata": {
    "ExecuteTime": {
     "end_time": "2019-10-04T05:25:16.493213Z",
     "start_time": "2019-10-04T05:25:15.414184Z"
    }
   },
   "outputs": [],
   "source": [
    "#Round off the predicted values to fix value error\n",
    "#https://stackoverflow.com/questions/38015181/accuracy-score-valueerror-cant-handle-mix-of-binary-and-continuous-target\n",
    "from mlxtend.plotting import plot_confusion_matrix\n",
    "from sklearn.calibration import CalibratedClassifierCV\n",
    "def draw_train_confusion_matrix(CM):\n",
    "    fig, ax = plot_confusion_matrix(conf_mat= CM, colorbar=True,\n",
    "                                   show_absolute=True,\n",
    "                                   show_normed=True)\n",
    "    plt.title(\"Train Confusion Matrix \")\n",
    "    plt.ylabel(\"Actual\")\n",
    "    plt.xlabel(\"Predicted\")\n",
    "    plt.show()\n",
    "\n",
    "def draw_test_confusion_matrix(CM):\n",
    "    fig, ax = plot_confusion_matrix(conf_mat= CM, colorbar=True,\n",
    "                                   show_absolute=True,\n",
    "                                   show_normed=True)\n",
    "    plt.title(\"Test Confusion Matrix \")\n",
    "    plt.ylabel(\"Actual\")\n",
    "    plt.xlabel(\"Predicted\")\n",
    "    plt.show()\n",
    "    \n",
    "\n",
    "def Test_Data(X_train, y_train,X_test,y_test,best_alpha,best_penalty,vectorizer):\n",
    "    clf = SGDClassifier(loss='hinge',alpha=best_alpha,penalty=best_penalty,class_weight='balanced')\n",
    "    clf.fit(X_train, y_train)\n",
    "    # roc_auc_score(y_true, y_score) the 2nd parameter should be probability estimates of the positive class\n",
    "    # not the predicted outputs\n",
    "\n",
    "    X_train = X_train.tocsr()\n",
    "    X_test = X_test.tocsr()\n",
    "    \n",
    "    clf_calibrated=CalibratedClassifierCV(clf, cv='prefit', method='isotonic')\n",
    "    clf_calibrated.fit(X_train, y_train)\n",
    "    \n",
    "    y_train_pred = clf_calibrated.predict_proba(X_train)[:,1]\n",
    "    y_test_pred =  clf_calibrated.predict_proba(X_test)[:,1]                   \n",
    "    \n",
    "    train_fpr, train_tpr, thresholds = roc_curve(y_train,y_train_pred)\n",
    "    test_fpr, test_tpr, thresholds = roc_curve(y_test, y_test_pred)\n",
    "\n",
    "    sns.set_style(\"whitegrid\");\n",
    "    plt.plot(train_fpr, train_tpr, label=\"train AUC =\"+str(auc(train_fpr, train_tpr)))\n",
    "    plt.plot(test_fpr, test_tpr, label=\"test AUC =\"+str(auc(test_fpr, test_tpr)))\n",
    "    plt.legend()\n",
    "    plt.xlabel(\"FPR\")\n",
    "    plt.ylabel(\"TPR\")\n",
    "    plt.title(\"ROC Curve using %s on text features\"%vectorizer)\n",
    "    plt.show()\n",
    "\n",
    "    print(\"=\"*100)\n",
    "    \n",
    "    from sklearn.metrics import confusion_matrix\n",
    "    print(\"Train confusion matrix\")\n",
    "    \n",
    "    y_train_pred_val = []\n",
    "    for item in y_train_pred:\n",
    "        y_train_pred_val.append(int(round(item)))\n",
    "        \n",
    "    y_test_pred_val = []\n",
    "    for item in y_test_pred:\n",
    "        y_test_pred_val.append(int(round(item)))\n",
    "    \n",
    "    print(\"=\"*100)\n",
    "    from sklearn.metrics import confusion_matrix\n",
    "    best_t = find_best_threshold(thresholds, train_fpr, train_tpr)\n",
    "    \n",
    "    print(\"Train confusion matrix\")\n",
    "    predicted_train=predict_with_best_t(y_train_pred_val, best_t)\n",
    "    cm_train = confusion_matrix(y_train, predicted_train)\n",
    "    print(cm_train)\n",
    "    draw_train_confusion_matrix(cm_train)\n",
    "    \n",
    "    print(\"Test confusion matrix\")\n",
    "    predicted_test=predict_with_best_t(y_test_pred_val, best_t)\n",
    "    cm_test = confusion_matrix(y_test, predicted_test)\n",
    "    print(cm_test)\n",
    "    draw_test_confusion_matrix(cm_test)\n",
    "\n",
    "    table.add_row([vectorizer, best_alpha, str(auc(test_fpr, test_tpr))])\n",
    "    "
   ]
  },
  {
   "cell_type": "markdown",
   "metadata": {
    "colab_type": "text",
    "id": "uw_dfo2ZOh-0"
   },
   "source": [
    "<h2>2.4 Appling Support Vector Machines on different kind of featurization as mentioned in the instructions</h2>\n",
    "\n",
    "<br>Apply Support Vector Machines on different kind of featurization as mentioned in the instructions\n",
    "<br> For Every model that you work on make sure you do the step 2 and step 3 of instrucations"
   ]
  },
  {
   "cell_type": "markdown",
   "metadata": {},
   "source": [
    "### 2.4.1 Applying SVM on BOW,<font color='red'> SET 1</font>"
   ]
  },
  {
   "cell_type": "code",
   "execution_count": 65,
   "metadata": {
    "ExecuteTime": {
     "end_time": "2019-10-04T05:25:51.321801Z",
     "start_time": "2019-10-04T05:25:16.498196Z"
    },
    "colab": {},
    "colab_type": "code",
    "id": "hP1tBLs1Oh-1"
   },
   "outputs": [
    {
     "name": "stdout",
     "output_type": "stream",
     "text": [
      "The best parameters for using this model is {'alpha': 0.0001, 'penalty': 'l1'}\n",
      "Best Estimator  SGDClassifier(alpha=0.0001, average=False, class_weight='balanced',\n",
      "              early_stopping=False, epsilon=0.1, eta0=0.0, fit_intercept=True,\n",
      "              l1_ratio=0.15, learning_rate='optimal', loss='hinge',\n",
      "              max_iter=1000, n_iter_no_change=5, n_jobs=None, penalty='l1',\n",
      "              power_t=0.5, random_state=None, shuffle=True, tol=0.001,\n",
      "              validation_fraction=0.1, verbose=0, warm_start=False)\n"
     ]
    },
    {
     "data": {
      "image/png": "[encoded data removed]",
      "text/plain": [
       "<Figure size 432x288 with 1 Axes>"
      ]
     },
     "metadata": {
      "needs_background": "light"
     },
     "output_type": "display_data"
    }
   ],
   "source": [
    "# Please write all the code with proper documentation\n",
    "Train_data(train_bow,y_train,vectorizer=\"Bow\")"
   ]
  },
  {
   "cell_type": "code",
   "execution_count": 76,
   "metadata": {
    "ExecuteTime": {
     "end_time": "2019-10-04T05:37:20.560822Z",
     "start_time": "2019-10-04T05:37:17.052242Z"
    }
   },
   "outputs": [
    {
     "data": {
      "image/png": "[encoded data removed]",
      "text/plain": [
       "<Figure size 432x288 with 1 Axes>"
      ]
     },
     "metadata": {},
     "output_type": "display_data"
    },
    {
     "name": "stdout",
     "output_type": "stream",
     "text": [
      "====================================================================================================\n",
      "Train confusion matrix\n",
      "====================================================================================================\n",
      "the maximum value of tpr*(1-fpr) 0.5875403060307919 for threshold 0.908\n",
      "Train confusion matrix\n",
      "[[ 2059  3109]\n",
      " [ 1640 26692]]\n"
     ]
    },
    {
     "data": {
      "image/png": "[encoded data removed]",
      "text/plain": [
       "<Figure size 432x288 with 2 Axes>"
      ]
     },
     "metadata": {},
     "output_type": "display_data"
    },
    {
     "name": "stdout",
     "output_type": "stream",
     "text": [
      "Test confusion matrix\n",
      "[[  604  1942]\n",
      " [ 1046 12908]]\n"
     ]
    },
    {
     "data": {
      "image/png": "[encoded data removed]",
      "text/plain": [
       "<Figure size 432x288 with 2 Axes>"
      ]
     },
     "metadata": {},
     "output_type": "display_data"
    }
   ],
   "source": [
    "bow_result= Test_Data(train_bow,y_train,test_bow,y_test, best_alpha=0.0001,best_penalty='l2',vectorizer=\"BOW\")"
   ]
  },
  {
   "cell_type": "markdown",
   "metadata": {},
   "source": [
    "### 2.4.2 Applying SVM on TFIDF,<font color='red'> SET 2</font>"
   ]
  },
  {
   "cell_type": "code",
   "execution_count": 67,
   "metadata": {
    "ExecuteTime": {
     "end_time": "2019-10-04T05:26:31.654730Z",
     "start_time": "2019-10-04T05:25:51.346812Z"
    }
   },
   "outputs": [
    {
     "name": "stdout",
     "output_type": "stream",
     "text": [
      "The best parameters for using this model is {'alpha': 0.0001, 'penalty': 'l1'}\n",
      "Best Estimator  SGDClassifier(alpha=0.0001, average=False, class_weight='balanced',\n",
      "              early_stopping=False, epsilon=0.1, eta0=0.0, fit_intercept=True,\n",
      "              l1_ratio=0.15, learning_rate='optimal', loss='hinge',\n",
      "              max_iter=1000, n_iter_no_change=5, n_jobs=None, penalty='l1',\n",
      "              power_t=0.5, random_state=None, shuffle=True, tol=0.001,\n",
      "              validation_fraction=0.1, verbose=0, warm_start=False)\n"
     ]
    },
    {
     "data": {
      "image/png": "[encoded data removed]",
      "text/plain": [
       "<Figure size 432x288 with 1 Axes>"
      ]
     },
     "metadata": {
      "needs_background": "light"
     },
     "output_type": "display_data"
    }
   ],
   "source": [
    "Train_data(train_tfidf,y_train,vectorizer=\"TFIDF\")"
   ]
  },
  {
   "cell_type": "code",
   "execution_count": 77,
   "metadata": {
    "ExecuteTime": {
     "end_time": "2019-10-04T05:37:33.492498Z",
     "start_time": "2019-10-04T05:37:30.435244Z"
    }
   },
   "outputs": [
    {
     "data": {
      "image/png": "[encoded data removed]",
      "text/plain": [
       "<Figure size 432x288 with 1 Axes>"
      ]
     },
     "metadata": {},
     "output_type": "display_data"
    },
    {
     "name": "stdout",
     "output_type": "stream",
     "text": [
      "====================================================================================================\n",
      "Train confusion matrix\n",
      "====================================================================================================\n",
      "the maximum value of tpr*(1-fpr) 0.6301931099798977 for threshold 0.912\n",
      "Train confusion matrix\n",
      "[[ 2305  2863]\n",
      " [ 1615 26717]]\n"
     ]
    },
    {
     "data": {
      "image/png": "[encoded data removed]",
      "text/plain": [
       "<Figure size 432x288 with 2 Axes>"
      ]
     },
     "metadata": {},
     "output_type": "display_data"
    },
    {
     "name": "stdout",
     "output_type": "stream",
     "text": [
      "Test confusion matrix\n",
      "[[  595  1951]\n",
      " [ 1073 12881]]\n"
     ]
    },
    {
     "data": {
      "image/png": "[encoded data removed]",
      "text/plain": [
       "<Figure size 432x288 with 2 Axes>"
      ]
     },
     "metadata": {},
     "output_type": "display_data"
    }
   ],
   "source": [
    "Test_Data(train_tfidf,y_train,test_tfidf,y_test,best_alpha=0.0001,best_penalty='l2',vectorizer=\"TFIDF\")"
   ]
  },
  {
   "cell_type": "markdown",
   "metadata": {},
   "source": [
    "### 2.4.3 Applying SVM on AVG W2V,<font color='red'> SET 3</font>"
   ]
  },
  {
   "cell_type": "code",
   "execution_count": 69,
   "metadata": {
    "ExecuteTime": {
     "end_time": "2019-10-04T05:27:55.444910Z",
     "start_time": "2019-10-04T05:26:31.669748Z"
    }
   },
   "outputs": [
    {
     "name": "stdout",
     "output_type": "stream",
     "text": [
      "The best parameters for using this model is {'alpha': 0.0001, 'penalty': 'l1'}\n",
      "Best Estimator  SGDClassifier(alpha=0.0001, average=False, class_weight='balanced',\n",
      "              early_stopping=False, epsilon=0.1, eta0=0.0, fit_intercept=True,\n",
      "              l1_ratio=0.15, learning_rate='optimal', loss='hinge',\n",
      "              max_iter=1000, n_iter_no_change=5, n_jobs=None, penalty='l1',\n",
      "              power_t=0.5, random_state=None, shuffle=True, tol=0.001,\n",
      "              validation_fraction=0.1, verbose=0, warm_start=False)\n"
     ]
    },
    {
     "data": {
      "image/png": "[encoded data removed]",
      "text/plain": [
       "<Figure size 432x288 with 1 Axes>"
      ]
     },
     "metadata": {
      "needs_background": "light"
     },
     "output_type": "display_data"
    }
   ],
   "source": [
    "Train_data(train_avg,y_train,vectorizer=\"AVG W2V\")"
   ]
  },
  {
   "cell_type": "code",
   "execution_count": 78,
   "metadata": {
    "ExecuteTime": {
     "end_time": "2019-10-04T05:37:47.231566Z",
     "start_time": "2019-10-04T05:37:42.720722Z"
    }
   },
   "outputs": [
    {
     "data": {
      "image/png": "[encoded data removed]",
      "text/plain": [
       "<Figure size 432x288 with 1 Axes>"
      ]
     },
     "metadata": {},
     "output_type": "display_data"
    },
    {
     "name": "stdout",
     "output_type": "stream",
     "text": [
      "====================================================================================================\n",
      "Train confusion matrix\n",
      "====================================================================================================\n",
      "the maximum value of tpr*(1-fpr) 0.40667424597070817 for threshold 0.9\n",
      "Train confusion matrix\n",
      "[[  115  5053]\n",
      " [  111 28221]]\n"
     ]
    },
    {
     "data": {
      "image/png": "[encoded data removed]",
      "text/plain": [
       "<Figure size 432x288 with 2 Axes>"
      ]
     },
     "metadata": {},
     "output_type": "display_data"
    },
    {
     "name": "stdout",
     "output_type": "stream",
     "text": [
      "Test confusion matrix\n",
      "[[   53  2493]\n",
      " [   56 13898]]\n"
     ]
    },
    {
     "data": {
      "image/png": "[encoded data removed]",
      "text/plain": [
       "<Figure size 432x288 with 2 Axes>"
      ]
     },
     "metadata": {},
     "output_type": "display_data"
    }
   ],
   "source": [
    "Test_Data(train_avg,y_train,test_avg,y_test,best_alpha=0.0001,best_penalty='l2',vectorizer=\"AVG W2V\")"
   ]
  },
  {
   "cell_type": "markdown",
   "metadata": {},
   "source": [
    "### 2.4.4 Applying SVM on TFIDF W2V,<font color='red'> SET 4</font>"
   ]
  },
  {
   "cell_type": "code",
   "execution_count": 71,
   "metadata": {
    "ExecuteTime": {
     "end_time": "2019-10-04T05:27:59.505701Z",
     "start_time": "2019-10-04T05:27:55.460920Z"
    }
   },
   "outputs": [
    {
     "name": "stdout",
     "output_type": "stream",
     "text": [
      "The best parameters for using this model is {'alpha': 0.001, 'penalty': 'l1'}\n",
      "Best Estimator  SGDClassifier(alpha=0.001, average=False, class_weight='balanced',\n",
      "              early_stopping=False, epsilon=0.1, eta0=0.0, fit_intercept=True,\n",
      "              l1_ratio=0.15, learning_rate='optimal', loss='hinge',\n",
      "              max_iter=1000, n_iter_no_change=5, n_jobs=None, penalty='l1',\n",
      "              power_t=0.5, random_state=None, shuffle=True, tol=0.001,\n",
      "              validation_fraction=0.1, verbose=0, warm_start=False)\n"
     ]
    },
    {
     "data": {
      "image/png": "[encoded data removed]",
      "text/plain": [
       "<Figure size 432x288 with 1 Axes>"
      ]
     },
     "metadata": {
      "needs_background": "light"
     },
     "output_type": "display_data"
    }
   ],
   "source": [
    "Train_data(train_tfidf_avg,y_train,vectorizer=\"TFIDFW2V\")"
   ]
  },
  {
   "cell_type": "code",
   "execution_count": 79,
   "metadata": {
    "ExecuteTime": {
     "end_time": "2019-10-04T05:37:57.064410Z",
     "start_time": "2019-10-04T05:37:55.381488Z"
    }
   },
   "outputs": [
    {
     "data": {
      "image/png": "[encoded data removed]",
      "text/plain": [
       "<Figure size 432x288 with 1 Axes>"
      ]
     },
     "metadata": {},
     "output_type": "display_data"
    },
    {
     "name": "stdout",
     "output_type": "stream",
     "text": [
      "====================================================================================================\n",
      "Train confusion matrix\n",
      "====================================================================================================\n",
      "the maximum value of tpr*(1-fpr) 0.2973653026214164 for threshold 0.867\n",
      "Train confusion matrix\n",
      "[[    2  5166]\n",
      " [    2 28330]]\n"
     ]
    },
    {
     "data": {
      "image/png": "[encoded data removed]",
      "text/plain": [
       "<Figure size 432x288 with 2 Axes>"
      ]
     },
     "metadata": {},
     "output_type": "display_data"
    },
    {
     "name": "stdout",
     "output_type": "stream",
     "text": [
      "Test confusion matrix\n",
      "[[    0  2546]\n",
      " [    1 13953]]\n"
     ]
    },
    {
     "data": {
      "image/png": "[encoded data removed]",
      "text/plain": [
       "<Figure size 432x288 with 2 Axes>"
      ]
     },
     "metadata": {},
     "output_type": "display_data"
    }
   ],
   "source": [
    "Test_Data(train_tfidf_avg,y_train,test_tfidf_avg,y_test,best_alpha=0.001,best_penalty='l2',vectorizer=\"TFIDFW2V\")"
   ]
  },
  {
   "cell_type": "markdown",
   "metadata": {
    "colab_type": "text",
    "id": "MFNbcFUZOh-2"
   },
   "source": [
    "<h2>2.5 Support Vector Machines with added Features `Set 5` </h2>"
   ]
  },
  {
   "cell_type": "code",
   "execution_count": 73,
   "metadata": {
    "ExecuteTime": {
     "end_time": "2019-10-04T05:34:56.485846Z",
     "start_time": "2019-10-04T05:27:59.523693Z"
    },
    "colab": {},
    "colab_type": "code",
    "id": "PfNbQ8PuOh-3"
   },
   "outputs": [
    {
     "name": "stdout",
     "output_type": "stream",
     "text": [
      "The best parameters for using this model is {'alpha': 0.0001, 'penalty': 'l2'}\n",
      "Best Estimator  SGDClassifier(alpha=0.0001, average=False, class_weight='balanced',\n",
      "              early_stopping=False, epsilon=0.1, eta0=0.0, fit_intercept=True,\n",
      "              l1_ratio=0.15, learning_rate='optimal', loss='hinge',\n",
      "              max_iter=1000, n_iter_no_change=5, n_jobs=None, penalty='l2',\n",
      "              power_t=0.5, random_state=None, shuffle=True, tol=0.001,\n",
      "              validation_fraction=0.1, verbose=0, warm_start=False)\n"
     ]
    },
    {
     "data": {
      "image/png": "[encoded data removed]",
      "text/plain": [
       "<Figure size 432x288 with 1 Axes>"
      ]
     },
     "metadata": {
      "needs_background": "light"
     },
     "output_type": "display_data"
    }
   ],
   "source": [
    "Train_data(train_set5,y_train,vectorizer=\"No vectorizer but set 5\")"
   ]
  },
  {
   "cell_type": "code",
   "execution_count": 80,
   "metadata": {
    "ExecuteTime": {
     "end_time": "2019-10-04T05:38:20.897560Z",
     "start_time": "2019-10-04T05:38:03.410875Z"
    }
   },
   "outputs": [
    {
     "data": {
      "image/png": "[encoded data removed]",
      "text/plain": [
       "<Figure size 432x288 with 1 Axes>"
      ]
     },
     "metadata": {},
     "output_type": "display_data"
    },
    {
     "name": "stdout",
     "output_type": "stream",
     "text": [
      "====================================================================================================\n",
      "Train confusion matrix\n",
      "====================================================================================================\n",
      "the maximum value of tpr*(1-fpr) 0.5456554584539182 for threshold 0.922\n",
      "Train confusion matrix\n",
      "[[ 1390  3778]\n",
      " [ 1174 27158]]\n"
     ]
    },
    {
     "data": {
      "image/png": "[encoded data removed]",
      "text/plain": [
       "<Figure size 432x288 with 2 Axes>"
      ]
     },
     "metadata": {},
     "output_type": "display_data"
    },
    {
     "name": "stdout",
     "output_type": "stream",
     "text": [
      "Test confusion matrix\n",
      "[[  481  2065]\n",
      " [  691 13263]]\n"
     ]
    },
    {
     "data": {
      "image/png": "[encoded data removed]",
      "text/plain": [
       "<Figure size 432x288 with 2 Axes>"
      ]
     },
     "metadata": {},
     "output_type": "display_data"
    }
   ],
   "source": [
    "Test_Data(train_set5,y_train,test_set5,y_test,best_alpha=0.0001,best_penalty='l2',vectorizer=\"No vectorizer but set 5\")"
   ]
  },
  {
   "cell_type": "markdown",
   "metadata": {
    "colab_type": "text",
    "id": "pnpdIsN4Oh-5"
   },
   "source": [
    "<h1>3. Conclusion</h1>"
   ]
  },
  {
   "cell_type": "code",
   "execution_count": 81,
   "metadata": {
    "ExecuteTime": {
     "end_time": "2019-10-04T05:38:30.132481Z",
     "start_time": "2019-10-04T05:38:30.121475Z"
    },
    "colab": {},
    "colab_type": "code",
    "id": "tEXoNncrOh-6"
   },
   "outputs": [
    {
     "name": "stdout",
     "output_type": "stream",
     "text": [
      "+-------------------------+-----------------+--------------------+\n",
      "|        Vectorizer       | Hyper parameter |        AUC         |\n",
      "+-------------------------+-----------------+--------------------+\n",
      "|           BOW           |      0.0001     | 0.6911518471476418 |\n",
      "|          TFIDF          |      0.0001     | 0.6844193259391957 |\n",
      "|         AVG W2V         |      0.0001     | 0.670411286281116  |\n",
      "|         TFIDFW2V        |      0.001      | 0.5651203184608028 |\n",
      "| No vectorizer but set 5 |      0.0001     | 0.703448605287196  |\n",
      "+-------------------------+-----------------+--------------------+\n"
     ]
    }
   ],
   "source": [
    "# Please compare all your models using Prettytable library\n",
    "from prettytable import PrettyTable\n",
    "print(table)"
   ]
  },
  {
   "cell_type": "markdown",
   "metadata": {},
   "source": [
    "1. SVM is able to seperate positive and negative upto some extent. We should try other algorithms\n",
    "2. To display the hyperparameters in plot clearly, I have taken log value of hyperparameter    \n",
    "3. Theoritically,lesser alpha value is underfitting and higher alpha value is overfitting,but Gridsearch provides 0.0001 as best hyperparameter for BOW,TFIDF,AVG W2V and set5  and 0.001 for TFIDFW2V by using CV error   \n",
    "4. Bow, TFIDF and set5 are giving better AUC, considering the hyperparameter and AUC value, \n",
    "5. Overall BOW confusion matrix score looks best than BOW and Set5\n",
    "6. The dataset  is imbalanced, we havnt used undersampling or oversampling, that may also have contributed for the conflicting specificity and sensitivity    \n",
    "7. We can also conclude most of words used in title/essay of rejected projects looks almost same like approved project"
   ]
  }
 ],
 "metadata": {
  "colab": {
   "collapsed_sections": [
    "OeLLx404Oh9c",
    "ACyCSq0LOh9o",
    "NMbzzOsPOh9p",
    "z2gxZ2ogOh9w",
    "73m5MNjoOh90",
    "pAcQahGBOh99"
   ],
   "name": "5_DonorsChoose_LR.ipynb",
   "provenance": [],
   "version": "0.3.2"
  },
  "kernelspec": {
   "display_name": "Python 3",
   "language": "python",
   "name": "python3"
  },
  "language_info": {
   "codemirror_mode": {
    "name": "ipython",
    "version": 3
   },
   "file_extension": ".py",
   "mimetype": "text/x-python",
   "name": "python",
   "nbconvert_exporter": "python",
   "pygments_lexer": "ipython3",
   "version": "3.7.3"
  },
  "toc": {
   "base_numbering": 1,
   "nav_menu": {},
   "number_sections": true,
   "sideBar": true,
   "skip_h1_title": false,
   "title_cell": "Table of Contents",
   "title_sidebar": "Contents",
   "toc_cell": false,
   "toc_position": {
    "height": "calc(100% - 180px)",
    "left": "10px",
    "top": "150px",
    "width": "184.188px"
   },
   "toc_section_display": true,
   "toc_window_display": true
  },
  "varInspector": {
   "cols": {
    "lenName": 16,
    "lenType": 16,
    "lenVar": 40
   },
   "kernels_config": {
    "python": {
     "delete_cmd_postfix": "",
     "delete_cmd_prefix": "del ",
     "library": "var_list.py",
     "varRefreshCmd": "print(var_dic_list())"
    },
    "r": {
     "delete_cmd_postfix": ") ",
     "delete_cmd_prefix": "rm(",
     "library": "var_list.r",
     "varRefreshCmd": "cat(var_dic_list()) "
    }
   },
   "types_to_exclude": [
    "module",
    "function",
    "builtin_function_or_method",
    "instance",
    "_Feature"
   ],
   "window_display": false
  }
 },
 "nbformat": 4,
 "nbformat_minor": 1
}
