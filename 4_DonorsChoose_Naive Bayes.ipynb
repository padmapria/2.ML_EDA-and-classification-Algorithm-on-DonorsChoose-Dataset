{
 "cells": [
  {
   "cell_type": "markdown",
   "metadata": {
    "colab_type": "text",
    "id": "7Od5bBp9N1Lg"
   },
   "source": [
    "# DonorsChoose"
   ]
  },
  {
   "cell_type": "markdown",
   "metadata": {
    "colab_type": "text",
    "id": "5u7wpFZwN1Lh"
   },
   "source": [
    "<p>\n",
    "DonorsChoose.org receives hundreds of thousands of project proposals each year for classroom projects in need of funding. Right now, a large number of volunteers is needed to manually screen each submission before it's approved to be posted on the DonorsChoose.org website.\n",
    "</p>\n",
    "<p>\n",
    "    Next year, DonorsChoose.org expects to receive close to 500,000 project proposals. As a result, there are three main problems they need to solve:\n",
    "<ul>\n",
    "<li>\n",
    "    How to scale current manual processes and resources to screen 500,000 projects so that they can be posted as quickly and as efficiently as possible</li>\n",
    "    <li>How to increase the consistency of project vetting across different volunteers to improve the experience for teachers</li>\n",
    "    <li>How to focus volunteer time on the applications that need the most assistance</li>\n",
    "    </ul>\n",
    "</p>    \n",
    "<p>\n",
    "The goal of the competition is to predict whether or not a DonorsChoose.org project proposal submitted by a teacher will be approved, using the text of project descriptions as well as additional metadata about the project, teacher, and school. DonorsChoose.org can then use this information to identify projects most likely to need further review before approval.\n",
    "</p>"
   ]
  },
  {
   "cell_type": "markdown",
   "metadata": {
    "colab_type": "text",
    "id": "keOckW8PN1Li"
   },
   "source": [
    "## About the DonorsChoose Data Set\n",
    "\n",
    "The `train.csv` data set provided by DonorsChoose contains the following features:\n",
    "\n",
    "Feature | Description \n",
    "----------|---------------\n",
    "**`project_id`** | A unique identifier for the proposed project. **Example:** `p036502`   \n",
    "**`project_title`**    | Title of the project. **Examples:**<br><ul><li><code>Art Will Make You Happy!</code></li><li><code>First Grade Fun</code></li></ul> \n",
    "**`project_grade_category`** | Grade level of students for which the project is targeted. One of the following enumerated values: <br/><ul><li><code>Grades PreK-2</code></li><li><code>Grades 3-5</code></li><li><code>Grades 6-8</code></li><li><code>Grades 9-12</code></li></ul>  \n",
    " **`project_subject_categories`** | One or more (comma-separated) subject categories for the project from the following enumerated list of values:  <br/><ul><li><code>Applied Learning</code></li><li><code>Care &amp; Hunger</code></li><li><code>Health &amp; Sports</code></li><li><code>History &amp; Civics</code></li><li><code>Literacy &amp; Language</code></li><li><code>Math &amp; Science</code></li><li><code>Music &amp; The Arts</code></li><li><code>Special Needs</code></li><li><code>Warmth</code></li></ul><br/> **Examples:** <br/><ul><li><code>Music &amp; The Arts</code></li><li><code>Literacy &amp; Language, Math &amp; Science</code></li>  \n",
    "  **`school_state`** | State where school is located ([Two-letter U.S. postal code](https://en.wikipedia.org/wiki/List_of_U.S._state_abbreviations#Postal_codes)). **Example:** `WY`\n",
    "**`project_subject_subcategories`** | One or more (comma-separated) subject subcategories for the project. **Examples:** <br/><ul><li><code>Literacy</code></li><li><code>Literature &amp; Writing, Social Sciences</code></li></ul> \n",
    "**`project_resource_summary`** | An explanation of the resources needed for the project. **Example:** <br/><ul><li><code>My students need hands on literacy materials to manage sensory needs!</code</li></ul> \n",
    "**`project_essay_1`**    | First application essay<sup>*</sup>  \n",
    "**`project_essay_2`**    | Second application essay<sup>*</sup> \n",
    "**`project_essay_3`**    | Third application essay<sup>*</sup> \n",
    "**`project_essay_4`**    | Fourth application essay<sup>*</sup> \n",
    "**`project_submitted_datetime`** | Datetime when project application was submitted. **Example:** `2016-04-28 12:43:56.245`   \n",
    "**`teacher_id`** | A unique identifier for the teacher of the proposed project. **Example:** `bdf8baa8fedef6bfeec7ae4ff1c15c56`  \n",
    "**`teacher_prefix`** | Teacher's title. One of the following enumerated values: <br/><ul><li><code>nan</code></li><li><code>Dr.</code></li><li><code>Mr.</code></li><li><code>Mrs.</code></li><li><code>Ms.</code></li><li><code>Teacher.</code></li></ul>  \n",
    "**`teacher_number_of_previously_posted_projects`** | Number of project applications previously submitted by the same teacher. **Example:** `2` \n",
    "\n",
    "<sup>*</sup> See the section <b>Notes on the Essay Data</b> for more details about these features.\n",
    "\n",
    "Additionally, the `resources.csv` data set provides more data about the resources required for each project. Each line in this file represents a resource required by a project:\n",
    "\n",
    "Feature | Description \n",
    "----------|---------------\n",
    "**`id`** | A `project_id` value from the `train.csv` file.  **Example:** `p036502`   \n",
    "**`description`** | Desciption of the resource. **Example:** `Tenor Saxophone Reeds, Box of 25`   \n",
    "**`quantity`** | Quantity of the resource required. **Example:** `3`   \n",
    "**`price`** | Price of the resource required. **Example:** `9.95`   \n",
    "\n",
    "**Note:** Many projects require multiple resources. The `id` value corresponds to a `project_id` in train.csv, so you use it as a key to retrieve all resources needed for a project:\n",
    "\n",
    "The data set contains the following label (the value you will attempt to predict):\n",
    "\n",
    "Label | Description\n",
    "----------|---------------\n",
    "`project_is_approved` | A binary flag indicating whether DonorsChoose approved the project. A value of `0` indicates the project was not approved, and a value of `1` indicates the project was approved."
   ]
  },
  {
   "cell_type": "markdown",
   "metadata": {
    "colab_type": "text",
    "id": "uxakXcmGN1Lj"
   },
   "source": [
    "### Notes on the Essay Data\n",
    "\n",
    "<ul>\n",
    "Prior to May 17, 2016, the prompts for the essays were as follows:\n",
    "<li>__project_essay_1:__ \"Introduce us to your classroom\"</li>\n",
    "<li>__project_essay_2:__ \"Tell us more about your students\"</li>\n",
    "<li>__project_essay_3:__ \"Describe how your students will use the materials you're requesting\"</li>\n",
    "<li>__project_essay_3:__ \"Close by sharing why your project will make a difference\"</li>\n",
    "</ul>\n",
    "\n",
    "\n",
    "<ul>\n",
    "Starting on May 17, 2016, the number of essays was reduced from 4 to 2, and the prompts for the first 2 essays were changed to the following:<br>\n",
    "<li>__project_essay_1:__ \"Describe your students: What makes your students special? Specific details about their background, your neighborhood, and your school are all helpful.\"</li>\n",
    "<li>__project_essay_2:__ \"About your project: How will these materials make a difference in your students' learning and improve their school lives?\"</li>\n",
    "<br>For all projects with project_submitted_datetime of 2016-05-17 and later, the values of project_essay_3 and project_essay_4 will be NaN.\n",
    "</ul>\n"
   ]
  },
  {
   "cell_type": "code",
   "execution_count": 77,
   "metadata": {
    "ExecuteTime": {
     "end_time": "2019-09-25T10:04:55.851512Z",
     "start_time": "2019-09-25T10:04:55.812484Z"
    },
    "colab": {},
    "colab_type": "code",
    "id": "Ac3XhloUN1Ll",
    "outputId": "85b85465-2d9f-4fc0-980a-b36834b07c96"
   },
   "outputs": [],
   "source": [
    "%matplotlib inline\n",
    "import warnings\n",
    "warnings.filterwarnings(\"ignore\")\n",
    "\n",
    "import sqlite3\n",
    "import pandas as pd\n",
    "import numpy as np\n",
    "import nltk\n",
    "import string\n",
    "import matplotlib.pyplot as plt\n",
    "import seaborn as sns\n",
    "from sklearn.feature_extraction.text import TfidfTransformer\n",
    "from sklearn.feature_extraction.text import TfidfVectorizer\n",
    "\n",
    "from sklearn.feature_extraction.text import CountVectorizer\n",
    "from sklearn.metrics import confusion_matrix\n",
    "from sklearn import metrics\n",
    "from sklearn.metrics import roc_curve, auc\n",
    "from nltk.stem.porter import PorterStemmer\n",
    "\n",
    "import re\n",
    "# Tutorial about Python regular expressions: https://pymotw.com/2/re/\n",
    "import string\n",
    "from nltk.corpus import stopwords\n",
    "from nltk.stem import PorterStemmer\n",
    "from nltk.stem.wordnet import WordNetLemmatizer\n",
    "\n",
    "from gensim.models import Word2Vec\n",
    "from gensim.models import KeyedVectors\n",
    "import pickle\n",
    "\n",
    "from tqdm import tqdm\n",
    "import os\n",
    "\n",
    "from collections import Counter"
   ]
  },
  {
   "cell_type": "markdown",
   "metadata": {
    "colab_type": "text",
    "id": "So4PAGWPN1Lv"
   },
   "source": [
    "## 1.1 Reading Data"
   ]
  },
  {
   "cell_type": "code",
   "execution_count": 78,
   "metadata": {
    "ExecuteTime": {
     "end_time": "2019-09-25T10:05:03.420657Z",
     "start_time": "2019-09-25T10:04:55.857518Z"
    },
    "colab": {},
    "colab_type": "code",
    "id": "kV1VkghZN1Lw"
   },
   "outputs": [],
   "source": [
    "project_data = pd.read_csv('train_data.csv',nrows=50000)\n",
    "resource_data = pd.read_csv('resources.csv')"
   ]
  },
  {
   "cell_type": "code",
   "execution_count": 79,
   "metadata": {
    "ExecuteTime": {
     "end_time": "2019-09-25T10:05:03.475696Z",
     "start_time": "2019-09-25T10:05:03.430665Z"
    },
    "colab": {},
    "colab_type": "code",
    "id": "2XZKpv2zN1L0",
    "outputId": "8f6e9329-73c0-46a1-dcd3-cfbb1ebae005"
   },
   "outputs": [
    {
     "name": "stdout",
     "output_type": "stream",
     "text": [
      "Number of data points in train data (50000, 17)\n",
      "--------------------------------------------------\n",
      "The attributes of data : ['Unnamed: 0' 'id' 'teacher_id' 'teacher_prefix' 'school_state'\n",
      " 'project_submitted_datetime' 'project_grade_category'\n",
      " 'project_subject_categories' 'project_subject_subcategories'\n",
      " 'project_title' 'project_essay_1' 'project_essay_2' 'project_essay_3'\n",
      " 'project_essay_4' 'project_resource_summary'\n",
      " 'teacher_number_of_previously_posted_projects' 'project_is_approved']\n"
     ]
    }
   ],
   "source": [
    "print(\"Number of data points in train data\", project_data.shape)\n",
    "print('-'*50)\n",
    "print(\"The attributes of data :\", project_data.columns.values)"
   ]
  },
  {
   "cell_type": "code",
   "execution_count": 80,
   "metadata": {
    "ExecuteTime": {
     "end_time": "2019-09-25T10:05:04.188367Z",
     "start_time": "2019-09-25T10:05:03.482702Z"
    },
    "colab": {},
    "colab_type": "code",
    "id": "56EW1wdvN1L5",
    "outputId": "bb0af8a7-834e-42ea-afcb-492b1e14d4df"
   },
   "outputs": [
    {
     "name": "stdout",
     "output_type": "stream",
     "text": [
      "Number of data points in train data (1541272, 4)\n",
      "['id' 'description' 'quantity' 'price']\n"
     ]
    },
    {
     "data": {
      "text/html": [
       "<div>\n",
       "<style scoped>\n",
       "    .dataframe tbody tr th:only-of-type {\n",
       "        vertical-align: middle;\n",
       "    }\n",
       "\n",
       "    .dataframe tbody tr th {\n",
       "        vertical-align: top;\n",
       "    }\n",
       "\n",
       "    .dataframe thead th {\n",
       "        text-align: right;\n",
       "    }\n",
       "</style>\n",
       "<table border=\"1\" class=\"dataframe\">\n",
       "  <thead>\n",
       "    <tr style=\"text-align: right;\">\n",
       "      <th></th>\n",
       "      <th>id</th>\n",
       "      <th>description</th>\n",
       "      <th>quantity</th>\n",
       "      <th>price</th>\n",
       "    </tr>\n",
       "  </thead>\n",
       "  <tbody>\n",
       "    <tr>\n",
       "      <th>0</th>\n",
       "      <td>p233245</td>\n",
       "      <td>LC652 - Lakeshore Double-Space Mobile Drying Rack</td>\n",
       "      <td>1</td>\n",
       "      <td>149.00</td>\n",
       "    </tr>\n",
       "    <tr>\n",
       "      <th>1</th>\n",
       "      <td>p069063</td>\n",
       "      <td>Bouncy Bands for Desks (Blue support pipes)</td>\n",
       "      <td>3</td>\n",
       "      <td>14.95</td>\n",
       "    </tr>\n",
       "  </tbody>\n",
       "</table>\n",
       "</div>"
      ],
      "text/plain": [
       "        id                                        description  quantity  \\\n",
       "0  p233245  LC652 - Lakeshore Double-Space Mobile Drying Rack         1   \n",
       "1  p069063        Bouncy Bands for Desks (Blue support pipes)         3   \n",
       "\n",
       "    price  \n",
       "0  149.00  \n",
       "1   14.95  "
      ]
     },
     "execution_count": 80,
     "metadata": {},
     "output_type": "execute_result"
    }
   ],
   "source": [
    "print(\"Number of data points in train data\", resource_data.shape)\n",
    "print(resource_data.columns.values)\n",
    "resource_data.head(2)"
   ]
  },
  {
   "cell_type": "markdown",
   "metadata": {
    "colab_type": "text",
    "id": "49t2H2HwN1L8"
   },
   "source": [
    "## 1.2 preprocessing of `project_subject_categories`"
   ]
  },
  {
   "cell_type": "code",
   "execution_count": 81,
   "metadata": {
    "ExecuteTime": {
     "end_time": "2019-09-25T10:05:05.452540Z",
     "start_time": "2019-09-25T10:05:04.200377Z"
    },
    "colab": {},
    "colab_type": "code",
    "id": "RMx6975eN1L-"
   },
   "outputs": [],
   "source": [
    "catogories = list(project_data['project_subject_categories'].values)\n",
    "# remove special characters from list of strings python: https://stackoverflow.com/a/47301924/4084039\n",
    "\n",
    "# https://www.geeksforgeeks.org/removing-stop-words-nltk-python/\n",
    "# https://stackoverflow.com/questions/23669024/how-to-strip-a-specific-word-from-a-string\n",
    "# https://stackoverflow.com/questions/8270092/remove-all-whitespace-in-a-string-in-python\n",
    "cat_list = []\n",
    "for i in catogories:\n",
    "    temp = \"\"\n",
    "    # consider we have text like this \"Math & Science, Warmth, Care & Hunger\"\n",
    "    for j in i.split(','): # it will split it in three parts [\"Math & Science\", \"Warmth\", \"Care & Hunger\"]\n",
    "        if 'The' in j.split(): # this will split each of the catogory based on space \"Math & Science\"=> \"Math\",\"&\", \"Science\"\n",
    "            j=j.replace('The','') # if we have the words \"The\" we are going to replace it with ''(i.e removing 'The')\n",
    "        j = j.replace(' ','') # we are placeing all the ' '(space) with ''(empty) ex:\"Math & Science\"=>\"Math&Science\"\n",
    "        temp+=j.strip()+\" \" #\" abc \".strip() will return \"abc\", remove the trailing spaces\n",
    "        temp = temp.replace('&','_') # we are replacing the & value into \n",
    "    cat_list.append(temp.strip())\n",
    "    \n",
    "project_data['clean_categories'] = cat_list\n",
    "project_data.drop(['project_subject_categories'], axis=1, inplace=True)\n",
    "\n",
    "from collections import Counter\n",
    "my_counter = Counter()\n",
    "for word in project_data['clean_categories'].values:\n",
    "    my_counter.update(word.split())\n",
    "\n",
    "cat_dict = dict(my_counter)\n",
    "sorted_cat_dict = dict(sorted(cat_dict.items(), key=lambda kv: kv[1]))\n"
   ]
  },
  {
   "cell_type": "markdown",
   "metadata": {
    "colab_type": "text",
    "id": "hIRe9h-PN1MB"
   },
   "source": [
    "## 1.3 preprocessing of `project_subject_subcategories`"
   ]
  },
  {
   "cell_type": "code",
   "execution_count": 82,
   "metadata": {
    "ExecuteTime": {
     "end_time": "2019-09-25T10:05:06.287770Z",
     "start_time": "2019-09-25T10:05:05.456541Z"
    },
    "colab": {},
    "colab_type": "code",
    "id": "KH655NiTN1MD"
   },
   "outputs": [],
   "source": [
    "sub_catogories = list(project_data['project_subject_subcategories'].values)\n",
    "# remove special characters from list of strings python: https://stackoverflow.com/a/47301924/4084039\n",
    "\n",
    "# https://www.geeksforgeeks.org/removing-stop-words-nltk-python/\n",
    "# https://stackoverflow.com/questions/23669024/how-to-strip-a-specific-word-from-a-string\n",
    "# https://stackoverflow.com/questions/8270092/remove-all-whitespace-in-a-string-in-python\n",
    "\n",
    "sub_cat_list = []\n",
    "for i in sub_catogories:\n",
    "    temp = \"\"\n",
    "    # consider we have text like this \"Math & Science, Warmth, Care & Hunger\"\n",
    "    for j in i.split(','): # it will split it in three parts [\"Math & Science\", \"Warmth\", \"Care & Hunger\"]\n",
    "        if 'The' in j.split(): # this will split each of the catogory based on space \"Math & Science\"=> \"Math\",\"&\", \"Science\"\n",
    "            j=j.replace('The','') # if we have the words \"The\" we are going to replace it with ''(i.e removing 'The')\n",
    "        j = j.replace(' ','') # we are placeing all the ' '(space) with ''(empty) ex:\"Math & Science\"=>\"Math&Science\"\n",
    "        temp +=j.strip()+\" \"#\" abc \".strip() will return \"abc\", remove the trailing spaces\n",
    "        temp = temp.replace('&','_')\n",
    "    sub_cat_list.append(temp.strip())\n",
    "\n",
    "project_data['clean_subcategories'] = sub_cat_list\n",
    "project_data.drop(['project_subject_subcategories'], axis=1, inplace=True)\n",
    "\n",
    "# count of all the words in corpus python: https://stackoverflow.com/a/22898595/4084039\n",
    "my_counter = Counter()\n",
    "for word in project_data['clean_subcategories'].values:\n",
    "    my_counter.update(word.split())\n",
    "    \n",
    "sub_cat_dict = dict(my_counter)\n",
    "sorted_sub_cat_dict = dict(sorted(sub_cat_dict.items(), key=lambda kv: kv[1]))"
   ]
  },
  {
   "cell_type": "markdown",
   "metadata": {
    "colab_type": "text",
    "id": "EftBxw8MN1MG"
   },
   "source": [
    "## 1.3 Text preprocessing"
   ]
  },
  {
   "cell_type": "code",
   "execution_count": 83,
   "metadata": {
    "ExecuteTime": {
     "end_time": "2019-09-25T10:05:08.604369Z",
     "start_time": "2019-09-25T10:05:06.300765Z"
    },
    "colab": {},
    "colab_type": "code",
    "id": "Ak4yp4twN1MH"
   },
   "outputs": [],
   "source": [
    "# merge two column text dataframe: \n",
    "project_data[\"essay\"] = project_data[\"project_essay_1\"].map(str) +\\\n",
    "                        project_data[\"project_essay_2\"].map(str) + \\\n",
    "                        project_data[\"project_essay_3\"].map(str) + \\\n",
    "                        project_data[\"project_essay_4\"].map(str)"
   ]
  },
  {
   "cell_type": "code",
   "execution_count": 84,
   "metadata": {
    "ExecuteTime": {
     "end_time": "2019-09-25T10:05:08.859123Z",
     "start_time": "2019-09-25T10:05:08.613947Z"
    },
    "colab": {},
    "colab_type": "code",
    "id": "q6ST72vNN1MK",
    "outputId": "4ecd7ed3-86c5-48b9-9f4d-2ba8be3237c3"
   },
   "outputs": [
    {
     "data": {
      "text/html": [
       "<div>\n",
       "<style scoped>\n",
       "    .dataframe tbody tr th:only-of-type {\n",
       "        vertical-align: middle;\n",
       "    }\n",
       "\n",
       "    .dataframe tbody tr th {\n",
       "        vertical-align: top;\n",
       "    }\n",
       "\n",
       "    .dataframe thead th {\n",
       "        text-align: right;\n",
       "    }\n",
       "</style>\n",
       "<table border=\"1\" class=\"dataframe\">\n",
       "  <thead>\n",
       "    <tr style=\"text-align: right;\">\n",
       "      <th></th>\n",
       "      <th>Unnamed: 0</th>\n",
       "      <th>id</th>\n",
       "      <th>teacher_id</th>\n",
       "      <th>teacher_prefix</th>\n",
       "      <th>school_state</th>\n",
       "      <th>project_submitted_datetime</th>\n",
       "      <th>project_grade_category</th>\n",
       "      <th>project_title</th>\n",
       "      <th>project_essay_1</th>\n",
       "      <th>project_essay_2</th>\n",
       "      <th>project_essay_3</th>\n",
       "      <th>project_essay_4</th>\n",
       "      <th>project_resource_summary</th>\n",
       "      <th>teacher_number_of_previously_posted_projects</th>\n",
       "      <th>project_is_approved</th>\n",
       "      <th>clean_categories</th>\n",
       "      <th>clean_subcategories</th>\n",
       "      <th>essay</th>\n",
       "    </tr>\n",
       "  </thead>\n",
       "  <tbody>\n",
       "    <tr>\n",
       "      <th>0</th>\n",
       "      <td>160221</td>\n",
       "      <td>p253737</td>\n",
       "      <td>c90749f5d961ff158d4b4d1e7dc665fc</td>\n",
       "      <td>Mrs.</td>\n",
       "      <td>IN</td>\n",
       "      <td>2016-12-05 13:43:57</td>\n",
       "      <td>Grades PreK-2</td>\n",
       "      <td>Educational Support for English Learners at Home</td>\n",
       "      <td>My students are English learners that are work...</td>\n",
       "      <td>\\\"The limits of your language are the limits o...</td>\n",
       "      <td>NaN</td>\n",
       "      <td>NaN</td>\n",
       "      <td>My students need opportunities to practice beg...</td>\n",
       "      <td>0</td>\n",
       "      <td>0</td>\n",
       "      <td>Literacy_Language</td>\n",
       "      <td>ESL Literacy</td>\n",
       "      <td>My students are English learners that are work...</td>\n",
       "    </tr>\n",
       "    <tr>\n",
       "      <th>1</th>\n",
       "      <td>140945</td>\n",
       "      <td>p258326</td>\n",
       "      <td>897464ce9ddc600bced1151f324dd63a</td>\n",
       "      <td>Mr.</td>\n",
       "      <td>FL</td>\n",
       "      <td>2016-10-25 09:22:10</td>\n",
       "      <td>Grades 6-8</td>\n",
       "      <td>Wanted: Projector for Hungry Learners</td>\n",
       "      <td>Our students arrive to our school eager to lea...</td>\n",
       "      <td>The projector we need for our school is very c...</td>\n",
       "      <td>NaN</td>\n",
       "      <td>NaN</td>\n",
       "      <td>My students need a projector to help with view...</td>\n",
       "      <td>7</td>\n",
       "      <td>1</td>\n",
       "      <td>History_Civics Health_Sports</td>\n",
       "      <td>Civics_Government TeamSports</td>\n",
       "      <td>Our students arrive to our school eager to lea...</td>\n",
       "    </tr>\n",
       "  </tbody>\n",
       "</table>\n",
       "</div>"
      ],
      "text/plain": [
       "   Unnamed: 0       id                        teacher_id teacher_prefix  \\\n",
       "0      160221  p253737  c90749f5d961ff158d4b4d1e7dc665fc           Mrs.   \n",
       "1      140945  p258326  897464ce9ddc600bced1151f324dd63a            Mr.   \n",
       "\n",
       "  school_state project_submitted_datetime project_grade_category  \\\n",
       "0           IN        2016-12-05 13:43:57          Grades PreK-2   \n",
       "1           FL        2016-10-25 09:22:10             Grades 6-8   \n",
       "\n",
       "                                      project_title  \\\n",
       "0  Educational Support for English Learners at Home   \n",
       "1             Wanted: Projector for Hungry Learners   \n",
       "\n",
       "                                     project_essay_1  \\\n",
       "0  My students are English learners that are work...   \n",
       "1  Our students arrive to our school eager to lea...   \n",
       "\n",
       "                                     project_essay_2 project_essay_3  \\\n",
       "0  \\\"The limits of your language are the limits o...             NaN   \n",
       "1  The projector we need for our school is very c...             NaN   \n",
       "\n",
       "  project_essay_4                           project_resource_summary  \\\n",
       "0             NaN  My students need opportunities to practice beg...   \n",
       "1             NaN  My students need a projector to help with view...   \n",
       "\n",
       "   teacher_number_of_previously_posted_projects  project_is_approved  \\\n",
       "0                                             0                    0   \n",
       "1                                             7                    1   \n",
       "\n",
       "               clean_categories           clean_subcategories  \\\n",
       "0             Literacy_Language                  ESL Literacy   \n",
       "1  History_Civics Health_Sports  Civics_Government TeamSports   \n",
       "\n",
       "                                               essay  \n",
       "0  My students are English learners that are work...  \n",
       "1  Our students arrive to our school eager to lea...  "
      ]
     },
     "execution_count": 84,
     "metadata": {},
     "output_type": "execute_result"
    }
   ],
   "source": [
    "project_data.head(2)"
   ]
  },
  {
   "cell_type": "code",
   "execution_count": 85,
   "metadata": {
    "ExecuteTime": {
     "end_time": "2019-09-25T10:05:10.250586Z",
     "start_time": "2019-09-25T10:05:08.873134Z"
    },
    "colab": {},
    "colab_type": "code",
    "id": "N3wBpH8dN1MP"
   },
   "outputs": [],
   "source": [
    "#### 1.4.2.3 Using Pretrained Models: TFIDF weighted W2V"
   ]
  },
  {
   "cell_type": "code",
   "execution_count": 86,
   "metadata": {
    "ExecuteTime": {
     "end_time": "2019-09-25T10:05:11.599305Z",
     "start_time": "2019-09-25T10:05:10.255587Z"
    },
    "colab": {},
    "colab_type": "code",
    "id": "3e3HbKghN1MS",
    "outputId": "705fc20a-f98d-48f1-bc54-8a333b01c034"
   },
   "outputs": [
    {
     "name": "stdout",
     "output_type": "stream",
     "text": [
      "My students are English learners that are working on English as their second or third languages. We are a melting pot of refugees, immigrants, and native-born Americans bringing the gift of language to our school. \\r\\n\\r\\n We have over 24 languages represented in our English Learner program with students at every level of mastery.  We also have over 40 countries represented with the families within our school.  Each student brings a wealth of knowledge and experiences to us that open our eyes to new cultures, beliefs, and respect.\\\"The limits of your language are the limits of your world.\\\"-Ludwig Wittgenstein  Our English learner's have a strong support system at home that begs for more resources.  Many times our parents are learning to read and speak English along side of their children.  Sometimes this creates barriers for parents to be able to help their child learn phonetics, letter recognition, and other reading skills.\\r\\n\\r\\nBy providing these dvd's and players, students are able to continue their mastery of the English language even if no one at home is able to assist.  All families with students within the Level 1 proficiency status, will be a offered to be a part of this program.  These educational videos will be specially chosen by the English Learner Teacher and will be sent home regularly to watch.  The videos are to help the child develop early reading skills.\\r\\n\\r\\nParents that do not have access to a dvd player will have the opportunity to check out a dvd player to use for the year.  The plan is to use these videos and educational dvd's for the years to come for other EL students.\\r\\nnannan\n",
      "==================================================\n",
      "The 51 fifth grade students that will cycle through my classroom this year all love learning, at least most of the time. At our school, 97.3% of the students receive free or reduced price lunch. Of the 560 students, 97.3% are minority students. \\r\\nThe school has a vibrant community that loves to get together and celebrate. Around Halloween there is a whole school parade to show off the beautiful costumes that students wear. On Cinco de Mayo we put on a big festival with crafts made by the students, dances, and games. At the end of the year the school hosts a carnival to celebrate the hard work put in during the school year, with a dunk tank being the most popular activity.My students will use these five brightly colored Hokki stools in place of regular, stationary, 4-legged chairs. As I will only have a total of ten in the classroom and not enough for each student to have an individual one, they will be used in a variety of ways. During independent reading time they will be used as special chairs students will each use on occasion. I will utilize them in place of chairs at my small group tables during math and reading times. The rest of the day they will be used by the students who need the highest amount of movement in their life in order to stay focused on school.\\r\\n\\r\\nWhenever asked what the classroom is missing, my students always say more Hokki Stools. They can't get their fill of the 5 stools we already have. When the students are sitting in group with me on the Hokki Stools, they are always moving, but at the same time doing their work. Anytime the students get to pick where they can sit, the Hokki Stools are the first to be taken. There are always students who head over to the kidney table to get one of the stools who are disappointed as there are not enough of them. \\r\\n\\r\\nWe ask a lot of students to sit for 7 hours a day. The Hokki stools will be a compromise that allow my students to do desk work and move at the same time. These stools will help students to meet their 60 minutes a day of movement by allowing them to activate their core muscles for balance while they sit. For many of my students, these chairs will take away the barrier that exists in schools for a child who can't sit still.nannan\n",
      "==================================================\n",
      "How do you remember your days of school? Was it in a sterile environment with plain walls, rows of desks, and a teacher in front of the room? A typical day in our room is nothing like that. I work hard to create a warm inviting themed room for my students look forward to coming to each day.\\r\\n\\r\\nMy class is made up of 28 wonderfully unique boys and girls of mixed races in Arkansas.\\r\\nThey attend a Title I school, which means there is a high enough percentage of free and reduced-price lunch to qualify. Our school is an \\\"open classroom\\\" concept, which is very unique as there are no walls separating the classrooms. These 9 and 10 year-old students are very eager learners; they are like sponges, absorbing all the information and experiences and keep on wanting more.With these resources such as the comfy red throw pillows and the whimsical nautical hanging decor and the blue fish nets, I will be able to help create the mood in our classroom setting to be one of a themed nautical environment. Creating a classroom environment is very important in the success in each and every child's education. The nautical photo props will be used with each child as they step foot into our classroom for the first time on Meet the Teacher evening. I'll take pictures of each child with them, have them developed, and then hung in our classroom ready for their first day of 4th grade.  This kind gesture will set the tone before even the first day of school! The nautical thank you cards will be used throughout the year by the students as they create thank you cards to their team groups.\\r\\n\\r\\nYour generous donations will help me to help make our classroom a fun, inviting, learning environment from day one.\\r\\n\\r\\nIt costs lost of money out of my own pocket on resources to get our classroom ready. Please consider helping with this project to make our new school year a very successful one. Thank you!nannan\n",
      "==================================================\n",
      "My kindergarten students have varied disabilities ranging from speech and language delays, cognitive delays, gross/fine motor delays, to autism. They are eager beavers and always strive to work their hardest working past their limitations. \\r\\n\\r\\nThe materials we have are the ones I seek out for my students. I teach in a Title I school where most of the students receive free or reduced price lunch.  Despite their disabilities and limitations, my students love coming to school and come eager to learn and explore.Have you ever felt like you had ants in your pants and you needed to groove and move as you were in a meeting? This is how my kids feel all the time. The want to be able to move as they learn or so they say.Wobble chairs are the answer and I love then because they develop their core, which enhances gross motor and in Turn fine motor skills. \\r\\nThey also want to learn through games, my kids don't want to sit and do worksheets. They want to learn to count by jumping and playing. Physical engagement is the key to our success. The number toss and color and shape mats can make that happen. My students will forget they are doing work and just have the fun a 6 year old deserves.nannan\n",
      "==================================================\n"
     ]
    }
   ],
   "source": [
    "# printing some random reviews\n",
    "print(project_data['essay'].values[0])\n",
    "print(\"=\"*50)\n",
    "print(project_data['essay'].values[150])\n",
    "print(\"=\"*50)\n",
    "print(project_data['essay'].values[1000])\n",
    "print(\"=\"*50)\n",
    "print(project_data['essay'].values[20000])\n",
    "print(\"=\"*50)"
   ]
  },
  {
   "cell_type": "code",
   "execution_count": 87,
   "metadata": {
    "ExecuteTime": {
     "end_time": "2019-09-25T10:05:12.301086Z",
     "start_time": "2019-09-25T10:05:11.611312Z"
    },
    "colab": {},
    "colab_type": "code",
    "id": "1nYsCeFCN1MW"
   },
   "outputs": [],
   "source": [
    "# https://stackoverflow.com/a/47091490/4084039\n",
    "import re\n",
    "\n",
    "def decontracted(phrase):\n",
    "    # specific\n",
    "    phrase = re.sub(r\"won't\", \"will not\", phrase)\n",
    "    phrase = re.sub(r\"can\\'t\", \"can not\", phrase)\n",
    "\n",
    "    # general\n",
    "    phrase = re.sub(r\"n\\'t\", \" not\", phrase)\n",
    "    phrase = re.sub(r\"\\'re\", \" are\", phrase)\n",
    "    phrase = re.sub(r\"\\'s\", \" is\", phrase)\n",
    "    phrase = re.sub(r\"\\'d\", \" would\", phrase)\n",
    "    phrase = re.sub(r\"\\'ll\", \" will\", phrase)\n",
    "    phrase = re.sub(r\"\\'t\", \" not\", phrase)\n",
    "    phrase = re.sub(r\"\\'ve\", \" have\", phrase)\n",
    "    phrase = re.sub(r\"\\'m\", \" am\", phrase)\n",
    "    return phrase"
   ]
  },
  {
   "cell_type": "code",
   "execution_count": 88,
   "metadata": {
    "ExecuteTime": {
     "end_time": "2019-09-25T10:05:12.998056Z",
     "start_time": "2019-09-25T10:05:12.311098Z"
    },
    "colab": {},
    "colab_type": "code",
    "id": "qIr2zr3mN1MZ",
    "outputId": "504b60cc-a606-483d-dfd2-443cc3a1cc76"
   },
   "outputs": [
    {
     "name": "stdout",
     "output_type": "stream",
     "text": [
      "My kindergarten students have varied disabilities ranging from speech and language delays, cognitive delays, gross/fine motor delays, to autism. They are eager beavers and always strive to work their hardest working past their limitations. \\r\\n\\r\\nThe materials we have are the ones I seek out for my students. I teach in a Title I school where most of the students receive free or reduced price lunch.  Despite their disabilities and limitations, my students love coming to school and come eager to learn and explore.Have you ever felt like you had ants in your pants and you needed to groove and move as you were in a meeting? This is how my kids feel all the time. The want to be able to move as they learn or so they say.Wobble chairs are the answer and I love then because they develop their core, which enhances gross motor and in Turn fine motor skills. \\r\\nThey also want to learn through games, my kids do not want to sit and do worksheets. They want to learn to count by jumping and playing. Physical engagement is the key to our success. The number toss and color and shape mats can make that happen. My students will forget they are doing work and just have the fun a 6 year old deserves.nannan\n",
      "==================================================\n"
     ]
    }
   ],
   "source": [
    "sent = decontracted(project_data['essay'].values[20000])\n",
    "print(sent)\n",
    "print(\"=\"*50)"
   ]
  },
  {
   "cell_type": "code",
   "execution_count": 89,
   "metadata": {
    "ExecuteTime": {
     "end_time": "2019-09-25T10:05:13.320511Z",
     "start_time": "2019-09-25T10:05:13.017069Z"
    },
    "colab": {},
    "colab_type": "code",
    "id": "QybPh11vN1Md",
    "outputId": "2c4c7225-d387-4d5c-b9dc-130a88536392"
   },
   "outputs": [
    {
     "name": "stdout",
     "output_type": "stream",
     "text": [
      "My kindergarten students have varied disabilities ranging from speech and language delays, cognitive delays, gross/fine motor delays, to autism. They are eager beavers and always strive to work their hardest working past their limitations.     The materials we have are the ones I seek out for my students. I teach in a Title I school where most of the students receive free or reduced price lunch.  Despite their disabilities and limitations, my students love coming to school and come eager to learn and explore.Have you ever felt like you had ants in your pants and you needed to groove and move as you were in a meeting? This is how my kids feel all the time. The want to be able to move as they learn or so they say.Wobble chairs are the answer and I love then because they develop their core, which enhances gross motor and in Turn fine motor skills.   They also want to learn through games, my kids do not want to sit and do worksheets. They want to learn to count by jumping and playing. Physical engagement is the key to our success. The number toss and color and shape mats can make that happen. My students will forget they are doing work and just have the fun a 6 year old deserves.nannan\n"
     ]
    }
   ],
   "source": [
    "# \\r \\n \\t remove from string python: http://texthandler.com/info/remove-line-breaks-python/\n",
    "sent = sent.replace('\\\\r', ' ')\n",
    "sent = sent.replace('\\\\\"', ' ')\n",
    "sent = sent.replace('\\\\n', ' ')\n",
    "print(sent)"
   ]
  },
  {
   "cell_type": "code",
   "execution_count": 90,
   "metadata": {
    "ExecuteTime": {
     "end_time": "2019-09-25T10:05:13.931144Z",
     "start_time": "2019-09-25T10:05:13.324513Z"
    },
    "colab": {},
    "colab_type": "code",
    "id": "irL9f3wBN1Mj",
    "outputId": "355ba527-c3b1-40dd-de66-1df4094f264f"
   },
   "outputs": [
    {
     "name": "stdout",
     "output_type": "stream",
     "text": [
      "My kindergarten students have varied disabilities ranging from speech and language delays cognitive delays gross fine motor delays to autism They are eager beavers and always strive to work their hardest working past their limitations The materials we have are the ones I seek out for my students I teach in a Title I school where most of the students receive free or reduced price lunch Despite their disabilities and limitations my students love coming to school and come eager to learn and explore Have you ever felt like you had ants in your pants and you needed to groove and move as you were in a meeting This is how my kids feel all the time The want to be able to move as they learn or so they say Wobble chairs are the answer and I love then because they develop their core which enhances gross motor and in Turn fine motor skills They also want to learn through games my kids do not want to sit and do worksheets They want to learn to count by jumping and playing Physical engagement is the key to our success The number toss and color and shape mats can make that happen My students will forget they are doing work and just have the fun a 6 year old deserves nannan\n"
     ]
    }
   ],
   "source": [
    "#remove spacial character: https://stackoverflow.com/a/5843547/4084039\n",
    "sent = re.sub('[^A-Za-z0-9]+', ' ', sent)\n",
    "print(sent)"
   ]
  },
  {
   "cell_type": "code",
   "execution_count": 91,
   "metadata": {
    "ExecuteTime": {
     "end_time": "2019-09-25T10:05:14.490297Z",
     "start_time": "2019-09-25T10:05:13.940149Z"
    },
    "colab": {},
    "colab_type": "code",
    "id": "mOBm8phKN1Mp"
   },
   "outputs": [],
   "source": [
    "# https://gist.github.com/sebleier/554280\n",
    "# we are removing the words from the stop words list: 'no', 'nor', 'not'\n",
    "stopwords= ['i', 'me', 'my', 'myself', 'we', 'our', 'ours', 'ourselves', 'you', \"you're\", \"you've\",\\\n",
    "            \"you'll\", \"you'd\", 'your', 'yours', 'yourself', 'yourselves', 'he', 'him', 'his', 'himself', \\\n",
    "            'she', \"she's\", 'her', 'hers', 'herself', 'it', \"it's\", 'its', 'itself', 'they', 'them', 'their',\\\n",
    "            'theirs', 'themselves', 'what', 'which', 'who', 'whom', 'this', 'that', \"that'll\", 'these', 'those', \\\n",
    "            'am', 'is', 'are', 'was', 'were', 'be', 'been', 'being', 'have', 'has', 'had', 'having', 'do', 'does', \\\n",
    "            'did', 'doing', 'a', 'an', 'the', 'and', 'but', 'if', 'or', 'because', 'as', 'until', 'while', 'of', \\\n",
    "            'at', 'by', 'for', 'with', 'about', 'against', 'between', 'into', 'through', 'during', 'before', 'after',\\\n",
    "            'above', 'below', 'to', 'from', 'up', 'down', 'in', 'out', 'on', 'off', 'over', 'under', 'again', 'further',\\\n",
    "            'then', 'once', 'here', 'there', 'when', 'where', 'why', 'how', 'all', 'any', 'both', 'each', 'few', 'more',\\\n",
    "            'most', 'other', 'some', 'such', 'only', 'own', 'same', 'so', 'than', 'too', 'very', \\\n",
    "            's', 't', 'can', 'will', 'just', 'don', \"don't\", 'should', \"should've\", 'now', 'd', 'll', 'm', 'o', 're', \\\n",
    "            've', 'y', 'ain', 'aren', \"aren't\", 'couldn', \"couldn't\", 'didn', \"didn't\", 'doesn', \"doesn't\", 'hadn',\\\n",
    "            \"hadn't\", 'hasn', \"hasn't\", 'haven', \"haven't\", 'isn', \"isn't\", 'ma', 'mightn', \"mightn't\", 'mustn',\\\n",
    "            \"mustn't\", 'needn', \"needn't\", 'shan', \"shan't\", 'shouldn', \"shouldn't\", 'wasn', \"wasn't\", 'weren', \"weren't\", \\\n",
    "            'won', \"won't\", 'wouldn', \"wouldn't\"]"
   ]
  },
  {
   "cell_type": "code",
   "execution_count": 92,
   "metadata": {
    "ExecuteTime": {
     "end_time": "2019-09-25T10:06:39.625639Z",
     "start_time": "2019-09-25T10:05:14.497302Z"
    },
    "colab": {},
    "colab_type": "code",
    "id": "ttJf1f7ON1Mt",
    "outputId": "6437b980-d16d-4f92-c591-9f751a575ecc"
   },
   "outputs": [
    {
     "name": "stderr",
     "output_type": "stream",
     "text": [
      "100%|███████████████████████████████████| 50000/50000 [01:24<00:00, 592.91it/s]\n"
     ]
    }
   ],
   "source": [
    "# Combining all the above stundents \n",
    "from tqdm import tqdm\n",
    "import num2words\n",
    "preprocessed_essays = []\n",
    "# tqdm is for printing the status bar\n",
    "for sentance in tqdm(project_data['essay'].values):\n",
    "    sent = decontracted(sentance)\n",
    "    sent = sent.replace('\\\\r', ' ')\n",
    "    sent = sent.replace('\\\\\"', ' ')\n",
    "    sent = sent.replace('\\\\n', ' ')\n",
    "    sent = re.sub(r\"(\\d+)\", lambda x: num2words.num2words(int(x.group(0))), sent)\n",
    "    sent = re.sub('[^A-Za-z0-9]+', ' ', sent)\n",
    "    # https://gist.github.com/sebleier/554280\n",
    "    sent = ' '.join(e for e in sent.split() if e not in stopwords)\n",
    "    preprocessed_essays.append(sent.lower().strip())"
   ]
  },
  {
   "cell_type": "code",
   "execution_count": 93,
   "metadata": {
    "ExecuteTime": {
     "end_time": "2019-09-25T10:06:39.647656Z",
     "start_time": "2019-09-25T10:06:39.633648Z"
    },
    "colab": {},
    "colab_type": "code",
    "id": "sEdZTzI5N1Mx",
    "outputId": "38cf15fb-c78b-4be1-c442-e785be4809d0"
   },
   "outputs": [
    {
     "data": {
      "text/plain": [
       "'my kindergarten students varied disabilities ranging speech language delays cognitive delays gross fine motor delays autism they eager beavers always strive work hardest working past limitations the materials ones i seek students i teach title i school students receive free reduced price lunch despite disabilities limitations students love coming school come eager learn explore have ever felt like ants pants needed groove move meeting this kids feel time the want able move learn say wobble chairs answer i love develop core enhances gross motor turn fine motor skills they also want learn games kids not want sit worksheets they want learn count jumping playing physical engagement key success the number toss color shape mats make happen my students forget work fun six year old deserves nannan'"
      ]
     },
     "execution_count": 93,
     "metadata": {},
     "output_type": "execute_result"
    }
   ],
   "source": [
    "# after preprocesing\n",
    "preprocessed_essays[20000]"
   ]
  },
  {
   "cell_type": "markdown",
   "metadata": {
    "colab_type": "text",
    "id": "4AFlP-F-N1M0"
   },
   "source": [
    "<h2><font color='red'> 1.4 Preprocessing of `project_title`</font></h2>"
   ]
  },
  {
   "cell_type": "code",
   "execution_count": 94,
   "metadata": {
    "ExecuteTime": {
     "end_time": "2019-09-25T10:06:42.912009Z",
     "start_time": "2019-09-25T10:06:39.652660Z"
    },
    "colab": {},
    "colab_type": "code",
    "id": "FCdq9z5FN1M1"
   },
   "outputs": [
    {
     "name": "stderr",
     "output_type": "stream",
     "text": [
      "100%|█████████████████████████████████| 50000/50000 [00:03<00:00, 16060.49it/s]\n"
     ]
    }
   ],
   "source": [
    "# similarly you can preprocess the titles also\n",
    "# Combining all the above statemennts \n",
    "#Replacing number with text https://stackoverflow.com/questions/40040177/search-and-replace-numbers-with-words-in-file\n",
    "#re.sub(r\"(\\d+)\", lambda x: num2words.num2words(int(x.group(0))), sent)\n",
    "from tqdm import tqdm\n",
    "preprocessed_title = []\n",
    "# tqdm is for printing the status bar\n",
    "for sentance in tqdm(project_data['project_title'].values):\n",
    "    sent = decontracted(sentance)\n",
    "    sent = sent.replace('\\\\r', ' ')\n",
    "    sent = sent.replace('\\\\\"', ' ')\n",
    "    sent = sent.replace('\\\\n', ' ')\n",
    "    sent = re.sub(r\"(\\d+)\", lambda x: num2words.num2words(int(x.group(0))), sent)\n",
    "    sent = re.sub('[^A-Za-z0-9]+', ' ', sent)\n",
    "    # https://gist.github.com/sebleier/554280\n",
    "    sent = ' '.join(e for e in sent.split() if e not in stopwords)\n",
    "    preprocessed_title.append(sent.lower().strip())"
   ]
  },
  {
   "cell_type": "code",
   "execution_count": 95,
   "metadata": {
    "ExecuteTime": {
     "end_time": "2019-09-25T10:06:43.044104Z",
     "start_time": "2019-09-25T10:06:42.929021Z"
    }
   },
   "outputs": [
    {
     "name": "stderr",
     "output_type": "stream",
     "text": [
      "100%|████████████████████████████████| 50000/50000 [00:00<00:00, 675282.96it/s]\n"
     ]
    },
    {
     "data": {
      "text/plain": [
       "['Grades_PreK_2', 'Grades_3_5', 'Grades_6_8', 'Grades_9_12']"
      ]
     },
     "execution_count": 95,
     "metadata": {},
     "output_type": "execute_result"
    }
   ],
   "source": [
    "#process project grade remove replace space with _ and replace - with _\n",
    "preprocessed_grade = []\n",
    "for sentance in  tqdm(project_data['project_grade_category'].values):\n",
    "    sentance=sentance.replace(\" \",\"_\")\n",
    "    sentance = sentance.replace(\"-\",\"_\")\n",
    "    preprocessed_grade.append(sentance)\n",
    "list(set(preprocessed_grade))"
   ]
  },
  {
   "cell_type": "markdown",
   "metadata": {},
   "source": [
    "<h2><font color='red'> 1.4.1 Combining Resource data and project data`</font></h2>"
   ]
  },
  {
   "cell_type": "code",
   "execution_count": 96,
   "metadata": {
    "ExecuteTime": {
     "end_time": "2019-09-25T10:06:44.805355Z",
     "start_time": "2019-09-25T10:06:43.055111Z"
    }
   },
   "outputs": [
    {
     "name": "stdout",
     "output_type": "stream",
     "text": [
      "Index(['Unnamed: 0', 'id', 'teacher_id', 'teacher_prefix', 'school_state',\n",
      "       'project_submitted_datetime', 'project_grade_category', 'project_title',\n",
      "       'project_essay_1', 'project_essay_2', 'project_essay_3',\n",
      "       'project_essay_4', 'project_resource_summary',\n",
      "       'teacher_number_of_previously_posted_projects', 'project_is_approved',\n",
      "       'clean_categories', 'clean_subcategories', 'essay'],\n",
      "      dtype='object')\n",
      "Index(['Unnamed: 0', 'id', 'teacher_id', 'teacher_prefix', 'school_state',\n",
      "       'project_submitted_datetime', 'project_grade_category', 'project_title',\n",
      "       'project_essay_1', 'project_essay_2', 'project_essay_3',\n",
      "       'project_essay_4', 'project_resource_summary',\n",
      "       'teacher_number_of_previously_posted_projects', 'project_is_approved',\n",
      "       'clean_categories', 'clean_subcategories', 'essay', 'price',\n",
      "       'quantity'],\n",
      "      dtype='object')\n"
     ]
    }
   ],
   "source": [
    "price_data = resource_data.groupby('id').agg({'price':'sum', 'quantity':'sum'}).reset_index()\n",
    "print(project_data.columns)\n",
    "project_data = pd.merge(project_data, price_data, on='id', how='left')\n",
    "print(project_data.columns)"
   ]
  },
  {
   "cell_type": "markdown",
   "metadata": {},
   "source": [
    "<h2><font color='red'>[1.4.2] Splitting data into Train and cross validation(or test): Stratified Sampling</font></h2>"
   ]
  },
  {
   "cell_type": "code",
   "execution_count": 97,
   "metadata": {
    "ExecuteTime": {
     "end_time": "2019-09-25T10:06:45.251674Z",
     "start_time": "2019-09-25T10:06:44.810358Z"
    }
   },
   "outputs": [],
   "source": [
    "# train test split\n",
    "y_label= project_data['project_is_approved']\n",
    "project_data['essay'] = preprocessed_essays\n",
    "project_data['project_title']= preprocessed_title\n",
    "project_data['project_grade_category']=preprocessed_grade\n",
    "X_label = project_data.drop(columns='project_is_approved')\n",
    "\n",
    "from sklearn.model_selection import train_test_split\n",
    "X_train, X_test, y_train, y_test = train_test_split(X_label, y_label, test_size=0.33, stratify=y_label)"
   ]
  },
  {
   "cell_type": "markdown",
   "metadata": {
    "colab_type": "text",
    "id": "js2WD9bON1M5"
   },
   "source": [
    "## 1.5 Preparing data for models"
   ]
  },
  {
   "cell_type": "code",
   "execution_count": 98,
   "metadata": {
    "ExecuteTime": {
     "end_time": "2019-09-25T10:06:45.277690Z",
     "start_time": "2019-09-25T10:06:45.256678Z"
    },
    "colab": {},
    "colab_type": "code",
    "id": "Kh3xw4fpN1M6",
    "outputId": "0cac8eb3-350f-457b-e139-6340672f06f3"
   },
   "outputs": [
    {
     "data": {
      "text/plain": [
       "Index(['Unnamed: 0', 'id', 'teacher_id', 'teacher_prefix', 'school_state',\n",
       "       'project_submitted_datetime', 'project_grade_category', 'project_title',\n",
       "       'project_essay_1', 'project_essay_2', 'project_essay_3',\n",
       "       'project_essay_4', 'project_resource_summary',\n",
       "       'teacher_number_of_previously_posted_projects', 'project_is_approved',\n",
       "       'clean_categories', 'clean_subcategories', 'essay', 'price',\n",
       "       'quantity'],\n",
       "      dtype='object')"
      ]
     },
     "execution_count": 98,
     "metadata": {},
     "output_type": "execute_result"
    }
   ],
   "source": [
    "project_data.columns"
   ]
  },
  {
   "cell_type": "markdown",
   "metadata": {
    "colab_type": "text",
    "id": "tLfdQa8hN1M9"
   },
   "source": [
    "we are going to consider\n",
    "\n",
    "       - school_state : categorical data\n",
    "       - clean_categories : categorical data\n",
    "       - clean_subcategories : categorical data\n",
    "       - project_grade_category : categorical data\n",
    "       - teacher_prefix : categorical data\n",
    "       \n",
    "       - project_title : text data\n",
    "       - text : text data\n",
    "       - project_resource_summary: text data (optinal)\n",
    "       \n",
    "       - quantity : numerical (optinal)\n",
    "       - teacher_number_of_previously_posted_projects : numerical\n",
    "       - price : numerical"
   ]
  },
  {
   "cell_type": "markdown",
   "metadata": {
    "colab_type": "text",
    "id": "hrCuADG4N1M-"
   },
   "source": [
    "### 1.5.1 Vectorizing Categorical data"
   ]
  },
  {
   "cell_type": "markdown",
   "metadata": {
    "colab_type": "text",
    "id": "wUA_GEXlN1M_"
   },
   "source": [
    "- https://www.appliedaicourse.com/course/applied-ai-course-online/lessons/handling-categorical-and-numerical-features/"
   ]
  },
  {
   "cell_type": "code",
   "execution_count": 99,
   "metadata": {
    "ExecuteTime": {
     "end_time": "2019-09-25T10:06:45.924028Z",
     "start_time": "2019-09-25T10:06:45.286702Z"
    },
    "colab": {},
    "colab_type": "code",
    "id": "eY50GwZUN1NA",
    "outputId": "65a5a2ec-b1aa-4f04-d7e9-2284e95ba915"
   },
   "outputs": [
    {
     "name": "stdout",
     "output_type": "stream",
     "text": [
      "After vectorizations\n",
      "(33500, 9) (33500,)\n",
      "(16500, 9) (16500,)\n",
      "['appliedlearning', 'care_hunger', 'health_sports', 'history_civics', 'literacy_language', 'math_science', 'music_arts', 'specialneeds', 'warmth']\n",
      "====================================================================================================\n"
     ]
    }
   ],
   "source": [
    "# we use count vectorizer to convert the values into one \n",
    "from sklearn.feature_extraction.text import CountVectorizer\n",
    "clean_categories_vectorizer = CountVectorizer()\n",
    "clean_categories_vectorizer.fit(X_train['clean_categories'].values) # fit has to happen only on train data\n",
    "\n",
    "# we use the fitted CountVectorizer to convert the text to vector\n",
    "X_train_categories_ohc = clean_categories_vectorizer.transform(X_train['clean_categories'].values)\n",
    "#X_cv_categories_ohc = vectorizer.transform(X_cv['clean_categories'].values)\n",
    "X_test_categories_ohc = clean_categories_vectorizer.transform(X_test['clean_categories'].values)\n",
    "\n",
    "print(\"After vectorizations\")\n",
    "print(X_train_categories_ohc.shape, y_train.shape)\n",
    "#print(X_cv_categories_ohc.shape, y_cv.shape)\n",
    "print(X_test_categories_ohc.shape, y_test.shape)\n",
    "print(clean_categories_vectorizer.get_feature_names())\n",
    "print(\"=\"*100)"
   ]
  },
  {
   "cell_type": "code",
   "execution_count": 100,
   "metadata": {
    "ExecuteTime": {
     "end_time": "2019-09-25T10:06:46.555480Z",
     "start_time": "2019-09-25T10:06:45.937037Z"
    },
    "colab": {},
    "colab_type": "code",
    "id": "Fdupn5O9N1NE",
    "outputId": "3b176822-d4c3-4051-d45b-689b1681d57d"
   },
   "outputs": [
    {
     "name": "stdout",
     "output_type": "stream",
     "text": [
      "After vectorizations\n",
      "(33500, 30) (33500,)\n",
      "(16500, 30) (16500,)\n",
      "['appliedsciences', 'care_hunger', 'charactereducation', 'civics_government', 'college_careerprep', 'communityservice', 'earlydevelopment', 'economics', 'environmentalscience', 'esl', 'extracurricular', 'financialliteracy', 'foreignlanguages', 'gym_fitness', 'health_lifescience', 'health_wellness', 'history_geography', 'literacy', 'literature_writing', 'mathematics', 'music', 'nutritioneducation', 'other', 'parentinvolvement', 'performingarts', 'socialsciences', 'specialneeds', 'teamsports', 'visualarts', 'warmth']\n",
      "====================================================================================================\n"
     ]
    }
   ],
   "source": [
    "# we use count vectorizer to convert the values into one \n",
    "clean_subcategories_vectorizer = CountVectorizer()\n",
    "clean_subcategories_vectorizer.fit(X_train['clean_subcategories'].values) # fit has to happen only on train data\n",
    "\n",
    "# we use the fitted CountVectorizer to convert the text to vector\n",
    "X_train_sub_categories_ohc = clean_subcategories_vectorizer.transform(X_train['clean_subcategories'].values)\n",
    "#X_cv_sub_categories_ohc = vectorizer.transform(X_cv['clean_subcategories'].values)\n",
    "X_test_sub_categories_ohc = clean_subcategories_vectorizer.transform(X_test['clean_subcategories'].values)\n",
    "\n",
    "print(\"After vectorizations\")\n",
    "print(X_train_sub_categories_ohc.shape, y_train.shape)\n",
    "#print(X_cv_sub_categories_ohc.shape, y_cv.shape)\n",
    "print(X_test_sub_categories_ohc.shape, y_test.shape)\n",
    "print(clean_subcategories_vectorizer.get_feature_names())\n",
    "print(\"=\"*100)"
   ]
  },
  {
   "cell_type": "code",
   "execution_count": 101,
   "metadata": {
    "ExecuteTime": {
     "end_time": "2019-09-25T10:06:47.007797Z",
     "start_time": "2019-09-25T10:06:46.560484Z"
    }
   },
   "outputs": [
    {
     "name": "stdout",
     "output_type": "stream",
     "text": [
      "After vectorizations\n",
      "(33500, 51) (33500,)\n",
      "(16500, 51) (16500,)\n",
      "['ak', 'al', 'ar', 'az', 'ca', 'co', 'ct', 'dc', 'de', 'fl', 'ga', 'hi', 'ia', 'id', 'il', 'in', 'ks', 'ky', 'la', 'ma', 'md', 'me', 'mi', 'mn', 'mo', 'ms', 'mt', 'nc', 'nd', 'ne', 'nh', 'nj', 'nm', 'nv', 'ny', 'oh', 'ok', 'or', 'pa', 'ri', 'sc', 'sd', 'tn', 'tx', 'ut', 'va', 'vt', 'wa', 'wi', 'wv', 'wy']\n",
      "====================================================================================================\n"
     ]
    }
   ],
   "source": [
    "# you can do the similar thing with state, teacher_prefix and project_grade_category also\n",
    "# we use count vectorizer to convert the values into one \n",
    "school_state_vectorizer = CountVectorizer()\n",
    "school_state_vectorizer.fit(X_train['school_state'].values) # fit has to happen only on train data\n",
    "\n",
    "# we use the fitted CountVectorizer to convert the text to vector\n",
    "X_train_state_ohe = school_state_vectorizer.transform(X_train['school_state'].values)\n",
    "#X_cv_state_ohe = vectorizer.transform(X_cv['school_state'].values)\n",
    "X_test_state_ohe = school_state_vectorizer.transform(X_test['school_state'].values)\n",
    "\n",
    "print(\"After vectorizations\")\n",
    "print(X_train_state_ohe.shape, y_train.shape)\n",
    "#print(X_cv_state_ohe.shape, y_cv.shape)\n",
    "print(X_test_state_ohe.shape, y_test.shape)\n",
    "print(school_state_vectorizer.get_feature_names())\n",
    "print(\"=\"*100)"
   ]
  },
  {
   "cell_type": "code",
   "execution_count": 102,
   "metadata": {
    "ExecuteTime": {
     "end_time": "2019-09-25T10:06:47.576201Z",
     "start_time": "2019-09-25T10:06:47.015802Z"
    }
   },
   "outputs": [
    {
     "name": "stdout",
     "output_type": "stream",
     "text": [
      "After vectorizations\n",
      "(33500, 6) (33500,)\n",
      "(16500, 6) (16500,)\n",
      "['dr', 'mr', 'mrs', 'ms', 'nan', 'teacher']\n",
      "====================================================================================================\n"
     ]
    }
   ],
   "source": [
    "teacher_prefix_vectorizer = CountVectorizer()\n",
    "teacher_prefix_vectorizer.fit(X_train['teacher_prefix'].values.astype('U')) # fit has to happen only on train data\n",
    "\n",
    "# we use the fitted CountVectorizer to convert the text to vector\n",
    "X_train_teacher_ohe = teacher_prefix_vectorizer.transform(X_train['teacher_prefix'].values.astype('U'))\n",
    "#X_cv_teacher_ohe = vectorizer.transform(X_cv['teacher_prefix'].values.astype('U'))\n",
    "X_test_teacher_ohe = teacher_prefix_vectorizer.transform(X_test['teacher_prefix'].values.astype('U'))\n",
    "\n",
    "print(\"After vectorizations\")\n",
    "print(X_train_teacher_ohe.shape, y_train.shape)\n",
    "#print(X_cv_teacher_ohe.shape, y_cv.shape)\n",
    "print(X_test_teacher_ohe.shape, y_test.shape)\n",
    "print(teacher_prefix_vectorizer.get_feature_names())\n",
    "print(\"=\"*100)"
   ]
  },
  {
   "cell_type": "code",
   "execution_count": 103,
   "metadata": {
    "ExecuteTime": {
     "end_time": "2019-09-25T10:06:48.062548Z",
     "start_time": "2019-09-25T10:06:47.583207Z"
    }
   },
   "outputs": [
    {
     "name": "stdout",
     "output_type": "stream",
     "text": [
      "After vectorizations\n",
      "(33500, 4) (33500,)\n",
      "(16500, 4) (16500,)\n",
      "['grades_3_5', 'grades_6_8', 'grades_9_12', 'grades_prek_2']\n",
      "====================================================================================================\n"
     ]
    }
   ],
   "source": [
    "project_grade_vectorizer = CountVectorizer()\n",
    "project_grade_vectorizer.fit(X_train['project_grade_category'].values) # fit has to happen only on train data\n",
    "\n",
    "# we use the fitted CountVectorizer to convert the text to vector\n",
    "X_train_grade_ohe = project_grade_vectorizer.transform(X_train['project_grade_category'].values)\n",
    "#X_cv_grade_ohe = vectorizer.transform(X_cv['project_grade_category'].values)\n",
    "X_test_grade_ohe = project_grade_vectorizer.transform(X_test['project_grade_category'].values)\n",
    "\n",
    "print(\"After vectorizations\")\n",
    "print(X_train_grade_ohe.shape, y_train.shape)\n",
    "#print(X_cv_grade_ohe.shape, y_cv.shape)\n",
    "print(X_test_grade_ohe.shape, y_test.shape)\n",
    "print(project_grade_vectorizer.get_feature_names())\n",
    "print(\"=\"*100)"
   ]
  },
  {
   "cell_type": "markdown",
   "metadata": {
    "colab_type": "text",
    "id": "WHKUWpSlN1NL"
   },
   "source": [
    "### 1.5.2 Vectorizing Text data"
   ]
  },
  {
   "cell_type": "markdown",
   "metadata": {
    "colab_type": "text",
    "id": "-U5bh83MN1NM"
   },
   "source": [
    "#### 1.5.2.1 Bag of words"
   ]
  },
  {
   "cell_type": "code",
   "execution_count": 104,
   "metadata": {
    "ExecuteTime": {
     "end_time": "2019-09-25T10:07:09.964116Z",
     "start_time": "2019-09-25T10:06:48.075557Z"
    },
    "colab": {},
    "colab_type": "code",
    "id": "_xatgAMoN1NN",
    "outputId": "9e194aff-4b92-424b-bf51-df8c9ce9e284"
   },
   "outputs": [
    {
     "name": "stdout",
     "output_type": "stream",
     "text": [
      "some feature names  ['aa', 'aac', 'ab', 'aba', 'abandon', 'abandoned', 'abandonment', 'abc', 'abcmouse', 'abcs']\n",
      "==================================================\n",
      "the type of count vectorizer  <class 'scipy.sparse.csr.csr_matrix'>\n",
      "the shape of out text BOW vectorizer  (16500, 13899)\n",
      "the number of unique words  13899\n"
     ]
    }
   ],
   "source": [
    "# We are considering only the words which appeared in at least 10 documents(rows or projects).\n",
    "#BoW\n",
    "preprocessed_essays =X_train['essay'].astype('U')\n",
    "count_vect_essay = CountVectorizer(min_df=5) #in scikit-learn\n",
    "count_vect_essay.fit(preprocessed_essays)\n",
    "print(\"some feature names \", count_vect_essay.get_feature_names()[:10])\n",
    "print('='*50)\n",
    "\n",
    "x_essay_bow1 = count_vect_essay.transform(preprocessed_essays.astype('U'))\n",
    "#cv_essay_bow1 = count_vect.transform(X_cv['essay'].astype('U'))\n",
    "essay_bow1 = count_vect_essay.transform(X_test['essay'].astype('U'))\n",
    "print(\"the type of count vectorizer \",type(essay_bow1))\n",
    "print(\"the shape of out text BOW vectorizer \",essay_bow1.get_shape())\n",
    "print(\"the number of unique words \", essay_bow1.get_shape()[1])\n",
    "\n",
    "\n",
    "#Normalization of BOW\n",
    "from sklearn.preprocessing import Normalizer\n",
    "w_normalized = Normalizer()\n",
    "\n",
    "w_normalized.fit(x_essay_bow1)\n",
    "\n",
    "x_essay_bow = w_normalized.transform(x_essay_bow1)\n",
    "#cv_essay_bow = w_normalized.transform(cv_essay_bow1)\n",
    "essay_bow = w_normalized.transform(essay_bow1)"
   ]
  },
  {
   "cell_type": "code",
   "execution_count": 105,
   "metadata": {
    "ExecuteTime": {
     "end_time": "2019-09-25T10:07:11.057895Z",
     "start_time": "2019-09-25T10:07:09.970121Z"
    },
    "colab": {},
    "colab_type": "code",
    "id": "HrheNuEzN1NQ"
   },
   "outputs": [
    {
     "name": "stdout",
     "output_type": "stream",
     "text": [
      "some feature names  ['abc', 'abcs', 'able', 'aboard', 'about', 'above', 'abstract', 'academic', 'academics', 'academy']\n",
      "==================================================\n",
      "the type of count vectorizer  <class 'scipy.sparse.csr.csr_matrix'>\n",
      "the shape of out title BOW vectorizer  (16500, 2667)\n",
      "the number of unique words  2667\n"
     ]
    }
   ],
   "source": [
    "# you can vectorize the title also \n",
    "# before you vectorize the title make sure you preprocess it\n",
    "preprocessed_title =X_train['project_title'].astype('U')\n",
    "count_vect_title = CountVectorizer(min_df=5) #in scikit-learn\n",
    "count_vect_title.fit(preprocessed_title)\n",
    "print(\"some feature names \", count_vect_title.get_feature_names()[:10])\n",
    "print('='*50)\n",
    "\n",
    "x_title_bow1 = count_vect_title.transform(preprocessed_title)\n",
    "#cv_title_bow1 = count_vect.transform(X_cv['project_title'].astype('U'))\n",
    "title_bow1 = count_vect_title.transform(X_test['project_title'].astype('U'))\n",
    "print(\"the type of count vectorizer \",type(title_bow1))\n",
    "print(\"the shape of out title BOW vectorizer \",title_bow1.get_shape())\n",
    "print(\"the number of unique words \", title_bow1.get_shape()[1])\n",
    "\n",
    "#Normalization of BOW title\n",
    "from sklearn.preprocessing import Normalizer\n",
    "w_normalized = Normalizer()\n",
    "\n",
    "w_normalized.fit(x_title_bow1)\n",
    "\n",
    "x_title_bow = w_normalized.transform(x_title_bow1)\n",
    "#cv_title_bow = w_normalized.transform(cv_title_bow1)\n",
    "title_bow = w_normalized.transform(title_bow1)"
   ]
  },
  {
   "cell_type": "markdown",
   "metadata": {
    "colab_type": "text",
    "id": "_ht9enK1N1NT"
   },
   "source": [
    "#### 1.5.2.2 TFIDF vectorizer"
   ]
  },
  {
   "cell_type": "code",
   "execution_count": 106,
   "metadata": {
    "ExecuteTime": {
     "end_time": "2019-09-25T10:07:35.094100Z",
     "start_time": "2019-09-25T10:07:11.065899Z"
    },
    "colab": {},
    "colab_type": "code",
    "id": "4I72CR54N1NU",
    "outputId": "c5321392-123e-4a57-bdef-01fd8069f4a2"
   },
   "outputs": [
    {
     "name": "stdout",
     "output_type": "stream",
     "text": [
      "Shape of matrix after one hot encodig  ['aa', 'aac', 'ab', 'aba', 'abandon', 'abandoned', 'abandonment', 'abc', 'abcmouse', 'abcs']\n",
      "==================================================\n",
      "the type of count vectorizer  <class 'scipy.sparse.csr.csr_matrix'>\n",
      "the shape of out text tfidf vectorizer  (16500, 13899)\n",
      "the number of unique words  13899\n"
     ]
    }
   ],
   "source": [
    "from sklearn.feature_extraction.text import TfidfVectorizer\n",
    "preprocessed_essays =X_train['essay']\n",
    "tfidf_essay = TfidfVectorizer(min_df=5)\n",
    "tfidf_essay.fit_transform(preprocessed_essays.astype('U'))\n",
    "print(\"Shape of matrix after one hot encodig \",tfidf_essay.get_feature_names()[:10])\n",
    "print('='*50)\n",
    "\n",
    "x_essay_tfidf1 = tfidf_essay.transform(preprocessed_essays.astype('U'))\n",
    "#cv_essay_tfidf1= vectorizer.transform(X_cv['essay'].astype('U'))\n",
    "essay_tfidf1 = tfidf_essay.transform(X_test['essay'].astype('U'))\n",
    "print(\"the type of count vectorizer \",type(essay_tfidf1))\n",
    "print(\"the shape of out text tfidf vectorizer \",essay_tfidf1.get_shape())\n",
    "print(\"the number of unique words \", essay_tfidf1.get_shape()[1])\n",
    "\n",
    "\n",
    "#Normalization of TfIdf\n",
    "from sklearn.preprocessing import Normalizer\n",
    "w_normalized = Normalizer()\n",
    "\n",
    "w_normalized.fit(x_essay_tfidf1)\n",
    "\n",
    "x_essay_tfidf = w_normalized.transform(x_essay_tfidf1)\n",
    "#cv_essay_tfidf = w_normalized.transform(cv_essay_tfidf1)\n",
    "essay_tfidf = w_normalized.transform(essay_tfidf1)"
   ]
  },
  {
   "cell_type": "code",
   "execution_count": 107,
   "metadata": {
    "ExecuteTime": {
     "end_time": "2019-09-25T10:07:36.641202Z",
     "start_time": "2019-09-25T10:07:35.099107Z"
    }
   },
   "outputs": [
    {
     "name": "stdout",
     "output_type": "stream",
     "text": [
      "some feature names  ['abc', 'abcs', 'able', 'aboard', 'about', 'above', 'abstract', 'academic', 'academics', 'academy']\n",
      "==================================================\n",
      "the type of count vectorizer  <class 'scipy.sparse.csr.csr_matrix'>\n",
      "the shape of out title tfidf vectorizer  (16500, 2667)\n",
      "the number of unique words  2667\n"
     ]
    }
   ],
   "source": [
    "# Similarly you can vectorize for title also\n",
    "from sklearn.feature_extraction.text import TfidfVectorizer\n",
    "preprocessed_title =X_train['project_title'].astype('U')\n",
    "tfidf_title = TfidfVectorizer(min_df=5)\n",
    "tfidf_title.fit_transform(preprocessed_title)\n",
    "print(\"some feature names \", tfidf_title.get_feature_names()[:10])\n",
    "print('='*50)\n",
    "\n",
    "x_title_tfidf1 = tfidf_title.transform(preprocessed_title)\n",
    "#cv_title_tfidf1 = vectorizer.transform(X_cv['project_title'].astype('U'))\n",
    "title_tfidf1 = tfidf_title.transform(X_test['project_title'].astype('U'))\n",
    "print(\"the type of count vectorizer \",type(title_tfidf1))\n",
    "print(\"the shape of out title tfidf vectorizer \",title_tfidf1.get_shape())\n",
    "print(\"the number of unique words \", title_tfidf1.get_shape()[1])\n",
    "\n",
    "\n",
    "#Normalization of TfIdf title\n",
    "from sklearn.preprocessing import Normalizer\n",
    "w_normalized = Normalizer()\n",
    "\n",
    "w_normalized.fit(x_title_tfidf1)\n",
    "\n",
    "x_title_tfidf = w_normalized.transform(x_title_tfidf1)\n",
    "#cv_title_tfidf = w_normalized.transform(cv_title_tfidf1)\n",
    "title_tfidf = w_normalized.transform(title_tfidf1)\n"
   ]
  },
  {
   "cell_type": "markdown",
   "metadata": {
    "colab_type": "text",
    "id": "Q3wJWAplN1Ns"
   },
   "source": [
    "### 1.5.3 Vectorizing Numerical features"
   ]
  },
  {
   "cell_type": "code",
   "execution_count": 122,
   "metadata": {
    "ExecuteTime": {
     "end_time": "2019-09-25T10:25:24.010087Z",
     "start_time": "2019-09-25T10:25:23.986069Z"
    },
    "colab": {},
    "colab_type": "code",
    "id": "qdNOyR5fN1Ny"
   },
   "outputs": [
    {
     "name": "stdout",
     "output_type": "stream",
     "text": [
      "(33500, 1)\n",
      "[[0.00103426]\n",
      " [0.00248351]\n",
      " [0.0045744 ]\n",
      " ...\n",
      " [0.00110554]\n",
      " [0.00153323]\n",
      " [0.0024735 ]]\n"
     ]
    }
   ],
   "source": [
    "#1) For normalizing numerical data, we have to use reshape(1,-1) instead of (-1,1). \n",
    "#2) Normalizer by default normalizes on each sample(row).StandardScaler standardises on each feature(column).\n",
    "#3) If we use (-1,1) it means any number of rows and one column. So that makes normalizer on each row containing one column.This makes the value 1.\n",
    "#4) If we use (-1, 1) then  all your prices are 1. It wont be useful at all.  \n",
    "#5) Note: If the shape mismatch is the problem for not using (1,-1) you can reshape into (-1,1) again after normalization is done.\n",
    "#6) see the below example given in the comments\n",
    "'''\n",
    "Ex:\n",
    "After (-1,1) array is [[1],[2],[3]]\n",
    "Using normalizer results in\n",
    "[[1/1],[2/2],[3/3]] = [[1],[1],[1]]\n",
    "If you use (1,-1) array is [1,2,3]\n",
    "result is\n",
    "[1/sqrt(14) , 2/sqrt(14) , 3/sqrt(14) ] = [0.26,0.52, 0.78]\n",
    "\n",
    "'''\n",
    "from sklearn.preprocessing import Normalizer\n",
    "price_normalized = Normalizer()\n",
    "\n",
    "price_normalized.fit(X_train['price'].values.reshape(1,-1))\n",
    "\n",
    "train_price_standardized1 = price_normalized.transform(X_train['price'].values.reshape(1,-1))\n",
    "#cv_price_standardized = price_scalar.transform(X_cv['price'].values.reshape(1,-1))\n",
    "test_price_standardized1 = price_normalized.transform(X_test['price'].values.reshape(1,-1))\n",
    "\n",
    "train_price_standardized = train_price_standardized1.T \n",
    "test_price_standardized=test_price_standardized1.T\n",
    "print(train_price_standardized.shape)\n",
    "print(train_price_standardized)\n"
   ]
  },
  {
   "cell_type": "code",
   "execution_count": 118,
   "metadata": {
    "ExecuteTime": {
     "end_time": "2019-09-25T10:21:46.826093Z",
     "start_time": "2019-09-25T10:21:46.817087Z"
    },
    "colab": {},
    "colab_type": "code",
    "id": "yGDhSrheN1N0",
    "outputId": "e37a56a0-ce9d-4b33-ff44-d04acd82fa8e"
   },
   "outputs": [],
   "source": [
    "from sklearn.preprocessing import Normalizer\n",
    "quantity_normalized = Normalizer()\n",
    "\n",
    "quantity_normalized.fit(X_train['quantity'].values.reshape(1,-1))\n",
    "\n",
    "train_quantity_normalized = quantity_normalized.transform(X_train['quantity'].values.reshape(1,-1))\n",
    "test_quantity_normalized = quantity_normalized.transform(X_test['quantity'].values.reshape(1,-1))\n"
   ]
  },
  {
   "cell_type": "code",
   "execution_count": 110,
   "metadata": {
    "ExecuteTime": {
     "end_time": "2019-09-25T10:07:37.007767Z",
     "start_time": "2019-09-25T10:07:36.862359Z"
    }
   },
   "outputs": [],
   "source": [
    "from sklearn.preprocessing import Normalizer\n",
    "prev_proj_normalized = Normalizer()\n",
    "\n",
    "prev_proj_normalized.fit(X_train['teacher_number_of_previously_posted_projects'].values.reshape(1,-1))\n",
    "\n",
    "train_prev_proj_normalized = quantity_normalized.transform(X_train['teacher_number_of_previously_posted_projects'].values.reshape(1,-1))\n",
    "test_prev_proj_normalized = quantity_normalized.transform(X_test['teacher_number_of_previously_posted_projects'].values.reshape(1,-1))"
   ]
  },
  {
   "cell_type": "markdown",
   "metadata": {
    "colab_type": "text",
    "id": "Jn3lWK6kN1N2"
   },
   "source": [
    "### <font color='red'>1.5.4 Merging all the above features</font>"
   ]
  },
  {
   "cell_type": "markdown",
   "metadata": {
    "colab_type": "text",
    "id": "-GfHAakkN1N3"
   },
   "source": [
    "- we need to merge all the numerical vectors i.e catogorical, text, numerical vectors\n",
    "- Merging numerical is giving conflicting size, so i havent used numerical verctor in creating the hstack"
   ]
  },
  {
   "cell_type": "code",
   "execution_count": 123,
   "metadata": {
    "ExecuteTime": {
     "end_time": "2019-09-25T10:25:29.483384Z",
     "start_time": "2019-09-25T10:25:29.077096Z"
    },
    "colab": {},
    "colab_type": "code",
    "id": "tDrWglZXN1N8",
    "outputId": "33ce62af-771a-4224-b0c6-4eeb19fc558f"
   },
   "outputs": [
    {
     "name": "stdout",
     "output_type": "stream",
     "text": [
      "(33500, 16667)\n",
      "(16500, 16667)\n"
     ]
    }
   ],
   "source": [
    "# merge two sparse matrices: https://stackoverflow.com/a/19710648/4084039\n",
    "from scipy.sparse import hstack\n",
    "# with the same hstack function we are concatinating a sparse matrix and a dense matirx :)\n",
    "train_bow_norm = hstack((X_train_categories_ohc, X_train_sub_categories_ohc,X_train_state_ohe,X_train_teacher_ohe, X_train_grade_ohe,x_essay_bow,x_title_bow,train_price_standardized))\n",
    "print(train_bow_norm.shape)\n",
    "\n",
    "test_bow_norm = hstack((X_test_categories_ohc, X_test_sub_categories_ohc,X_test_state_ohe,X_test_teacher_ohe, X_test_grade_ohe,essay_bow,title_bow,test_price_standardized))\n",
    "print(test_bow_norm.shape)\n"
   ]
  },
  {
   "cell_type": "code",
   "execution_count": 124,
   "metadata": {
    "ExecuteTime": {
     "end_time": "2019-09-25T10:25:31.900272Z",
     "start_time": "2019-09-25T10:25:31.481974Z"
    }
   },
   "outputs": [
    {
     "name": "stdout",
     "output_type": "stream",
     "text": [
      "(33500, 16667)\n",
      "(16500, 16667)\n"
     ]
    }
   ],
   "source": [
    "#Bow without normalization\n",
    "train_bow = hstack((X_train_categories_ohc, X_train_sub_categories_ohc,X_train_state_ohe,X_train_teacher_ohe, X_train_grade_ohe,x_essay_bow1,x_title_bow1,train_price_standardized))\n",
    "print(train_bow.shape)\n",
    "\n",
    "test_bow = hstack((X_test_categories_ohc, X_test_sub_categories_ohc,X_test_state_ohe,X_test_teacher_ohe, X_test_grade_ohe,essay_bow1,title_bow1,test_price_standardized))\n",
    "print(test_bow.shape)"
   ]
  },
  {
   "cell_type": "code",
   "execution_count": 125,
   "metadata": {
    "ExecuteTime": {
     "end_time": "2019-09-25T10:25:33.124423Z",
     "start_time": "2019-09-25T10:25:32.758162Z"
    }
   },
   "outputs": [
    {
     "name": "stdout",
     "output_type": "stream",
     "text": [
      "(33500, 16667)\n",
      "(16500, 16667)\n"
     ]
    }
   ],
   "source": [
    "train_tfidf_norm = hstack((X_train_categories_ohc, X_train_sub_categories_ohc,X_train_state_ohe,X_train_teacher_ohe, X_train_grade_ohe,x_essay_tfidf,x_title_tfidf,train_price_standardized))\n",
    "print(train_tfidf_norm.shape)\n",
    "\n",
    "test_tfidf_norm = hstack((X_test_categories_ohc, X_test_sub_categories_ohc,X_test_state_ohe,X_test_teacher_ohe, X_test_grade_ohe,essay_tfidf,title_tfidf,test_price_standardized))\n",
    "print(test_tfidf_norm.shape)\n"
   ]
  },
  {
   "cell_type": "code",
   "execution_count": 126,
   "metadata": {
    "ExecuteTime": {
     "end_time": "2019-09-25T10:25:34.513717Z",
     "start_time": "2019-09-25T10:25:34.165477Z"
    }
   },
   "outputs": [
    {
     "name": "stdout",
     "output_type": "stream",
     "text": [
      "(33500, 16667)\n",
      "(16500, 16667)\n"
     ]
    }
   ],
   "source": [
    "train_tfidf = hstack((X_train_categories_ohc, X_train_sub_categories_ohc,X_train_state_ohe,X_train_teacher_ohe, X_train_grade_ohe,x_essay_tfidf1,x_title_tfidf1,train_price_standardized))\n",
    "print(train_tfidf.shape)\n",
    "\n",
    "test_tfidf = hstack((X_test_categories_ohc, X_test_sub_categories_ohc,X_test_state_ohe,X_test_teacher_ohe, X_test_grade_ohe,essay_tfidf1,title_tfidf1,test_price_standardized))\n",
    "print(test_tfidf.shape)"
   ]
  },
  {
   "cell_type": "markdown",
   "metadata": {
    "colab_type": "text",
    "id": "58YP-aXEN1OB"
   },
   "source": [
    "# Assignment 4: Naive Bayes"
   ]
  },
  {
   "cell_type": "markdown",
   "metadata": {
    "colab_type": "text",
    "id": "cdOrIZk5N1OB"
   },
   "source": [
    "<ol>\n",
    "    <li><strong>Apply Multinomial NaiveBayes on these feature sets</strong>\n",
    "        <ul>\n",
    "            <li><font color='red'>Set 1</font>: categorical, numerical features + project_title(BOW) + preprocessed_eassay (BOW)</li>\n",
    "            <li><font color='red'>Set 2</font>: categorical, numerical features + project_title(TFIDF)+  preprocessed_eassay (TFIDF)</li>\n",
    "        </ul>\n",
    "    </li>\n",
    "    <br>\n",
    "    <li><strong>The hyper paramter tuning(find best Alpha)</strong>\n",
    "        <ul>\n",
    "    <li>Find the best hyper parameter which will give the maximum <a href='https://www.appliedaicourse.com/course/applied-ai-course-online/lessons/receiver-operating-characteristic-curve-roc-curve-and-auc-1/'>AUC</a> value</li>\n",
    "    <li>Consider a wide range of alpha values for hyperparameter tuning, start as low as 0.00001</li>\n",
    "    <li>Find the best hyper paramter using k-fold cross validation or simple cross validation data</li>\n",
    "    <li>Use gridsearch cv or randomsearch cv or you can also write your own for loops to do this task of hyperparameter tuning</li>\n",
    "        </ul>\n",
    "    </li>\n",
    "    <br>\n",
    "    <li><strong>Feature importance</strong>\n",
    "        <ul>\n",
    "    <li>Find the top 10 features of positive class and top 10 features of negative class for both feature sets <font color='red'>Set 1</font> and <font color='red'>Set 2</font> using values of `feature_log_prob_` parameter of  <a href='https://scikit-learn.org/stable/modules/generated/sklearn.naive_bayes.MultinomialNB.html'>MultinomialNB</a> and print their corresponding feature names</li>\n",
    "        </ul>\n",
    "    </li>\n",
    "    <br>\n",
    "    <li><strong>Representation of results</strong>\n",
    "        <ul>\n",
    "    <li>You need to plot the performance of model both on train data and cross validation data for each hyper parameter, like shown in the figure. Here on X-axis you will have alpha values, since they have a wide range, just to represent those alpha values on the graph, apply log function on those alpha values.\n",
    "    <img src='train_cv_auc.JPG' width=300px></li>\n",
    "    <li>Once after you found the best hyper parameter, you need to train your model with it, and find the AUC on test data and plot the ROC curve on both train and test.\n",
    "    <img src='train_test_auc.JPG' width=300px></li>\n",
    "    <li>Along with plotting ROC curve, you need to print the <a href='https://www.appliedaicourse.com/course/applied-ai-course-online/lessons/confusion-matrix-tpr-fpr-fnr-tnr-1/'>confusion matrix</a> with predicted and original labels of test data points. Please visualize your confusion matrices using <a href='https://seaborn.pydata.org/generated/seaborn.heatmap.html'>seaborn heatmaps.\n",
    "    <img src='confusion_matrix.png' width=300px></li>\n",
    "        </ul>\n",
    "    </li>\n",
    "    <br>\n",
    "    <li><strong>Conclusion</strong>\n",
    "        <ul>\n",
    "    <li>You need to summarize the results at the end of the notebook, summarize it in the table format. To print out a table please refer to this prettytable library<a href='http://zetcode.com/python/prettytable/'>  link</a> \n",
    "        <img src='summary.JPG' width=400px>\n",
    "    </li>\n",
    "        </ul>\n",
    "</ol>"
   ]
  },
  {
   "cell_type": "markdown",
   "metadata": {
    "colab_type": "text",
    "id": "dQY4H_DjN1OC"
   },
   "source": [
    "<h1>2. Naive Bayes </h1>"
   ]
  },
  {
   "cell_type": "markdown",
   "metadata": {
    "colab_type": "text",
    "id": "tJemgtg6N1OM"
   },
   "source": [
    "<h2>2.1 Appling NB() on different kind of featurization as mentioned in the instructions</h2>\n",
    "\n",
    "<br>Apply Naive Bayes on different kind of featurization as mentioned in the instructions\n",
    "<br> For Every model that you work on make sure you do the step 2 and step 3 of instrucations"
   ]
  },
  {
   "cell_type": "code",
   "execution_count": 127,
   "metadata": {
    "ExecuteTime": {
     "end_time": "2019-09-25T10:25:38.062720Z",
     "start_time": "2019-09-25T10:25:38.058719Z"
    }
   },
   "outputs": [],
   "source": [
    "from prettytable import PrettyTable\n",
    "table = PrettyTable()\n",
    "table.field_names = [\"Vectorizer\", \"Hyper parameter\", \"AUC\"]"
   ]
  },
  {
   "cell_type": "code",
   "execution_count": 128,
   "metadata": {
    "ExecuteTime": {
     "end_time": "2019-09-25T10:25:39.698799Z",
     "start_time": "2019-09-25T10:25:39.691793Z"
    }
   },
   "outputs": [],
   "source": [
    "def find_best_threshold(threshould, fpr, tpr):\n",
    "    t = threshould[np.argmax(tpr*(1-fpr))]\n",
    "    # (tpr*(1-fpr)) will be maximum if your fpr is very low and tpr is very high\n",
    "    print(\"the maximum value of tpr*(1-fpr)\", max(tpr*(1-fpr)), \"for threshold\", np.round(t,3))\n",
    "    return t\n",
    "\n",
    "def predict_with_best_t(proba, threshould):\n",
    "    predictions = []\n",
    "    for i in proba:\n",
    "        if i>=threshould:\n",
    "            predictions.append(1)\n",
    "        else:\n",
    "            predictions.append(0)\n",
    "    return predictions"
   ]
  },
  {
   "cell_type": "code",
   "execution_count": 129,
   "metadata": {
    "ExecuteTime": {
     "end_time": "2019-09-25T10:25:40.930317Z",
     "start_time": "2019-09-25T10:25:40.899304Z"
    }
   },
   "outputs": [],
   "source": [
    "#using gridsearchcv\n",
    "# https://scikit-learn.org/stable/modules/generated/sklearn.model_selection.GridSearchCV.html\n",
    "#https://stackoverflow.com/questions/52580023/how-to-get-the-best-estimator-parameters-out-from-pipelined-gridsearch-and-cro\n",
    "from sklearn.model_selection import GridSearchCV\n",
    "from sklearn.naive_bayes import MultinomialNB\n",
    "import math\n",
    "\n",
    "#Alpha is the hyper parameter of Naive Bayes\n",
    "def Train_data(X_tr,y_train,vectorizer):\n",
    "    nb = MultinomialNB(class_prior =[0.5,0.5])\n",
    "    #alpha = [10**i for i in range(-5,1)]\n",
    "    alpha = [0.00001,0.0001,0.001,0.01,0.05,0.025,0.1,0.5,0.25,1,10,100]\n",
    "    fit_prior= [True, False]\n",
    "    \n",
    "    parameters = dict(alpha=alpha,fit_prior =fit_prior)\n",
    "    clf = GridSearchCV(nb, parameters, cv=3, scoring='roc_auc', return_train_score=True)\n",
    "    clf.fit(X_tr, y_train)\n",
    "    \n",
    "    best_parameters = clf.best_params_\n",
    "    print(\"The best parameters for using this model is\", best_parameters)\n",
    "    \n",
    "    K =  clf.cv_results_['param_alpha']\n",
    "   \n",
    "    train_auc = clf.cv_results_['mean_train_score']\n",
    "    train_auc_std = clf.cv_results_['std_train_score']\n",
    "    cv_auc = clf.cv_results_['mean_test_score'] \n",
    "    cv_auc_std= clf.cv_results_['std_test_score'] \n",
    "    \n",
    "    alpha_log=[]\n",
    "    for k_val in K:\n",
    "        alpha_log.append(math.log(k_val))\n",
    "            \n",
    "\n",
    "    plt.plot(alpha_log, train_auc, label='Train AUC')\n",
    "    # this code is copied from here: https://stackoverflow.com/a/48803361/4084039\n",
    "    # plt.gca().fill_between(K, train_auc - train_auc_std,train_auc + train_auc_std,alpha=0.2,color='darkblue')\n",
    "\n",
    "    plt.plot(alpha_log, cv_auc, label='CV AUC')\n",
    "    # this code is copied from here: https://stackoverflow.com/a/48803361/4084039\n",
    "    # plt.gca().fill_between(K, cv_auc - cv_auc_std,cv_auc + cv_auc_std,alpha=0.2,color='darkorange')\n",
    "\n",
    "    plt.scatter(alpha_log, train_auc, label='Train AUC points')\n",
    "    plt.scatter(alpha_log, cv_auc, label='CV AUC points')\n",
    "\n",
    "    plt.legend()\n",
    "    plt.xlabel(\"hyperparameter : Alpha\")\n",
    "    plt.ylabel(\"AUC\")\n",
    "    plt.title(\"AUC on various alphas using %s on text features\"%vectorizer)\n",
    "    plt.grid()\n",
    "    plt.show()\n",
    "    \n",
    "    results = pd.DataFrame.from_dict(clf.cv_results_)\n",
    "    results = results.sort_values(['param_alpha'])"
   ]
  },
  {
   "cell_type": "code",
   "execution_count": 130,
   "metadata": {
    "ExecuteTime": {
     "end_time": "2019-09-25T10:25:42.288956Z",
     "start_time": "2019-09-25T10:25:42.253937Z"
    }
   },
   "outputs": [],
   "source": [
    "#Round off the predicted values to fix value error\n",
    "#https://stackoverflow.com/questions/38015181/accuracy-score-valueerror-cant-handle-mix-of-binary-and-continuous-target\n",
    "from mlxtend.plotting import plot_confusion_matrix\n",
    "def draw_train_confusion_matrix(CM):\n",
    "    fig, ax = plot_confusion_matrix(conf_mat= CM, colorbar=True,\n",
    "                                   show_absolute=True,\n",
    "                                   show_normed=True)\n",
    "    plt.title(\"Train Confusion Matrix \")\n",
    "    plt.ylabel(\"Actual\")\n",
    "    plt.xlabel(\"Predicted\")\n",
    "    plt.show()\n",
    "\n",
    "def draw_test_confusion_matrix(CM):\n",
    "    fig, ax = plot_confusion_matrix(conf_mat= CM, colorbar=True,\n",
    "                                   show_absolute=True,\n",
    "                                   show_normed=True)\n",
    "    plt.title(\"Test Confusion Matrix \")\n",
    "    plt.ylabel(\"Actual\")\n",
    "    plt.xlabel(\"Predicted\")\n",
    "    plt.show()\n",
    "    \n",
    "\n",
    "def Test_Data(X_train, y_train,X_test,y_test,best_alpha,fit_prior, vectorizer):\n",
    "    clf = MultinomialNB(alpha=best_alpha, class_prior =[0.5,0.5], fit_prior=fit_prior)\n",
    "    clf.fit(X_train, y_train)\n",
    "    # roc_auc_score(y_true, y_score) the 2nd parameter should be probability estimates of the positive class\n",
    "    # not the predicted outputs\n",
    "\n",
    "    X_train = X_train.tocsr()\n",
    "    X_test = X_test.tocsr()\n",
    "    y_train_pred = clf.predict_proba(X_train)[:,1]\n",
    "    y_test_pred =  clf.predict_proba(X_test)[:,1]                  \n",
    "    \n",
    "    train_fpr, train_tpr, thresholds = roc_curve(y_train,y_train_pred)\n",
    "    test_fpr, test_tpr, thresholds = roc_curve(y_test, y_test_pred)\n",
    "\n",
    "    sns.set_style(\"whitegrid\");\n",
    "    plt.plot(train_fpr, train_tpr, label=\"train AUC =\"+str(auc(train_fpr, train_tpr)))\n",
    "    plt.plot(test_fpr, test_tpr, label=\"test AUC =\"+str(auc(test_fpr, test_tpr)))\n",
    "    plt.legend()\n",
    "    plt.xlabel(\"FPR\")\n",
    "    plt.ylabel(\"TPR\")\n",
    "    plt.title(\"ROC Curve using %s on text features\"%vectorizer)\n",
    "    plt.show()\n",
    "\n",
    "    print(\"=\"*100)\n",
    "    \n",
    "    from sklearn.metrics import confusion_matrix\n",
    "    print(\"Train confusion matrix\")\n",
    "    \n",
    "    y_train_pred_val = []\n",
    "    for item in y_train_pred:\n",
    "        y_train_pred_val.append(int(round(item)))\n",
    "        \n",
    "    y_test_pred_val = []\n",
    "    for item in y_test_pred:\n",
    "        y_test_pred_val.append(int(round(item)))\n",
    "    \n",
    "    print(\"=\"*100)\n",
    "    from sklearn.metrics import confusion_matrix\n",
    "    best_t = find_best_threshold(thresholds, train_fpr, train_tpr)\n",
    "    \n",
    "    print(\"Train confusion matrix\")\n",
    "    predicted_train=predict_with_best_t(y_train_pred_val, best_t)\n",
    "    cm_train = confusion_matrix(y_train, predicted_train)\n",
    "    print(cm_train)\n",
    "    draw_train_confusion_matrix(cm_train)\n",
    "    \n",
    "    print(\"Test confusion matrix\")\n",
    "    predicted_test=predict_with_best_t(y_test_pred_val, best_t)\n",
    "    cm_test = confusion_matrix(y_test, predicted_test)\n",
    "    print(cm_test)\n",
    "    draw_test_confusion_matrix(cm_test)\n",
    "\n",
    "    table.add_row([vectorizer, best_alpha, str(auc(test_fpr, test_tpr))])\n",
    "    \n",
    "    print(clf.feature_log_prob_.shape)\n",
    "    return clf.feature_log_prob_"
   ]
  },
  {
   "cell_type": "code",
   "execution_count": 131,
   "metadata": {
    "ExecuteTime": {
     "end_time": "2019-09-25T10:25:43.133192Z",
     "start_time": "2019-09-25T10:25:43.122188Z"
    }
   },
   "outputs": [],
   "source": [
    "import numpy as np\n",
    "def findTopFeatures(log_prob,count_vect,type):   \n",
    "    feature_prob = pd.DataFrame(log_prob, columns = count_vect)\n",
    "    feature_prob_tr = feature_prob.T\n",
    "\n",
    "    if(type=='positive'):\n",
    "        print(\"Top 10 Positive Features:-\\n\",feature_prob_tr[1].sort_values(ascending = False)[0:10])\n",
    "    else:\n",
    "        print(\"Top 10 Negative Features:-\\n\",feature_prob_tr[0].sort_values(ascending = False)[0:10])\n",
    "    "
   ]
  },
  {
   "cell_type": "markdown",
   "metadata": {
    "colab_type": "text",
    "id": "xzli_RRdN1OM"
   },
   "source": [
    "### 2.1.1 Applying Naive Bayes on BOW,<font color='red'> SET 1</font>"
   ]
  },
  {
   "cell_type": "code",
   "execution_count": 132,
   "metadata": {
    "ExecuteTime": {
     "end_time": "2019-09-25T10:25:55.757488Z",
     "start_time": "2019-09-25T10:25:44.921788Z"
    },
    "colab": {},
    "colab_type": "code",
    "id": "G8sy7LJmN1OO"
   },
   "outputs": [
    {
     "name": "stdout",
     "output_type": "stream",
     "text": [
      "The best parameters for using this model is {'alpha': 0.25, 'fit_prior': True}\n"
     ]
    },
    {
     "data": {
      "image/png": "[encoded data removed]",
      "text/plain": [
       "<Figure size 432x288 with 1 Axes>"
      ]
     },
     "metadata": {
      "needs_background": "light"
     },
     "output_type": "display_data"
    }
   ],
   "source": [
    "# Please write all the code with proper documentation\n",
    "Train_data(train_bow,y_train,vectorizer=\"Bow\")"
   ]
  },
  {
   "cell_type": "code",
   "execution_count": 133,
   "metadata": {
    "ExecuteTime": {
     "end_time": "2019-09-25T10:26:05.922884Z",
     "start_time": "2019-09-25T10:26:04.158610Z"
    }
   },
   "outputs": [
    {
     "data": {
      "image/png": "[encoded data removed]",
      "text/plain": [
       "<Figure size 432x288 with 1 Axes>"
      ]
     },
     "metadata": {},
     "output_type": "display_data"
    },
    {
     "name": "stdout",
     "output_type": "stream",
     "text": [
      "====================================================================================================\n",
      "Train confusion matrix\n",
      "====================================================================================================\n",
      "the maximum value of tpr*(1-fpr) 0.5862651640718259 for threshold 0.193\n",
      "Train confusion matrix\n",
      "[[ 3958  1210]\n",
      " [ 6697 21635]]\n"
     ]
    },
    {
     "data": {
      "image/png": "[encoded data removed]",
      "text/plain": [
       "<Figure size 432x288 with 2 Axes>"
      ]
     },
     "metadata": {},
     "output_type": "display_data"
    },
    {
     "name": "stdout",
     "output_type": "stream",
     "text": [
      "Test confusion matrix\n",
      "[[ 1425  1121]\n",
      " [ 3749 10205]]\n"
     ]
    },
    {
     "data": {
      "image/png": "[encoded data removed]",
      "text/plain": [
       "<Figure size 432x288 with 2 Axes>"
      ]
     },
     "metadata": {},
     "output_type": "display_data"
    },
    {
     "name": "stdout",
     "output_type": "stream",
     "text": [
      "(2, 16667)\n"
     ]
    }
   ],
   "source": [
    "bow_result= Test_Data(train_bow,y_train,test_bow,y_test, best_alpha=0.25,fit_prior=True,vectorizer=\"BOW\")"
   ]
  },
  {
   "cell_type": "code",
   "execution_count": 134,
   "metadata": {
    "ExecuteTime": {
     "end_time": "2019-09-25T10:26:26.929859Z",
     "start_time": "2019-09-25T10:26:14.959557Z"
    }
   },
   "outputs": [
    {
     "name": "stdout",
     "output_type": "stream",
     "text": [
      "The best parameters for using this model is {'alpha': 0.1, 'fit_prior': True}\n"
     ]
    },
    {
     "data": {
      "image/png": "[encoded data removed]",
      "text/plain": [
       "<Figure size 432x288 with 1 Axes>"
      ]
     },
     "metadata": {},
     "output_type": "display_data"
    }
   ],
   "source": [
    "# Please write all the code with proper documentation\n",
    "Train_data(train_bow_norm,y_train,vectorizer=\"Bow_normalized\")"
   ]
  },
  {
   "cell_type": "code",
   "execution_count": 135,
   "metadata": {
    "ExecuteTime": {
     "end_time": "2019-09-25T10:26:33.167107Z",
     "start_time": "2019-09-25T10:26:31.504927Z"
    }
   },
   "outputs": [
    {
     "data": {
      "image/png": "[encoded data removed]",
      "text/plain": [
       "<Figure size 432x288 with 1 Axes>"
      ]
     },
     "metadata": {},
     "output_type": "display_data"
    },
    {
     "name": "stdout",
     "output_type": "stream",
     "text": [
      "====================================================================================================\n",
      "Train confusion matrix\n",
      "====================================================================================================\n",
      "the maximum value of tpr*(1-fpr) 0.49762280745464327 for threshold 0.436\n",
      "Train confusion matrix\n",
      "[[ 3612  1556]\n",
      " [ 8309 20023]]\n"
     ]
    },
    {
     "data": {
      "image/png": "[encoded data removed]",
      "text/plain": [
       "<Figure size 432x288 with 2 Axes>"
      ]
     },
     "metadata": {},
     "output_type": "display_data"
    },
    {
     "name": "stdout",
     "output_type": "stream",
     "text": [
      "Test confusion matrix\n",
      "[[1379 1167]\n",
      " [4406 9548]]\n"
     ]
    },
    {
     "data": {
      "image/png": "[encoded data removed]",
      "text/plain": [
       "<Figure size 432x288 with 2 Axes>"
      ]
     },
     "metadata": {},
     "output_type": "display_data"
    },
    {
     "name": "stdout",
     "output_type": "stream",
     "text": [
      "(2, 16667)\n"
     ]
    }
   ],
   "source": [
    "#Bow with normalization\n",
    "bow_norm_result= Test_Data(train_bow_norm,y_train,test_bow_norm,y_test, best_alpha=0.1,fit_prior=True,vectorizer=\"BOW_normalized\")"
   ]
  },
  {
   "cell_type": "markdown",
   "metadata": {},
   "source": [
    "creating a list of all the text used in training of Bow"
   ]
  },
  {
   "cell_type": "code",
   "execution_count": 136,
   "metadata": {
    "ExecuteTime": {
     "end_time": "2019-09-25T10:26:34.523283Z",
     "start_time": "2019-09-25T10:26:34.463242Z"
    }
   },
   "outputs": [
    {
     "name": "stdout",
     "output_type": "stream",
     "text": [
      "(16667,)\n"
     ]
    }
   ],
   "source": [
    " bow_feature_list =[]\n",
    "\n",
    "for i in clean_categories_vectorizer.get_feature_names():\n",
    "    bow_feature_list.append(i)\n",
    "\n",
    "for i in clean_subcategories_vectorizer.get_feature_names():\n",
    "    bow_feature_list.append(i)\n",
    "\n",
    "for i in school_state_vectorizer.get_feature_names():\n",
    "    bow_feature_list.append(i)\n",
    "\n",
    "for i in teacher_prefix_vectorizer.get_feature_names():\n",
    "    bow_feature_list.append(i)\n",
    "\n",
    "for i in project_grade_vectorizer.get_feature_names():\n",
    "    bow_feature_list.append(i)\n",
    "\n",
    "for i in count_vect_essay.get_feature_names():\n",
    "    bow_feature_list.append(i)\n",
    "\n",
    "for i in count_vect_title.get_feature_names():\n",
    "    bow_feature_list.append(i)\n",
    "    \n",
    "bow_feature_list.append(price_normalized)\n",
    "\n",
    "import numpy as np\n",
    "myarray = np.asarray(bow_feature_list)\n",
    "print(myarray.shape)"
   ]
  },
  {
   "cell_type": "markdown",
   "metadata": {
    "colab_type": "text",
    "id": "WcsQ4_6VN1OQ"
   },
   "source": [
    "#### 2.1.1.1 Top 10 important features of positive class from<font color='red'> SET 1</font>"
   ]
  },
  {
   "cell_type": "code",
   "execution_count": 137,
   "metadata": {
    "ExecuteTime": {
     "end_time": "2019-09-25T10:26:36.661309Z",
     "start_time": "2019-09-25T10:26:36.624289Z"
    },
    "colab": {},
    "colab_type": "code",
    "id": "Lj0N7EdHN1OR"
   },
   "outputs": [
    {
     "name": "stdout",
     "output_type": "stream",
     "text": [
      "Top 10 Positive Features:-\n",
      " students    -3.078408\n",
      "school      -4.219936\n",
      "my          -4.537578\n",
      "learning    -4.578796\n",
      "classroom   -4.610132\n",
      "the         -4.846593\n",
      "they        -4.877090\n",
      "not         -4.882598\n",
      "learn       -4.925727\n",
      "help        -4.956055\n",
      "Name: 1, dtype: float64\n"
     ]
    }
   ],
   "source": [
    "# Please write all the code with proper documentation\n",
    "findTopFeatures(bow_result,myarray,'positive')"
   ]
  },
  {
   "cell_type": "code",
   "execution_count": 138,
   "metadata": {
    "ExecuteTime": {
     "end_time": "2019-09-25T10:26:37.630792Z",
     "start_time": "2019-09-25T10:26:37.598770Z"
    }
   },
   "outputs": [
    {
     "name": "stdout",
     "output_type": "stream",
     "text": [
      "Top 10 Positive Features:-\n",
      " mrs                  -3.441597\n",
      "literacy_language    -3.519953\n",
      "students             -3.691261\n",
      "grades_prek_2        -3.700853\n",
      "math_science         -3.783796\n",
      "ms                   -3.830369\n",
      "grades_3_5           -3.870017\n",
      "literacy             -3.940907\n",
      "mathematics          -4.168144\n",
      "literature_writing   -4.392429\n",
      "Name: 1, dtype: float64\n"
     ]
    }
   ],
   "source": [
    "# Please write all the code with proper documentation\n",
    "findTopFeatures(bow_norm_result,myarray,'positive')"
   ]
  },
  {
   "cell_type": "markdown",
   "metadata": {
    "colab_type": "text",
    "id": "mq21rLlsN1OS"
   },
   "source": [
    "#### 2.1.1.2 Top 10 important features of negative class from<font color='red'> SET 1</font>"
   ]
  },
  {
   "cell_type": "code",
   "execution_count": 139,
   "metadata": {
    "ExecuteTime": {
     "end_time": "2019-09-25T10:26:38.925717Z",
     "start_time": "2019-09-25T10:26:38.897697Z"
    },
    "colab": {},
    "colab_type": "code",
    "id": "4fG1Lm9CN1OT"
   },
   "outputs": [
    {
     "name": "stdout",
     "output_type": "stream",
     "text": [
      "Top 10 Negative Features:-\n",
      " students    -3.097711\n",
      "school      -4.209180\n",
      "learning    -4.499472\n",
      "my          -4.539424\n",
      "classroom   -4.654540\n",
      "learn       -4.859547\n",
      "not         -4.868336\n",
      "they        -4.877540\n",
      "help        -4.878549\n",
      "the         -4.919075\n",
      "Name: 0, dtype: float64\n"
     ]
    }
   ],
   "source": [
    "# Please write all the code with proper documentation\n",
    "findTopFeatures(bow_result,myarray,'negative')"
   ]
  },
  {
   "cell_type": "code",
   "execution_count": 140,
   "metadata": {
    "ExecuteTime": {
     "end_time": "2019-09-25T10:26:39.721793Z",
     "start_time": "2019-09-25T10:26:39.691771Z"
    }
   },
   "outputs": [
    {
     "name": "stdout",
     "output_type": "stream",
     "text": [
      "Top 10 Negative Features:-\n",
      " mrs                  -3.483845\n",
      "literacy_language    -3.656285\n",
      "grades_prek_2        -3.699849\n",
      "students             -3.724433\n",
      "math_science         -3.728194\n",
      "ms                   -3.828580\n",
      "grades_3_5           -3.923454\n",
      "literacy             -4.142445\n",
      "mathematics          -4.152077\n",
      "literature_writing   -4.464102\n",
      "Name: 0, dtype: float64\n"
     ]
    }
   ],
   "source": [
    "findTopFeatures(bow_norm_result,myarray,'negative')"
   ]
  },
  {
   "cell_type": "markdown",
   "metadata": {
    "colab_type": "text",
    "id": "4c1EK-EgN1OZ"
   },
   "source": [
    "### 2.1.2 Applying Naive Bayes on TFIDF,<font color='red'> SET 2</font>"
   ]
  },
  {
   "cell_type": "code",
   "execution_count": 141,
   "metadata": {
    "ExecuteTime": {
     "end_time": "2019-09-25T10:26:51.793083Z",
     "start_time": "2019-09-25T10:26:41.004786Z"
    },
    "colab": {},
    "colab_type": "code",
    "id": "QfJBWFlxN1Oa"
   },
   "outputs": [
    {
     "name": "stdout",
     "output_type": "stream",
     "text": [
      "The best parameters for using this model is {'alpha': 0.1, 'fit_prior': True}\n"
     ]
    },
    {
     "data": {
      "image/png": "[encoded data removed]",
      "text/plain": [
       "<Figure size 432x288 with 1 Axes>"
      ]
     },
     "metadata": {},
     "output_type": "display_data"
    }
   ],
   "source": [
    "# Please write all the code with proper documentation\n",
    "Train_data(train_tfidf,y_train,vectorizer=\"TfIdf\")"
   ]
  },
  {
   "cell_type": "code",
   "execution_count": 142,
   "metadata": {
    "ExecuteTime": {
     "end_time": "2019-09-25T10:26:58.289478Z",
     "start_time": "2019-09-25T10:26:56.436160Z"
    }
   },
   "outputs": [
    {
     "data": {
      "image/png": "[encoded data removed]",
      "text/plain": [
       "<Figure size 432x288 with 1 Axes>"
      ]
     },
     "metadata": {},
     "output_type": "display_data"
    },
    {
     "name": "stdout",
     "output_type": "stream",
     "text": [
      "====================================================================================================\n",
      "Train confusion matrix\n",
      "====================================================================================================\n",
      "the maximum value of tpr*(1-fpr) 0.566007996078344 for threshold 0.479\n",
      "Train confusion matrix\n",
      "[[ 3932  1236]\n",
      " [ 7277 21055]]\n"
     ]
    },
    {
     "data": {
      "image/png": "[encoded data removed]",
      "text/plain": [
       "<Figure size 432x288 with 2 Axes>"
      ]
     },
     "metadata": {},
     "output_type": "display_data"
    },
    {
     "name": "stdout",
     "output_type": "stream",
     "text": [
      "Test confusion matrix\n",
      "[[1339 1207]\n",
      " [4079 9875]]\n"
     ]
    },
    {
     "data": {
      "image/png": "[encoded data removed]",
      "text/plain": [
       "<Figure size 432x288 with 2 Axes>"
      ]
     },
     "metadata": {},
     "output_type": "display_data"
    },
    {
     "name": "stdout",
     "output_type": "stream",
     "text": [
      "(2, 16667)\n"
     ]
    }
   ],
   "source": [
    "tfidf_result= Test_Data(train_tfidf,y_train,test_tfidf,y_test, best_alpha=0.1,fit_prior=True,vectorizer=\"Tfidf\")"
   ]
  },
  {
   "cell_type": "code",
   "execution_count": 143,
   "metadata": {
    "ExecuteTime": {
     "end_time": "2019-09-25T10:27:09.221200Z",
     "start_time": "2019-09-25T10:26:58.581977Z"
    }
   },
   "outputs": [
    {
     "name": "stdout",
     "output_type": "stream",
     "text": [
      "The best parameters for using this model is {'alpha': 0.1, 'fit_prior': True}\n"
     ]
    },
    {
     "data": {
      "image/png": "[encoded data removed]",
      "text/plain": [
       "<Figure size 432x288 with 1 Axes>"
      ]
     },
     "metadata": {},
     "output_type": "display_data"
    }
   ],
   "source": [
    "Train_data(train_tfidf_norm,y_train,vectorizer=\"TfIdf_normalized\")"
   ]
  },
  {
   "cell_type": "code",
   "execution_count": 144,
   "metadata": {
    "ExecuteTime": {
     "end_time": "2019-09-25T10:27:16.630368Z",
     "start_time": "2019-09-25T10:27:14.809075Z"
    }
   },
   "outputs": [
    {
     "data": {
      "image/png": "[encoded data removed]",
      "text/plain": [
       "<Figure size 432x288 with 1 Axes>"
      ]
     },
     "metadata": {},
     "output_type": "display_data"
    },
    {
     "name": "stdout",
     "output_type": "stream",
     "text": [
      "====================================================================================================\n",
      "Train confusion matrix\n",
      "====================================================================================================\n",
      "the maximum value of tpr*(1-fpr) 0.566007996078344 for threshold 0.479\n",
      "Train confusion matrix\n",
      "[[ 3932  1236]\n",
      " [ 7277 21055]]\n"
     ]
    },
    {
     "data": {
      "image/png": "[encoded data removed]",
      "text/plain": [
       "<Figure size 432x288 with 2 Axes>"
      ]
     },
     "metadata": {},
     "output_type": "display_data"
    },
    {
     "name": "stdout",
     "output_type": "stream",
     "text": [
      "Test confusion matrix\n",
      "[[1339 1207]\n",
      " [4079 9875]]\n"
     ]
    },
    {
     "data": {
      "image/png": "[encoded data removed]",
      "text/plain": [
       "<Figure size 432x288 with 2 Axes>"
      ]
     },
     "metadata": {},
     "output_type": "display_data"
    },
    {
     "name": "stdout",
     "output_type": "stream",
     "text": [
      "(2, 16667)\n"
     ]
    }
   ],
   "source": [
    "tfidf_norm_result= Test_Data(train_tfidf_norm,y_train,test_tfidf_norm,y_test, best_alpha=0.1,fit_prior=True,vectorizer=\"Tfidf_normalized\")"
   ]
  },
  {
   "cell_type": "markdown",
   "metadata": {},
   "source": [
    "creating a list of all the text used in training of Tfidf"
   ]
  },
  {
   "cell_type": "code",
   "execution_count": 145,
   "metadata": {
    "ExecuteTime": {
     "end_time": "2019-09-25T10:27:18.460510Z",
     "start_time": "2019-09-25T10:27:18.402467Z"
    }
   },
   "outputs": [
    {
     "name": "stdout",
     "output_type": "stream",
     "text": [
      "(16667,)\n"
     ]
    }
   ],
   "source": [
    "tfidf_feature_list =[]\n",
    "\n",
    "for i in clean_categories_vectorizer.get_feature_names():\n",
    "    tfidf_feature_list.append(i)\n",
    "\n",
    "for i in clean_subcategories_vectorizer.get_feature_names():\n",
    "    tfidf_feature_list.append(i)\n",
    "\n",
    "for i in school_state_vectorizer.get_feature_names():\n",
    "    tfidf_feature_list.append(i)\n",
    "\n",
    "for i in teacher_prefix_vectorizer.get_feature_names():\n",
    "    tfidf_feature_list.append(i)\n",
    "\n",
    "for i in project_grade_vectorizer.get_feature_names():\n",
    "    tfidf_feature_list.append(i)\n",
    "\n",
    "for i in tfidf_essay.get_feature_names():\n",
    "    tfidf_feature_list.append(i)\n",
    "\n",
    "for i in tfidf_title.get_feature_names():\n",
    "    tfidf_feature_list.append(i)\n",
    "\n",
    "tfidf_feature_list.append(price_normalized)\n",
    "import numpy as np\n",
    "tfidf_arry = np.asarray(tfidf_feature_list)\n",
    "print(tfidf_arry.shape)"
   ]
  },
  {
   "cell_type": "markdown",
   "metadata": {
    "colab_type": "text",
    "id": "RlDghTPlN1Oc"
   },
   "source": [
    "#### 2.1.2.1 Top 10 important features of positive class from<font color='red'> SET 2</font>"
   ]
  },
  {
   "cell_type": "code",
   "execution_count": 146,
   "metadata": {
    "ExecuteTime": {
     "end_time": "2019-09-25T10:27:20.550497Z",
     "start_time": "2019-09-25T10:27:20.518475Z"
    },
    "colab": {},
    "colab_type": "code",
    "id": "MuYcE0THN1Oc"
   },
   "outputs": [
    {
     "name": "stdout",
     "output_type": "stream",
     "text": [
      "Top 10 Positive Features:-\n",
      " mrs                  -3.465239\n",
      "literacy_language    -3.543595\n",
      "grades_prek_2        -3.724495\n",
      "math_science         -3.807438\n",
      "ms                   -3.854011\n",
      "grades_3_5           -3.893659\n",
      "literacy             -3.964549\n",
      "mathematics          -4.191786\n",
      "literature_writing   -4.416071\n",
      "grades_6_8           -4.706353\n",
      "Name: 1, dtype: float64\n"
     ]
    }
   ],
   "source": [
    "# Please write all the code with proper documentation\n",
    "findTopFeatures(tfidf_result,tfidf_arry,'positive')"
   ]
  },
  {
   "cell_type": "code",
   "execution_count": 147,
   "metadata": {
    "ExecuteTime": {
     "end_time": "2019-09-25T10:27:21.676323Z",
     "start_time": "2019-09-25T10:27:21.637299Z"
    }
   },
   "outputs": [
    {
     "name": "stdout",
     "output_type": "stream",
     "text": [
      "Top 10 Positive Features:-\n",
      " mrs                  -3.465239\n",
      "literacy_language    -3.543595\n",
      "grades_prek_2        -3.724495\n",
      "math_science         -3.807438\n",
      "ms                   -3.854011\n",
      "grades_3_5           -3.893659\n",
      "literacy             -3.964549\n",
      "mathematics          -4.191786\n",
      "literature_writing   -4.416071\n",
      "grades_6_8           -4.706353\n",
      "Name: 1, dtype: float64\n"
     ]
    }
   ],
   "source": [
    "findTopFeatures(tfidf_norm_result,tfidf_arry,'positive')"
   ]
  },
  {
   "cell_type": "markdown",
   "metadata": {
    "colab_type": "text",
    "id": "E2F4tscgN1Oe"
   },
   "source": [
    "#### 2.1.2.2 Top 10 important features of negative class from<font color='red'> SET 2</font>"
   ]
  },
  {
   "cell_type": "code",
   "execution_count": 148,
   "metadata": {
    "ExecuteTime": {
     "end_time": "2019-09-25T10:27:23.476374Z",
     "start_time": "2019-09-25T10:27:23.441349Z"
    },
    "colab": {},
    "colab_type": "code",
    "id": "8-u4Xh2UN1Og"
   },
   "outputs": [
    {
     "name": "stdout",
     "output_type": "stream",
     "text": [
      "Top 10 Negative Features:-\n",
      " mrs                  -3.507644\n",
      "literacy_language    -3.680084\n",
      "grades_prek_2        -3.723648\n",
      "math_science         -3.751993\n",
      "ms                   -3.852379\n",
      "grades_3_5           -3.947253\n",
      "literacy             -4.166244\n",
      "mathematics          -4.175876\n",
      "literature_writing   -4.487901\n",
      "grades_6_8           -4.669186\n",
      "Name: 0, dtype: float64\n"
     ]
    }
   ],
   "source": [
    "# Please write all the code with proper documentation\n",
    "findTopFeatures(tfidf_result,tfidf_arry,'negative')"
   ]
  },
  {
   "cell_type": "code",
   "execution_count": 149,
   "metadata": {
    "ExecuteTime": {
     "end_time": "2019-09-25T10:27:25.423876Z",
     "start_time": "2019-09-25T10:27:25.393855Z"
    }
   },
   "outputs": [
    {
     "name": "stdout",
     "output_type": "stream",
     "text": [
      "Top 10 Negative Features:-\n",
      " mrs                  -3.507644\n",
      "literacy_language    -3.680084\n",
      "grades_prek_2        -3.723648\n",
      "math_science         -3.751993\n",
      "ms                   -3.852379\n",
      "grades_3_5           -3.947253\n",
      "literacy             -4.166244\n",
      "mathematics          -4.175876\n",
      "literature_writing   -4.487901\n",
      "grades_6_8           -4.669186\n",
      "Name: 0, dtype: float64\n"
     ]
    }
   ],
   "source": [
    "findTopFeatures(tfidf_norm_result,tfidf_arry,'negative')"
   ]
  },
  {
   "cell_type": "markdown",
   "metadata": {
    "colab_type": "text",
    "id": "vz0LvF7mN1Oi"
   },
   "source": [
    "<h1>3. Conclusions</h1>"
   ]
  },
  {
   "cell_type": "code",
   "execution_count": 150,
   "metadata": {
    "ExecuteTime": {
     "end_time": "2019-09-25T10:27:27.238440Z",
     "start_time": "2019-09-25T10:27:27.224433Z"
    },
    "colab": {},
    "colab_type": "code",
    "id": "nxMjhk9xN1Oi"
   },
   "outputs": [
    {
     "name": "stdout",
     "output_type": "stream",
     "text": [
      "+------------------+-----------------+--------------------+\n",
      "|    Vectorizer    | Hyper parameter |        AUC         |\n",
      "+------------------+-----------------+--------------------+\n",
      "|       BOW        |       0.25      | 0.6968896427843208 |\n",
      "|  BOW_normalized  |       0.1       | 0.6498656341490574 |\n",
      "|      Tfidf       |       0.1       | 0.6602301513411646 |\n",
      "| Tfidf_normalized |       0.1       | 0.6602301513411646 |\n",
      "+------------------+-----------------+--------------------+\n"
     ]
    }
   ],
   "source": [
    "# Please compare all your models using Prettytable library\n",
    "from prettytable import PrettyTable\n",
    "print(table)"
   ]
  },
  {
   "cell_type": "markdown",
   "metadata": {},
   "source": [
    "1. The above results show, NaivaBayes is able to seperate positive and negative upto some extent but not very clearly. We should try other algorithms\n",
    "2. To display the hyperparameters in plot clearly, I have taken log value of hyperparameter    \n",
    "3. Theoritically,alpha value 1 will be overfitting,but Gridsearch provides 0.1 as best hyperparameter by using CV error   \n",
    "4. Bow without normalized dataset is giving a better AUC value than normalized\n",
    "5. The dataset  is imbalanced, we havnt used undersampling or oversampling, that may also have contributed for the conflicting specificity and sensitivity    \n",
    "6. We can also conclude most of words used in title/essay of rejected projects looks almost same like approved project"
   ]
  },
  {
   "cell_type": "code",
   "execution_count": null,
   "metadata": {},
   "outputs": [],
   "source": []
  }
 ],
 "metadata": {
  "colab": {
   "collapsed_sections": [
    "hrCuADG4N1M-",
    "-U5bh83MN1NM",
    "_ht9enK1N1NT",
    "sYQKSZ_tN1NX",
    "n4vhAHnMN1Nf",
    "xzli_RRdN1OM",
    "WcsQ4_6VN1OQ",
    "mq21rLlsN1OS",
    "4c1EK-EgN1OZ",
    "RlDghTPlN1Oc",
    "E2F4tscgN1Oe"
   ],
   "name": "4_DonorsChoose_NB.ipynb",
   "provenance": [],
   "version": "0.3.2"
  },
  "kernelspec": {
   "display_name": "Python 3",
   "language": "python",
   "name": "python3"
  },
  "language_info": {
   "codemirror_mode": {
    "name": "ipython",
    "version": 3
   },
   "file_extension": ".py",
   "mimetype": "text/x-python",
   "name": "python",
   "nbconvert_exporter": "python",
   "pygments_lexer": "ipython3",
   "version": "3.7.3"
  },
  "toc": {
   "base_numbering": 1,
   "nav_menu": {},
   "number_sections": true,
   "sideBar": true,
   "skip_h1_title": false,
   "title_cell": "Table of Contents",
   "title_sidebar": "Contents",
   "toc_cell": false,
   "toc_position": {
    "height": "calc(100% - 180px)",
    "left": "10px",
    "top": "150px",
    "width": "226.188px"
   },
   "toc_section_display": true,
   "toc_window_display": true
  },
  "varInspector": {
   "cols": {
    "lenName": 16,
    "lenType": 16,
    "lenVar": 40
   },
   "kernels_config": {
    "python": {
     "delete_cmd_postfix": "",
     "delete_cmd_prefix": "del ",
     "library": "var_list.py",
     "varRefreshCmd": "print(var_dic_list())"
    },
    "r": {
     "delete_cmd_postfix": ") ",
     "delete_cmd_prefix": "rm(",
     "library": "var_list.r",
     "varRefreshCmd": "cat(var_dic_list()) "
    }
   },
   "types_to_exclude": [
    "module",
    "function",
    "builtin_function_or_method",
    "instance",
    "_Feature"
   ],
   "window_display": false
  }
 },
 "nbformat": 4,
 "nbformat_minor": 1
}
