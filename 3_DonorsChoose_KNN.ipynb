{
 "cells": [
  {
   "cell_type": "markdown",
   "metadata": {
    "colab_type": "text",
    "id": "-Ab-X-IrCyl0"
   },
   "source": [
    "# DonorsChoose"
   ]
  },
  {
   "cell_type": "markdown",
   "metadata": {
    "colab_type": "text",
    "id": "etNpzy7rCyl2"
   },
   "source": [
    "<p>\n",
    "DonorsChoose.org receives hundreds of thousands of project proposals each year for classroom projects in need of funding. Right now, a large number of volunteers is needed to manually screen each submission before it's approved to be posted on the DonorsChoose.org website.\n",
    "</p>\n",
    "<p>\n",
    "    Next year, DonorsChoose.org expects to receive close to 500,000 project proposals. As a result, there are three main problems they need to solve:\n",
    "<ul>\n",
    "<li>\n",
    "    How to scale current manual processes and resources to screen 500,000 projects so that they can be posted as quickly and as efficiently as possible</li>\n",
    "    <li>How to increase the consistency of project vetting across different volunteers to improve the experience for teachers</li>\n",
    "    <li>How to focus volunteer time on the applications that need the most assistance</li>\n",
    "    </ul>\n",
    "</p>    \n",
    "<p>\n",
    "The goal of the competition is to predict whether or not a DonorsChoose.org project proposal submitted by a teacher will be approved, using the text of project descriptions as well as additional metadata about the project, teacher, and school. DonorsChoose.org can then use this information to identify projects most likely to need further review before approval.\n",
    "</p>"
   ]
  },
  {
   "cell_type": "markdown",
   "metadata": {
    "colab_type": "text",
    "id": "kO2Kg7TgCyl4"
   },
   "source": [
    "## About the DonorsChoose Data Set\n",
    "\n",
    "The `train.csv` data set provided by DonorsChoose contains the following features:\n",
    "\n",
    "Feature | Description \n",
    "----------|---------------\n",
    "**`project_id`** | A unique identifier for the proposed project. **Example:** `p036502`   \n",
    "**`project_title`**    | Title of the project. **Examples:**<br><ul><li><code>Art Will Make You Happy!</code></li><li><code>First Grade Fun</code></li></ul> \n",
    "**`project_grade_category`** | Grade level of students for which the project is targeted. One of the following enumerated values: <br/><ul><li><code>Grades PreK-2</code></li><li><code>Grades 3-5</code></li><li><code>Grades 6-8</code></li><li><code>Grades 9-12</code></li></ul>  \n",
    " **`project_subject_categories`** | One or more (comma-separated) subject categories for the project from the following enumerated list of values:  <br/><ul><li><code>Applied Learning</code></li><li><code>Care &amp; Hunger</code></li><li><code>Health &amp; Sports</code></li><li><code>History &amp; Civics</code></li><li><code>Literacy &amp; Language</code></li><li><code>Math &amp; Science</code></li><li><code>Music &amp; The Arts</code></li><li><code>Special Needs</code></li><li><code>Warmth</code></li></ul><br/> **Examples:** <br/><ul><li><code>Music &amp; The Arts</code></li><li><code>Literacy &amp; Language, Math &amp; Science</code></li>  \n",
    "  **`school_state`** | State where school is located ([Two-letter U.S. postal code](https://en.wikipedia.org/wiki/List_of_U.S._state_abbreviations#Postal_codes)). **Example:** `WY`\n",
    "**`project_subject_subcategories`** | One or more (comma-separated) subject subcategories for the project. **Examples:** <br/><ul><li><code>Literacy</code></li><li><code>Literature &amp; Writing, Social Sciences</code></li></ul> \n",
    "**`project_resource_summary`** | An explanation of the resources needed for the project. **Example:** <br/><ul><li><code>My students need hands on literacy materials to manage sensory needs!</code</li></ul> \n",
    "**`project_essay_1`**    | First application essay<sup>*</sup>  \n",
    "**`project_essay_2`**    | Second application essay<sup>*</sup> \n",
    "**`project_essay_3`**    | Third application essay<sup>*</sup> \n",
    "**`project_essay_4`**    | Fourth application essay<sup>*</sup> \n",
    "**`project_submitted_datetime`** | Datetime when project application was submitted. **Example:** `2016-04-28 12:43:56.245`   \n",
    "**`teacher_id`** | A unique identifier for the teacher of the proposed project. **Example:** `bdf8baa8fedef6bfeec7ae4ff1c15c56`  \n",
    "**`teacher_prefix`** | Teacher's title. One of the following enumerated values: <br/><ul><li><code>nan</code></li><li><code>Dr.</code></li><li><code>Mr.</code></li><li><code>Mrs.</code></li><li><code>Ms.</code></li><li><code>Teacher.</code></li></ul>  \n",
    "**`teacher_number_of_previously_posted_projects`** | Number of project applications previously submitted by the same teacher. **Example:** `2` \n",
    "\n",
    "<sup>*</sup> See the section <b>Notes on the Essay Data</b> for more details about these features.\n",
    "\n",
    "Additionally, the `resources.csv` data set provides more data about the resources required for each project. Each line in this file represents a resource required by a project:\n",
    "\n",
    "Feature | Description \n",
    "----------|---------------\n",
    "**`id`** | A `project_id` value from the `train.csv` file.  **Example:** `p036502`   \n",
    "**`description`** | Desciption of the resource. **Example:** `Tenor Saxophone Reeds, Box of 25`   \n",
    "**`quantity`** | Quantity of the resource required. **Example:** `3`   \n",
    "**`price`** | Price of the resource required. **Example:** `9.95`   \n",
    "\n",
    "**Note:** Many projects require multiple resources. The `id` value corresponds to a `project_id` in train.csv, so you use it as a key to retrieve all resources needed for a project:\n",
    "\n",
    "The data set contains the following label (the value you will attempt to predict):\n",
    "\n",
    "Label | Description\n",
    "----------|---------------\n",
    "`project_is_approved` | A binary flag indicating whether DonorsChoose approved the project. A value of `0` indicates the project was not approved, and a value of `1` indicates the project was approved."
   ]
  },
  {
   "cell_type": "markdown",
   "metadata": {
    "colab_type": "text",
    "id": "dBGA_YStCyl6"
   },
   "source": [
    "### Notes on the Essay Data\n",
    "\n",
    "<ul>\n",
    "Prior to May 17, 2016, the prompts for the essays were as follows:\n",
    "<li>__project_essay_1:__ \"Introduce us to your classroom\"</li>\n",
    "<li>__project_essay_2:__ \"Tell us more about your students\"</li>\n",
    "<li>__project_essay_3:__ \"Describe how your students will use the materials you're requesting\"</li>\n",
    "<li>__project_essay_3:__ \"Close by sharing why your project will make a difference\"</li>\n",
    "</ul>\n",
    "\n",
    "\n",
    "<ul>\n",
    "Starting on May 17, 2016, the number of essays was reduced from 4 to 2, and the prompts for the first 2 essays were changed to the following:<br>\n",
    "<li>__project_essay_1:__ \"Describe your students: What makes your students special? Specific details about their background, your neighborhood, and your school are all helpful.\"</li>\n",
    "<li>__project_essay_2:__ \"About your project: How will these materials make a difference in your students' learning and improve their school lives?\"</li>\n",
    "<br>For all projects with project_submitted_datetime of 2016-05-17 and later, the values of project_essay_3 and project_essay_4 will be NaN.\n",
    "</ul>\n"
   ]
  },
  {
   "cell_type": "code",
   "execution_count": 117,
   "metadata": {
    "ExecuteTime": {
     "end_time": "2019-09-22T03:24:39.230262Z",
     "start_time": "2019-09-22T03:24:38.758928Z"
    },
    "colab": {},
    "colab_type": "code",
    "id": "XTrCJ5p9Cyl7",
    "outputId": "06c35f2f-d281-4345-9668-f8f44b28d6ac"
   },
   "outputs": [],
   "source": [
    "%matplotlib inline\n",
    "import warnings\n",
    "warnings.filterwarnings(\"ignore\")\n",
    "\n",
    "import sqlite3\n",
    "import pandas as pd\n",
    "import numpy as np\n",
    "import nltk\n",
    "import string\n",
    "import matplotlib.pyplot as plt\n",
    "import seaborn as sns\n",
    "from sklearn.feature_extraction.text import TfidfTransformer\n",
    "from sklearn.feature_extraction.text import TfidfVectorizer\n",
    "\n",
    "from sklearn.feature_extraction.text import CountVectorizer\n",
    "from sklearn.metrics import confusion_matrix\n",
    "from sklearn import metrics\n",
    "from sklearn.metrics import roc_curve, auc\n",
    "from nltk.stem.porter import PorterStemmer\n",
    "\n",
    "import re\n",
    "# Tutorial about Python regular expressions: https://pymotw.com/2/re/\n",
    "import string\n",
    "from nltk.corpus import stopwords\n",
    "from nltk.stem import PorterStemmer\n",
    "from nltk.stem.wordnet import WordNetLemmatizer\n",
    "\n",
    "from gensim.models import Word2Vec\n",
    "from gensim.models import KeyedVectors\n",
    "import pickle\n",
    "\n",
    "from tqdm import tqdm\n",
    "import os\n",
    "\n",
    "#from plotly import plotly\n",
    "#import plotly.offline as offline\n",
    "#import plotly.graph_objs as go\n",
    "#offline.init_notebook_mode()\n",
    "from collections import Counter"
   ]
  },
  {
   "cell_type": "markdown",
   "metadata": {
    "colab_type": "text",
    "id": "MjknLZQqCymQ"
   },
   "source": [
    "## 1.1 Reading Data"
   ]
  },
  {
   "cell_type": "code",
   "execution_count": 118,
   "metadata": {
    "ExecuteTime": {
     "end_time": "2019-09-22T03:24:47.140629Z",
     "start_time": "2019-09-22T03:24:39.236265Z"
    },
    "colab": {},
    "colab_type": "code",
    "id": "abtcqBS8CymT"
   },
   "outputs": [],
   "source": [
    "project_data = pd.read_csv('train_data.csv',nrows=50000)\n",
    "resource_data = pd.read_csv('resources.csv')"
   ]
  },
  {
   "cell_type": "code",
   "execution_count": 119,
   "metadata": {
    "ExecuteTime": {
     "end_time": "2019-09-22T03:24:47.234697Z",
     "start_time": "2019-09-22T03:24:47.146635Z"
    },
    "colab": {},
    "colab_type": "code",
    "id": "Prf2ghjDCymX",
    "outputId": "226c1b3c-35c9-48bd-afc9-7a819c871e8d"
   },
   "outputs": [
    {
     "name": "stdout",
     "output_type": "stream",
     "text": [
      "Number of data points in train data (50000, 17)\n",
      "--------------------------------------------------\n",
      "The attributes of data : ['Unnamed: 0' 'id' 'teacher_id' 'teacher_prefix' 'school_state'\n",
      " 'project_submitted_datetime' 'project_grade_category'\n",
      " 'project_subject_categories' 'project_subject_subcategories'\n",
      " 'project_title' 'project_essay_1' 'project_essay_2' 'project_essay_3'\n",
      " 'project_essay_4' 'project_resource_summary'\n",
      " 'teacher_number_of_previously_posted_projects' 'project_is_approved']\n"
     ]
    }
   ],
   "source": [
    "print(\"Number of data points in train data\", project_data.shape)\n",
    "print('-'*50)\n",
    "print(\"The attributes of data :\", project_data.columns.values)"
   ]
  },
  {
   "cell_type": "code",
   "execution_count": 120,
   "metadata": {
    "ExecuteTime": {
     "end_time": "2019-09-22T03:24:48.170195Z",
     "start_time": "2019-09-22T03:24:47.240701Z"
    },
    "colab": {},
    "colab_type": "code",
    "id": "BTGMDQoPCymc",
    "outputId": "5b3c47b3-d5d0-416b-b512-a59b77f60f0b"
   },
   "outputs": [
    {
     "data": {
      "text/html": [
       "<div>\n",
       "<style scoped>\n",
       "    .dataframe tbody tr th:only-of-type {\n",
       "        vertical-align: middle;\n",
       "    }\n",
       "\n",
       "    .dataframe tbody tr th {\n",
       "        vertical-align: top;\n",
       "    }\n",
       "\n",
       "    .dataframe thead th {\n",
       "        text-align: right;\n",
       "    }\n",
       "</style>\n",
       "<table border=\"1\" class=\"dataframe\">\n",
       "  <thead>\n",
       "    <tr style=\"text-align: right;\">\n",
       "      <th></th>\n",
       "      <th>Unnamed: 0</th>\n",
       "      <th>id</th>\n",
       "      <th>teacher_id</th>\n",
       "      <th>teacher_prefix</th>\n",
       "      <th>school_state</th>\n",
       "      <th>Date</th>\n",
       "      <th>project_grade_category</th>\n",
       "      <th>project_subject_categories</th>\n",
       "      <th>project_subject_subcategories</th>\n",
       "      <th>project_title</th>\n",
       "      <th>project_essay_1</th>\n",
       "      <th>project_essay_2</th>\n",
       "      <th>project_essay_3</th>\n",
       "      <th>project_essay_4</th>\n",
       "      <th>project_resource_summary</th>\n",
       "      <th>teacher_number_of_previously_posted_projects</th>\n",
       "      <th>project_is_approved</th>\n",
       "    </tr>\n",
       "  </thead>\n",
       "  <tbody>\n",
       "    <tr>\n",
       "      <th>473</th>\n",
       "      <td>100660</td>\n",
       "      <td>p234804</td>\n",
       "      <td>cbc0e38f522143b86d372f8b43d4cff3</td>\n",
       "      <td>Mrs.</td>\n",
       "      <td>GA</td>\n",
       "      <td>2016-04-27 00:53:00</td>\n",
       "      <td>Grades PreK-2</td>\n",
       "      <td>Applied Learning</td>\n",
       "      <td>Early Development</td>\n",
       "      <td>Flexible Seating for Flexible Learning</td>\n",
       "      <td>I recently read an article about giving studen...</td>\n",
       "      <td>I teach at a low-income (Title 1) school. Ever...</td>\n",
       "      <td>We need a classroom rug that we can use as a c...</td>\n",
       "      <td>Benjamin Franklin once said, \\\"Tell me and I f...</td>\n",
       "      <td>My students need flexible seating in the class...</td>\n",
       "      <td>2</td>\n",
       "      <td>1</td>\n",
       "    </tr>\n",
       "    <tr>\n",
       "      <th>41558</th>\n",
       "      <td>33679</td>\n",
       "      <td>p137682</td>\n",
       "      <td>06f6e62e17de34fcf81020c77549e1d5</td>\n",
       "      <td>Mrs.</td>\n",
       "      <td>WA</td>\n",
       "      <td>2016-04-27 01:05:25</td>\n",
       "      <td>Grades 3-5</td>\n",
       "      <td>Literacy &amp; Language</td>\n",
       "      <td>Literacy</td>\n",
       "      <td>Going Deep: The Art of Inner Thinking!</td>\n",
       "      <td>My students crave challenge, they eat obstacle...</td>\n",
       "      <td>We are an urban, public k-5 elementary school....</td>\n",
       "      <td>With the new common core standards that have b...</td>\n",
       "      <td>These remarkable gifts will provide students w...</td>\n",
       "      <td>My students need copies of the New York Times ...</td>\n",
       "      <td>2</td>\n",
       "      <td>1</td>\n",
       "    </tr>\n",
       "  </tbody>\n",
       "</table>\n",
       "</div>"
      ],
      "text/plain": [
       "       Unnamed: 0       id                        teacher_id teacher_prefix  \\\n",
       "473        100660  p234804  cbc0e38f522143b86d372f8b43d4cff3           Mrs.   \n",
       "41558       33679  p137682  06f6e62e17de34fcf81020c77549e1d5           Mrs.   \n",
       "\n",
       "      school_state                Date project_grade_category  \\\n",
       "473             GA 2016-04-27 00:53:00          Grades PreK-2   \n",
       "41558           WA 2016-04-27 01:05:25             Grades 3-5   \n",
       "\n",
       "      project_subject_categories project_subject_subcategories  \\\n",
       "473             Applied Learning             Early Development   \n",
       "41558        Literacy & Language                      Literacy   \n",
       "\n",
       "                                project_title  \\\n",
       "473    Flexible Seating for Flexible Learning   \n",
       "41558  Going Deep: The Art of Inner Thinking!   \n",
       "\n",
       "                                         project_essay_1  \\\n",
       "473    I recently read an article about giving studen...   \n",
       "41558  My students crave challenge, they eat obstacle...   \n",
       "\n",
       "                                         project_essay_2  \\\n",
       "473    I teach at a low-income (Title 1) school. Ever...   \n",
       "41558  We are an urban, public k-5 elementary school....   \n",
       "\n",
       "                                         project_essay_3  \\\n",
       "473    We need a classroom rug that we can use as a c...   \n",
       "41558  With the new common core standards that have b...   \n",
       "\n",
       "                                         project_essay_4  \\\n",
       "473    Benjamin Franklin once said, \\\"Tell me and I f...   \n",
       "41558  These remarkable gifts will provide students w...   \n",
       "\n",
       "                                project_resource_summary  \\\n",
       "473    My students need flexible seating in the class...   \n",
       "41558  My students need copies of the New York Times ...   \n",
       "\n",
       "       teacher_number_of_previously_posted_projects  project_is_approved  \n",
       "473                                               2                    1  \n",
       "41558                                             2                    1  "
      ]
     },
     "execution_count": 120,
     "metadata": {},
     "output_type": "execute_result"
    }
   ],
   "source": [
    "# how to replace elements in list python: https://stackoverflow.com/a/2582163/4084039\n",
    "cols = ['Date' if x=='project_submitted_datetime' else x for x in list(project_data.columns)]\n",
    "\n",
    "\n",
    "#sort dataframe based on time pandas python: https://stackoverflow.com/a/49702492/4084039\n",
    "project_data['Date'] = pd.to_datetime(project_data['project_submitted_datetime'])\n",
    "project_data.drop('project_submitted_datetime', axis=1, inplace=True)\n",
    "project_data.sort_values(by=['Date'], inplace=True)\n",
    "\n",
    "\n",
    "# how to reorder columns pandas python: https://stackoverflow.com/a/13148611/4084039\n",
    "project_data = project_data[cols]\n",
    "\n",
    "\n",
    "project_data.head(2)"
   ]
  },
  {
   "cell_type": "code",
   "execution_count": 121,
   "metadata": {
    "ExecuteTime": {
     "end_time": "2019-09-22T03:24:48.255335Z",
     "start_time": "2019-09-22T03:24:48.182205Z"
    },
    "colab": {},
    "colab_type": "code",
    "id": "ntdWuRoUCymj",
    "outputId": "7f1911f2-61b8-4069-bfb0-9fdfeb2419e3"
   },
   "outputs": [
    {
     "name": "stdout",
     "output_type": "stream",
     "text": [
      "Number of data points in train data (1541272, 4)\n",
      "['id' 'description' 'quantity' 'price']\n"
     ]
    },
    {
     "data": {
      "text/html": [
       "<div>\n",
       "<style scoped>\n",
       "    .dataframe tbody tr th:only-of-type {\n",
       "        vertical-align: middle;\n",
       "    }\n",
       "\n",
       "    .dataframe tbody tr th {\n",
       "        vertical-align: top;\n",
       "    }\n",
       "\n",
       "    .dataframe thead th {\n",
       "        text-align: right;\n",
       "    }\n",
       "</style>\n",
       "<table border=\"1\" class=\"dataframe\">\n",
       "  <thead>\n",
       "    <tr style=\"text-align: right;\">\n",
       "      <th></th>\n",
       "      <th>id</th>\n",
       "      <th>description</th>\n",
       "      <th>quantity</th>\n",
       "      <th>price</th>\n",
       "    </tr>\n",
       "  </thead>\n",
       "  <tbody>\n",
       "    <tr>\n",
       "      <th>0</th>\n",
       "      <td>p233245</td>\n",
       "      <td>LC652 - Lakeshore Double-Space Mobile Drying Rack</td>\n",
       "      <td>1</td>\n",
       "      <td>149.00</td>\n",
       "    </tr>\n",
       "    <tr>\n",
       "      <th>1</th>\n",
       "      <td>p069063</td>\n",
       "      <td>Bouncy Bands for Desks (Blue support pipes)</td>\n",
       "      <td>3</td>\n",
       "      <td>14.95</td>\n",
       "    </tr>\n",
       "  </tbody>\n",
       "</table>\n",
       "</div>"
      ],
      "text/plain": [
       "        id                                        description  quantity  \\\n",
       "0  p233245  LC652 - Lakeshore Double-Space Mobile Drying Rack         1   \n",
       "1  p069063        Bouncy Bands for Desks (Blue support pipes)         3   \n",
       "\n",
       "    price  \n",
       "0  149.00  \n",
       "1   14.95  "
      ]
     },
     "execution_count": 121,
     "metadata": {},
     "output_type": "execute_result"
    }
   ],
   "source": [
    "print(\"Number of data points in train data\", resource_data.shape)\n",
    "print(resource_data.columns.values)\n",
    "resource_data.head(2)"
   ]
  },
  {
   "cell_type": "markdown",
   "metadata": {
    "colab_type": "text",
    "id": "6WZaYhwJCymp"
   },
   "source": [
    "## 1.2 preprocessing of `project_subject_categories`"
   ]
  },
  {
   "cell_type": "code",
   "execution_count": 122,
   "metadata": {
    "ExecuteTime": {
     "end_time": "2019-09-22T03:24:52.090629Z",
     "start_time": "2019-09-22T03:24:48.297524Z"
    },
    "colab": {},
    "colab_type": "code",
    "id": "Mdkhq7PRCymr"
   },
   "outputs": [],
   "source": [
    "catogories = list(project_data['project_subject_categories'].values)\n",
    "# remove special characters from list of strings python: https://stackoverflow.com/a/47301924/4084039\n",
    "\n",
    "# https://www.geeksforgeeks.org/removing-stop-words-nltk-python/\n",
    "# https://stackoverflow.com/questions/23669024/how-to-strip-a-specific-word-from-a-string\n",
    "# https://stackoverflow.com/questions/8270092/remove-all-whitespace-in-a-string-in-python\n",
    "cat_list = []\n",
    "for i in catogories:\n",
    "    temp = \"\"\n",
    "    # consider we have text like this \"Math & Science, Warmth, Care & Hunger\"\n",
    "    for j in i.split(','): # it will split it in three parts [\"Math & Science\", \"Warmth\", \"Care & Hunger\"]\n",
    "        if 'The' in j.split(): # this will split each of the catogory based on space \"Math & Science\"=> \"Math\",\"&\", \"Science\"\n",
    "            j=j.replace('The','') # if we have the words \"The\" we are going to replace it with ''(i.e removing 'The')\n",
    "        j = j.replace(' ','') # we are placeing all the ' '(space) with ''(empty) ex:\"Math & Science\"=>\"Math&Science\"\n",
    "        temp+=j.strip()+\" \" #\" abc \".strip() will return \"abc\", remove the trailing spaces\n",
    "        temp = temp.replace('&','_') # we are replacing the & value into \n",
    "    cat_list.append(temp.strip())\n",
    "    \n",
    "project_data['clean_categories'] = cat_list\n",
    "project_data.drop(['project_subject_categories'], axis=1, inplace=True)\n",
    "\n",
    "from collections import Counter\n",
    "my_counter = Counter()\n",
    "for word in project_data['clean_categories'].values:\n",
    "    my_counter.update(word.split())\n",
    "\n",
    "cat_dict = dict(my_counter)\n",
    "sorted_cat_dict = dict(sorted(cat_dict.items(), key=lambda kv: kv[1]))\n"
   ]
  },
  {
   "cell_type": "markdown",
   "metadata": {
    "colab_type": "text",
    "id": "386yx3T2Cymv"
   },
   "source": [
    "## 1.3 preprocessing of `project_subject_subcategories`"
   ]
  },
  {
   "cell_type": "code",
   "execution_count": 123,
   "metadata": {
    "ExecuteTime": {
     "end_time": "2019-09-22T03:24:52.473645Z",
     "start_time": "2019-09-22T03:24:52.094913Z"
    },
    "colab": {},
    "colab_type": "code",
    "id": "4QSP0r8XCymw"
   },
   "outputs": [],
   "source": [
    "sub_catogories = list(project_data['project_subject_subcategories'].values)\n",
    "# remove special characters from list of strings python: https://stackoverflow.com/a/47301924/4084039\n",
    "\n",
    "# https://www.geeksforgeeks.org/removing-stop-words-nltk-python/\n",
    "# https://stackoverflow.com/questions/23669024/how-to-strip-a-specific-word-from-a-string\n",
    "# https://stackoverflow.com/questions/8270092/remove-all-whitespace-in-a-string-in-python\n",
    "\n",
    "sub_cat_list = []\n",
    "for i in sub_catogories:\n",
    "    temp = \"\"\n",
    "    # consider we have text like this \"Math & Science, Warmth, Care & Hunger\"\n",
    "    for j in i.split(','): # it will split it in three parts [\"Math & Science\", \"Warmth\", \"Care & Hunger\"]\n",
    "        if 'The' in j.split(): # this will split each of the catogory based on space \"Math & Science\"=> \"Math\",\"&\", \"Science\"\n",
    "            j=j.replace('The','') # if we have the words \"The\" we are going to replace it with ''(i.e removing 'The')\n",
    "        j = j.replace(' ','') # we are placeing all the ' '(space) with ''(empty) ex:\"Math & Science\"=>\"Math&Science\"\n",
    "        temp +=j.strip()+\" \"#\" abc \".strip() will return \"abc\", remove the trailing spaces\n",
    "        temp = temp.replace('&','_')\n",
    "    sub_cat_list.append(temp.strip())\n",
    "\n",
    "project_data['clean_subcategories'] = sub_cat_list\n",
    "project_data.drop(['project_subject_subcategories'], axis=1, inplace=True)\n",
    "\n",
    "# count of all the words in corpus python: https://stackoverflow.com/a/22898595/4084039\n",
    "my_counter = Counter()\n",
    "for word in project_data['clean_subcategories'].values:\n",
    "    my_counter.update(word.split())\n",
    "    \n",
    "sub_cat_dict = dict(my_counter)\n",
    "sorted_sub_cat_dict = dict(sorted(sub_cat_dict.items(), key=lambda kv: kv[1]))"
   ]
  },
  {
   "cell_type": "markdown",
   "metadata": {
    "colab_type": "text",
    "id": "NANzhWlLCynN"
   },
   "source": [
    "## 1.3 Text preprocessing"
   ]
  },
  {
   "cell_type": "code",
   "execution_count": 124,
   "metadata": {
    "ExecuteTime": {
     "end_time": "2019-09-22T03:24:53.147972Z",
     "start_time": "2019-09-22T03:24:52.482300Z"
    },
    "colab": {},
    "colab_type": "code",
    "id": "yqsmu-BTCynQ"
   },
   "outputs": [],
   "source": [
    "# merge two column text dataframe: \n",
    "project_data[\"essay\"] = project_data[\"project_essay_1\"].map(str) +\\\n",
    "                        project_data[\"project_essay_2\"].map(str) + \\\n",
    "                        project_data[\"project_essay_3\"].map(str) + \\\n",
    "                        project_data[\"project_essay_4\"].map(str)"
   ]
  },
  {
   "cell_type": "code",
   "execution_count": 125,
   "metadata": {
    "ExecuteTime": {
     "end_time": "2019-09-22T03:24:53.465166Z",
     "start_time": "2019-09-22T03:24:53.153960Z"
    },
    "colab": {},
    "colab_type": "code",
    "id": "xxtnd3maCynV",
    "outputId": "2002cbb7-9006-4764-ee13-c990d1a3a99e"
   },
   "outputs": [
    {
     "data": {
      "text/html": [
       "<div>\n",
       "<style scoped>\n",
       "    .dataframe tbody tr th:only-of-type {\n",
       "        vertical-align: middle;\n",
       "    }\n",
       "\n",
       "    .dataframe tbody tr th {\n",
       "        vertical-align: top;\n",
       "    }\n",
       "\n",
       "    .dataframe thead th {\n",
       "        text-align: right;\n",
       "    }\n",
       "</style>\n",
       "<table border=\"1\" class=\"dataframe\">\n",
       "  <thead>\n",
       "    <tr style=\"text-align: right;\">\n",
       "      <th></th>\n",
       "      <th>Unnamed: 0</th>\n",
       "      <th>id</th>\n",
       "      <th>teacher_id</th>\n",
       "      <th>teacher_prefix</th>\n",
       "      <th>school_state</th>\n",
       "      <th>Date</th>\n",
       "      <th>project_grade_category</th>\n",
       "      <th>project_title</th>\n",
       "      <th>project_essay_1</th>\n",
       "      <th>project_essay_2</th>\n",
       "      <th>project_essay_3</th>\n",
       "      <th>project_essay_4</th>\n",
       "      <th>project_resource_summary</th>\n",
       "      <th>teacher_number_of_previously_posted_projects</th>\n",
       "      <th>project_is_approved</th>\n",
       "      <th>clean_categories</th>\n",
       "      <th>clean_subcategories</th>\n",
       "      <th>essay</th>\n",
       "    </tr>\n",
       "  </thead>\n",
       "  <tbody>\n",
       "    <tr>\n",
       "      <th>473</th>\n",
       "      <td>100660</td>\n",
       "      <td>p234804</td>\n",
       "      <td>cbc0e38f522143b86d372f8b43d4cff3</td>\n",
       "      <td>Mrs.</td>\n",
       "      <td>GA</td>\n",
       "      <td>2016-04-27 00:53:00</td>\n",
       "      <td>Grades PreK-2</td>\n",
       "      <td>Flexible Seating for Flexible Learning</td>\n",
       "      <td>I recently read an article about giving studen...</td>\n",
       "      <td>I teach at a low-income (Title 1) school. Ever...</td>\n",
       "      <td>We need a classroom rug that we can use as a c...</td>\n",
       "      <td>Benjamin Franklin once said, \\\"Tell me and I f...</td>\n",
       "      <td>My students need flexible seating in the class...</td>\n",
       "      <td>2</td>\n",
       "      <td>1</td>\n",
       "      <td>AppliedLearning</td>\n",
       "      <td>EarlyDevelopment</td>\n",
       "      <td>I recently read an article about giving studen...</td>\n",
       "    </tr>\n",
       "    <tr>\n",
       "      <th>41558</th>\n",
       "      <td>33679</td>\n",
       "      <td>p137682</td>\n",
       "      <td>06f6e62e17de34fcf81020c77549e1d5</td>\n",
       "      <td>Mrs.</td>\n",
       "      <td>WA</td>\n",
       "      <td>2016-04-27 01:05:25</td>\n",
       "      <td>Grades 3-5</td>\n",
       "      <td>Going Deep: The Art of Inner Thinking!</td>\n",
       "      <td>My students crave challenge, they eat obstacle...</td>\n",
       "      <td>We are an urban, public k-5 elementary school....</td>\n",
       "      <td>With the new common core standards that have b...</td>\n",
       "      <td>These remarkable gifts will provide students w...</td>\n",
       "      <td>My students need copies of the New York Times ...</td>\n",
       "      <td>2</td>\n",
       "      <td>1</td>\n",
       "      <td>Literacy_Language</td>\n",
       "      <td>Literacy</td>\n",
       "      <td>My students crave challenge, they eat obstacle...</td>\n",
       "    </tr>\n",
       "    <tr>\n",
       "      <th>29891</th>\n",
       "      <td>146723</td>\n",
       "      <td>p099708</td>\n",
       "      <td>c0a28c79fe8ad5810da49de47b3fb491</td>\n",
       "      <td>Mrs.</td>\n",
       "      <td>CA</td>\n",
       "      <td>2016-04-27 01:10:09</td>\n",
       "      <td>Grades 3-5</td>\n",
       "      <td>Breakout Box to Ignite Engagement!</td>\n",
       "      <td>It's the end of the school year. Routines have...</td>\n",
       "      <td>My students desire challenges, movement, and c...</td>\n",
       "      <td>I will design different clues using specific c...</td>\n",
       "      <td>Donations to this project will immediately imp...</td>\n",
       "      <td>My students need items from a \\\"Breakout Box\\\"...</td>\n",
       "      <td>6</td>\n",
       "      <td>1</td>\n",
       "      <td>Math_Science History_Civics</td>\n",
       "      <td>Mathematics SocialSciences</td>\n",
       "      <td>It's the end of the school year. Routines have...</td>\n",
       "    </tr>\n",
       "    <tr>\n",
       "      <th>23374</th>\n",
       "      <td>72317</td>\n",
       "      <td>p087808</td>\n",
       "      <td>598621c141cda5fb184ee7e8ccdd3fcc</td>\n",
       "      <td>Ms.</td>\n",
       "      <td>CA</td>\n",
       "      <td>2016-04-27 02:04:15</td>\n",
       "      <td>Grades PreK-2</td>\n",
       "      <td>iPad for Learners</td>\n",
       "      <td>Never has society so rapidly changed. Technolo...</td>\n",
       "      <td>Our Language Arts and Social Justice Magnet Sc...</td>\n",
       "      <td>\\\"Is it my turn, Ms. K? When am I going to be ...</td>\n",
       "      <td>By donating to this project, you will give my ...</td>\n",
       "      <td>My students need 1 ipad mini.</td>\n",
       "      <td>127</td>\n",
       "      <td>1</td>\n",
       "      <td>Literacy_Language</td>\n",
       "      <td>ESL Literacy</td>\n",
       "      <td>Never has society so rapidly changed. Technolo...</td>\n",
       "    </tr>\n",
       "    <tr>\n",
       "      <th>49228</th>\n",
       "      <td>57854</td>\n",
       "      <td>p099430</td>\n",
       "      <td>4000cfe0c8b2df75a218347c1765e283</td>\n",
       "      <td>Ms.</td>\n",
       "      <td>IL</td>\n",
       "      <td>2016-04-27 07:19:44</td>\n",
       "      <td>Grades PreK-2</td>\n",
       "      <td>A flexible classroom for flexible minds!</td>\n",
       "      <td>My students yearn for a classroom environment ...</td>\n",
       "      <td>I have the privilege of teaching an incredible...</td>\n",
       "      <td>Ideally, I would love to delve right into \\\"fl...</td>\n",
       "      <td>This project will be so beneficial for my stud...</td>\n",
       "      <td>My students need 5 Hokki Stools and an easel o...</td>\n",
       "      <td>1</td>\n",
       "      <td>1</td>\n",
       "      <td>Literacy_Language</td>\n",
       "      <td>Literacy</td>\n",
       "      <td>My students yearn for a classroom environment ...</td>\n",
       "    </tr>\n",
       "    <tr>\n",
       "      <th>7176</th>\n",
       "      <td>79341</td>\n",
       "      <td>p091436</td>\n",
       "      <td>bb2599c4a114d211b3381abe9f899bf8</td>\n",
       "      <td>Mrs.</td>\n",
       "      <td>OH</td>\n",
       "      <td>2016-04-27 07:24:47</td>\n",
       "      <td>Grades PreK-2</td>\n",
       "      <td>Robots are Taking over 2nd Grade</td>\n",
       "      <td>Computer coding and robotics, my second grader...</td>\n",
       "      <td>We are a small, rural school in Northwest Ohio...</td>\n",
       "      <td>We have a new technology teacher to our distri...</td>\n",
       "      <td>You can help this dream of ours become a reali...</td>\n",
       "      <td>My students need a robot mouse STEM activity s...</td>\n",
       "      <td>72</td>\n",
       "      <td>1</td>\n",
       "      <td>Math_Science AppliedLearning</td>\n",
       "      <td>AppliedSciences EarlyDevelopment</td>\n",
       "      <td>Computer coding and robotics, my second grader...</td>\n",
       "    </tr>\n",
       "    <tr>\n",
       "      <th>35006</th>\n",
       "      <td>149397</td>\n",
       "      <td>p131036</td>\n",
       "      <td>bf5bf59287e7c676a634a00284596b64</td>\n",
       "      <td>Mrs.</td>\n",
       "      <td>FL</td>\n",
       "      <td>2016-04-27 08:42:52</td>\n",
       "      <td>Grades 3-5</td>\n",
       "      <td>Help us travel the world...VIRTUALLY!</td>\n",
       "      <td>We LOVE technology! In our classroom, technolo...</td>\n",
       "      <td>I have 50 bright, hard-working, technology-mot...</td>\n",
       "      <td>The ability to place one virtual reality devic...</td>\n",
       "      <td>By allowing my students the opportunity to tak...</td>\n",
       "      <td>My students need virtual reality viewers to ho...</td>\n",
       "      <td>2</td>\n",
       "      <td>0</td>\n",
       "      <td>History_Civics Literacy_Language</td>\n",
       "      <td>History_Geography Literature_Writing</td>\n",
       "      <td>We LOVE technology! In our classroom, technolo...</td>\n",
       "    </tr>\n",
       "    <tr>\n",
       "      <th>5145</th>\n",
       "      <td>50256</td>\n",
       "      <td>p203475</td>\n",
       "      <td>63e9a9f2c9811a247f1aa32ee6f92644</td>\n",
       "      <td>Mrs.</td>\n",
       "      <td>CA</td>\n",
       "      <td>2016-04-27 08:45:34</td>\n",
       "      <td>Grades 3-5</td>\n",
       "      <td>Books to Power Powerful Book Clubs!</td>\n",
       "      <td>Do you remember the book you read that made yo...</td>\n",
       "      <td>My students are part of an exciting adventure....</td>\n",
       "      <td>We are fortunate enough to be a \\\"project scho...</td>\n",
       "      <td>As a new teacher my book shelves are bare or t...</td>\n",
       "      <td>My students need books to help support their h...</td>\n",
       "      <td>6</td>\n",
       "      <td>1</td>\n",
       "      <td>Literacy_Language</td>\n",
       "      <td>Literacy</td>\n",
       "      <td>Do you remember the book you read that made yo...</td>\n",
       "    </tr>\n",
       "    <tr>\n",
       "      <th>48237</th>\n",
       "      <td>139237</td>\n",
       "      <td>p147271</td>\n",
       "      <td>7f2072d18c67087af27066f60b2c9d85</td>\n",
       "      <td>Mrs.</td>\n",
       "      <td>MO</td>\n",
       "      <td>2016-04-27 08:51:43</td>\n",
       "      <td>Grades 9-12</td>\n",
       "      <td>Choice Novels for Freshman Students are Needed...</td>\n",
       "      <td>My students are learning to become lovers of r...</td>\n",
       "      <td>My students are freshman in the Honors English...</td>\n",
       "      <td>They are going to use these novel EVERYDAY!  M...</td>\n",
       "      <td>These donations will make a massive difference...</td>\n",
       "      <td>My students need YA novels to improve their lo...</td>\n",
       "      <td>3</td>\n",
       "      <td>1</td>\n",
       "      <td>Literacy_Language</td>\n",
       "      <td>Literacy Literature_Writing</td>\n",
       "      <td>My students are learning to become lovers of r...</td>\n",
       "    </tr>\n",
       "    <tr>\n",
       "      <th>46375</th>\n",
       "      <td>148085</td>\n",
       "      <td>p196567</td>\n",
       "      <td>171f782b55614c56213131bcb8d44e06</td>\n",
       "      <td>Mrs.</td>\n",
       "      <td>VA</td>\n",
       "      <td>2016-04-27 09:08:08</td>\n",
       "      <td>Grades 3-5</td>\n",
       "      <td>Techies in Training</td>\n",
       "      <td>Everyday my students interact with each other ...</td>\n",
       "      <td>My students are a diverse group whose learning...</td>\n",
       "      <td>My students love to learn and work as teams.  ...</td>\n",
       "      <td>With the addition of two iPads to my classroom...</td>\n",
       "      <td>My students need an iPad mini with a protectiv...</td>\n",
       "      <td>0</td>\n",
       "      <td>1</td>\n",
       "      <td>Math_Science</td>\n",
       "      <td>EnvironmentalScience Mathematics</td>\n",
       "      <td>Everyday my students interact with each other ...</td>\n",
       "    </tr>\n",
       "    <tr>\n",
       "      <th>36468</th>\n",
       "      <td>121622</td>\n",
       "      <td>p138958</td>\n",
       "      <td>57626865698278199f753dc0f8e3ed00</td>\n",
       "      <td>Ms.</td>\n",
       "      <td>GA</td>\n",
       "      <td>2016-04-27 09:13:12</td>\n",
       "      <td>Grades PreK-2</td>\n",
       "      <td>Literacy Classroom Materials</td>\n",
       "      <td>Everyday students are so excited to come to me...</td>\n",
       "      <td>They are all students who speak two languages ...</td>\n",
       "      <td>With these materials, I will be able to implem...</td>\n",
       "      <td>The donations will help improve my classroom b...</td>\n",
       "      <td>My students need highlighters, magnetic letter...</td>\n",
       "      <td>2</td>\n",
       "      <td>0</td>\n",
       "      <td>Literacy_Language</td>\n",
       "      <td>ESL Literacy</td>\n",
       "      <td>Everyday students are so excited to come to me...</td>\n",
       "    </tr>\n",
       "    <tr>\n",
       "      <th>36358</th>\n",
       "      <td>135897</td>\n",
       "      <td>p092089</td>\n",
       "      <td>44ab4df75ae4e8b9bb23b818a7a1b1a4</td>\n",
       "      <td>Mrs.</td>\n",
       "      <td>MD</td>\n",
       "      <td>2016-04-27 09:15:30</td>\n",
       "      <td>Grades PreK-2</td>\n",
       "      <td>Literacy Centers</td>\n",
       "      <td>I am half day pre-k. I have two sets of studen...</td>\n",
       "      <td>My students range from 4 to 5 years in age. Th...</td>\n",
       "      <td>My students need; What's the Rhyme, Building W...</td>\n",
       "      <td>Many of my students come from poverty or are E...</td>\n",
       "      <td>My students need; What's the Rhyme, Building W...</td>\n",
       "      <td>1</td>\n",
       "      <td>1</td>\n",
       "      <td>Literacy_Language</td>\n",
       "      <td>ESL Literacy</td>\n",
       "      <td>I am half day pre-k. I have two sets of studen...</td>\n",
       "    </tr>\n",
       "    <tr>\n",
       "      <th>39438</th>\n",
       "      <td>123970</td>\n",
       "      <td>p136762</td>\n",
       "      <td>362f046c8551fa0b2515f99d6e3ce6ea</td>\n",
       "      <td>Mr.</td>\n",
       "      <td>TX</td>\n",
       "      <td>2016-04-27 09:17:34</td>\n",
       "      <td>Grades PreK-2</td>\n",
       "      <td>Bilingual and Spanish Books for our Elementary...</td>\n",
       "      <td>Our school is an urban public school that serv...</td>\n",
       "      <td>I teach in a neighborhood school that serves 4...</td>\n",
       "      <td>Literacy developed in the primary language tra...</td>\n",
       "      <td>Free voluntary reading helps all components of...</td>\n",
       "      <td>My students need more bilingual and Spanish bo...</td>\n",
       "      <td>0</td>\n",
       "      <td>1</td>\n",
       "      <td>Literacy_Language</td>\n",
       "      <td>ESL Literacy</td>\n",
       "      <td>Our school is an urban public school that serv...</td>\n",
       "    </tr>\n",
       "    <tr>\n",
       "      <th>2521</th>\n",
       "      <td>164738</td>\n",
       "      <td>p248458</td>\n",
       "      <td>40da977f63fb3d85589a063471304b11</td>\n",
       "      <td>Ms.</td>\n",
       "      <td>NJ</td>\n",
       "      <td>2016-04-27 09:33:03</td>\n",
       "      <td>Grades PreK-2</td>\n",
       "      <td>Supplies to Support my Struggling Readers!!</td>\n",
       "      <td>My students are all struggling readers. I supp...</td>\n",
       "      <td>My students live in a lower income area in Cen...</td>\n",
       "      <td>The materials I am requesting will be used dur...</td>\n",
       "      <td>Imagine not being able to read the text you ar...</td>\n",
       "      <td>My students need phonics and reading comprehen...</td>\n",
       "      <td>27</td>\n",
       "      <td>0</td>\n",
       "      <td>Literacy_Language</td>\n",
       "      <td>Literacy Literature_Writing</td>\n",
       "      <td>My students are all struggling readers. I supp...</td>\n",
       "    </tr>\n",
       "    <tr>\n",
       "      <th>40180</th>\n",
       "      <td>86786</td>\n",
       "      <td>p028642</td>\n",
       "      <td>6b518fbb85fcbe1587c8ee36e31b990e</td>\n",
       "      <td>Ms.</td>\n",
       "      <td>OK</td>\n",
       "      <td>2016-04-27 09:36:31</td>\n",
       "      <td>Grades PreK-2</td>\n",
       "      <td>Developing Social Skills Though Music</td>\n",
       "      <td>My class is a self-contained program for stude...</td>\n",
       "      <td>I am a teacher at  in Moore, Oklahoma. 76% of ...</td>\n",
       "      <td>My students as kids with classical autism spec...</td>\n",
       "      <td>Donation to my project will help my students b...</td>\n",
       "      <td>My students need musical instruments to develo...</td>\n",
       "      <td>2</td>\n",
       "      <td>0</td>\n",
       "      <td>Music_Arts</td>\n",
       "      <td>Music</td>\n",
       "      <td>My class is a self-contained program for stude...</td>\n",
       "    </tr>\n",
       "    <tr>\n",
       "      <th>25460</th>\n",
       "      <td>24215</td>\n",
       "      <td>p146272</td>\n",
       "      <td>b268575725e7f840c48e108ff404b915</td>\n",
       "      <td>Mr.</td>\n",
       "      <td>PA</td>\n",
       "      <td>2016-04-27 09:51:44</td>\n",
       "      <td>Grades 6-8</td>\n",
       "      <td>Apollo-Ridge Band needs your help!</td>\n",
       "      <td>The thrill of learning music is indescribable,...</td>\n",
       "      <td>The Apollo-Ridge School District is situated i...</td>\n",
       "      <td>Our students perform in a number of ensembles ...</td>\n",
       "      <td>Testing has become a major focus in schools to...</td>\n",
       "      <td>My students need these instruments! The band p...</td>\n",
       "      <td>0</td>\n",
       "      <td>1</td>\n",
       "      <td>Music_Arts</td>\n",
       "      <td>Music PerformingArts</td>\n",
       "      <td>The thrill of learning music is indescribable,...</td>\n",
       "    </tr>\n",
       "    <tr>\n",
       "      <th>34399</th>\n",
       "      <td>70091</td>\n",
       "      <td>p211766</td>\n",
       "      <td>753d3d6395117f8cce147fd042dd9530</td>\n",
       "      <td>Mrs.</td>\n",
       "      <td>WV</td>\n",
       "      <td>2016-04-27 09:53:42</td>\n",
       "      <td>Grades 3-5</td>\n",
       "      <td>Bins for Books</td>\n",
       "      <td>Growing successful readers is a very important...</td>\n",
       "      <td>My students are third graders in a very rural ...</td>\n",
       "      <td>Growing successful readers is a very important...</td>\n",
       "      <td>Donations to this project would allow my stude...</td>\n",
       "      <td>My students need color coded book bins to stor...</td>\n",
       "      <td>0</td>\n",
       "      <td>1</td>\n",
       "      <td>Literacy_Language</td>\n",
       "      <td>Literacy Literature_Writing</td>\n",
       "      <td>Growing successful readers is a very important...</td>\n",
       "    </tr>\n",
       "    <tr>\n",
       "      <th>5364</th>\n",
       "      <td>14044</td>\n",
       "      <td>p002546</td>\n",
       "      <td>91dacb4ab5754671f342b4a12abf3cfb</td>\n",
       "      <td>Mr.</td>\n",
       "      <td>CO</td>\n",
       "      <td>2016-04-27 10:10:36</td>\n",
       "      <td>Grades 6-8</td>\n",
       "      <td>3D Printing</td>\n",
       "      <td>The art room during a sculpture class is a bee...</td>\n",
       "      <td>My students consist of a mixed group of 6th, 7...</td>\n",
       "      <td>Recently our 6th grade students have received ...</td>\n",
       "      <td>Students are captivated by technology.  Allowi...</td>\n",
       "      <td>My students need a 3D Printer.</td>\n",
       "      <td>3</td>\n",
       "      <td>1</td>\n",
       "      <td>AppliedLearning Music_Arts</td>\n",
       "      <td>College_CareerPrep VisualArts</td>\n",
       "      <td>The art room during a sculpture class is a bee...</td>\n",
       "    </tr>\n",
       "    <tr>\n",
       "      <th>47478</th>\n",
       "      <td>180708</td>\n",
       "      <td>p147293</td>\n",
       "      <td>9b5f1fee862044d8cff941506614a493</td>\n",
       "      <td>Mr.</td>\n",
       "      <td>VA</td>\n",
       "      <td>2016-04-27 10:11:59</td>\n",
       "      <td>Grades 9-12</td>\n",
       "      <td>Miscellaneous Equipment</td>\n",
       "      <td>Our athletes are a group of roughly 60 kids wh...</td>\n",
       "      <td>Our team has been represented at our State mee...</td>\n",
       "      <td>The miscellaneous equipment will help our coac...</td>\n",
       "      <td>The miscellaneous equipment will allow our coa...</td>\n",
       "      <td>My students need general accessories to assist...</td>\n",
       "      <td>1</td>\n",
       "      <td>0</td>\n",
       "      <td>Health_Sports</td>\n",
       "      <td>TeamSports</td>\n",
       "      <td>Our athletes are a group of roughly 60 kids wh...</td>\n",
       "    </tr>\n",
       "    <tr>\n",
       "      <th>45858</th>\n",
       "      <td>50829</td>\n",
       "      <td>p213188</td>\n",
       "      <td>b1c6a456c2e757d366bfbc79818f020b</td>\n",
       "      <td>Ms.</td>\n",
       "      <td>GA</td>\n",
       "      <td>2016-04-27 10:22:47</td>\n",
       "      <td>Grades 3-5</td>\n",
       "      <td>A Picture is Worth a Thousand Words</td>\n",
       "      <td>A picture is worth a thousand words. I often u...</td>\n",
       "      <td>I teach in a Title 1 school and many of my stu...</td>\n",
       "      <td>It is important for students to make a connect...</td>\n",
       "      <td>Please help my students make connections betwe...</td>\n",
       "      <td>My students need a digital camera.</td>\n",
       "      <td>27</td>\n",
       "      <td>1</td>\n",
       "      <td>Literacy_Language</td>\n",
       "      <td>ESL Literacy</td>\n",
       "      <td>A picture is worth a thousand words. I often u...</td>\n",
       "    </tr>\n",
       "    <tr>\n",
       "      <th>42002</th>\n",
       "      <td>59086</td>\n",
       "      <td>p226990</td>\n",
       "      <td>49e24758e486dabc3dbeb6e55c84532b</td>\n",
       "      <td>Mrs.</td>\n",
       "      <td>UT</td>\n",
       "      <td>2016-04-27 10:42:43</td>\n",
       "      <td>Grades 3-5</td>\n",
       "      <td>Inquiry Notebooks for Students</td>\n",
       "      <td>Every day is an adventure in my classroom. Stu...</td>\n",
       "      <td>My school is full of diverse students from man...</td>\n",
       "      <td>Students will use the inquiry notebooks in all...</td>\n",
       "      <td>My project will make a difference in my studen...</td>\n",
       "      <td>My students need inquiry notebooks to help the...</td>\n",
       "      <td>0</td>\n",
       "      <td>1</td>\n",
       "      <td>Math_Science Literacy_Language</td>\n",
       "      <td>EnvironmentalScience Literature_Writing</td>\n",
       "      <td>Every day is an adventure in my classroom. Stu...</td>\n",
       "    </tr>\n",
       "    <tr>\n",
       "      <th>41598</th>\n",
       "      <td>149227</td>\n",
       "      <td>p029827</td>\n",
       "      <td>8ac28158e0fdee58df100712a795806c</td>\n",
       "      <td>Mrs.</td>\n",
       "      <td>FL</td>\n",
       "      <td>2016-04-27 10:44:32</td>\n",
       "      <td>Grades PreK-2</td>\n",
       "      <td>Classroom Learning Materials! .</td>\n",
       "      <td>Our classroom is not only a place to learn, it...</td>\n",
       "      <td>Manipulatives have come to be considered essen...</td>\n",
       "      <td>Manipulatives can be key in providing effectiv...</td>\n",
       "      <td>The use of manipulatives helps students hone t...</td>\n",
       "      <td>My students need math manipulatives to use who...</td>\n",
       "      <td>8</td>\n",
       "      <td>1</td>\n",
       "      <td>Literacy_Language Math_Science</td>\n",
       "      <td>Literacy Mathematics</td>\n",
       "      <td>Our classroom is not only a place to learn, it...</td>\n",
       "    </tr>\n",
       "    <tr>\n",
       "      <th>29183</th>\n",
       "      <td>39436</td>\n",
       "      <td>p061528</td>\n",
       "      <td>baf593ec5f2fe81a9a1595c52d274370</td>\n",
       "      <td>Mrs.</td>\n",
       "      <td>PA</td>\n",
       "      <td>2016-04-27 10:50:35</td>\n",
       "      <td>Grades 3-5</td>\n",
       "      <td>Leveled Library for Students with Disabilities</td>\n",
       "      <td>A typical day in my classroom includes a day f...</td>\n",
       "      <td>My class consists of 17 third grade students, ...</td>\n",
       "      <td>A high interest independent leveled reading sy...</td>\n",
       "      <td>Donations to our leveled reading kit would gre...</td>\n",
       "      <td>\\\"Reading for pleasure is strongly correlated ...</td>\n",
       "      <td>2</td>\n",
       "      <td>1</td>\n",
       "      <td>Literacy_Language</td>\n",
       "      <td>Literacy Literature_Writing</td>\n",
       "      <td>A typical day in my classroom includes a day f...</td>\n",
       "    </tr>\n",
       "    <tr>\n",
       "      <th>40611</th>\n",
       "      <td>71996</td>\n",
       "      <td>p131437</td>\n",
       "      <td>3e476228e495947d05540859b2387be9</td>\n",
       "      <td>Mr.</td>\n",
       "      <td>NY</td>\n",
       "      <td>2016-04-27 10:53:30</td>\n",
       "      <td>Grades 9-12</td>\n",
       "      <td>Capturing Culture through Photography</td>\n",
       "      <td>When properly motivated, high school students ...</td>\n",
       "      <td>Our school is an alternative high school for s...</td>\n",
       "      <td>The goal of this project is for my students to...</td>\n",
       "      <td>Aside from content, I also try and teach my st...</td>\n",
       "      <td>My students need a digital camera to document ...</td>\n",
       "      <td>1</td>\n",
       "      <td>1</td>\n",
       "      <td>AppliedLearning History_Civics</td>\n",
       "      <td>CharacterEducation SocialSciences</td>\n",
       "      <td>When properly motivated, high school students ...</td>\n",
       "    </tr>\n",
       "    <tr>\n",
       "      <th>49866</th>\n",
       "      <td>84997</td>\n",
       "      <td>p079450</td>\n",
       "      <td>0c1660bcc6914b4c3f52832f3f3bc43e</td>\n",
       "      <td>Ms.</td>\n",
       "      <td>CA</td>\n",
       "      <td>2016-04-27 11:13:30</td>\n",
       "      <td>Grades 9-12</td>\n",
       "      <td>DONATION PROTECTION PROGRAM</td>\n",
       "      <td>A teachers goal is to get their students to wo...</td>\n",
       "      <td>MY STUDENTS ARE AMAZING!!! They work hard to m...</td>\n",
       "      <td>My students work together to get 15 tablets do...</td>\n",
       "      <td>Now that I have this technology in my classroo...</td>\n",
       "      <td>My students need to protect and charge their n...</td>\n",
       "      <td>8</td>\n",
       "      <td>1</td>\n",
       "      <td>Math_Science</td>\n",
       "      <td>EnvironmentalScience Health_LifeScience</td>\n",
       "      <td>A teachers goal is to get their students to wo...</td>\n",
       "    </tr>\n",
       "    <tr>\n",
       "      <th>33043</th>\n",
       "      <td>1905</td>\n",
       "      <td>p008989</td>\n",
       "      <td>0520019c423ad0a1c08a5f43fb7f123c</td>\n",
       "      <td>Mrs.</td>\n",
       "      <td>AZ</td>\n",
       "      <td>2016-04-27 11:13:48</td>\n",
       "      <td>Grades 3-5</td>\n",
       "      <td>Awesome Alternative Seating</td>\n",
       "      <td>I believe in the power of movement. My student...</td>\n",
       "      <td>We are located in a very low socio-economic ar...</td>\n",
       "      <td>This year we have started implementing an alte...</td>\n",
       "      <td>Donations to this project will greatly improve...</td>\n",
       "      <td>My students need a large, low table, clipboard...</td>\n",
       "      <td>8</td>\n",
       "      <td>1</td>\n",
       "      <td>AppliedLearning SpecialNeeds</td>\n",
       "      <td>Other SpecialNeeds</td>\n",
       "      <td>I believe in the power of movement. My student...</td>\n",
       "    </tr>\n",
       "    <tr>\n",
       "      <th>37160</th>\n",
       "      <td>16059</td>\n",
       "      <td>p109497</td>\n",
       "      <td>60ca858a15ad6f3385598283cede0cdc</td>\n",
       "      <td>Ms.</td>\n",
       "      <td>MA</td>\n",
       "      <td>2016-04-27 11:13:53</td>\n",
       "      <td>Grades 6-8</td>\n",
       "      <td>Dibujar,escribir,estudiar</td>\n",
       "      <td>A picture is worth a thousand words! In a fore...</td>\n",
       "      <td>The students in my classes are hard working, e...</td>\n",
       "      <td>We frequently use art supplies in class. \\r\\nW...</td>\n",
       "      <td>By the end of each school year our markers, cr...</td>\n",
       "      <td>My students need art supplies to replenish the...</td>\n",
       "      <td>2</td>\n",
       "      <td>1</td>\n",
       "      <td>Literacy_Language</td>\n",
       "      <td>ForeignLanguages</td>\n",
       "      <td>A picture is worth a thousand words! In a fore...</td>\n",
       "    </tr>\n",
       "    <tr>\n",
       "      <th>27157</th>\n",
       "      <td>16851</td>\n",
       "      <td>p129651</td>\n",
       "      <td>64e581db3b7ead037a479605aa4ec86e</td>\n",
       "      <td>Mr.</td>\n",
       "      <td>ID</td>\n",
       "      <td>2016-04-27 11:13:59</td>\n",
       "      <td>Grades 9-12</td>\n",
       "      <td>Coffee House Learning</td>\n",
       "      <td>\\\"Don't Let Where You are Today Affect Where Y...</td>\n",
       "      <td>I have the opportunity to teach every senior (...</td>\n",
       "      <td>Students will use the materials sought to crea...</td>\n",
       "      <td>Creating a class environment that is comfortab...</td>\n",
       "      <td>My students need comfortable seating and worki...</td>\n",
       "      <td>0</td>\n",
       "      <td>1</td>\n",
       "      <td>AppliedLearning</td>\n",
       "      <td>College_CareerPrep</td>\n",
       "      <td>\\\"Don't Let Where You are Today Affect Where Y...</td>\n",
       "    </tr>\n",
       "    <tr>\n",
       "      <th>38830</th>\n",
       "      <td>140393</td>\n",
       "      <td>p246778</td>\n",
       "      <td>e0660933f517b2f1f735923be485cefe</td>\n",
       "      <td>Ms.</td>\n",
       "      <td>MI</td>\n",
       "      <td>2016-04-27 11:17:17</td>\n",
       "      <td>Grades 3-5</td>\n",
       "      <td>iPads for Interventions, Extensions, and Data ...</td>\n",
       "      <td>My biggest challenge is finding engaging inter...</td>\n",
       "      <td>My classroom consists of 24 eager to learn thi...</td>\n",
       "      <td>While working with small groups, the iPads wil...</td>\n",
       "      <td>When this project is funded I will be able to ...</td>\n",
       "      <td>My students need iPad minis to help with small...</td>\n",
       "      <td>1</td>\n",
       "      <td>1</td>\n",
       "      <td>Literacy_Language Math_Science</td>\n",
       "      <td>Literacy Mathematics</td>\n",
       "      <td>My biggest challenge is finding engaging inter...</td>\n",
       "    </tr>\n",
       "    <tr>\n",
       "      <th>42041</th>\n",
       "      <td>8845</td>\n",
       "      <td>p105964</td>\n",
       "      <td>fe16744e8a172f2d5348142666a704b0</td>\n",
       "      <td>Ms.</td>\n",
       "      <td>TX</td>\n",
       "      <td>2016-04-27 11:20:43</td>\n",
       "      <td>Grades 6-8</td>\n",
       "      <td>Flexible Classroom</td>\n",
       "      <td>On the first day of school all students walk i...</td>\n",
       "      <td>My students come from a variety of backgrounds...</td>\n",
       "      <td>I am trying a new style for my classroom that ...</td>\n",
       "      <td>This project will make a world of a difference...</td>\n",
       "      <td>My students need the rug, bean bag chairs, and...</td>\n",
       "      <td>1</td>\n",
       "      <td>1</td>\n",
       "      <td>Literacy_Language</td>\n",
       "      <td>Literacy</td>\n",
       "      <td>On the first day of school all students walk i...</td>\n",
       "    </tr>\n",
       "    <tr>\n",
       "      <th>...</th>\n",
       "      <td>...</td>\n",
       "      <td>...</td>\n",
       "      <td>...</td>\n",
       "      <td>...</td>\n",
       "      <td>...</td>\n",
       "      <td>...</td>\n",
       "      <td>...</td>\n",
       "      <td>...</td>\n",
       "      <td>...</td>\n",
       "      <td>...</td>\n",
       "      <td>...</td>\n",
       "      <td>...</td>\n",
       "      <td>...</td>\n",
       "      <td>...</td>\n",
       "      <td>...</td>\n",
       "      <td>...</td>\n",
       "      <td>...</td>\n",
       "      <td>...</td>\n",
       "    </tr>\n",
       "    <tr>\n",
       "      <th>5959</th>\n",
       "      <td>101327</td>\n",
       "      <td>p213502</td>\n",
       "      <td>a1d87937975089ce3744294cc6677a96</td>\n",
       "      <td>Mrs.</td>\n",
       "      <td>CA</td>\n",
       "      <td>2016-04-28 15:16:08</td>\n",
       "      <td>Grades PreK-2</td>\n",
       "      <td>Full Day Kindergarten Classroom Supplies</td>\n",
       "      <td>I am a new teacher and next year I will have a...</td>\n",
       "      <td>My students are bright, eager kindergarten stu...</td>\n",
       "      <td>My students will use the materials I am reques...</td>\n",
       "      <td>This project will make a difference in my clas...</td>\n",
       "      <td>My students need paper materials for next scho...</td>\n",
       "      <td>8</td>\n",
       "      <td>0</td>\n",
       "      <td>AppliedLearning Music_Arts</td>\n",
       "      <td>EarlyDevelopment VisualArts</td>\n",
       "      <td>I am a new teacher and next year I will have a...</td>\n",
       "    </tr>\n",
       "    <tr>\n",
       "      <th>23436</th>\n",
       "      <td>21539</td>\n",
       "      <td>p191671</td>\n",
       "      <td>29c4a4a5998d65b5c53c43548179362b</td>\n",
       "      <td>Mrs.</td>\n",
       "      <td>IN</td>\n",
       "      <td>2016-04-28 15:21:28</td>\n",
       "      <td>Grades 6-8</td>\n",
       "      <td>Please Help Us Honor Our Students!</td>\n",
       "      <td>My students work hard all year long and deserv...</td>\n",
       "      <td>We are a STEM (Science, Technology, Engineerin...</td>\n",
       "      <td>We are asking for 300 parchments certificates ...</td>\n",
       "      <td>Our students put tons of good work in all year...</td>\n",
       "      <td>My students need certificates and bracelets fo...</td>\n",
       "      <td>74</td>\n",
       "      <td>1</td>\n",
       "      <td>AppliedLearning SpecialNeeds</td>\n",
       "      <td>CharacterEducation SpecialNeeds</td>\n",
       "      <td>My students work hard all year long and deserv...</td>\n",
       "    </tr>\n",
       "    <tr>\n",
       "      <th>29284</th>\n",
       "      <td>99660</td>\n",
       "      <td>p019634</td>\n",
       "      <td>e3b04fb2e12e9bac036586715c86b721</td>\n",
       "      <td>Mrs.</td>\n",
       "      <td>NJ</td>\n",
       "      <td>2016-04-28 15:23:26</td>\n",
       "      <td>Grades PreK-2</td>\n",
       "      <td>Continuing our Education, 21st Century Ready</td>\n",
       "      <td>This school year, I have seen my children stru...</td>\n",
       "      <td>I have a class of 27 very energetic and enthus...</td>\n",
       "      <td>Students will be able to work on tablets in al...</td>\n",
       "      <td>Once they have the technology and are comforta...</td>\n",
       "      <td>My students need a variety of technology equip...</td>\n",
       "      <td>1</td>\n",
       "      <td>0</td>\n",
       "      <td>Literacy_Language Math_Science</td>\n",
       "      <td>Literature_Writing Mathematics</td>\n",
       "      <td>This school year, I have seen my children stru...</td>\n",
       "    </tr>\n",
       "    <tr>\n",
       "      <th>2245</th>\n",
       "      <td>91008</td>\n",
       "      <td>p037180</td>\n",
       "      <td>0eb5c0b1db6e300ee6d314e83e12cf9e</td>\n",
       "      <td>Mr.</td>\n",
       "      <td>CA</td>\n",
       "      <td>2016-04-28 15:24:48</td>\n",
       "      <td>Grades 6-8</td>\n",
       "      <td>Books, There and Back Again</td>\n",
       "      <td>My students are hesitant to be exposed to unfa...</td>\n",
       "      <td>Our school is low income, and thus many do not...</td>\n",
       "      <td>By entering the world of Middle Earth, through...</td>\n",
       "      <td>By empowering the students to be the readers a...</td>\n",
       "      <td>My students need books for a reading night for...</td>\n",
       "      <td>3</td>\n",
       "      <td>1</td>\n",
       "      <td>AppliedLearning Literacy_Language</td>\n",
       "      <td>Extracurricular Literacy</td>\n",
       "      <td>My students are hesitant to be exposed to unfa...</td>\n",
       "    </tr>\n",
       "    <tr>\n",
       "      <th>46407</th>\n",
       "      <td>121715</td>\n",
       "      <td>p044628</td>\n",
       "      <td>7b417908c7a73d33256f2519f1c728e4</td>\n",
       "      <td>Mrs.</td>\n",
       "      <td>GA</td>\n",
       "      <td>2016-04-28 15:31:41</td>\n",
       "      <td>Grades 3-5</td>\n",
       "      <td>Flipping the Math Class 03/30/16</td>\n",
       "      <td>A former administrator described my class as \\...</td>\n",
       "      <td>My students are inquisitive, intelligent in va...</td>\n",
       "      <td>In my math classroom students will participate...</td>\n",
       "      <td>This project will make a huge difference in my...</td>\n",
       "      <td>My students need computers to view video math ...</td>\n",
       "      <td>0</td>\n",
       "      <td>1</td>\n",
       "      <td>Math_Science</td>\n",
       "      <td>Mathematics</td>\n",
       "      <td>A former administrator described my class as \\...</td>\n",
       "    </tr>\n",
       "    <tr>\n",
       "      <th>26903</th>\n",
       "      <td>178019</td>\n",
       "      <td>p184876</td>\n",
       "      <td>09f6e85e35fbd6d5bb85e091beddc140</td>\n",
       "      <td>Mrs.</td>\n",
       "      <td>IA</td>\n",
       "      <td>2016-04-28 15:33:45</td>\n",
       "      <td>Grades PreK-2</td>\n",
       "      <td>Alternative Seating</td>\n",
       "      <td>I teach in the lower elementary and have very ...</td>\n",
       "      <td>I have eighteen kindergartners this year and m...</td>\n",
       "      <td>My students will be given the choice of where ...</td>\n",
       "      <td>This project will allow for students to see ho...</td>\n",
       "      <td>My students need some flexible seating options...</td>\n",
       "      <td>0</td>\n",
       "      <td>1</td>\n",
       "      <td>Literacy_Language Math_Science</td>\n",
       "      <td>Literacy Mathematics</td>\n",
       "      <td>I teach in the lower elementary and have very ...</td>\n",
       "    </tr>\n",
       "    <tr>\n",
       "      <th>39910</th>\n",
       "      <td>175203</td>\n",
       "      <td>p127423</td>\n",
       "      <td>e4c69b4958e8d98f54d3e71ff6725dd0</td>\n",
       "      <td>Ms.</td>\n",
       "      <td>SC</td>\n",
       "      <td>2016-04-28 15:41:01</td>\n",
       "      <td>Grades 3-5</td>\n",
       "      <td>TECHKnowledgeY Rules</td>\n",
       "      <td>I have wonderful group of fifth graders who ar...</td>\n",
       "      <td>Each of my students are very different. All of...</td>\n",
       "      <td>We are incorporating technology in our lessons...</td>\n",
       "      <td>Jenny Arledge says, \\\"Technology can become th...</td>\n",
       "      <td>My students need tablets to enhance their lear...</td>\n",
       "      <td>1</td>\n",
       "      <td>1</td>\n",
       "      <td>AppliedLearning Literacy_Language</td>\n",
       "      <td>College_CareerPrep Literacy</td>\n",
       "      <td>I have wonderful group of fifth graders who ar...</td>\n",
       "    </tr>\n",
       "    <tr>\n",
       "      <th>19524</th>\n",
       "      <td>22533</td>\n",
       "      <td>p092939</td>\n",
       "      <td>1a05182e5761c3799c4d872cef6b1a3b</td>\n",
       "      <td>Mr.</td>\n",
       "      <td>AL</td>\n",
       "      <td>2016-04-28 15:59:24</td>\n",
       "      <td>Grades 3-5</td>\n",
       "      <td>Headphones for Computer based learning</td>\n",
       "      <td>My students have several opportunities to lear...</td>\n",
       "      <td>My students are from a rural community in Alab...</td>\n",
       "      <td>Students will use the headphones to complete c...</td>\n",
       "      <td>This will my students to receive instruction a...</td>\n",
       "      <td>My students need 25 pairs of headphones for Co...</td>\n",
       "      <td>0</td>\n",
       "      <td>1</td>\n",
       "      <td>Literacy_Language Math_Science</td>\n",
       "      <td>Literacy Mathematics</td>\n",
       "      <td>My students have several opportunities to lear...</td>\n",
       "    </tr>\n",
       "    <tr>\n",
       "      <th>17004</th>\n",
       "      <td>171948</td>\n",
       "      <td>p244544</td>\n",
       "      <td>ba01d2ff0c9ecfdf236c473155c2a879</td>\n",
       "      <td>Mrs.</td>\n",
       "      <td>TX</td>\n",
       "      <td>2016-04-28 16:03:01</td>\n",
       "      <td>Grades 3-5</td>\n",
       "      <td>Cozy Reading &amp; Writing  Nook</td>\n",
       "      <td>Third grade is a very challenging year in the ...</td>\n",
       "      <td>Population in the classroom is like a bouquet ...</td>\n",
       "      <td>Our students go  through so much that they des...</td>\n",
       "      <td>I can envision the students eager to get to th...</td>\n",
       "      <td>My students need a nice, cozy  area to  comple...</td>\n",
       "      <td>5</td>\n",
       "      <td>0</td>\n",
       "      <td>Literacy_Language Math_Science</td>\n",
       "      <td>Literature_Writing Mathematics</td>\n",
       "      <td>Third grade is a very challenging year in the ...</td>\n",
       "    </tr>\n",
       "    <tr>\n",
       "      <th>34245</th>\n",
       "      <td>131071</td>\n",
       "      <td>p149458</td>\n",
       "      <td>c6bd1493fb0813aaad373fe557e6f011</td>\n",
       "      <td>Mrs.</td>\n",
       "      <td>SC</td>\n",
       "      <td>2016-04-28 16:14:43</td>\n",
       "      <td>Grades 3-5</td>\n",
       "      <td>Welcome to the Book Club!</td>\n",
       "      <td>\\\"Let us remember: one book, one pen, one chil...</td>\n",
       "      <td>The classroom book clubs provide my students t...</td>\n",
       "      <td>We need 71 books for our classroom book clubs....</td>\n",
       "      <td>Thank you so much for your consideration of ou...</td>\n",
       "      <td>My students need books for classroom book club...</td>\n",
       "      <td>0</td>\n",
       "      <td>1</td>\n",
       "      <td>AppliedLearning Literacy_Language</td>\n",
       "      <td>CharacterEducation Literacy</td>\n",
       "      <td>\\\"Let us remember: one book, one pen, one chil...</td>\n",
       "    </tr>\n",
       "    <tr>\n",
       "      <th>20562</th>\n",
       "      <td>57608</td>\n",
       "      <td>p157292</td>\n",
       "      <td>3a90f5d812ea752fd39ab04666778c69</td>\n",
       "      <td>Ms.</td>\n",
       "      <td>NY</td>\n",
       "      <td>2016-04-28 16:48:07</td>\n",
       "      <td>Grades 6-8</td>\n",
       "      <td>iPad Project</td>\n",
       "      <td>Every day in my classroom is different and lot...</td>\n",
       "      <td>I teach a 12:1:4 self-contained classroom made...</td>\n",
       "      <td>I currently have 7 students in my classroom an...</td>\n",
       "      <td>My ultimate goal is to be able to have a class...</td>\n",
       "      <td>My students need an iPad for our classroom.</td>\n",
       "      <td>1</td>\n",
       "      <td>1</td>\n",
       "      <td>SpecialNeeds</td>\n",
       "      <td>SpecialNeeds</td>\n",
       "      <td>Every day in my classroom is different and lot...</td>\n",
       "    </tr>\n",
       "    <tr>\n",
       "      <th>24796</th>\n",
       "      <td>142291</td>\n",
       "      <td>p255083</td>\n",
       "      <td>a4361f495578e2a6970d9e151504cdae</td>\n",
       "      <td>Ms.</td>\n",
       "      <td>GA</td>\n",
       "      <td>2016-04-28 16:55:17</td>\n",
       "      <td>Grades 9-12</td>\n",
       "      <td>Chromebooks for the 21st Century Classroom</td>\n",
       "      <td>Everyday, my students are engaged in the conte...</td>\n",
       "      <td>My students were born into a society in which ...</td>\n",
       "      <td>The students will be using the Chromebooks for...</td>\n",
       "      <td>The majority of my students come from an envir...</td>\n",
       "      <td>My students need to advance their learning thr...</td>\n",
       "      <td>2</td>\n",
       "      <td>1</td>\n",
       "      <td>Math_Science</td>\n",
       "      <td>Mathematics</td>\n",
       "      <td>Everyday, my students are engaged in the conte...</td>\n",
       "    </tr>\n",
       "    <tr>\n",
       "      <th>19467</th>\n",
       "      <td>98350</td>\n",
       "      <td>p087336</td>\n",
       "      <td>e2e11c5f523f2a63255f546c03dd79e0</td>\n",
       "      <td>Mrs.</td>\n",
       "      <td>TX</td>\n",
       "      <td>2016-04-28 16:56:15</td>\n",
       "      <td>Grades PreK-2</td>\n",
       "      <td>Summer Library Makerspace</td>\n",
       "      <td>Our school library stays open during the summe...</td>\n",
       "      <td>My school is a Title 1 school.  85% of the pop...</td>\n",
       "      <td>Students will be able to use the kits to solve...</td>\n",
       "      <td>Kids engineer happier endings to folk tales an...</td>\n",
       "      <td>My students need STEM problem solving kits for...</td>\n",
       "      <td>0</td>\n",
       "      <td>1</td>\n",
       "      <td>Math_Science Literacy_Language</td>\n",
       "      <td>AppliedSciences Literature_Writing</td>\n",
       "      <td>Our school library stays open during the summe...</td>\n",
       "    </tr>\n",
       "    <tr>\n",
       "      <th>33897</th>\n",
       "      <td>174593</td>\n",
       "      <td>p150255</td>\n",
       "      <td>ad8cbf9227d2139e5f82c6c756540701</td>\n",
       "      <td>Ms.</td>\n",
       "      <td>UT</td>\n",
       "      <td>2016-04-28 17:05:29</td>\n",
       "      <td>Grades PreK-2</td>\n",
       "      <td>Supplies Help Needed</td>\n",
       "      <td>Our classroom is one is which learning is rich...</td>\n",
       "      <td>My students come from very diverse backgrounds...</td>\n",
       "      <td>Students will use pencils throughout the day w...</td>\n",
       "      <td>My students are grateful for anything that bel...</td>\n",
       "      <td>My students need school supplies for school. T...</td>\n",
       "      <td>0</td>\n",
       "      <td>1</td>\n",
       "      <td>AppliedLearning</td>\n",
       "      <td>Other</td>\n",
       "      <td>Our classroom is one is which learning is rich...</td>\n",
       "    </tr>\n",
       "    <tr>\n",
       "      <th>23012</th>\n",
       "      <td>90705</td>\n",
       "      <td>p117785</td>\n",
       "      <td>d313bc04f892b98227c117149c9976b7</td>\n",
       "      <td>Mr.</td>\n",
       "      <td>WV</td>\n",
       "      <td>2016-04-28 17:35:05</td>\n",
       "      <td>Grades 3-5</td>\n",
       "      <td>W'S WORLD GYM</td>\n",
       "      <td>As students walk into my gymnasium, they are g...</td>\n",
       "      <td>Our school is a high-poverty, inner city schoo...</td>\n",
       "      <td>The addition of a parachute and foam balls wou...</td>\n",
       "      <td>Research confirms that healthy students are be...</td>\n",
       "      <td>My students need a new parachute because our c...</td>\n",
       "      <td>0</td>\n",
       "      <td>1</td>\n",
       "      <td>Health_Sports</td>\n",
       "      <td>Gym_Fitness</td>\n",
       "      <td>As students walk into my gymnasium, they are g...</td>\n",
       "    </tr>\n",
       "    <tr>\n",
       "      <th>26415</th>\n",
       "      <td>81164</td>\n",
       "      <td>p249344</td>\n",
       "      <td>b5bb3137a2ec4d481ab1ebed9be568ae</td>\n",
       "      <td>Teacher</td>\n",
       "      <td>NY</td>\n",
       "      <td>2016-04-28 17:35:46</td>\n",
       "      <td>Grades 3-5</td>\n",
       "      <td>Taking Teaching Above &amp; Beyond With Robotics</td>\n",
       "      <td>\\\"We're taking teaching and learning above and...</td>\n",
       "      <td>They are students with various learning disabi...</td>\n",
       "      <td>We are requesting (2) Ozobot Starter Packs, Pr...</td>\n",
       "      <td>I want my students to use all 4C skills to loo...</td>\n",
       "      <td>My students need (2) Ozobot Starter Pack, Prog...</td>\n",
       "      <td>6</td>\n",
       "      <td>1</td>\n",
       "      <td>Math_Science SpecialNeeds</td>\n",
       "      <td>AppliedSciences SpecialNeeds</td>\n",
       "      <td>\\\"We're taking teaching and learning above and...</td>\n",
       "    </tr>\n",
       "    <tr>\n",
       "      <th>17899</th>\n",
       "      <td>30589</td>\n",
       "      <td>p163178</td>\n",
       "      <td>1d653da693c72271c677c7ad8122097c</td>\n",
       "      <td>Mr.</td>\n",
       "      <td>IN</td>\n",
       "      <td>2016-04-28 18:57:40</td>\n",
       "      <td>Grades 3-5</td>\n",
       "      <td>Collaborative Thinkers want to become Crazy Co...</td>\n",
       "      <td>My students are naturally curious and they lov...</td>\n",
       "      <td>I have some of the hardest working fourth grad...</td>\n",
       "      <td>My students need a Sphero and Ipad to explore ...</td>\n",
       "      <td>The materials will provide the students with t...</td>\n",
       "      <td>My students need a Sphero and an iPad in order...</td>\n",
       "      <td>3</td>\n",
       "      <td>1</td>\n",
       "      <td>Math_Science</td>\n",
       "      <td>AppliedSciences</td>\n",
       "      <td>My students are naturally curious and they lov...</td>\n",
       "    </tr>\n",
       "    <tr>\n",
       "      <th>24746</th>\n",
       "      <td>45528</td>\n",
       "      <td>p236820</td>\n",
       "      <td>d02f32c22fb579177d49c6b23091f5fc</td>\n",
       "      <td>Mrs.</td>\n",
       "      <td>IN</td>\n",
       "      <td>2016-04-28 18:58:28</td>\n",
       "      <td>Grades PreK-2</td>\n",
       "      <td>Ink Needed for Projects!</td>\n",
       "      <td>\\\"Tell me and I forget. Teach me and I remembe...</td>\n",
       "      <td>I teach twenty-five second grade students in a...</td>\n",
       "      <td>I am requesting much needed items to give us a...</td>\n",
       "      <td>Being excited about learning is vital to becom...</td>\n",
       "      <td>My students need printer ink and plastic sheet...</td>\n",
       "      <td>103</td>\n",
       "      <td>1</td>\n",
       "      <td>Math_Science</td>\n",
       "      <td>Mathematics</td>\n",
       "      <td>\\\"Tell me and I forget. Teach me and I remembe...</td>\n",
       "    </tr>\n",
       "    <tr>\n",
       "      <th>41774</th>\n",
       "      <td>6835</td>\n",
       "      <td>p210149</td>\n",
       "      <td>ba358457ef84d213c13b2fbc22d9d102</td>\n",
       "      <td>Mrs.</td>\n",
       "      <td>CA</td>\n",
       "      <td>2016-04-28 19:07:10</td>\n",
       "      <td>Grades 3-5</td>\n",
       "      <td>Just Right Books for Lifelong Readers!</td>\n",
       "      <td>\\\"A book is a gift you can open again and agai...</td>\n",
       "      <td>My students are a diverse group of learners.  ...</td>\n",
       "      <td>Unfortunately, we only get to visit our school...</td>\n",
       "      <td>Students need to be able to check out books an...</td>\n",
       "      <td>My students need series of \\\"just right\\\" book...</td>\n",
       "      <td>3</td>\n",
       "      <td>0</td>\n",
       "      <td>Literacy_Language</td>\n",
       "      <td>Literacy</td>\n",
       "      <td>\\\"A book is a gift you can open again and agai...</td>\n",
       "    </tr>\n",
       "    <tr>\n",
       "      <th>399</th>\n",
       "      <td>130064</td>\n",
       "      <td>p045528</td>\n",
       "      <td>a208cc1b3cc1e5bd2c4384fca0ae90b7</td>\n",
       "      <td>Ms.</td>\n",
       "      <td>IL</td>\n",
       "      <td>2016-04-28 19:21:26</td>\n",
       "      <td>Grades 9-12</td>\n",
       "      <td>Wireless Tech for Developing Journalists</td>\n",
       "      <td>Every day, we start off class by attempting to...</td>\n",
       "      <td>My high school journalism students have grown ...</td>\n",
       "      <td>The wireless speaker will not only enable us t...</td>\n",
       "      <td>It's the little things that make a big differe...</td>\n",
       "      <td>My students need a wireless speaker, a wireles...</td>\n",
       "      <td>10</td>\n",
       "      <td>1</td>\n",
       "      <td>Literacy_Language</td>\n",
       "      <td>Literacy Literature_Writing</td>\n",
       "      <td>Every day, we start off class by attempting to...</td>\n",
       "    </tr>\n",
       "    <tr>\n",
       "      <th>11100</th>\n",
       "      <td>38690</td>\n",
       "      <td>p130399</td>\n",
       "      <td>7d069496b2fea166cccb0e131fff182b</td>\n",
       "      <td>Ms.</td>\n",
       "      <td>FL</td>\n",
       "      <td>2016-04-28 19:23:28</td>\n",
       "      <td>Grades 3-5</td>\n",
       "      <td>The Secret Agents</td>\n",
       "      <td>\\\"Just keep swimming\\\" is a quote often used i...</td>\n",
       "      <td>My students are leaders in our community, show...</td>\n",
       "      <td>The Geronimo Stilton books will be used in our...</td>\n",
       "      <td>One of the most difficult tasks this year has ...</td>\n",
       "      <td>My students need more Geronimo Stilton books t...</td>\n",
       "      <td>1</td>\n",
       "      <td>1</td>\n",
       "      <td>Literacy_Language</td>\n",
       "      <td>Literacy</td>\n",
       "      <td>\\\"Just keep swimming\\\" is a quote often used i...</td>\n",
       "    </tr>\n",
       "    <tr>\n",
       "      <th>42689</th>\n",
       "      <td>78629</td>\n",
       "      <td>p081291</td>\n",
       "      <td>961cd4b4003302683d0d231ab188fbd2</td>\n",
       "      <td>Mrs.</td>\n",
       "      <td>IN</td>\n",
       "      <td>2016-04-28 19:32:12</td>\n",
       "      <td>Grades PreK-2</td>\n",
       "      <td>Get Ready, Get Set, Let's Write!</td>\n",
       "      <td>Some of my students begin elementary school wi...</td>\n",
       "      <td>When you walk into my kindergarten and first g...</td>\n",
       "      <td>These young students will enjoy learning how t...</td>\n",
       "      <td>My students will benefit from a multi-sensory ...</td>\n",
       "      <td>My students need individual chalkboards, paper...</td>\n",
       "      <td>1</td>\n",
       "      <td>1</td>\n",
       "      <td>AppliedLearning Literacy_Language</td>\n",
       "      <td>EarlyDevelopment Literature_Writing</td>\n",
       "      <td>Some of my students begin elementary school wi...</td>\n",
       "    </tr>\n",
       "    <tr>\n",
       "      <th>38326</th>\n",
       "      <td>126771</td>\n",
       "      <td>p040711</td>\n",
       "      <td>8cfde5af5d69f402c4c882540a62190d</td>\n",
       "      <td>Mrs.</td>\n",
       "      <td>AZ</td>\n",
       "      <td>2016-04-28 19:39:52</td>\n",
       "      <td>Grades 6-8</td>\n",
       "      <td>Learning Aids</td>\n",
       "      <td>Help my students become engaged independent le...</td>\n",
       "      <td>I have multiple grade level special education ...</td>\n",
       "      <td>The classroom  manipulatives  need to continue...</td>\n",
       "      <td>These supplies and organization unit will help...</td>\n",
       "      <td>My students need materials and supplies to hel...</td>\n",
       "      <td>1</td>\n",
       "      <td>1</td>\n",
       "      <td>Math_Science SpecialNeeds</td>\n",
       "      <td>Mathematics SpecialNeeds</td>\n",
       "      <td>Help my students become engaged independent le...</td>\n",
       "    </tr>\n",
       "    <tr>\n",
       "      <th>24237</th>\n",
       "      <td>153291</td>\n",
       "      <td>p254488</td>\n",
       "      <td>6cce68f20151ee0f95c16f1bed955c42</td>\n",
       "      <td>Mr.</td>\n",
       "      <td>SC</td>\n",
       "      <td>2016-04-28 19:47:38</td>\n",
       "      <td>Grades PreK-2</td>\n",
       "      <td>Reader's Reef</td>\n",
       "      <td>Every year has been the same since I began tea...</td>\n",
       "      <td>All of the students at my school are considere...</td>\n",
       "      <td>\\\"What's the Rhyme? Sorting House,\\\" \\\"Road to...</td>\n",
       "      <td>I have always believed that you can never have...</td>\n",
       "      <td>My students need \\\"What's the Rhyme? Sorting H...</td>\n",
       "      <td>2</td>\n",
       "      <td>1</td>\n",
       "      <td>Literacy_Language</td>\n",
       "      <td>Literacy</td>\n",
       "      <td>Every year has been the same since I began tea...</td>\n",
       "    </tr>\n",
       "    <tr>\n",
       "      <th>21800</th>\n",
       "      <td>43314</td>\n",
       "      <td>p009300</td>\n",
       "      <td>e3656335bdef805e087ce82f9dc78ce1</td>\n",
       "      <td>Mrs.</td>\n",
       "      <td>NC</td>\n",
       "      <td>2016-04-28 19:59:02</td>\n",
       "      <td>Grades PreK-2</td>\n",
       "      <td>Tech Savvy First Graders!! Part 2.0</td>\n",
       "      <td>\\\"Technology gives the quietest student a voic...</td>\n",
       "      <td>Our school, is located in the CC School distri...</td>\n",
       "      <td>My students will use the Osmo Gaming Systems d...</td>\n",
       "      <td>Osmo will help my students to become independe...</td>\n",
       "      <td>My students need Osmo Learning games &amp; Sphero.</td>\n",
       "      <td>6</td>\n",
       "      <td>1</td>\n",
       "      <td>Math_Science</td>\n",
       "      <td>AppliedSciences Mathematics</td>\n",
       "      <td>\\\"Technology gives the quietest student a voic...</td>\n",
       "    </tr>\n",
       "    <tr>\n",
       "      <th>47298</th>\n",
       "      <td>15072</td>\n",
       "      <td>p245503</td>\n",
       "      <td>2110f96c0654006da5bd77228fdb94fd</td>\n",
       "      <td>Mrs.</td>\n",
       "      <td>FL</td>\n",
       "      <td>2016-04-28 20:33:35</td>\n",
       "      <td>Grades PreK-2</td>\n",
       "      <td>Help us Hatch Chicks!</td>\n",
       "      <td>Hatching eggs in school is one the most reward...</td>\n",
       "      <td>I have twenty kindergarten students who all co...</td>\n",
       "      <td>My students would greatly benefit from this in...</td>\n",
       "      <td>Incubating chicks is more challenging than mos...</td>\n",
       "      <td>My students need an incubator and light egg te...</td>\n",
       "      <td>6</td>\n",
       "      <td>1</td>\n",
       "      <td>Math_Science</td>\n",
       "      <td>EnvironmentalScience Health_LifeScience</td>\n",
       "      <td>Hatching eggs in school is one the most reward...</td>\n",
       "    </tr>\n",
       "    <tr>\n",
       "      <th>2532</th>\n",
       "      <td>108044</td>\n",
       "      <td>p080850</td>\n",
       "      <td>a9f30edea1c51b231832b84b06cfb5eb</td>\n",
       "      <td>Mrs.</td>\n",
       "      <td>CO</td>\n",
       "      <td>2016-04-28 20:59:16</td>\n",
       "      <td>Grades PreK-2</td>\n",
       "      <td>Fluorescent Light Diffuser for Positive Classr...</td>\n",
       "      <td>Classroom management and behavior is a large p...</td>\n",
       "      <td>I love teaching kindergarten at a Title I scho...</td>\n",
       "      <td>As I said, I believe, and have done research, ...</td>\n",
       "      <td>Again, my hope is that by creating an environm...</td>\n",
       "      <td>My students need a comforting classroom. Fluor...</td>\n",
       "      <td>0</td>\n",
       "      <td>0</td>\n",
       "      <td>Health_Sports SpecialNeeds</td>\n",
       "      <td>Health_Wellness SpecialNeeds</td>\n",
       "      <td>Classroom management and behavior is a large p...</td>\n",
       "    </tr>\n",
       "    <tr>\n",
       "      <th>42166</th>\n",
       "      <td>15022</td>\n",
       "      <td>p076353</td>\n",
       "      <td>fd1c5a1c933edc9d25a8903b1a2295e0</td>\n",
       "      <td>Ms.</td>\n",
       "      <td>MI</td>\n",
       "      <td>2016-04-28 21:13:02</td>\n",
       "      <td>Grades PreK-2</td>\n",
       "      <td>Future Naturalists</td>\n",
       "      <td>My favorite memory from elementary school is w...</td>\n",
       "      <td>My students do not get to spend much if any ti...</td>\n",
       "      <td>With these resources I hope to encourage a lov...</td>\n",
       "      <td>Your donation will help me create future natur...</td>\n",
       "      <td>My students need frog eggs, butterfly eggs, du...</td>\n",
       "      <td>112</td>\n",
       "      <td>1</td>\n",
       "      <td>Math_Science</td>\n",
       "      <td>EnvironmentalScience Health_LifeScience</td>\n",
       "      <td>My favorite memory from elementary school is w...</td>\n",
       "    </tr>\n",
       "    <tr>\n",
       "      <th>42479</th>\n",
       "      <td>127267</td>\n",
       "      <td>p223670</td>\n",
       "      <td>1f0daf6fb7c7dc88698e9966dda65f38</td>\n",
       "      <td>Ms.</td>\n",
       "      <td>SC</td>\n",
       "      <td>2016-04-28 21:17:16</td>\n",
       "      <td>Grades 6-8</td>\n",
       "      <td>Acquiring Skills Through Chrome Books</td>\n",
       "      <td>“Teaching middle school is an adventure, not a...</td>\n",
       "      <td>My students are loving, ready to learn, smilin...</td>\n",
       "      <td>Having a class set of chrome books will help m...</td>\n",
       "      <td>Any donations will be appreciated by my studen...</td>\n",
       "      <td>My students need a class set of chrome books a...</td>\n",
       "      <td>3</td>\n",
       "      <td>0</td>\n",
       "      <td>Literacy_Language</td>\n",
       "      <td>Literature_Writing</td>\n",
       "      <td>“Teaching middle school is an adventure, not a...</td>\n",
       "    </tr>\n",
       "    <tr>\n",
       "      <th>23824</th>\n",
       "      <td>167929</td>\n",
       "      <td>p038641</td>\n",
       "      <td>b2c412e3a51681184ed4c606aaa96a00</td>\n",
       "      <td>Ms.</td>\n",
       "      <td>TX</td>\n",
       "      <td>2016-04-28 21:24:21</td>\n",
       "      <td>Grades PreK-2</td>\n",
       "      <td>Future Scientists</td>\n",
       "      <td>Welcome to my teaching world! A classroom fill...</td>\n",
       "      <td>My students have big goals and big dreams.\\r\\n...</td>\n",
       "      <td>With these requested iPad mini 2 tablets and p...</td>\n",
       "      <td>With the addition of two iPads to my classroom...</td>\n",
       "      <td>My students need two ipad minis with case prot...</td>\n",
       "      <td>4</td>\n",
       "      <td>1</td>\n",
       "      <td>Math_Science</td>\n",
       "      <td>AppliedSciences EnvironmentalScience</td>\n",
       "      <td>Welcome to my teaching world! A classroom fill...</td>\n",
       "    </tr>\n",
       "  </tbody>\n",
       "</table>\n",
       "<p>200 rows × 18 columns</p>\n",
       "</div>"
      ],
      "text/plain": [
       "       Unnamed: 0       id                        teacher_id teacher_prefix  \\\n",
       "473        100660  p234804  cbc0e38f522143b86d372f8b43d4cff3           Mrs.   \n",
       "41558       33679  p137682  06f6e62e17de34fcf81020c77549e1d5           Mrs.   \n",
       "29891      146723  p099708  c0a28c79fe8ad5810da49de47b3fb491           Mrs.   \n",
       "23374       72317  p087808  598621c141cda5fb184ee7e8ccdd3fcc            Ms.   \n",
       "49228       57854  p099430  4000cfe0c8b2df75a218347c1765e283            Ms.   \n",
       "7176        79341  p091436  bb2599c4a114d211b3381abe9f899bf8           Mrs.   \n",
       "35006      149397  p131036  bf5bf59287e7c676a634a00284596b64           Mrs.   \n",
       "5145        50256  p203475  63e9a9f2c9811a247f1aa32ee6f92644           Mrs.   \n",
       "48237      139237  p147271  7f2072d18c67087af27066f60b2c9d85           Mrs.   \n",
       "46375      148085  p196567  171f782b55614c56213131bcb8d44e06           Mrs.   \n",
       "36468      121622  p138958  57626865698278199f753dc0f8e3ed00            Ms.   \n",
       "36358      135897  p092089  44ab4df75ae4e8b9bb23b818a7a1b1a4           Mrs.   \n",
       "39438      123970  p136762  362f046c8551fa0b2515f99d6e3ce6ea            Mr.   \n",
       "2521       164738  p248458  40da977f63fb3d85589a063471304b11            Ms.   \n",
       "40180       86786  p028642  6b518fbb85fcbe1587c8ee36e31b990e            Ms.   \n",
       "25460       24215  p146272  b268575725e7f840c48e108ff404b915            Mr.   \n",
       "34399       70091  p211766  753d3d6395117f8cce147fd042dd9530           Mrs.   \n",
       "5364        14044  p002546  91dacb4ab5754671f342b4a12abf3cfb            Mr.   \n",
       "47478      180708  p147293  9b5f1fee862044d8cff941506614a493            Mr.   \n",
       "45858       50829  p213188  b1c6a456c2e757d366bfbc79818f020b            Ms.   \n",
       "42002       59086  p226990  49e24758e486dabc3dbeb6e55c84532b           Mrs.   \n",
       "41598      149227  p029827  8ac28158e0fdee58df100712a795806c           Mrs.   \n",
       "29183       39436  p061528  baf593ec5f2fe81a9a1595c52d274370           Mrs.   \n",
       "40611       71996  p131437  3e476228e495947d05540859b2387be9            Mr.   \n",
       "49866       84997  p079450  0c1660bcc6914b4c3f52832f3f3bc43e            Ms.   \n",
       "33043        1905  p008989  0520019c423ad0a1c08a5f43fb7f123c           Mrs.   \n",
       "37160       16059  p109497  60ca858a15ad6f3385598283cede0cdc            Ms.   \n",
       "27157       16851  p129651  64e581db3b7ead037a479605aa4ec86e            Mr.   \n",
       "38830      140393  p246778  e0660933f517b2f1f735923be485cefe            Ms.   \n",
       "42041        8845  p105964  fe16744e8a172f2d5348142666a704b0            Ms.   \n",
       "...           ...      ...                               ...            ...   \n",
       "5959       101327  p213502  a1d87937975089ce3744294cc6677a96           Mrs.   \n",
       "23436       21539  p191671  29c4a4a5998d65b5c53c43548179362b           Mrs.   \n",
       "29284       99660  p019634  e3b04fb2e12e9bac036586715c86b721           Mrs.   \n",
       "2245        91008  p037180  0eb5c0b1db6e300ee6d314e83e12cf9e            Mr.   \n",
       "46407      121715  p044628  7b417908c7a73d33256f2519f1c728e4           Mrs.   \n",
       "26903      178019  p184876  09f6e85e35fbd6d5bb85e091beddc140           Mrs.   \n",
       "39910      175203  p127423  e4c69b4958e8d98f54d3e71ff6725dd0            Ms.   \n",
       "19524       22533  p092939  1a05182e5761c3799c4d872cef6b1a3b            Mr.   \n",
       "17004      171948  p244544  ba01d2ff0c9ecfdf236c473155c2a879           Mrs.   \n",
       "34245      131071  p149458  c6bd1493fb0813aaad373fe557e6f011           Mrs.   \n",
       "20562       57608  p157292  3a90f5d812ea752fd39ab04666778c69            Ms.   \n",
       "24796      142291  p255083  a4361f495578e2a6970d9e151504cdae            Ms.   \n",
       "19467       98350  p087336  e2e11c5f523f2a63255f546c03dd79e0           Mrs.   \n",
       "33897      174593  p150255  ad8cbf9227d2139e5f82c6c756540701            Ms.   \n",
       "23012       90705  p117785  d313bc04f892b98227c117149c9976b7            Mr.   \n",
       "26415       81164  p249344  b5bb3137a2ec4d481ab1ebed9be568ae        Teacher   \n",
       "17899       30589  p163178  1d653da693c72271c677c7ad8122097c            Mr.   \n",
       "24746       45528  p236820  d02f32c22fb579177d49c6b23091f5fc           Mrs.   \n",
       "41774        6835  p210149  ba358457ef84d213c13b2fbc22d9d102           Mrs.   \n",
       "399        130064  p045528  a208cc1b3cc1e5bd2c4384fca0ae90b7            Ms.   \n",
       "11100       38690  p130399  7d069496b2fea166cccb0e131fff182b            Ms.   \n",
       "42689       78629  p081291  961cd4b4003302683d0d231ab188fbd2           Mrs.   \n",
       "38326      126771  p040711  8cfde5af5d69f402c4c882540a62190d           Mrs.   \n",
       "24237      153291  p254488  6cce68f20151ee0f95c16f1bed955c42            Mr.   \n",
       "21800       43314  p009300  e3656335bdef805e087ce82f9dc78ce1           Mrs.   \n",
       "47298       15072  p245503  2110f96c0654006da5bd77228fdb94fd           Mrs.   \n",
       "2532       108044  p080850  a9f30edea1c51b231832b84b06cfb5eb           Mrs.   \n",
       "42166       15022  p076353  fd1c5a1c933edc9d25a8903b1a2295e0            Ms.   \n",
       "42479      127267  p223670  1f0daf6fb7c7dc88698e9966dda65f38            Ms.   \n",
       "23824      167929  p038641  b2c412e3a51681184ed4c606aaa96a00            Ms.   \n",
       "\n",
       "      school_state                Date project_grade_category  \\\n",
       "473             GA 2016-04-27 00:53:00          Grades PreK-2   \n",
       "41558           WA 2016-04-27 01:05:25             Grades 3-5   \n",
       "29891           CA 2016-04-27 01:10:09             Grades 3-5   \n",
       "23374           CA 2016-04-27 02:04:15          Grades PreK-2   \n",
       "49228           IL 2016-04-27 07:19:44          Grades PreK-2   \n",
       "7176            OH 2016-04-27 07:24:47          Grades PreK-2   \n",
       "35006           FL 2016-04-27 08:42:52             Grades 3-5   \n",
       "5145            CA 2016-04-27 08:45:34             Grades 3-5   \n",
       "48237           MO 2016-04-27 08:51:43            Grades 9-12   \n",
       "46375           VA 2016-04-27 09:08:08             Grades 3-5   \n",
       "36468           GA 2016-04-27 09:13:12          Grades PreK-2   \n",
       "36358           MD 2016-04-27 09:15:30          Grades PreK-2   \n",
       "39438           TX 2016-04-27 09:17:34          Grades PreK-2   \n",
       "2521            NJ 2016-04-27 09:33:03          Grades PreK-2   \n",
       "40180           OK 2016-04-27 09:36:31          Grades PreK-2   \n",
       "25460           PA 2016-04-27 09:51:44             Grades 6-8   \n",
       "34399           WV 2016-04-27 09:53:42             Grades 3-5   \n",
       "5364            CO 2016-04-27 10:10:36             Grades 6-8   \n",
       "47478           VA 2016-04-27 10:11:59            Grades 9-12   \n",
       "45858           GA 2016-04-27 10:22:47             Grades 3-5   \n",
       "42002           UT 2016-04-27 10:42:43             Grades 3-5   \n",
       "41598           FL 2016-04-27 10:44:32          Grades PreK-2   \n",
       "29183           PA 2016-04-27 10:50:35             Grades 3-5   \n",
       "40611           NY 2016-04-27 10:53:30            Grades 9-12   \n",
       "49866           CA 2016-04-27 11:13:30            Grades 9-12   \n",
       "33043           AZ 2016-04-27 11:13:48             Grades 3-5   \n",
       "37160           MA 2016-04-27 11:13:53             Grades 6-8   \n",
       "27157           ID 2016-04-27 11:13:59            Grades 9-12   \n",
       "38830           MI 2016-04-27 11:17:17             Grades 3-5   \n",
       "42041           TX 2016-04-27 11:20:43             Grades 6-8   \n",
       "...            ...                 ...                    ...   \n",
       "5959            CA 2016-04-28 15:16:08          Grades PreK-2   \n",
       "23436           IN 2016-04-28 15:21:28             Grades 6-8   \n",
       "29284           NJ 2016-04-28 15:23:26          Grades PreK-2   \n",
       "2245            CA 2016-04-28 15:24:48             Grades 6-8   \n",
       "46407           GA 2016-04-28 15:31:41             Grades 3-5   \n",
       "26903           IA 2016-04-28 15:33:45          Grades PreK-2   \n",
       "39910           SC 2016-04-28 15:41:01             Grades 3-5   \n",
       "19524           AL 2016-04-28 15:59:24             Grades 3-5   \n",
       "17004           TX 2016-04-28 16:03:01             Grades 3-5   \n",
       "34245           SC 2016-04-28 16:14:43             Grades 3-5   \n",
       "20562           NY 2016-04-28 16:48:07             Grades 6-8   \n",
       "24796           GA 2016-04-28 16:55:17            Grades 9-12   \n",
       "19467           TX 2016-04-28 16:56:15          Grades PreK-2   \n",
       "33897           UT 2016-04-28 17:05:29          Grades PreK-2   \n",
       "23012           WV 2016-04-28 17:35:05             Grades 3-5   \n",
       "26415           NY 2016-04-28 17:35:46             Grades 3-5   \n",
       "17899           IN 2016-04-28 18:57:40             Grades 3-5   \n",
       "24746           IN 2016-04-28 18:58:28          Grades PreK-2   \n",
       "41774           CA 2016-04-28 19:07:10             Grades 3-5   \n",
       "399             IL 2016-04-28 19:21:26            Grades 9-12   \n",
       "11100           FL 2016-04-28 19:23:28             Grades 3-5   \n",
       "42689           IN 2016-04-28 19:32:12          Grades PreK-2   \n",
       "38326           AZ 2016-04-28 19:39:52             Grades 6-8   \n",
       "24237           SC 2016-04-28 19:47:38          Grades PreK-2   \n",
       "21800           NC 2016-04-28 19:59:02          Grades PreK-2   \n",
       "47298           FL 2016-04-28 20:33:35          Grades PreK-2   \n",
       "2532            CO 2016-04-28 20:59:16          Grades PreK-2   \n",
       "42166           MI 2016-04-28 21:13:02          Grades PreK-2   \n",
       "42479           SC 2016-04-28 21:17:16             Grades 6-8   \n",
       "23824           TX 2016-04-28 21:24:21          Grades PreK-2   \n",
       "\n",
       "                                           project_title  \\\n",
       "473               Flexible Seating for Flexible Learning   \n",
       "41558             Going Deep: The Art of Inner Thinking!   \n",
       "29891                 Breakout Box to Ignite Engagement!   \n",
       "23374                                  iPad for Learners   \n",
       "49228           A flexible classroom for flexible minds!   \n",
       "7176                    Robots are Taking over 2nd Grade   \n",
       "35006              Help us travel the world...VIRTUALLY!   \n",
       "5145                 Books to Power Powerful Book Clubs!   \n",
       "48237  Choice Novels for Freshman Students are Needed...   \n",
       "46375                                Techies in Training   \n",
       "36468                       Literacy Classroom Materials   \n",
       "36358                                   Literacy Centers   \n",
       "39438  Bilingual and Spanish Books for our Elementary...   \n",
       "2521         Supplies to Support my Struggling Readers!!   \n",
       "40180              Developing Social Skills Though Music   \n",
       "25460                 Apollo-Ridge Band needs your help!   \n",
       "34399                                     Bins for Books   \n",
       "5364                                         3D Printing   \n",
       "47478                            Miscellaneous Equipment   \n",
       "45858                A Picture is Worth a Thousand Words   \n",
       "42002                     Inquiry Notebooks for Students   \n",
       "41598                    Classroom Learning Materials! .   \n",
       "29183     Leveled Library for Students with Disabilities   \n",
       "40611              Capturing Culture through Photography   \n",
       "49866                        DONATION PROTECTION PROGRAM   \n",
       "33043                        Awesome Alternative Seating   \n",
       "37160                          Dibujar,escribir,estudiar   \n",
       "27157                              Coffee House Learning   \n",
       "38830  iPads for Interventions, Extensions, and Data ...   \n",
       "42041                                 Flexible Classroom   \n",
       "...                                                  ...   \n",
       "5959            Full Day Kindergarten Classroom Supplies   \n",
       "23436                 Please Help Us Honor Our Students!   \n",
       "29284       Continuing our Education, 21st Century Ready   \n",
       "2245                         Books, There and Back Again   \n",
       "46407                   Flipping the Math Class 03/30/16   \n",
       "26903                                Alternative Seating   \n",
       "39910                               TECHKnowledgeY Rules   \n",
       "19524             Headphones for Computer based learning   \n",
       "17004                       Cozy Reading & Writing  Nook   \n",
       "34245                          Welcome to the Book Club!   \n",
       "20562                                       iPad Project   \n",
       "24796         Chromebooks for the 21st Century Classroom   \n",
       "19467                          Summer Library Makerspace   \n",
       "33897                               Supplies Help Needed   \n",
       "23012                                      W'S WORLD GYM   \n",
       "26415       Taking Teaching Above & Beyond With Robotics   \n",
       "17899  Collaborative Thinkers want to become Crazy Co...   \n",
       "24746                           Ink Needed for Projects!   \n",
       "41774             Just Right Books for Lifelong Readers!   \n",
       "399             Wireless Tech for Developing Journalists   \n",
       "11100                                  The Secret Agents   \n",
       "42689                   Get Ready, Get Set, Let's Write!   \n",
       "38326                                      Learning Aids   \n",
       "24237                                      Reader's Reef   \n",
       "21800                Tech Savvy First Graders!! Part 2.0   \n",
       "47298                              Help us Hatch Chicks!   \n",
       "2532   Fluorescent Light Diffuser for Positive Classr...   \n",
       "42166                                 Future Naturalists   \n",
       "42479              Acquiring Skills Through Chrome Books   \n",
       "23824                                  Future Scientists   \n",
       "\n",
       "                                         project_essay_1  \\\n",
       "473    I recently read an article about giving studen...   \n",
       "41558  My students crave challenge, they eat obstacle...   \n",
       "29891  It's the end of the school year. Routines have...   \n",
       "23374  Never has society so rapidly changed. Technolo...   \n",
       "49228  My students yearn for a classroom environment ...   \n",
       "7176   Computer coding and robotics, my second grader...   \n",
       "35006  We LOVE technology! In our classroom, technolo...   \n",
       "5145   Do you remember the book you read that made yo...   \n",
       "48237  My students are learning to become lovers of r...   \n",
       "46375  Everyday my students interact with each other ...   \n",
       "36468  Everyday students are so excited to come to me...   \n",
       "36358  I am half day pre-k. I have two sets of studen...   \n",
       "39438  Our school is an urban public school that serv...   \n",
       "2521   My students are all struggling readers. I supp...   \n",
       "40180  My class is a self-contained program for stude...   \n",
       "25460  The thrill of learning music is indescribable,...   \n",
       "34399  Growing successful readers is a very important...   \n",
       "5364   The art room during a sculpture class is a bee...   \n",
       "47478  Our athletes are a group of roughly 60 kids wh...   \n",
       "45858  A picture is worth a thousand words. I often u...   \n",
       "42002  Every day is an adventure in my classroom. Stu...   \n",
       "41598  Our classroom is not only a place to learn, it...   \n",
       "29183  A typical day in my classroom includes a day f...   \n",
       "40611  When properly motivated, high school students ...   \n",
       "49866  A teachers goal is to get their students to wo...   \n",
       "33043  I believe in the power of movement. My student...   \n",
       "37160  A picture is worth a thousand words! In a fore...   \n",
       "27157  \\\"Don't Let Where You are Today Affect Where Y...   \n",
       "38830  My biggest challenge is finding engaging inter...   \n",
       "42041  On the first day of school all students walk i...   \n",
       "...                                                  ...   \n",
       "5959   I am a new teacher and next year I will have a...   \n",
       "23436  My students work hard all year long and deserv...   \n",
       "29284  This school year, I have seen my children stru...   \n",
       "2245   My students are hesitant to be exposed to unfa...   \n",
       "46407  A former administrator described my class as \\...   \n",
       "26903  I teach in the lower elementary and have very ...   \n",
       "39910  I have wonderful group of fifth graders who ar...   \n",
       "19524  My students have several opportunities to lear...   \n",
       "17004  Third grade is a very challenging year in the ...   \n",
       "34245  \\\"Let us remember: one book, one pen, one chil...   \n",
       "20562  Every day in my classroom is different and lot...   \n",
       "24796  Everyday, my students are engaged in the conte...   \n",
       "19467  Our school library stays open during the summe...   \n",
       "33897  Our classroom is one is which learning is rich...   \n",
       "23012  As students walk into my gymnasium, they are g...   \n",
       "26415  \\\"We're taking teaching and learning above and...   \n",
       "17899  My students are naturally curious and they lov...   \n",
       "24746  \\\"Tell me and I forget. Teach me and I remembe...   \n",
       "41774  \\\"A book is a gift you can open again and agai...   \n",
       "399    Every day, we start off class by attempting to...   \n",
       "11100  \\\"Just keep swimming\\\" is a quote often used i...   \n",
       "42689  Some of my students begin elementary school wi...   \n",
       "38326  Help my students become engaged independent le...   \n",
       "24237  Every year has been the same since I began tea...   \n",
       "21800  \\\"Technology gives the quietest student a voic...   \n",
       "47298  Hatching eggs in school is one the most reward...   \n",
       "2532   Classroom management and behavior is a large p...   \n",
       "42166  My favorite memory from elementary school is w...   \n",
       "42479  “Teaching middle school is an adventure, not a...   \n",
       "23824  Welcome to my teaching world! A classroom fill...   \n",
       "\n",
       "                                         project_essay_2  \\\n",
       "473    I teach at a low-income (Title 1) school. Ever...   \n",
       "41558  We are an urban, public k-5 elementary school....   \n",
       "29891  My students desire challenges, movement, and c...   \n",
       "23374  Our Language Arts and Social Justice Magnet Sc...   \n",
       "49228  I have the privilege of teaching an incredible...   \n",
       "7176   We are a small, rural school in Northwest Ohio...   \n",
       "35006  I have 50 bright, hard-working, technology-mot...   \n",
       "5145   My students are part of an exciting adventure....   \n",
       "48237  My students are freshman in the Honors English...   \n",
       "46375  My students are a diverse group whose learning...   \n",
       "36468  They are all students who speak two languages ...   \n",
       "36358  My students range from 4 to 5 years in age. Th...   \n",
       "39438  I teach in a neighborhood school that serves 4...   \n",
       "2521   My students live in a lower income area in Cen...   \n",
       "40180  I am a teacher at  in Moore, Oklahoma. 76% of ...   \n",
       "25460  The Apollo-Ridge School District is situated i...   \n",
       "34399  My students are third graders in a very rural ...   \n",
       "5364   My students consist of a mixed group of 6th, 7...   \n",
       "47478  Our team has been represented at our State mee...   \n",
       "45858  I teach in a Title 1 school and many of my stu...   \n",
       "42002  My school is full of diverse students from man...   \n",
       "41598  Manipulatives have come to be considered essen...   \n",
       "29183  My class consists of 17 third grade students, ...   \n",
       "40611  Our school is an alternative high school for s...   \n",
       "49866  MY STUDENTS ARE AMAZING!!! They work hard to m...   \n",
       "33043  We are located in a very low socio-economic ar...   \n",
       "37160  The students in my classes are hard working, e...   \n",
       "27157  I have the opportunity to teach every senior (...   \n",
       "38830  My classroom consists of 24 eager to learn thi...   \n",
       "42041  My students come from a variety of backgrounds...   \n",
       "...                                                  ...   \n",
       "5959   My students are bright, eager kindergarten stu...   \n",
       "23436  We are a STEM (Science, Technology, Engineerin...   \n",
       "29284  I have a class of 27 very energetic and enthus...   \n",
       "2245   Our school is low income, and thus many do not...   \n",
       "46407  My students are inquisitive, intelligent in va...   \n",
       "26903  I have eighteen kindergartners this year and m...   \n",
       "39910  Each of my students are very different. All of...   \n",
       "19524  My students are from a rural community in Alab...   \n",
       "17004  Population in the classroom is like a bouquet ...   \n",
       "34245  The classroom book clubs provide my students t...   \n",
       "20562  I teach a 12:1:4 self-contained classroom made...   \n",
       "24796  My students were born into a society in which ...   \n",
       "19467  My school is a Title 1 school.  85% of the pop...   \n",
       "33897  My students come from very diverse backgrounds...   \n",
       "23012  Our school is a high-poverty, inner city schoo...   \n",
       "26415  They are students with various learning disabi...   \n",
       "17899  I have some of the hardest working fourth grad...   \n",
       "24746  I teach twenty-five second grade students in a...   \n",
       "41774  My students are a diverse group of learners.  ...   \n",
       "399    My high school journalism students have grown ...   \n",
       "11100  My students are leaders in our community, show...   \n",
       "42689  When you walk into my kindergarten and first g...   \n",
       "38326  I have multiple grade level special education ...   \n",
       "24237  All of the students at my school are considere...   \n",
       "21800  Our school, is located in the CC School distri...   \n",
       "47298  I have twenty kindergarten students who all co...   \n",
       "2532   I love teaching kindergarten at a Title I scho...   \n",
       "42166  My students do not get to spend much if any ti...   \n",
       "42479  My students are loving, ready to learn, smilin...   \n",
       "23824  My students have big goals and big dreams.\\r\\n...   \n",
       "\n",
       "                                         project_essay_3  \\\n",
       "473    We need a classroom rug that we can use as a c...   \n",
       "41558  With the new common core standards that have b...   \n",
       "29891  I will design different clues using specific c...   \n",
       "23374  \\\"Is it my turn, Ms. K? When am I going to be ...   \n",
       "49228  Ideally, I would love to delve right into \\\"fl...   \n",
       "7176   We have a new technology teacher to our distri...   \n",
       "35006  The ability to place one virtual reality devic...   \n",
       "5145   We are fortunate enough to be a \\\"project scho...   \n",
       "48237  They are going to use these novel EVERYDAY!  M...   \n",
       "46375  My students love to learn and work as teams.  ...   \n",
       "36468  With these materials, I will be able to implem...   \n",
       "36358  My students need; What's the Rhyme, Building W...   \n",
       "39438  Literacy developed in the primary language tra...   \n",
       "2521   The materials I am requesting will be used dur...   \n",
       "40180  My students as kids with classical autism spec...   \n",
       "25460  Our students perform in a number of ensembles ...   \n",
       "34399  Growing successful readers is a very important...   \n",
       "5364   Recently our 6th grade students have received ...   \n",
       "47478  The miscellaneous equipment will help our coac...   \n",
       "45858  It is important for students to make a connect...   \n",
       "42002  Students will use the inquiry notebooks in all...   \n",
       "41598  Manipulatives can be key in providing effectiv...   \n",
       "29183  A high interest independent leveled reading sy...   \n",
       "40611  The goal of this project is for my students to...   \n",
       "49866  My students work together to get 15 tablets do...   \n",
       "33043  This year we have started implementing an alte...   \n",
       "37160  We frequently use art supplies in class. \\r\\nW...   \n",
       "27157  Students will use the materials sought to crea...   \n",
       "38830  While working with small groups, the iPads wil...   \n",
       "42041  I am trying a new style for my classroom that ...   \n",
       "...                                                  ...   \n",
       "5959   My students will use the materials I am reques...   \n",
       "23436  We are asking for 300 parchments certificates ...   \n",
       "29284  Students will be able to work on tablets in al...   \n",
       "2245   By entering the world of Middle Earth, through...   \n",
       "46407  In my math classroom students will participate...   \n",
       "26903  My students will be given the choice of where ...   \n",
       "39910  We are incorporating technology in our lessons...   \n",
       "19524  Students will use the headphones to complete c...   \n",
       "17004  Our students go  through so much that they des...   \n",
       "34245  We need 71 books for our classroom book clubs....   \n",
       "20562  I currently have 7 students in my classroom an...   \n",
       "24796  The students will be using the Chromebooks for...   \n",
       "19467  Students will be able to use the kits to solve...   \n",
       "33897  Students will use pencils throughout the day w...   \n",
       "23012  The addition of a parachute and foam balls wou...   \n",
       "26415  We are requesting (2) Ozobot Starter Packs, Pr...   \n",
       "17899  My students need a Sphero and Ipad to explore ...   \n",
       "24746  I am requesting much needed items to give us a...   \n",
       "41774  Unfortunately, we only get to visit our school...   \n",
       "399    The wireless speaker will not only enable us t...   \n",
       "11100  The Geronimo Stilton books will be used in our...   \n",
       "42689  These young students will enjoy learning how t...   \n",
       "38326  The classroom  manipulatives  need to continue...   \n",
       "24237  \\\"What's the Rhyme? Sorting House,\\\" \\\"Road to...   \n",
       "21800  My students will use the Osmo Gaming Systems d...   \n",
       "47298  My students would greatly benefit from this in...   \n",
       "2532   As I said, I believe, and have done research, ...   \n",
       "42166  With these resources I hope to encourage a lov...   \n",
       "42479  Having a class set of chrome books will help m...   \n",
       "23824  With these requested iPad mini 2 tablets and p...   \n",
       "\n",
       "                                         project_essay_4  \\\n",
       "473    Benjamin Franklin once said, \\\"Tell me and I f...   \n",
       "41558  These remarkable gifts will provide students w...   \n",
       "29891  Donations to this project will immediately imp...   \n",
       "23374  By donating to this project, you will give my ...   \n",
       "49228  This project will be so beneficial for my stud...   \n",
       "7176   You can help this dream of ours become a reali...   \n",
       "35006  By allowing my students the opportunity to tak...   \n",
       "5145   As a new teacher my book shelves are bare or t...   \n",
       "48237  These donations will make a massive difference...   \n",
       "46375  With the addition of two iPads to my classroom...   \n",
       "36468  The donations will help improve my classroom b...   \n",
       "36358  Many of my students come from poverty or are E...   \n",
       "39438  Free voluntary reading helps all components of...   \n",
       "2521   Imagine not being able to read the text you ar...   \n",
       "40180  Donation to my project will help my students b...   \n",
       "25460  Testing has become a major focus in schools to...   \n",
       "34399  Donations to this project would allow my stude...   \n",
       "5364   Students are captivated by technology.  Allowi...   \n",
       "47478  The miscellaneous equipment will allow our coa...   \n",
       "45858  Please help my students make connections betwe...   \n",
       "42002  My project will make a difference in my studen...   \n",
       "41598  The use of manipulatives helps students hone t...   \n",
       "29183  Donations to our leveled reading kit would gre...   \n",
       "40611  Aside from content, I also try and teach my st...   \n",
       "49866  Now that I have this technology in my classroo...   \n",
       "33043  Donations to this project will greatly improve...   \n",
       "37160  By the end of each school year our markers, cr...   \n",
       "27157  Creating a class environment that is comfortab...   \n",
       "38830  When this project is funded I will be able to ...   \n",
       "42041  This project will make a world of a difference...   \n",
       "...                                                  ...   \n",
       "5959   This project will make a difference in my clas...   \n",
       "23436  Our students put tons of good work in all year...   \n",
       "29284  Once they have the technology and are comforta...   \n",
       "2245   By empowering the students to be the readers a...   \n",
       "46407  This project will make a huge difference in my...   \n",
       "26903  This project will allow for students to see ho...   \n",
       "39910  Jenny Arledge says, \\\"Technology can become th...   \n",
       "19524  This will my students to receive instruction a...   \n",
       "17004  I can envision the students eager to get to th...   \n",
       "34245  Thank you so much for your consideration of ou...   \n",
       "20562  My ultimate goal is to be able to have a class...   \n",
       "24796  The majority of my students come from an envir...   \n",
       "19467  Kids engineer happier endings to folk tales an...   \n",
       "33897  My students are grateful for anything that bel...   \n",
       "23012  Research confirms that healthy students are be...   \n",
       "26415  I want my students to use all 4C skills to loo...   \n",
       "17899  The materials will provide the students with t...   \n",
       "24746  Being excited about learning is vital to becom...   \n",
       "41774  Students need to be able to check out books an...   \n",
       "399    It's the little things that make a big differe...   \n",
       "11100  One of the most difficult tasks this year has ...   \n",
       "42689  My students will benefit from a multi-sensory ...   \n",
       "38326  These supplies and organization unit will help...   \n",
       "24237  I have always believed that you can never have...   \n",
       "21800  Osmo will help my students to become independe...   \n",
       "47298  Incubating chicks is more challenging than mos...   \n",
       "2532   Again, my hope is that by creating an environm...   \n",
       "42166  Your donation will help me create future natur...   \n",
       "42479  Any donations will be appreciated by my studen...   \n",
       "23824  With the addition of two iPads to my classroom...   \n",
       "\n",
       "                                project_resource_summary  \\\n",
       "473    My students need flexible seating in the class...   \n",
       "41558  My students need copies of the New York Times ...   \n",
       "29891  My students need items from a \\\"Breakout Box\\\"...   \n",
       "23374                      My students need 1 ipad mini.   \n",
       "49228  My students need 5 Hokki Stools and an easel o...   \n",
       "7176   My students need a robot mouse STEM activity s...   \n",
       "35006  My students need virtual reality viewers to ho...   \n",
       "5145   My students need books to help support their h...   \n",
       "48237  My students need YA novels to improve their lo...   \n",
       "46375  My students need an iPad mini with a protectiv...   \n",
       "36468  My students need highlighters, magnetic letter...   \n",
       "36358  My students need; What's the Rhyme, Building W...   \n",
       "39438  My students need more bilingual and Spanish bo...   \n",
       "2521   My students need phonics and reading comprehen...   \n",
       "40180  My students need musical instruments to develo...   \n",
       "25460  My students need these instruments! The band p...   \n",
       "34399  My students need color coded book bins to stor...   \n",
       "5364                      My students need a 3D Printer.   \n",
       "47478  My students need general accessories to assist...   \n",
       "45858                 My students need a digital camera.   \n",
       "42002  My students need inquiry notebooks to help the...   \n",
       "41598  My students need math manipulatives to use who...   \n",
       "29183  \\\"Reading for pleasure is strongly correlated ...   \n",
       "40611  My students need a digital camera to document ...   \n",
       "49866  My students need to protect and charge their n...   \n",
       "33043  My students need a large, low table, clipboard...   \n",
       "37160  My students need art supplies to replenish the...   \n",
       "27157  My students need comfortable seating and worki...   \n",
       "38830  My students need iPad minis to help with small...   \n",
       "42041  My students need the rug, bean bag chairs, and...   \n",
       "...                                                  ...   \n",
       "5959   My students need paper materials for next scho...   \n",
       "23436  My students need certificates and bracelets fo...   \n",
       "29284  My students need a variety of technology equip...   \n",
       "2245   My students need books for a reading night for...   \n",
       "46407  My students need computers to view video math ...   \n",
       "26903  My students need some flexible seating options...   \n",
       "39910  My students need tablets to enhance their lear...   \n",
       "19524  My students need 25 pairs of headphones for Co...   \n",
       "17004  My students need a nice, cozy  area to  comple...   \n",
       "34245  My students need books for classroom book club...   \n",
       "20562        My students need an iPad for our classroom.   \n",
       "24796  My students need to advance their learning thr...   \n",
       "19467  My students need STEM problem solving kits for...   \n",
       "33897  My students need school supplies for school. T...   \n",
       "23012  My students need a new parachute because our c...   \n",
       "26415  My students need (2) Ozobot Starter Pack, Prog...   \n",
       "17899  My students need a Sphero and an iPad in order...   \n",
       "24746  My students need printer ink and plastic sheet...   \n",
       "41774  My students need series of \\\"just right\\\" book...   \n",
       "399    My students need a wireless speaker, a wireles...   \n",
       "11100  My students need more Geronimo Stilton books t...   \n",
       "42689  My students need individual chalkboards, paper...   \n",
       "38326  My students need materials and supplies to hel...   \n",
       "24237  My students need \\\"What's the Rhyme? Sorting H...   \n",
       "21800     My students need Osmo Learning games & Sphero.   \n",
       "47298  My students need an incubator and light egg te...   \n",
       "2532   My students need a comforting classroom. Fluor...   \n",
       "42166  My students need frog eggs, butterfly eggs, du...   \n",
       "42479  My students need a class set of chrome books a...   \n",
       "23824  My students need two ipad minis with case prot...   \n",
       "\n",
       "       teacher_number_of_previously_posted_projects  project_is_approved  \\\n",
       "473                                               2                    1   \n",
       "41558                                             2                    1   \n",
       "29891                                             6                    1   \n",
       "23374                                           127                    1   \n",
       "49228                                             1                    1   \n",
       "7176                                             72                    1   \n",
       "35006                                             2                    0   \n",
       "5145                                              6                    1   \n",
       "48237                                             3                    1   \n",
       "46375                                             0                    1   \n",
       "36468                                             2                    0   \n",
       "36358                                             1                    1   \n",
       "39438                                             0                    1   \n",
       "2521                                             27                    0   \n",
       "40180                                             2                    0   \n",
       "25460                                             0                    1   \n",
       "34399                                             0                    1   \n",
       "5364                                              3                    1   \n",
       "47478                                             1                    0   \n",
       "45858                                            27                    1   \n",
       "42002                                             0                    1   \n",
       "41598                                             8                    1   \n",
       "29183                                             2                    1   \n",
       "40611                                             1                    1   \n",
       "49866                                             8                    1   \n",
       "33043                                             8                    1   \n",
       "37160                                             2                    1   \n",
       "27157                                             0                    1   \n",
       "38830                                             1                    1   \n",
       "42041                                             1                    1   \n",
       "...                                             ...                  ...   \n",
       "5959                                              8                    0   \n",
       "23436                                            74                    1   \n",
       "29284                                             1                    0   \n",
       "2245                                              3                    1   \n",
       "46407                                             0                    1   \n",
       "26903                                             0                    1   \n",
       "39910                                             1                    1   \n",
       "19524                                             0                    1   \n",
       "17004                                             5                    0   \n",
       "34245                                             0                    1   \n",
       "20562                                             1                    1   \n",
       "24796                                             2                    1   \n",
       "19467                                             0                    1   \n",
       "33897                                             0                    1   \n",
       "23012                                             0                    1   \n",
       "26415                                             6                    1   \n",
       "17899                                             3                    1   \n",
       "24746                                           103                    1   \n",
       "41774                                             3                    0   \n",
       "399                                              10                    1   \n",
       "11100                                             1                    1   \n",
       "42689                                             1                    1   \n",
       "38326                                             1                    1   \n",
       "24237                                             2                    1   \n",
       "21800                                             6                    1   \n",
       "47298                                             6                    1   \n",
       "2532                                              0                    0   \n",
       "42166                                           112                    1   \n",
       "42479                                             3                    0   \n",
       "23824                                             4                    1   \n",
       "\n",
       "                        clean_categories  \\\n",
       "473                      AppliedLearning   \n",
       "41558                  Literacy_Language   \n",
       "29891        Math_Science History_Civics   \n",
       "23374                  Literacy_Language   \n",
       "49228                  Literacy_Language   \n",
       "7176        Math_Science AppliedLearning   \n",
       "35006   History_Civics Literacy_Language   \n",
       "5145                   Literacy_Language   \n",
       "48237                  Literacy_Language   \n",
       "46375                       Math_Science   \n",
       "36468                  Literacy_Language   \n",
       "36358                  Literacy_Language   \n",
       "39438                  Literacy_Language   \n",
       "2521                   Literacy_Language   \n",
       "40180                         Music_Arts   \n",
       "25460                         Music_Arts   \n",
       "34399                  Literacy_Language   \n",
       "5364          AppliedLearning Music_Arts   \n",
       "47478                      Health_Sports   \n",
       "45858                  Literacy_Language   \n",
       "42002     Math_Science Literacy_Language   \n",
       "41598     Literacy_Language Math_Science   \n",
       "29183                  Literacy_Language   \n",
       "40611     AppliedLearning History_Civics   \n",
       "49866                       Math_Science   \n",
       "33043       AppliedLearning SpecialNeeds   \n",
       "37160                  Literacy_Language   \n",
       "27157                    AppliedLearning   \n",
       "38830     Literacy_Language Math_Science   \n",
       "42041                  Literacy_Language   \n",
       "...                                  ...   \n",
       "5959          AppliedLearning Music_Arts   \n",
       "23436       AppliedLearning SpecialNeeds   \n",
       "29284     Literacy_Language Math_Science   \n",
       "2245   AppliedLearning Literacy_Language   \n",
       "46407                       Math_Science   \n",
       "26903     Literacy_Language Math_Science   \n",
       "39910  AppliedLearning Literacy_Language   \n",
       "19524     Literacy_Language Math_Science   \n",
       "17004     Literacy_Language Math_Science   \n",
       "34245  AppliedLearning Literacy_Language   \n",
       "20562                       SpecialNeeds   \n",
       "24796                       Math_Science   \n",
       "19467     Math_Science Literacy_Language   \n",
       "33897                    AppliedLearning   \n",
       "23012                      Health_Sports   \n",
       "26415          Math_Science SpecialNeeds   \n",
       "17899                       Math_Science   \n",
       "24746                       Math_Science   \n",
       "41774                  Literacy_Language   \n",
       "399                    Literacy_Language   \n",
       "11100                  Literacy_Language   \n",
       "42689  AppliedLearning Literacy_Language   \n",
       "38326          Math_Science SpecialNeeds   \n",
       "24237                  Literacy_Language   \n",
       "21800                       Math_Science   \n",
       "47298                       Math_Science   \n",
       "2532          Health_Sports SpecialNeeds   \n",
       "42166                       Math_Science   \n",
       "42479                  Literacy_Language   \n",
       "23824                       Math_Science   \n",
       "\n",
       "                           clean_subcategories  \\\n",
       "473                           EarlyDevelopment   \n",
       "41558                                 Literacy   \n",
       "29891               Mathematics SocialSciences   \n",
       "23374                             ESL Literacy   \n",
       "49228                                 Literacy   \n",
       "7176          AppliedSciences EarlyDevelopment   \n",
       "35006     History_Geography Literature_Writing   \n",
       "5145                                  Literacy   \n",
       "48237              Literacy Literature_Writing   \n",
       "46375         EnvironmentalScience Mathematics   \n",
       "36468                             ESL Literacy   \n",
       "36358                             ESL Literacy   \n",
       "39438                             ESL Literacy   \n",
       "2521               Literacy Literature_Writing   \n",
       "40180                                    Music   \n",
       "25460                     Music PerformingArts   \n",
       "34399              Literacy Literature_Writing   \n",
       "5364             College_CareerPrep VisualArts   \n",
       "47478                               TeamSports   \n",
       "45858                             ESL Literacy   \n",
       "42002  EnvironmentalScience Literature_Writing   \n",
       "41598                     Literacy Mathematics   \n",
       "29183              Literacy Literature_Writing   \n",
       "40611        CharacterEducation SocialSciences   \n",
       "49866  EnvironmentalScience Health_LifeScience   \n",
       "33043                       Other SpecialNeeds   \n",
       "37160                         ForeignLanguages   \n",
       "27157                       College_CareerPrep   \n",
       "38830                     Literacy Mathematics   \n",
       "42041                                 Literacy   \n",
       "...                                        ...   \n",
       "5959               EarlyDevelopment VisualArts   \n",
       "23436          CharacterEducation SpecialNeeds   \n",
       "29284           Literature_Writing Mathematics   \n",
       "2245                  Extracurricular Literacy   \n",
       "46407                              Mathematics   \n",
       "26903                     Literacy Mathematics   \n",
       "39910              College_CareerPrep Literacy   \n",
       "19524                     Literacy Mathematics   \n",
       "17004           Literature_Writing Mathematics   \n",
       "34245              CharacterEducation Literacy   \n",
       "20562                             SpecialNeeds   \n",
       "24796                              Mathematics   \n",
       "19467       AppliedSciences Literature_Writing   \n",
       "33897                                    Other   \n",
       "23012                              Gym_Fitness   \n",
       "26415             AppliedSciences SpecialNeeds   \n",
       "17899                          AppliedSciences   \n",
       "24746                              Mathematics   \n",
       "41774                                 Literacy   \n",
       "399                Literacy Literature_Writing   \n",
       "11100                                 Literacy   \n",
       "42689      EarlyDevelopment Literature_Writing   \n",
       "38326                 Mathematics SpecialNeeds   \n",
       "24237                                 Literacy   \n",
       "21800              AppliedSciences Mathematics   \n",
       "47298  EnvironmentalScience Health_LifeScience   \n",
       "2532              Health_Wellness SpecialNeeds   \n",
       "42166  EnvironmentalScience Health_LifeScience   \n",
       "42479                       Literature_Writing   \n",
       "23824     AppliedSciences EnvironmentalScience   \n",
       "\n",
       "                                                   essay  \n",
       "473    I recently read an article about giving studen...  \n",
       "41558  My students crave challenge, they eat obstacle...  \n",
       "29891  It's the end of the school year. Routines have...  \n",
       "23374  Never has society so rapidly changed. Technolo...  \n",
       "49228  My students yearn for a classroom environment ...  \n",
       "7176   Computer coding and robotics, my second grader...  \n",
       "35006  We LOVE technology! In our classroom, technolo...  \n",
       "5145   Do you remember the book you read that made yo...  \n",
       "48237  My students are learning to become lovers of r...  \n",
       "46375  Everyday my students interact with each other ...  \n",
       "36468  Everyday students are so excited to come to me...  \n",
       "36358  I am half day pre-k. I have two sets of studen...  \n",
       "39438  Our school is an urban public school that serv...  \n",
       "2521   My students are all struggling readers. I supp...  \n",
       "40180  My class is a self-contained program for stude...  \n",
       "25460  The thrill of learning music is indescribable,...  \n",
       "34399  Growing successful readers is a very important...  \n",
       "5364   The art room during a sculpture class is a bee...  \n",
       "47478  Our athletes are a group of roughly 60 kids wh...  \n",
       "45858  A picture is worth a thousand words. I often u...  \n",
       "42002  Every day is an adventure in my classroom. Stu...  \n",
       "41598  Our classroom is not only a place to learn, it...  \n",
       "29183  A typical day in my classroom includes a day f...  \n",
       "40611  When properly motivated, high school students ...  \n",
       "49866  A teachers goal is to get their students to wo...  \n",
       "33043  I believe in the power of movement. My student...  \n",
       "37160  A picture is worth a thousand words! In a fore...  \n",
       "27157  \\\"Don't Let Where You are Today Affect Where Y...  \n",
       "38830  My biggest challenge is finding engaging inter...  \n",
       "42041  On the first day of school all students walk i...  \n",
       "...                                                  ...  \n",
       "5959   I am a new teacher and next year I will have a...  \n",
       "23436  My students work hard all year long and deserv...  \n",
       "29284  This school year, I have seen my children stru...  \n",
       "2245   My students are hesitant to be exposed to unfa...  \n",
       "46407  A former administrator described my class as \\...  \n",
       "26903  I teach in the lower elementary and have very ...  \n",
       "39910  I have wonderful group of fifth graders who ar...  \n",
       "19524  My students have several opportunities to lear...  \n",
       "17004  Third grade is a very challenging year in the ...  \n",
       "34245  \\\"Let us remember: one book, one pen, one chil...  \n",
       "20562  Every day in my classroom is different and lot...  \n",
       "24796  Everyday, my students are engaged in the conte...  \n",
       "19467  Our school library stays open during the summe...  \n",
       "33897  Our classroom is one is which learning is rich...  \n",
       "23012  As students walk into my gymnasium, they are g...  \n",
       "26415  \\\"We're taking teaching and learning above and...  \n",
       "17899  My students are naturally curious and they lov...  \n",
       "24746  \\\"Tell me and I forget. Teach me and I remembe...  \n",
       "41774  \\\"A book is a gift you can open again and agai...  \n",
       "399    Every day, we start off class by attempting to...  \n",
       "11100  \\\"Just keep swimming\\\" is a quote often used i...  \n",
       "42689  Some of my students begin elementary school wi...  \n",
       "38326  Help my students become engaged independent le...  \n",
       "24237  Every year has been the same since I began tea...  \n",
       "21800  \\\"Technology gives the quietest student a voic...  \n",
       "47298  Hatching eggs in school is one the most reward...  \n",
       "2532   Classroom management and behavior is a large p...  \n",
       "42166  My favorite memory from elementary school is w...  \n",
       "42479  “Teaching middle school is an adventure, not a...  \n",
       "23824  Welcome to my teaching world! A classroom fill...  \n",
       "\n",
       "[200 rows x 18 columns]"
      ]
     },
     "execution_count": 125,
     "metadata": {},
     "output_type": "execute_result"
    }
   ],
   "source": [
    "project_data.head(200)"
   ]
  },
  {
   "cell_type": "code",
   "execution_count": 126,
   "metadata": {
    "ExecuteTime": {
     "end_time": "2019-09-22T03:24:53.474173Z",
     "start_time": "2019-09-22T03:24:53.469173Z"
    },
    "colab": {},
    "colab_type": "code",
    "id": "2ou8qSzkCyna"
   },
   "outputs": [],
   "source": [
    "#### 1.4.2.3 Using Pretrained Models: TFIDF weighted W2V"
   ]
  },
  {
   "cell_type": "code",
   "execution_count": 127,
   "metadata": {
    "ExecuteTime": {
     "end_time": "2019-09-22T03:24:53.725555Z",
     "start_time": "2019-09-22T03:24:53.539433Z"
    },
    "colab": {},
    "colab_type": "code",
    "id": "TCl7L1DhCyne",
    "outputId": "c1e9c200-8868-4b26-adbd-7836d815abef"
   },
   "outputs": [
    {
     "name": "stdout",
     "output_type": "stream",
     "text": [
      "I recently read an article about giving students a choice about how they learn. We already set goals; why not let them choose where to sit, and give them options of what to sit on?I teach at a low-income (Title 1) school. Every year, I have a class with a range of abilities, yet they are all the same age. They learn differently, and they have different interests. Some have ADHD, and some are fast learners. Yet they are eager and active learners that want and need to be able to move around the room, yet have a place that they can be comfortable to complete their work.We need a classroom rug that we can use as a class for reading time, and students can use during other learning times. I have also requested four Kore Kids wobble chairs and four Back Jack padded portable chairs so that students can still move during whole group lessons without disrupting the class. Having these areas will provide these little ones with a way to wiggle while working.Benjamin Franklin once said, \\\"Tell me and I forget, teach me and I may remember, involve me and I learn.\\\" I want these children to be involved in their learning by having a choice on where to sit and how to learn, all by giving them options for comfortable flexible seating.\n",
      "==================================================\n",
      "At the beginning of every class we start out with a Math Application problem to help students see the relevance of topics in math. We are always in groups and do a lot of cooperative activities. We also use lots of technology in our class. I love seeing my students grow and love math!I have a very diverse population of students from all different races, SES, and experiences. My students love school and are starting to embrace the hard work it takes to be a fifth grader.  My school is a 5th/6th grade school only and is considered a school for the middle grades. It is located in a suburban area. It is now more diverse than it has been in many years.I am in an inclusion setting and many of my students have disabilities. It is hard for them to see the board because our resources are old and outdated.  A new document camera for our classroom will allow our students to see the board more clearly during instructional times and will create a classroom environment where lots of movement isn't necessary just because my students cannot see the board.It's frustrating to teach a lesson when many of my students can't see the board because the resources I have are old and outdated. Oftentimes students will tell me to wait before moving on because it takes them forever to write notes because they cannot see the materials.  I want students to enjoy coming to my class to learn math and not feel frustrated because they cannot see the board.\n",
      "==================================================\n",
      "My students love coming to school and they love learning. I strive daily to make our classroom a relaxed, comfortable and welcoming environment where all learners will excel and grow in their learning. And a new rug will make our days even brighter!My 2nd grade classroom is filled with 20 amazing young learners. These students fill my heart everyday with their passion for learning new things. Working with these students and how engaged they are in each subject matter is so much fun. We are small elementary school in mid-Missouri and we have an 80 percent free and reduced lunch rate. I have a wide range of learners in my classroom, and all of my students learn in different ways. So it is important to provide a learning environment that meets all students.A beautiful new carpet will be the focal point of our classroom. The carpet will be full of students all day long. It will be a clean and comfortable place where my students will find comfort in learning. Students will be sitting in small groups, laying and reading a book or even dancing on the carpet for brain breaks during the day. A carpet in an elementary classroom is the heart of where learning takes place!Thank you for donating or considering a donation to this project. I want to make my 2nd grade classroom as comfortable and inviting as Starbucks or as cozy as a grandma's living room! This beautiful carpet will be a perfect addition to a classroom the is filled with so much excitement and enthusiasm!\n",
      "==================================================\n",
      "I teach at a Title 1 school, with 73% of my students who receive free/reduced lunch. Our school provides free breakfast for all students. I am a Special Education certified teacher and I teach Kindergarten in a general education setting with my class that consists 52% students with special needs. The disabilities include Autism Spectrum Disorder, Speech Impaired, Language Impaired, Other Health Impaired (ADHD), and Developmentally Delayed. I also have about 42% of my students who are English Language Learners.\\r\\n\\r\\n\\\"Self-motivated learners\\\" is a synonym of \\\"my students\\\".  They love to learn and they possess a positive outlook and attitude in school. Almost everyday, my students would ask me, \\\"Ms. Perez, what are we going to learn today?\\\" I could not ask for a better greeting from my students.This project will greatly impact my students’ learning on a daily basis. The wobble chairs will provide assistance for my students who have difficulties focusing and attending during lessons and discussions. Despite the fact that students participate in physical activities in P.E., Recess, and GoNoodle (dance videos) sessions in our classroom, students still have energy to stand or wiggle from their seats during lessons. Due to these special needs that are beyond the students’ control, there is a lot of distraction and student learning is not really achieved at its full potential. The lack of appropriate stimulation hinders them to focus and learn in class. Students with special needs will be able to sit on the wobble chairs during whole group/small group lessons. This will enable their little active bodies to move while “sitting still” without disrupting other students. As a result, all students will improve focus and increase student attention in learning all content areas. In addition, the visual timer will help my students to actually see the allotted time for activities. This will benefit especially ELL students and students with special needs. Whenever we do independent classwork or work in our centers, the students can refer to it and self-monitor their progress in completing assignments. It will encourage them to use their time wisely and finish tasks on time. It will also help the students have a smoother transition from one activity to another. \\r\\nBy donating to this project, you will significantly help students with special needs have an equal opportunity to learn with their peers. Behavior issues will be greatly minimized and classroom management will be optimized. Help me set all students for success! I am looking forward to seeing my students become active listeners and engaged learners, and always happy to go to school!\\r\\nnannan\n",
      "==================================================\n"
     ]
    }
   ],
   "source": [
    "# printing some random reviews\n",
    "print(project_data['essay'].values[0])\n",
    "print(\"=\"*50)\n",
    "print(project_data['essay'].values[150])\n",
    "print(\"=\"*50)\n",
    "print(project_data['essay'].values[1000])\n",
    "print(\"=\"*50)\n",
    "print(project_data['essay'].values[20000])\n",
    "print(\"=\"*50)\n"
   ]
  },
  {
   "cell_type": "code",
   "execution_count": 128,
   "metadata": {
    "ExecuteTime": {
     "end_time": "2019-09-22T03:24:53.803611Z",
     "start_time": "2019-09-22T03:24:53.736563Z"
    },
    "colab": {},
    "colab_type": "code",
    "id": "Yqj4vGVoCynh"
   },
   "outputs": [],
   "source": [
    "# https://stackoverflow.com/a/47091490/4084039\n",
    "import re\n",
    "\n",
    "def decontracted(phrase):\n",
    "    # specific\n",
    "    phrase = re.sub(r\"won't\", \"will not\", phrase)\n",
    "    phrase = re.sub(r\"can\\'t\", \"can not\", phrase)\n",
    "\n",
    "    # general\n",
    "    phrase = re.sub(r\"n\\'t\", \" not\", phrase)\n",
    "    phrase = re.sub(r\"\\'re\", \" are\", phrase)\n",
    "    phrase = re.sub(r\"\\'s\", \" is\", phrase)\n",
    "    phrase = re.sub(r\"\\'d\", \" would\", phrase)\n",
    "    phrase = re.sub(r\"\\'ll\", \" will\", phrase)\n",
    "    phrase = re.sub(r\"\\'t\", \" not\", phrase)\n",
    "    phrase = re.sub(r\"\\'ve\", \" have\", phrase)\n",
    "    phrase = re.sub(r\"\\'m\", \" am\", phrase)\n",
    "    return phrase"
   ]
  },
  {
   "cell_type": "code",
   "execution_count": 129,
   "metadata": {
    "ExecuteTime": {
     "end_time": "2019-09-22T03:24:53.950715Z",
     "start_time": "2019-09-22T03:24:53.811616Z"
    },
    "colab": {},
    "colab_type": "code",
    "id": "aDUbe9piCynj",
    "outputId": "cd082bbf-9ba2-4373-ea65-73c45627bb7d"
   },
   "outputs": [
    {
     "name": "stdout",
     "output_type": "stream",
     "text": [
      "I teach at a Title 1 school, with 73% of my students who receive free/reduced lunch. Our school provides free breakfast for all students. I am a Special Education certified teacher and I teach Kindergarten in a general education setting with my class that consists 52% students with special needs. The disabilities include Autism Spectrum Disorder, Speech Impaired, Language Impaired, Other Health Impaired (ADHD), and Developmentally Delayed. I also have about 42% of my students who are English Language Learners.\\r\\n\\r\\n\\\"Self-motivated learners\\\" is a synonym of \\\"my students\\\".  They love to learn and they possess a positive outlook and attitude in school. Almost everyday, my students would ask me, \\\"Ms. Perez, what are we going to learn today?\\\" I could not ask for a better greeting from my students.This project will greatly impact my students’ learning on a daily basis. The wobble chairs will provide assistance for my students who have difficulties focusing and attending during lessons and discussions. Despite the fact that students participate in physical activities in P.E., Recess, and GoNoodle (dance videos) sessions in our classroom, students still have energy to stand or wiggle from their seats during lessons. Due to these special needs that are beyond the students’ control, there is a lot of distraction and student learning is not really achieved at its full potential. The lack of appropriate stimulation hinders them to focus and learn in class. Students with special needs will be able to sit on the wobble chairs during whole group/small group lessons. This will enable their little active bodies to move while “sitting still” without disrupting other students. As a result, all students will improve focus and increase student attention in learning all content areas. In addition, the visual timer will help my students to actually see the allotted time for activities. This will benefit especially ELL students and students with special needs. Whenever we do independent classwork or work in our centers, the students can refer to it and self-monitor their progress in completing assignments. It will encourage them to use their time wisely and finish tasks on time. It will also help the students have a smoother transition from one activity to another. \\r\\nBy donating to this project, you will significantly help students with special needs have an equal opportunity to learn with their peers. Behavior issues will be greatly minimized and classroom management will be optimized. Help me set all students for success! I am looking forward to seeing my students become active listeners and engaged learners, and always happy to go to school!\\r\\nnannan\n",
      "==================================================\n"
     ]
    }
   ],
   "source": [
    "sent = decontracted(project_data['essay'].values[20000])\n",
    "print(sent)\n",
    "print(\"=\"*50)"
   ]
  },
  {
   "cell_type": "code",
   "execution_count": 130,
   "metadata": {
    "ExecuteTime": {
     "end_time": "2019-09-22T03:24:54.072804Z",
     "start_time": "2019-09-22T03:24:53.954720Z"
    },
    "colab": {},
    "colab_type": "code",
    "id": "vXSbHYJ4Cynp",
    "outputId": "1becc1e1-bb25-48aa-f44f-32c99df9e13a"
   },
   "outputs": [
    {
     "name": "stdout",
     "output_type": "stream",
     "text": [
      "I teach at a Title 1 school, with 73% of my students who receive free/reduced lunch. Our school provides free breakfast for all students. I am a Special Education certified teacher and I teach Kindergarten in a general education setting with my class that consists 52% students with special needs. The disabilities include Autism Spectrum Disorder, Speech Impaired, Language Impaired, Other Health Impaired (ADHD), and Developmentally Delayed. I also have about 42% of my students who are English Language Learners.     Self-motivated learners  is a synonym of  my students .  They love to learn and they possess a positive outlook and attitude in school. Almost everyday, my students would ask me,  Ms. Perez, what are we going to learn today?  I could not ask for a better greeting from my students.This project will greatly impact my students’ learning on a daily basis. The wobble chairs will provide assistance for my students who have difficulties focusing and attending during lessons and discussions. Despite the fact that students participate in physical activities in P.E., Recess, and GoNoodle (dance videos) sessions in our classroom, students still have energy to stand or wiggle from their seats during lessons. Due to these special needs that are beyond the students’ control, there is a lot of distraction and student learning is not really achieved at its full potential. The lack of appropriate stimulation hinders them to focus and learn in class. Students with special needs will be able to sit on the wobble chairs during whole group/small group lessons. This will enable their little active bodies to move while “sitting still” without disrupting other students. As a result, all students will improve focus and increase student attention in learning all content areas. In addition, the visual timer will help my students to actually see the allotted time for activities. This will benefit especially ELL students and students with special needs. Whenever we do independent classwork or work in our centers, the students can refer to it and self-monitor their progress in completing assignments. It will encourage them to use their time wisely and finish tasks on time. It will also help the students have a smoother transition from one activity to another.   By donating to this project, you will significantly help students with special needs have an equal opportunity to learn with their peers. Behavior issues will be greatly minimized and classroom management will be optimized. Help me set all students for success! I am looking forward to seeing my students become active listeners and engaged learners, and always happy to go to school!  nannan\n"
     ]
    }
   ],
   "source": [
    "# \\r \\n \\t remove from string python: http://texthandler.com/info/remove-line-breaks-python/\n",
    "sent = sent.replace('\\\\r', ' ')\n",
    "sent = sent.replace('\\\\\"', ' ')\n",
    "sent = sent.replace('\\\\n', ' ')\n",
    "print(sent)"
   ]
  },
  {
   "cell_type": "code",
   "execution_count": 131,
   "metadata": {
    "ExecuteTime": {
     "end_time": "2019-09-22T03:24:54.214903Z",
     "start_time": "2019-09-22T03:24:54.077805Z"
    },
    "colab": {},
    "colab_type": "code",
    "id": "67Agrz_YCynt",
    "outputId": "ec6bf4e3-c419-4740-9989-fa53128abe20"
   },
   "outputs": [
    {
     "name": "stdout",
     "output_type": "stream",
     "text": [
      "I teach at a Title 1 school with 73 of my students who receive free reduced lunch Our school provides free breakfast for all students I am a Special Education certified teacher and I teach Kindergarten in a general education setting with my class that consists 52 students with special needs The disabilities include Autism Spectrum Disorder Speech Impaired Language Impaired Other Health Impaired ADHD and Developmentally Delayed I also have about 42 of my students who are English Language Learners Self motivated learners is a synonym of my students They love to learn and they possess a positive outlook and attitude in school Almost everyday my students would ask me Ms Perez what are we going to learn today I could not ask for a better greeting from my students This project will greatly impact my students learning on a daily basis The wobble chairs will provide assistance for my students who have difficulties focusing and attending during lessons and discussions Despite the fact that students participate in physical activities in P E Recess and GoNoodle dance videos sessions in our classroom students still have energy to stand or wiggle from their seats during lessons Due to these special needs that are beyond the students control there is a lot of distraction and student learning is not really achieved at its full potential The lack of appropriate stimulation hinders them to focus and learn in class Students with special needs will be able to sit on the wobble chairs during whole group small group lessons This will enable their little active bodies to move while sitting still without disrupting other students As a result all students will improve focus and increase student attention in learning all content areas In addition the visual timer will help my students to actually see the allotted time for activities This will benefit especially ELL students and students with special needs Whenever we do independent classwork or work in our centers the students can refer to it and self monitor their progress in completing assignments It will encourage them to use their time wisely and finish tasks on time It will also help the students have a smoother transition from one activity to another By donating to this project you will significantly help students with special needs have an equal opportunity to learn with their peers Behavior issues will be greatly minimized and classroom management will be optimized Help me set all students for success I am looking forward to seeing my students become active listeners and engaged learners and always happy to go to school nannan\n"
     ]
    }
   ],
   "source": [
    "#remove spacial character: https://stackoverflow.com/a/5843547/4084039\n",
    "sent = re.sub('[^A-Za-z0-9]+', ' ', sent)\n",
    "print(sent)"
   ]
  },
  {
   "cell_type": "code",
   "execution_count": 132,
   "metadata": {
    "ExecuteTime": {
     "end_time": "2019-09-22T03:24:54.422023Z",
     "start_time": "2019-09-22T03:24:54.219907Z"
    },
    "colab": {},
    "colab_type": "code",
    "id": "hhyPw-8wCyny"
   },
   "outputs": [],
   "source": [
    "# https://gist.github.com/sebleier/554280\n",
    "# we are removing the words from the stop words list: 'no', 'nor', 'not'\n",
    "stopwords= ['i', 'me', 'my', 'myself', 'we', 'our', 'ours', 'ourselves', 'you', \"you're\", \"you've\",\\\n",
    "            \"you'll\", \"you'd\", 'your', 'yours', 'yourself', 'yourselves', 'he', 'him', 'his', 'himself', \\\n",
    "            'she', \"she's\", 'her', 'hers', 'herself', 'it', \"it's\", 'its', 'itself', 'they', 'them', 'their',\\\n",
    "            'theirs', 'themselves', 'what', 'which', 'who', 'whom', 'this', 'that', \"that'll\", 'these', 'those', \\\n",
    "            'am', 'is', 'are', 'was', 'were', 'be', 'been', 'being', 'have', 'has', 'had', 'having', 'do', 'does', \\\n",
    "            'did', 'doing', 'a', 'an', 'the', 'and', 'but', 'if', 'or', 'because', 'as', 'until', 'while', 'of', \\\n",
    "            'at', 'by', 'for', 'with', 'about', 'against', 'between', 'into', 'through', 'during', 'before', 'after',\\\n",
    "            'above', 'below', 'to', 'from', 'up', 'down', 'in', 'out', 'on', 'off', 'over', 'under', 'again', 'further',\\\n",
    "            'then', 'once', 'here', 'there', 'when', 'where', 'why', 'how', 'all', 'any', 'both', 'each', 'few', 'more',\\\n",
    "            'most', 'other', 'some', 'such', 'only', 'own', 'same', 'so', 'than', 'too', 'very', \\\n",
    "            's', 't', 'can', 'will', 'just', 'don', \"don't\", 'should', \"should've\", 'now', 'd', 'll', 'm', 'o', 're', \\\n",
    "            've', 'y', 'ain', 'aren', \"aren't\", 'couldn', \"couldn't\", 'didn', \"didn't\", 'doesn', \"doesn't\", 'hadn',\\\n",
    "            \"hadn't\", 'hasn', \"hasn't\", 'haven', \"haven't\", 'isn', \"isn't\", 'ma', 'mightn', \"mightn't\", 'mustn',\\\n",
    "            \"mustn't\", 'needn', \"needn't\", 'shan', \"shan't\", 'shouldn', \"shouldn't\", 'wasn', \"wasn't\", 'weren', \"weren't\", \\\n",
    "            'won', \"won't\", 'wouldn', \"wouldn't\"]"
   ]
  },
  {
   "cell_type": "code",
   "execution_count": 133,
   "metadata": {
    "ExecuteTime": {
     "end_time": "2019-09-22T03:25:52.658050Z",
     "start_time": "2019-09-22T03:24:54.439032Z"
    },
    "colab": {},
    "colab_type": "code",
    "id": "d6RCdphRCyn0",
    "outputId": "a59d693e-fa5b-4821-e173-e308905b96d5"
   },
   "outputs": [
    {
     "name": "stderr",
     "output_type": "stream",
     "text": [
      "100%|███████████████████████████████████| 50000/50000 [00:57<00:00, 864.33it/s]\n"
     ]
    }
   ],
   "source": [
    "# Combining all the above stundents \n",
    "from tqdm import tqdm\n",
    "import num2words\n",
    "preprocessed_essays = []\n",
    "# tqdm is for printing the status bar\n",
    "for sentance in tqdm(project_data['essay'].values):\n",
    "    sent = decontracted(sentance)\n",
    "    sent = sent.replace('\\\\r', ' ')\n",
    "    sent = sent.replace('\\\\\"', ' ')\n",
    "    sent = sent.replace('\\\\n', ' ')\n",
    "    sent = re.sub(r\"(\\d+)\", lambda x: num2words.num2words(int(x.group(0))), sent)\n",
    "    sent = re.sub('[^A-Za-z0-9]+', ' ', sent)\n",
    "    # https://gist.github.com/sebleier/554280\n",
    "    sent = ' '.join(e for e in sent.split() if e.lower() not in stopwords)\n",
    "    preprocessed_essays.append(sent.lower().strip())"
   ]
  },
  {
   "cell_type": "code",
   "execution_count": 134,
   "metadata": {
    "ExecuteTime": {
     "end_time": "2019-09-22T03:25:52.678066Z",
     "start_time": "2019-09-22T03:25:52.665055Z"
    },
    "colab": {},
    "colab_type": "code",
    "id": "rPo9cLvNCyn3",
    "outputId": "f4069bd0-65e3-46af-e799-f7e9132301bb"
   },
   "outputs": [
    {
     "data": {
      "text/plain": [
       "'students yearn classroom environment matches desire learn education changing daily need classroom meet needs first graders privilege teaching incredible group six seven year olds absolutely love learn completely blown away love learning day new adventure enjoy learning nonfiction text hands activities many students active learners benefit kinesthetic activities sometimes learning sitting seat difficult want every child opportunity focus energy order best school ideally would love delve right flexible seating students provided many different seating options chairs hokki stools mats ground etc freedom choose ever seat feel need student would able choose seating option best help learn addition pencil sharpener mobile easel magnetic strips mounting tape help make classroom better suited six seven year olds project beneficial students able better focus energy something small choosing seat help encourage positive learning environment promotes learning students easel help make classroom mobile dry erase wheels magnetic strips mounting tape pencil sharpener allow resources students school day'"
      ]
     },
     "execution_count": 134,
     "metadata": {},
     "output_type": "execute_result"
    }
   ],
   "source": [
    "# after preprocesing\n",
    "preprocessed_essays[4]"
   ]
  },
  {
   "cell_type": "markdown",
   "metadata": {
    "colab_type": "text",
    "id": "QeUw6WMKCyn7"
   },
   "source": [
    "<h2><font color='red'> 1.4 Preprocessing of `project_title`</font></h2>"
   ]
  },
  {
   "cell_type": "code",
   "execution_count": 135,
   "metadata": {
    "ExecuteTime": {
     "end_time": "2019-09-22T03:25:55.577478Z",
     "start_time": "2019-09-22T03:25:52.683068Z"
    },
    "colab": {},
    "colab_type": "code",
    "id": "Ql9ttfW3Cyn7"
   },
   "outputs": [
    {
     "name": "stderr",
     "output_type": "stream",
     "text": [
      "100%|█████████████████████████████████| 50000/50000 [00:02<00:00, 18772.16it/s]\n"
     ]
    }
   ],
   "source": [
    "# similarly you can preprocess the titles also\n",
    "# Combining all the above statemennts \n",
    "#Replacing number with text https://stackoverflow.com/questions/40040177/search-and-replace-numbers-with-words-in-file\n",
    "#re.sub(r\"(\\d+)\", lambda x: num2words.num2words(int(x.group(0))), sent)\n",
    "from tqdm import tqdm\n",
    "preprocessed_title = []\n",
    "# tqdm is for printing the status bar\n",
    "for sentance in tqdm(project_data['project_title'].values):\n",
    "    sent = decontracted(sentance)\n",
    "    sent = sent.replace('\\\\r', ' ')\n",
    "    sent = sent.replace('\\\\\"', ' ')\n",
    "    sent = sent.replace('\\\\n', ' ')\n",
    "    sent = re.sub(r\"(\\d+)\", lambda x: num2words.num2words(int(x.group(0))), sent)\n",
    "    sent = re.sub('[^A-Za-z0-9]+', ' ', sent)\n",
    "    # https://gist.github.com/sebleier/554280\n",
    "    sent = ' '.join(e for e in sent.split() if e not in stopwords)\n",
    "    preprocessed_title.append(sent.lower().strip())"
   ]
  },
  {
   "cell_type": "code",
   "execution_count": 136,
   "metadata": {
    "ExecuteTime": {
     "end_time": "2019-09-22T03:25:55.681551Z",
     "start_time": "2019-09-22T03:25:55.583481Z"
    }
   },
   "outputs": [
    {
     "name": "stderr",
     "output_type": "stream",
     "text": [
      "100%|████████████████████████████████| 50000/50000 [00:00<00:00, 675211.21it/s]\n"
     ]
    },
    {
     "data": {
      "text/plain": [
       "['Grades_PreK_2', 'Grades_3_5', 'Grades_9_12', 'Grades_6_8']"
      ]
     },
     "execution_count": 136,
     "metadata": {},
     "output_type": "execute_result"
    }
   ],
   "source": [
    "#process project grade remove replace space with _ and replace - with _\n",
    "preprocessed_grade = []\n",
    "for sentance in  tqdm(project_data['project_grade_category'].values):\n",
    "    sentance=sentance.replace(\" \",\"_\")\n",
    "    sentance = sentance.replace(\"-\",\"_\")\n",
    "    preprocessed_grade.append(sentance)\n",
    "list(set(preprocessed_grade))"
   ]
  },
  {
   "cell_type": "markdown",
   "metadata": {},
   "source": [
    "<h2><font color='red'> 1.4.1 Combining Resource data and project data`</font></h2>"
   ]
  },
  {
   "cell_type": "code",
   "execution_count": 137,
   "metadata": {
    "ExecuteTime": {
     "end_time": "2019-09-22T03:25:57.287162Z",
     "start_time": "2019-09-22T03:25:55.686555Z"
    }
   },
   "outputs": [
    {
     "name": "stdout",
     "output_type": "stream",
     "text": [
      "Index(['Unnamed: 0', 'id', 'teacher_id', 'teacher_prefix', 'school_state',\n",
      "       'Date', 'project_grade_category', 'project_title', 'project_essay_1',\n",
      "       'project_essay_2', 'project_essay_3', 'project_essay_4',\n",
      "       'project_resource_summary',\n",
      "       'teacher_number_of_previously_posted_projects', 'project_is_approved',\n",
      "       'clean_categories', 'clean_subcategories', 'essay'],\n",
      "      dtype='object')\n",
      "Index(['Unnamed: 0', 'id', 'teacher_id', 'teacher_prefix', 'school_state',\n",
      "       'Date', 'project_grade_category', 'project_title', 'project_essay_1',\n",
      "       'project_essay_2', 'project_essay_3', 'project_essay_4',\n",
      "       'project_resource_summary',\n",
      "       'teacher_number_of_previously_posted_projects', 'project_is_approved',\n",
      "       'clean_categories', 'clean_subcategories', 'essay', 'price',\n",
      "       'quantity'],\n",
      "      dtype='object')\n"
     ]
    }
   ],
   "source": [
    "price_data = resource_data.groupby('id').agg({'price':'sum', 'quantity':'sum'}).reset_index()\n",
    "print(project_data.columns)\n",
    "project_data = pd.merge(project_data, price_data, on='id', how='left')\n",
    "print(project_data.columns)"
   ]
  },
  {
   "cell_type": "markdown",
   "metadata": {
    "ExecuteTime": {
     "end_time": "2019-09-07T17:40:00.827091Z",
     "start_time": "2019-09-07T17:40:00.821085Z"
    }
   },
   "source": [
    "<h2><font color='red'>[1.4.2] Splitting data into Train and cross validation(or test): Stratified Sampling</font></h2>"
   ]
  },
  {
   "cell_type": "code",
   "execution_count": 138,
   "metadata": {
    "ExecuteTime": {
     "end_time": "2019-09-22T03:25:57.694120Z",
     "start_time": "2019-09-22T03:25:57.297843Z"
    }
   },
   "outputs": [],
   "source": [
    "# train test split\n",
    "y_label= project_data['project_is_approved']\n",
    "project_data['essay'] = preprocessed_essays\n",
    "project_data['project_title']= preprocessed_title\n",
    "project_data['project_grade_category']=preprocessed_grade\n",
    "X_label = project_data.drop(columns='project_is_approved')\n",
    "\n",
    "from sklearn.model_selection import train_test_split\n",
    "X_train, X_test, y_train, y_test = train_test_split(X_label, y_label, test_size=0.33, stratify=y_label)\n"
   ]
  },
  {
   "cell_type": "code",
   "execution_count": 139,
   "metadata": {
    "ExecuteTime": {
     "end_time": "2019-09-22T03:25:57.740154Z",
     "start_time": "2019-09-22T03:25:57.720139Z"
    }
   },
   "outputs": [
    {
     "name": "stdout",
     "output_type": "stream",
     "text": [
      "(33500, 19)\n",
      "(16500, 19)\n"
     ]
    }
   ],
   "source": [
    "print(X_train.shape)\n",
    "print(X_test.shape)\n",
    "#print(X_cv.shape)"
   ]
  },
  {
   "cell_type": "code",
   "execution_count": 140,
   "metadata": {
    "ExecuteTime": {
     "end_time": "2019-09-22T03:25:57.890465Z",
     "start_time": "2019-09-22T03:25:57.760167Z"
    }
   },
   "outputs": [
    {
     "data": {
      "text/plain": [
       "Index(['Unnamed: 0', 'id', 'teacher_id', 'teacher_prefix', 'school_state',\n",
       "       'Date', 'project_grade_category', 'project_title', 'project_essay_1',\n",
       "       'project_essay_2', 'project_essay_3', 'project_essay_4',\n",
       "       'project_resource_summary',\n",
       "       'teacher_number_of_previously_posted_projects', 'clean_categories',\n",
       "       'clean_subcategories', 'essay', 'price', 'quantity'],\n",
       "      dtype='object')"
      ]
     },
     "execution_count": 140,
     "metadata": {},
     "output_type": "execute_result"
    }
   ],
   "source": [
    "X_train.columns"
   ]
  },
  {
   "cell_type": "markdown",
   "metadata": {
    "colab_type": "text",
    "id": "NQg4ZfFtCyn9"
   },
   "source": [
    "## 1.5 Preparing data for models"
   ]
  },
  {
   "cell_type": "code",
   "execution_count": 141,
   "metadata": {
    "ExecuteTime": {
     "end_time": "2019-09-22T03:25:58.027617Z",
     "start_time": "2019-09-22T03:25:57.896467Z"
    },
    "colab": {},
    "colab_type": "code",
    "id": "V4GS54ZTCyn-",
    "outputId": "febd575b-ed33-454e-d2d5-e8f6f635d117"
   },
   "outputs": [
    {
     "data": {
      "text/plain": [
       "Index(['Unnamed: 0', 'id', 'teacher_id', 'teacher_prefix', 'school_state',\n",
       "       'Date', 'project_grade_category', 'project_title', 'project_essay_1',\n",
       "       'project_essay_2', 'project_essay_3', 'project_essay_4',\n",
       "       'project_resource_summary',\n",
       "       'teacher_number_of_previously_posted_projects', 'project_is_approved',\n",
       "       'clean_categories', 'clean_subcategories', 'essay', 'price',\n",
       "       'quantity'],\n",
       "      dtype='object')"
      ]
     },
     "execution_count": 141,
     "metadata": {},
     "output_type": "execute_result"
    }
   ],
   "source": [
    "project_data.columns"
   ]
  },
  {
   "cell_type": "markdown",
   "metadata": {
    "colab_type": "text",
    "id": "6FDsc1epCyoD"
   },
   "source": [
    "we are going to consider\n",
    "\n",
    "       - school_state : categorical data\n",
    "       - clean_categories : categorical data\n",
    "       - clean_subcategories : categorical data\n",
    "       - project_grade_category : categorical data\n",
    "       - teacher_prefix : categorical data\n",
    "       \n",
    "       - project_title : text data\n",
    "       - text : text data\n",
    "       - project_resource_summary: text data (optinal)\n",
    "       \n",
    "       - quantity : numerical (optinal)\n",
    "       - teacher_number_of_previously_posted_projects : numerical\n",
    "       - price : numerical"
   ]
  },
  {
   "cell_type": "markdown",
   "metadata": {
    "colab_type": "text",
    "id": "0d0QeeQ-CyoD"
   },
   "source": [
    "<h2><font color='red'>[1.5.1] Vectorizing Categorical data</font></h2>"
   ]
  },
  {
   "cell_type": "markdown",
   "metadata": {
    "colab_type": "text",
    "id": "kFZFSOirCyoD"
   },
   "source": [
    "- https://www.appliedaicourse.com/course/applied-ai-course-online/lessons/handling-categorical-and-numerical-features/"
   ]
  },
  {
   "cell_type": "code",
   "execution_count": 142,
   "metadata": {
    "ExecuteTime": {
     "end_time": "2019-09-22T03:25:58.623215Z",
     "start_time": "2019-09-22T03:25:58.032621Z"
    },
    "colab": {},
    "colab_type": "code",
    "id": "_5mt7VMXCyoF",
    "outputId": "0dbca3d7-df66-46b6-d9b3-a4035f29f8ab"
   },
   "outputs": [
    {
     "name": "stdout",
     "output_type": "stream",
     "text": [
      "After vectorizations\n",
      "(33500, 9) (33500,)\n",
      "(16500, 9) (16500,)\n",
      "['appliedlearning', 'care_hunger', 'health_sports', 'history_civics', 'literacy_language', 'math_science', 'music_arts', 'specialneeds', 'warmth']\n",
      "====================================================================================================\n"
     ]
    }
   ],
   "source": [
    "# we use count vectorizer to convert the values into one \n",
    "from sklearn.feature_extraction.text import CountVectorizer\n",
    "vectorizer = CountVectorizer(vocabulary=list(sorted_cat_dict.keys()), lowercase=False, binary=True)\n",
    "vectorizer = CountVectorizer()\n",
    "vectorizer.fit(X_train['clean_categories'].values) # fit has to happen only on train data\n",
    "\n",
    "# we use the fitted CountVectorizer to convert the text to vector\n",
    "X_train_categories_ohc = vectorizer.transform(X_train['clean_categories'].values)\n",
    "#X_cv_categories_ohc = vectorizer.transform(X_cv['clean_categories'].values)\n",
    "X_test_categories_ohc = vectorizer.transform(X_test['clean_categories'].values)\n",
    "\n",
    "print(\"After vectorizations\")\n",
    "print(X_train_categories_ohc.shape, y_train.shape)\n",
    "#print(X_cv_categories_ohc.shape, y_cv.shape)\n",
    "print(X_test_categories_ohc.shape, y_test.shape)\n",
    "print(vectorizer.get_feature_names())\n",
    "print(\"=\"*100)"
   ]
  },
  {
   "cell_type": "code",
   "execution_count": 143,
   "metadata": {
    "ExecuteTime": {
     "end_time": "2019-09-22T03:25:59.194403Z",
     "start_time": "2019-09-22T03:25:58.628198Z"
    },
    "colab": {},
    "colab_type": "code",
    "id": "npr7SzACCyoH",
    "outputId": "68c81ac7-c96e-4a19-849e-6b8213608464"
   },
   "outputs": [
    {
     "name": "stdout",
     "output_type": "stream",
     "text": [
      "After vectorizations\n",
      "(33500, 30) (33500,)\n",
      "(16500, 30) (16500,)\n",
      "['appliedsciences', 'care_hunger', 'charactereducation', 'civics_government', 'college_careerprep', 'communityservice', 'earlydevelopment', 'economics', 'environmentalscience', 'esl', 'extracurricular', 'financialliteracy', 'foreignlanguages', 'gym_fitness', 'health_lifescience', 'health_wellness', 'history_geography', 'literacy', 'literature_writing', 'mathematics', 'music', 'nutritioneducation', 'other', 'parentinvolvement', 'performingarts', 'socialsciences', 'specialneeds', 'teamsports', 'visualarts', 'warmth']\n",
      "====================================================================================================\n"
     ]
    }
   ],
   "source": [
    "# we use count vectorizer to convert the values into one \n",
    "vectorizer = CountVectorizer(vocabulary=list(sorted_sub_cat_dict.keys()), lowercase=False, binary=True)\n",
    "vectorizer = CountVectorizer()\n",
    "vectorizer.fit(X_train['clean_subcategories'].values) # fit has to happen only on train data\n",
    "\n",
    "# we use the fitted CountVectorizer to convert the text to vector\n",
    "X_train_sub_categories_ohc = vectorizer.transform(X_train['clean_subcategories'].values)\n",
    "#X_cv_sub_categories_ohc = vectorizer.transform(X_cv['clean_subcategories'].values)\n",
    "X_test_sub_categories_ohc = vectorizer.transform(X_test['clean_subcategories'].values)\n",
    "\n",
    "print(\"After vectorizations\")\n",
    "print(X_train_sub_categories_ohc.shape, y_train.shape)\n",
    "#print(X_cv_sub_categories_ohc.shape, y_cv.shape)\n",
    "print(X_test_sub_categories_ohc.shape, y_test.shape)\n",
    "print(vectorizer.get_feature_names())\n",
    "print(\"=\"*100)"
   ]
  },
  {
   "cell_type": "code",
   "execution_count": 144,
   "metadata": {
    "ExecuteTime": {
     "end_time": "2019-09-22T03:25:59.636703Z",
     "start_time": "2019-09-22T03:25:59.201412Z"
    },
    "colab": {},
    "colab_type": "code",
    "id": "0ecQOf-JCyoL"
   },
   "outputs": [
    {
     "name": "stdout",
     "output_type": "stream",
     "text": [
      "After vectorizations\n",
      "(33500, 51) (33500,)\n",
      "(16500, 51) (16500,)\n",
      "['ak', 'al', 'ar', 'az', 'ca', 'co', 'ct', 'dc', 'de', 'fl', 'ga', 'hi', 'ia', 'id', 'il', 'in', 'ks', 'ky', 'la', 'ma', 'md', 'me', 'mi', 'mn', 'mo', 'ms', 'mt', 'nc', 'nd', 'ne', 'nh', 'nj', 'nm', 'nv', 'ny', 'oh', 'ok', 'or', 'pa', 'ri', 'sc', 'sd', 'tn', 'tx', 'ut', 'va', 'vt', 'wa', 'wi', 'wv', 'wy']\n",
      "====================================================================================================\n"
     ]
    }
   ],
   "source": [
    "# you can do the similar thing with state, teacher_prefix and project_grade_category also\n",
    "# we use count vectorizer to convert the values into one \n",
    "vectorizer = CountVectorizer()\n",
    "vectorizer.fit(X_train['school_state'].values) # fit has to happen only on train data\n",
    "\n",
    "# we use the fitted CountVectorizer to convert the text to vector\n",
    "X_train_state_ohe = vectorizer.transform(X_train['school_state'].values)\n",
    "#X_cv_state_ohe = vectorizer.transform(X_cv['school_state'].values)\n",
    "X_test_state_ohe = vectorizer.transform(X_test['school_state'].values)\n",
    "\n",
    "print(\"After vectorizations\")\n",
    "print(X_train_state_ohe.shape, y_train.shape)\n",
    "#print(X_cv_state_ohe.shape, y_cv.shape)\n",
    "print(X_test_state_ohe.shape, y_test.shape)\n",
    "print(vectorizer.get_feature_names())\n",
    "print(\"=\"*100)"
   ]
  },
  {
   "cell_type": "code",
   "execution_count": 145,
   "metadata": {
    "ExecuteTime": {
     "end_time": "2019-09-22T03:26:00.161076Z",
     "start_time": "2019-09-22T03:25:59.640705Z"
    }
   },
   "outputs": [
    {
     "name": "stdout",
     "output_type": "stream",
     "text": [
      "After vectorizations\n",
      "(33500, 6) (33500,)\n",
      "(16500, 6) (16500,)\n",
      "['dr', 'mr', 'mrs', 'ms', 'nan', 'teacher']\n",
      "====================================================================================================\n"
     ]
    }
   ],
   "source": [
    "vectorizer = CountVectorizer()\n",
    "vectorizer.fit(X_train['teacher_prefix'].values.astype('U')) # fit has to happen only on train data\n",
    "\n",
    "# we use the fitted CountVectorizer to convert the text to vector\n",
    "X_train_teacher_ohe = vectorizer.transform(X_train['teacher_prefix'].values.astype('U'))\n",
    "#X_cv_teacher_ohe = vectorizer.transform(X_cv['teacher_prefix'].values.astype('U'))\n",
    "X_test_teacher_ohe = vectorizer.transform(X_test['teacher_prefix'].values.astype('U'))\n",
    "\n",
    "print(\"After vectorizations\")\n",
    "print(X_train_teacher_ohe.shape, y_train.shape)\n",
    "#print(X_cv_teacher_ohe.shape, y_cv.shape)\n",
    "print(X_test_teacher_ohe.shape, y_test.shape)\n",
    "print(vectorizer.get_feature_names())\n",
    "print(\"=\"*100)"
   ]
  },
  {
   "cell_type": "code",
   "execution_count": 146,
   "metadata": {
    "ExecuteTime": {
     "end_time": "2019-09-22T03:26:00.549511Z",
     "start_time": "2019-09-22T03:26:00.165078Z"
    }
   },
   "outputs": [
    {
     "name": "stdout",
     "output_type": "stream",
     "text": [
      "After vectorizations\n",
      "(33500, 4) (33500,)\n",
      "(16500, 4) (16500,)\n",
      "['grades_3_5', 'grades_6_8', 'grades_9_12', 'grades_prek_2']\n",
      "====================================================================================================\n"
     ]
    }
   ],
   "source": [
    "vectorizer = CountVectorizer()\n",
    "vectorizer.fit(X_train['project_grade_category'].values) # fit has to happen only on train data\n",
    "\n",
    "# we use the fitted CountVectorizer to convert the text to vector\n",
    "X_train_grade_ohe = vectorizer.transform(X_train['project_grade_category'].values)\n",
    "#X_cv_grade_ohe = vectorizer.transform(X_cv['project_grade_category'].values)\n",
    "X_test_grade_ohe = vectorizer.transform(X_test['project_grade_category'].values)\n",
    "\n",
    "print(\"After vectorizations\")\n",
    "print(X_train_grade_ohe.shape, y_train.shape)\n",
    "#print(X_cv_grade_ohe.shape, y_cv.shape)\n",
    "print(X_test_grade_ohe.shape, y_test.shape)\n",
    "print(vectorizer.get_feature_names())\n",
    "print(\"=\"*100)"
   ]
  },
  {
   "cell_type": "markdown",
   "metadata": {
    "colab_type": "text",
    "id": "5YnkzKnmCyoN"
   },
   "source": [
    "### 1.5.2 Vectorizing Text data"
   ]
  },
  {
   "cell_type": "markdown",
   "metadata": {
    "colab_type": "text",
    "id": "W544CoFtCyoN"
   },
   "source": [
    "#### 1.5.2.1 Bag of words"
   ]
  },
  {
   "cell_type": "code",
   "execution_count": 147,
   "metadata": {
    "ExecuteTime": {
     "end_time": "2019-09-22T03:26:18.274937Z",
     "start_time": "2019-09-22T03:26:00.553516Z"
    },
    "colab": {},
    "colab_type": "code",
    "id": "2D93QosECyoP",
    "outputId": "ca16a2b1-fde3-46c0-a026-6a839ffa6e4a"
   },
   "outputs": [
    {
     "name": "stdout",
     "output_type": "stream",
     "text": [
      "some feature names  ['ab', 'abandoned', 'abc', 'abcmouse', 'abcs', 'abcya', 'abdominal', 'abilities', 'ability', 'able']\n",
      "==================================================\n",
      "the type of count vectorizer  <class 'scipy.sparse.csr.csr_matrix'>\n",
      "the shape of out text BOW vectorizer  (16500, 10190)\n",
      "the number of unique words  10190\n"
     ]
    }
   ],
   "source": [
    "# We are considering only the words which appeared in at least 10 documents(rows or projects).\n",
    "#BoW\n",
    "preprocessed_essays =X_train['essay'].astype('U')\n",
    "count_vect = CountVectorizer(min_df=10) #in scikit-learn\n",
    "count_vect.fit(preprocessed_essays)\n",
    "print(\"some feature names \", count_vect.get_feature_names()[:10])\n",
    "print('='*50)\n",
    "\n",
    "x_essay_bow1 = count_vect.transform(preprocessed_essays.astype('U'))\n",
    "#cv_essay_bow1 = count_vect.transform(X_cv['essay'].astype('U'))\n",
    "essay_bow1 = count_vect.transform(X_test['essay'].astype('U'))\n",
    "print(\"the type of count vectorizer \",type(essay_bow1))\n",
    "print(\"the shape of out text BOW vectorizer \",essay_bow1.get_shape())\n",
    "print(\"the number of unique words \", essay_bow1.get_shape()[1])\n",
    "\n",
    "\n",
    "#Normalization of BOW\n",
    "from sklearn.preprocessing import Normalizer\n",
    "w_normalized = Normalizer()\n",
    "\n",
    "w_normalized.fit(x_essay_bow1)\n",
    "\n",
    "x_essay_bow = w_normalized.transform(x_essay_bow1)\n",
    "#cv_essay_bow = w_normalized.transform(cv_essay_bow1)\n",
    "essay_bow = w_normalized.transform(essay_bow1)"
   ]
  },
  {
   "cell_type": "code",
   "execution_count": 148,
   "metadata": {
    "ExecuteTime": {
     "end_time": "2019-09-22T03:26:19.271644Z",
     "start_time": "2019-09-22T03:26:18.278938Z"
    },
    "colab": {},
    "colab_type": "code",
    "id": "rvPTRSkrCyoU",
    "scrolled": false
   },
   "outputs": [
    {
     "name": "stdout",
     "output_type": "stream",
     "text": [
      "some feature names  ['abc', 'about', 'academic', 'academics', 'access', 'accessible', 'accessing', 'accessories', 'achieve', 'achievement']\n",
      "==================================================\n",
      "the type of count vectorizer  <class 'scipy.sparse.csr.csr_matrix'>\n",
      "the shape of out title BOW vectorizer  (16500, 1631)\n",
      "the number of unique words  1631\n"
     ]
    }
   ],
   "source": [
    "# you can vectorize the title also \n",
    "# before you vectorize the title make sure you preprocess it\n",
    "preprocessed_title =X_train['project_title'].astype('U')\n",
    "count_vect = CountVectorizer(min_df=10) #in scikit-learn\n",
    "count_vect.fit(preprocessed_title)\n",
    "print(\"some feature names \", count_vect.get_feature_names()[:10])\n",
    "print('='*50)\n",
    "\n",
    "x_title_bow1 = count_vect.transform(preprocessed_title)\n",
    "#cv_title_bow1 = count_vect.transform(X_cv['project_title'].astype('U'))\n",
    "title_bow1 = count_vect.transform(X_test['project_title'].astype('U'))\n",
    "print(\"the type of count vectorizer \",type(title_bow1))\n",
    "print(\"the shape of out title BOW vectorizer \",title_bow1.get_shape())\n",
    "print(\"the number of unique words \", title_bow1.get_shape()[1])\n",
    "\n",
    "#Normalization of BOW title\n",
    "from sklearn.preprocessing import Normalizer\n",
    "w_normalized = Normalizer()\n",
    "\n",
    "w_normalized.fit(x_title_bow1)\n",
    "\n",
    "x_title_bow = w_normalized.transform(x_title_bow1)\n",
    "#cv_title_bow = w_normalized.transform(cv_title_bow1)\n",
    "title_bow = w_normalized.transform(title_bow1)"
   ]
  },
  {
   "cell_type": "markdown",
   "metadata": {
    "colab_type": "text",
    "id": "gK_SHRpTCyol"
   },
   "source": [
    "#### 1.5.2.2 TFIDF vectorizer"
   ]
  },
  {
   "cell_type": "code",
   "execution_count": 149,
   "metadata": {
    "ExecuteTime": {
     "end_time": "2019-09-22T03:26:35.964236Z",
     "start_time": "2019-09-22T03:26:19.275648Z"
    },
    "colab": {},
    "colab_type": "code",
    "id": "l0gzc2iwCyoo",
    "outputId": "3ada03da-5eec-4a16-c7bd-915d1c9352ae"
   },
   "outputs": [
    {
     "name": "stdout",
     "output_type": "stream",
     "text": [
      "Shape of matrix after one hot encodig  ['ab', 'abandoned', 'abc', 'abcmouse', 'abcs', 'abcya', 'abdominal', 'abilities', 'ability', 'able']\n",
      "==================================================\n",
      "the type of count vectorizer  <class 'scipy.sparse.csr.csr_matrix'>\n",
      "the shape of out text tfidf vectorizer  (16500, 10190)\n",
      "the number of unique words  10190\n"
     ]
    }
   ],
   "source": [
    "from sklearn.feature_extraction.text import TfidfVectorizer\n",
    "preprocessed_essays =X_train['essay']\n",
    "vectorizer = TfidfVectorizer(min_df=10)\n",
    "vectorizer.fit_transform(preprocessed_essays.astype('U'))\n",
    "print(\"Shape of matrix after one hot encodig \",vectorizer.get_feature_names()[:10])\n",
    "print('='*50)\n",
    "\n",
    "x_essay_tfidf1 = vectorizer.transform(preprocessed_essays.astype('U'))\n",
    "#cv_essay_tfidf1= vectorizer.transform(X_cv['essay'].astype('U'))\n",
    "essay_tfidf1 = vectorizer.transform(X_test['essay'].astype('U'))\n",
    "print(\"the type of count vectorizer \",type(essay_tfidf1))\n",
    "print(\"the shape of out text tfidf vectorizer \",essay_tfidf1.get_shape())\n",
    "print(\"the number of unique words \", essay_tfidf1.get_shape()[1])\n",
    "\n",
    "\n",
    "#Normalization of TfIdf\n",
    "from sklearn.preprocessing import Normalizer\n",
    "w_normalized = Normalizer()\n",
    "\n",
    "w_normalized.fit(x_essay_tfidf1)\n",
    "\n",
    "x_essay_tfidf = w_normalized.transform(x_essay_tfidf1)\n",
    "#cv_essay_tfidf = w_normalized.transform(cv_essay_tfidf1)\n",
    "essay_tfidf = w_normalized.transform(essay_tfidf1)"
   ]
  },
  {
   "cell_type": "code",
   "execution_count": 150,
   "metadata": {
    "ExecuteTime": {
     "end_time": "2019-09-22T03:26:37.060070Z",
     "start_time": "2019-09-22T03:26:35.969741Z"
    }
   },
   "outputs": [
    {
     "name": "stdout",
     "output_type": "stream",
     "text": [
      "some feature names  ['abc', 'about', 'academic', 'academics', 'access', 'accessible', 'accessing', 'accessories', 'achieve', 'achievement']\n",
      "==================================================\n",
      "the type of count vectorizer  <class 'scipy.sparse.csr.csr_matrix'>\n",
      "the shape of out title tfidf vectorizer  (16500, 1631)\n",
      "the number of unique words  1631\n"
     ]
    }
   ],
   "source": [
    "# Similarly you can vectorize for title also\n",
    "from sklearn.feature_extraction.text import TfidfVectorizer\n",
    "preprocessed_title =X_train['project_title'].astype('U')\n",
    "vectorizer = TfidfVectorizer(min_df=10)\n",
    "vectorizer.fit_transform(preprocessed_title)\n",
    "print(\"some feature names \", vectorizer.get_feature_names()[:10])\n",
    "print('='*50)\n",
    "\n",
    "x_title_tfidf1 = vectorizer.transform(preprocessed_title)\n",
    "#cv_title_tfidf1 = vectorizer.transform(X_cv['project_title'].astype('U'))\n",
    "title_tfidf1 = vectorizer.transform(X_test['project_title'].astype('U'))\n",
    "print(\"the type of count vectorizer \",type(title_tfidf1))\n",
    "print(\"the shape of out title tfidf vectorizer \",title_tfidf1.get_shape())\n",
    "print(\"the number of unique words \", title_tfidf1.get_shape()[1])\n",
    "\n",
    "\n",
    "#Normalization of TfIdf title\n",
    "from sklearn.preprocessing import Normalizer\n",
    "w_normalized = Normalizer()\n",
    "\n",
    "w_normalized.fit(x_title_tfidf1)\n",
    "\n",
    "x_title_tfidf = w_normalized.transform(x_title_tfidf1)\n",
    "#cv_title_tfidf = w_normalized.transform(cv_title_tfidf1)\n",
    "title_tfidf = w_normalized.transform(title_tfidf1)\n"
   ]
  },
  {
   "cell_type": "markdown",
   "metadata": {
    "colab_type": "text",
    "id": "YHwGesZUCyo1"
   },
   "source": [
    "#### 1.5.2.3 Using Pretrained Models: Avg W2V"
   ]
  },
  {
   "cell_type": "code",
   "execution_count": 151,
   "metadata": {
    "ExecuteTime": {
     "end_time": "2019-09-22T03:26:37.080062Z",
     "start_time": "2019-09-22T03:26:37.063052Z"
    },
    "colab": {},
    "colab_type": "code",
    "id": "FcsomcruCyo2",
    "outputId": "9876bfe7-73e1-454a-b937-f66fae906539"
   },
   "outputs": [
    {
     "data": {
      "text/plain": [
       "'\\n# Reading glove vectors in python: https://stackoverflow.com/a/38230349/4084039\\ndef loadGloveModel(gloveFile):\\n    print (\"Loading Glove Model\")\\n    f = open(gloveFile,\\'r\\', encoding=\"utf8\")\\n    model = {}\\n    for line in tqdm(f):\\n        splitLine = line.split()\\n        word = splitLine[0]\\n        embedding = np.array([float(val) for val in splitLine[1:]])\\n        model[word] = embedding\\n    print (\"Done.\",len(model),\" words loaded!\")\\n    return model\\nmodel = loadGloveModel(\\'glove.42B.300d.txt\\')\\n\\n# ============================\\nOutput:\\n    \\nLoading Glove Model\\n1917495it [06:32, 4879.69it/s]\\nDone. 1917495  words loaded!\\n\\n# ============================\\n\\nwords = []\\nfor i in preproced_texts:\\n    words.extend(i.split(\\' \\'))\\n\\nfor i in preproced_titles:\\n    words.extend(i.split(\\' \\'))\\nprint(\"all the words in the coupus\", len(words))\\nwords = set(words)\\nprint(\"the unique words in the coupus\", len(words))\\n\\ninter_words = set(model.keys()).intersection(words)\\nprint(\"The number of words that are present in both glove vectors and our coupus\",       len(inter_words),\"(\",np.round(len(inter_words)/len(words)*100,3),\"%)\")\\n\\nwords_courpus = {}\\nwords_glove = set(model.keys())\\nfor i in words:\\n    if i in words_glove:\\n        words_courpus[i] = model[i]\\nprint(\"word 2 vec length\", len(words_courpus))\\n\\n\\n# stronging variables into pickle files python: http://www.jessicayung.com/how-to-use-pickle-to-save-and-load-variables-in-python/\\n\\nimport pickle\\nwith open(\\'glove_vectors\\', \\'wb\\') as f:\\n    pickle.dump(words_courpus, f)\\n\\n\\n'"
      ]
     },
     "execution_count": 151,
     "metadata": {},
     "output_type": "execute_result"
    }
   ],
   "source": [
    "'''\n",
    "# Reading glove vectors in python: https://stackoverflow.com/a/38230349/4084039\n",
    "def loadGloveModel(gloveFile):\n",
    "    print (\"Loading Glove Model\")\n",
    "    f = open(gloveFile,'r', encoding=\"utf8\")\n",
    "    model = {}\n",
    "    for line in tqdm(f):\n",
    "        splitLine = line.split()\n",
    "        word = splitLine[0]\n",
    "        embedding = np.array([float(val) for val in splitLine[1:]])\n",
    "        model[word] = embedding\n",
    "    print (\"Done.\",len(model),\" words loaded!\")\n",
    "    return model\n",
    "model = loadGloveModel('glove.42B.300d.txt')\n",
    "\n",
    "# ============================\n",
    "Output:\n",
    "    \n",
    "Loading Glove Model\n",
    "1917495it [06:32, 4879.69it/s]\n",
    "Done. 1917495  words loaded!\n",
    "\n",
    "# ============================\n",
    "\n",
    "words = []\n",
    "for i in preproced_texts:\n",
    "    words.extend(i.split(' '))\n",
    "\n",
    "for i in preproced_titles:\n",
    "    words.extend(i.split(' '))\n",
    "print(\"all the words in the coupus\", len(words))\n",
    "words = set(words)\n",
    "print(\"the unique words in the coupus\", len(words))\n",
    "\n",
    "inter_words = set(model.keys()).intersection(words)\n",
    "print(\"The number of words that are present in both glove vectors and our coupus\", \\\n",
    "      len(inter_words),\"(\",np.round(len(inter_words)/len(words)*100,3),\"%)\")\n",
    "\n",
    "words_courpus = {}\n",
    "words_glove = set(model.keys())\n",
    "for i in words:\n",
    "    if i in words_glove:\n",
    "        words_courpus[i] = model[i]\n",
    "print(\"word 2 vec length\", len(words_courpus))\n",
    "\n",
    "\n",
    "# stronging variables into pickle files python: http://www.jessicayung.com/how-to-use-pickle-to-save-and-load-variables-in-python/\n",
    "\n",
    "import pickle\n",
    "with open('glove_vectors', 'wb') as f:\n",
    "    pickle.dump(words_courpus, f)\n",
    "\n",
    "\n",
    "'''"
   ]
  },
  {
   "cell_type": "code",
   "execution_count": 152,
   "metadata": {
    "ExecuteTime": {
     "end_time": "2019-09-22T03:26:39.429178Z",
     "start_time": "2019-09-22T03:26:37.084067Z"
    },
    "colab": {},
    "colab_type": "code",
    "id": "Gu0YB3p4Cyo8"
   },
   "outputs": [],
   "source": [
    "# stronging variables into pickle files python: http://www.jessicayung.com/how-to-use-pickle-to-save-and-load-variables-in-python/\n",
    "# make sure you have the glove_vectors file\n",
    "with open('glove_vectors', 'rb') as f:\n",
    "    model = pickle.load(f)\n",
    "    glove_words =  set(model.keys())"
   ]
  },
  {
   "cell_type": "code",
   "execution_count": 153,
   "metadata": {
    "ExecuteTime": {
     "end_time": "2019-09-22T03:26:39.467203Z",
     "start_time": "2019-09-22T03:26:39.434180Z"
    },
    "colab": {},
    "colab_type": "code",
    "id": "TEKi0VqVCyo_",
    "outputId": "23b34800-bc16-471c-c966-256d45cbdbcd",
    "scrolled": true
   },
   "outputs": [],
   "source": [
    "# average Word2Vec\n",
    "# compute average word2vec for each review.\n",
    "def computeAvgW2V(list_of_sentance):\n",
    "    avg_w2v_vectors = []; # the avg-w2v for each sentence/review is stored in this list\n",
    "    for sentence in tqdm(list_of_sentance): # for each review/sentence\n",
    "        vector = np.zeros(300) # as word vectors are of zero length\n",
    "        cnt_words =0; # num of words with a valid vector in the sentence/review\n",
    "        for word in sentence.split(): # for each word in a review/sentence\n",
    "            if word in glove_words:\n",
    "                vector += model[word]\n",
    "                cnt_words += 1\n",
    "        if cnt_words != 0:\n",
    "            vector /= cnt_words\n",
    "        avg_w2v_vectors.append(vector)\n",
    "    print(len(avg_w2v_vectors))\n",
    "    print(len(avg_w2v_vectors[0]))\n",
    "    return avg_w2v_vectors\n"
   ]
  },
  {
   "cell_type": "code",
   "execution_count": 154,
   "metadata": {
    "ExecuteTime": {
     "end_time": "2019-09-22T03:27:03.120940Z",
     "start_time": "2019-09-22T03:26:39.472206Z"
    }
   },
   "outputs": [
    {
     "name": "stderr",
     "output_type": "stream",
     "text": [
      "100%|██████████████████████████████████| 33500/33500 [00:15<00:00, 2228.89it/s]\n"
     ]
    },
    {
     "name": "stdout",
     "output_type": "stream",
     "text": [
      "33500\n",
      "300\n"
     ]
    },
    {
     "name": "stderr",
     "output_type": "stream",
     "text": [
      "100%|██████████████████████████████████| 16500/16500 [00:07<00:00, 2205.34it/s]\n"
     ]
    },
    {
     "name": "stdout",
     "output_type": "stream",
     "text": [
      "16500\n",
      "300\n"
     ]
    }
   ],
   "source": [
    "preprocessed_essays =X_train['essay'].astype('U')\n",
    "list_of_sentance=[]\n",
    "for sentance in preprocessed_essays:\n",
    "    list_of_sentance.append(sentance)\n",
    "      \n",
    "test_list_of_sentance=[]\n",
    "for sentance in X_test['essay'].astype('U'):\n",
    "    test_list_of_sentance.append(sentance)\n",
    "    \n",
    "x_essay_avg1  = computeAvgW2V(list_of_sentance)  \n",
    "essay_avg1 = computeAvgW2V(test_list_of_sentance)  \n",
    "\n",
    "'''\n",
    "cv_list_of_sentance=[]\n",
    "for sentance in X_cv['essay'].astype('U'):\n",
    "    cv_list_of_sentance.append(sentance)\n",
    "cv_essay_avg1 = computeAvgW2V(cv_list_of_sentance)\n",
    "'''\n",
    "    \n",
    "#Normalization of AvgW2V\n",
    "from sklearn.preprocessing import Normalizer\n",
    "w_normalized = Normalizer()\n",
    "\n",
    "w_normalized.fit(x_essay_avg1)\n",
    "\n",
    "x_essay_avg = w_normalized.transform(x_essay_avg1)\n",
    "#cv_essay_avg = w_normalized.transform(cv_essay_avg1)\n",
    "essay_avg = w_normalized.transform(essay_avg1)"
   ]
  },
  {
   "cell_type": "code",
   "execution_count": 155,
   "metadata": {
    "ExecuteTime": {
     "end_time": "2019-09-22T03:27:25.768633Z",
     "start_time": "2019-09-22T03:27:03.124945Z"
    }
   },
   "outputs": [
    {
     "name": "stderr",
     "output_type": "stream",
     "text": [
      "100%|██████████████████████████████████| 33500/33500 [00:14<00:00, 2295.64it/s]\n"
     ]
    },
    {
     "name": "stdout",
     "output_type": "stream",
     "text": [
      "33500\n",
      "300\n"
     ]
    },
    {
     "name": "stderr",
     "output_type": "stream",
     "text": [
      "100%|██████████████████████████████████| 16500/16500 [00:07<00:00, 2254.96it/s]\n"
     ]
    },
    {
     "name": "stdout",
     "output_type": "stream",
     "text": [
      "16500\n",
      "300\n"
     ]
    }
   ],
   "source": [
    "preprocessed_title =X_train['project_title']\n",
    "list_of_title=[]\n",
    "for sentance in preprocessed_title:\n",
    "    list_of_title.append(sentance)\n",
    "    \n",
    "test_list_of_title=[]\n",
    "for sentance in X_test['project_title']:\n",
    "    test_list_of_title.append(sentance)\n",
    "    \n",
    "x_title_avg1  = computeAvgW2V(list_of_sentance)  \n",
    "title_avg1 = computeAvgW2V(test_list_of_sentance) \n",
    "\n",
    "\n",
    "'''\n",
    "cv_list_of_title=[]\n",
    "for sentance in X_cv['project_title']:\n",
    "    cv_list_of_title.append(sentance)\n",
    "cv_title_avg1 = computeAvgW2V(cv_list_of_sentance)\n",
    "\n",
    "'''\n",
    "\n",
    "#Normalization of AvgW2V title\n",
    "from sklearn.preprocessing import Normalizer\n",
    "w_normalized = Normalizer()\n",
    "\n",
    "w_normalized.fit(x_title_avg1)\n",
    "\n",
    "x_title_avg = w_normalized.transform(x_title_avg1)\n",
    "#cv_title_avg = w_normalized.transform(cv_title_avg1)\n",
    "title_avg = w_normalized.transform(title_avg1)"
   ]
  },
  {
   "cell_type": "markdown",
   "metadata": {
    "colab_type": "text",
    "id": "_s3QN_ZNCypD"
   },
   "source": [
    "#### 1.5.2.4 Using Pretrained Models: TFIDF weighted W2V"
   ]
  },
  {
   "cell_type": "code",
   "execution_count": 156,
   "metadata": {
    "ExecuteTime": {
     "end_time": "2019-09-22T03:27:32.140192Z",
     "start_time": "2019-09-22T03:27:25.773635Z"
    },
    "colab": {},
    "colab_type": "code",
    "id": "nD56bsiRCypE"
   },
   "outputs": [],
   "source": [
    "# S = [\"abc def pqr\", \"def def def abc\", \"pqr pqr def\"]\n",
    "preprocessed_essays =X_train['essay'].astype('U')\n",
    "tfidf_model = TfidfVectorizer()\n",
    "tfidf_model.fit(preprocessed_essays)\n",
    "# we are converting a dictionary with word as a key, and the idf as a value\n",
    "dictionary = dict(zip(tfidf_model.get_feature_names(), list(tfidf_model.idf_)))\n",
    "tfidf_words = set(tfidf_model.get_feature_names())"
   ]
  },
  {
   "cell_type": "code",
   "execution_count": 157,
   "metadata": {
    "ExecuteTime": {
     "end_time": "2019-09-22T03:27:32.166194Z",
     "start_time": "2019-09-22T03:27:32.145165Z"
    },
    "colab": {},
    "colab_type": "code",
    "id": "8aB83HDUCypL",
    "outputId": "c1329ce0-bc01-443f-f1c8-bd2ce2bd50f3",
    "scrolled": true
   },
   "outputs": [],
   "source": [
    "# average Word2Vec\n",
    "# compute average word2vec for each review.\n",
    "def computeTfIdf(list_of_sentance):\n",
    "    tfidf_w2v_vectors = []; # the avg-w2v for each sentence/review is stored in this list\n",
    "    row=0;\n",
    "    for sentence in tqdm(list_of_sentance): # for each review/sentence\n",
    "        vector = np.zeros(300) # as word vectors are of zero length\n",
    "        tf_idf_weight =0; # num of words with a valid vector in the sentence/review\n",
    "        for word in sent: # for each word in a review/sentence\n",
    "            if word in glove_words and word in tfidf_words:\n",
    "                vec = model[word] # getting the vector for each word\n",
    "                # here we are multiplying idf value(dictionary[word]) and the tf value((sentence.count(word)/len(sentence.split())))\n",
    "                tf_idf = dictionary[word]*(sent.count(word)/len(sent)) # getting the tfidf value for each word\n",
    "                vector += (vec * tf_idf) # calculating tfidf weighted w2v\n",
    "                tf_idf_weight += tf_idf\n",
    "        if tf_idf_weight != 0:\n",
    "            vector /= tf_idf_weight\n",
    "        tfidf_w2v_vectors.append(vector)\n",
    "        row +=1;\n",
    "    return tfidf_w2v_vectors\n",
    "    "
   ]
  },
  {
   "cell_type": "code",
   "execution_count": 158,
   "metadata": {
    "ExecuteTime": {
     "end_time": "2019-09-22T03:27:35.020674Z",
     "start_time": "2019-09-22T03:27:32.172199Z"
    }
   },
   "outputs": [
    {
     "name": "stderr",
     "output_type": "stream",
     "text": [
      "100%|█████████████████████████████████| 33500/33500 [00:00<00:00, 54699.72it/s]\n",
      "100%|█████████████████████████████████| 16500/16500 [00:00<00:00, 94760.44it/s]\n"
     ]
    }
   ],
   "source": [
    "preprocessed_essays =X_train['essay'].astype('U')\n",
    "list_of_sentance=[]\n",
    "for sentance in preprocessed_essays:\n",
    "    list_of_sentance.append(sentance.split())\n",
    "    \n",
    "test_list_of_sentance=[]\n",
    "for sentance in X_test['essay'].astype('U'):\n",
    "    test_list_of_sentance.append(sentance.split())\n",
    "\n",
    "x_essay_tfidf_avg1  = computeTfIdf(list_of_sentance)  \n",
    "essay_tfidf_avg1= computeTfIdf(test_list_of_sentance) \n",
    "\n",
    "'''\n",
    "cv_list_of_sentance=[]\n",
    "for sentance in X_cv['essay'].astype('U'):\n",
    "    cv_list_of_sentance.append(sentance.split())\n",
    "cv_essay_tfidf_avg1 = computeTfIdf(cv_list_of_sentance)\n",
    "'''   \n",
    "    \n",
    "#Normalization of TfIdfW2V\n",
    "from sklearn.preprocessing import Normalizer\n",
    "w_normalized = Normalizer()\n",
    "\n",
    "w_normalized.fit(x_essay_tfidf_avg1)\n",
    "\n",
    "x_essay_tfidf_avg = w_normalized.transform(x_essay_tfidf_avg1)\n",
    "#cv_essay_tfidf_avg = w_normalized.transform(cv_essay_tfidf_avg1)\n",
    "essay_tfidf_avg = w_normalized.transform(essay_tfidf_avg1)\n"
   ]
  },
  {
   "cell_type": "markdown",
   "metadata": {},
   "source": [
    "TFIDF weighted W2V title"
   ]
  },
  {
   "cell_type": "code",
   "execution_count": 159,
   "metadata": {
    "ExecuteTime": {
     "end_time": "2019-09-22T03:27:35.534728Z",
     "start_time": "2019-09-22T03:27:35.026679Z"
    },
    "colab": {},
    "colab_type": "code",
    "id": "yknBsjfOCypP"
   },
   "outputs": [],
   "source": [
    "# Similarly you can vectorize for title also\n",
    "# S = [\"abc def pqr\", \"def def def abc\", \"pqr pqr def\"]\n",
    "preprocessed_title =X_train['project_title'].astype('U')\n",
    "tfidf_model = TfidfVectorizer()\n",
    "tfidf_model.fit(preprocessed_title)\n",
    "# we are converting a dictionary with word as a key, and the idf as a value\n",
    "dictionary = dict(zip(tfidf_model.get_feature_names(), list(tfidf_model.idf_)))\n",
    "tfidf_words = set(tfidf_model.get_feature_names())"
   ]
  },
  {
   "cell_type": "code",
   "execution_count": 160,
   "metadata": {
    "ExecuteTime": {
     "end_time": "2019-09-22T03:27:35.551761Z",
     "start_time": "2019-09-22T03:27:35.538733Z"
    }
   },
   "outputs": [],
   "source": [
    "# average Word2Vec\n",
    "# compute average word2vec for each review.\n",
    "def computeTfIdf(list_of_sentance):\n",
    "    tfidf_w2v_vectors = []; # the avg-w2v for each sentence/review is stored in this list\n",
    "    row=0;\n",
    "    for sentence in tqdm(list_of_sentance): # for each review/sentence\n",
    "        vector = np.zeros(300) # as word vectors are of zero length\n",
    "        tf_idf_weight =0; # num of words with a valid vector in the sentence/review\n",
    "        for word in sent: # for each word in a review/sentence\n",
    "            if word in glove_words and word in tfidf_words:\n",
    "                vec = model[word] # getting the vector for each word\n",
    "                # here we are multiplying idf value(dictionary[word]) and the tf value((sentence.count(word)/len(sentence.split())))\n",
    "                tf_idf = dictionary[word]*(sent.count(word)/len(sent)) # getting the tfidf value for each word\n",
    "                vector += (vec * tf_idf) # calculating tfidf weighted w2v\n",
    "                tf_idf_weight += tf_idf\n",
    "        if tf_idf_weight != 0:\n",
    "            vector /= tf_idf_weight\n",
    "        tfidf_w2v_vectors.append(vector)\n",
    "        row +=1;\n",
    "    return tfidf_w2v_vectors\n",
    "    "
   ]
  },
  {
   "cell_type": "code",
   "execution_count": 161,
   "metadata": {
    "ExecuteTime": {
     "end_time": "2019-09-22T03:27:37.094895Z",
     "start_time": "2019-09-22T03:27:35.556748Z"
    }
   },
   "outputs": [
    {
     "name": "stderr",
     "output_type": "stream",
     "text": [
      "100%|█████████████████████████████████| 33500/33500 [00:00<00:00, 61922.82it/s]\n",
      "100%|█████████████████████████████████| 16500/16500 [00:00<00:00, 82851.79it/s]\n"
     ]
    }
   ],
   "source": [
    "preprocessed_title =X_train['project_title'].astype('U')\n",
    "list_of_title=[]\n",
    "for sentance in preprocessed_title:\n",
    "    list_of_title.append(sentance)\n",
    "    \n",
    "test_list_of_title=[]\n",
    "for sentance in X_test['project_title'].astype('U'):\n",
    "    test_list_of_title.append(sentance)\n",
    "    \n",
    "x_title_tfidf_avg1  = computeTfIdf(list_of_sentance)  \n",
    "title_tfidf_avg1 = computeTfIdf(test_list_of_sentance)  \n",
    "\n",
    "'''\n",
    "cv_list_of_title=[]\n",
    "for sentance in X_cv['project_title'].astype('U'):\n",
    "    cv_list_of_title.append(sentance)\n",
    "cv_title_tfidf_avg1 = computeTfIdf(cv_list_of_sentance)\n",
    "'''\n",
    "\n",
    "#Normalization of AvgW2V\n",
    "from sklearn.preprocessing import Normalizer\n",
    "w_normalized = Normalizer()\n",
    "\n",
    "w_normalized.fit(x_title_tfidf_avg1)\n",
    "\n",
    "x_title_tfidf_avg = w_normalized.transform(x_title_tfidf_avg1)\n",
    "#cv_title_tfidf_avg = w_normalized.transform(cv_title_tfidf_avg1)\n",
    "title_tfidf_avg = w_normalized.transform(title_tfidf_avg1)\n"
   ]
  },
  {
   "cell_type": "markdown",
   "metadata": {
    "colab_type": "text",
    "id": "6Em6Kb2-CypR"
   },
   "source": [
    "<h2><font color='red'> 1.5.3 Vectorizing Numerical features</font></h2>"
   ]
  },
  {
   "cell_type": "code",
   "execution_count": 162,
   "metadata": {
    "ExecuteTime": {
     "end_time": "2019-09-22T03:27:37.133924Z",
     "start_time": "2019-09-22T03:27:37.102902Z"
    },
    "colab": {},
    "colab_type": "code",
    "id": "owkbYbowCypV"
   },
   "outputs": [
    {
     "name": "stdout",
     "output_type": "stream",
     "text": [
      "Mean : 300.2160253731343, Standard deviation : 376.38756723118695\n"
     ]
    }
   ],
   "source": [
    "# check this one: https://www.youtube.com/watch?v=0HOqOcln3Z4&t=530s\n",
    "# standardization sklearn: https://scikit-learn.org/stable/modules/generated/sklearn.preprocessing.StandardScaler.html\n",
    "from sklearn.preprocessing import StandardScaler\n",
    "\n",
    "# price_standardized = standardScalar.fit(project_data['price'].values)\n",
    "# this will rise the error\n",
    "# ValueError: Expected 2D array, got 1D array instead: array=[725.05 213.03 329.   ... 399.   287.73   5.5 ].\n",
    "# Reshape your data either using array.reshape(-1, 1)\n",
    "\n",
    "price_scalar = StandardScaler()\n",
    "price_scalar.fit(X_train['price'].values.reshape(-1,1))\n",
    "print(f\"Mean : {price_scalar.mean_[0]}, Standard deviation : {np.sqrt(price_scalar.var_[0])}\")\n",
    "\n",
    "# Now standardize the data with above maen and variance.\n",
    "#price_standardized = price_scalar.transform(project_data['price'].values.reshape(-1, 1))\n",
    "train_price_standardized = price_scalar.transform(X_train['price'].values.reshape(-1, 1))\n",
    "#cv_price_standardized = price_scalar.transform(X_cv['price'].values.reshape(-1, 1))\n",
    "test_price_standardized = price_scalar.transform(X_test['price'].values.reshape(-1, 1))"
   ]
  },
  {
   "cell_type": "code",
   "execution_count": 163,
   "metadata": {
    "ExecuteTime": {
     "end_time": "2019-09-22T03:27:37.274025Z",
     "start_time": "2019-09-22T03:27:37.140929Z"
    },
    "colab": {},
    "colab_type": "code",
    "id": "nDDZIfdhCypY",
    "outputId": "e73bc12f-c914-4c9d-d110-76f67954b630"
   },
   "outputs": [
    {
     "data": {
      "text/plain": [
       "array([[-0.0296663 ],\n",
       "       [-0.26580587],\n",
       "       [ 0.02620696],\n",
       "       ...,\n",
       "       [-0.50415062],\n",
       "       [ 0.76749075],\n",
       "       [ 0.26760707]])"
      ]
     },
     "execution_count": 163,
     "metadata": {},
     "output_type": "execute_result"
    }
   ],
   "source": [
    "train_price_standardized"
   ]
  },
  {
   "cell_type": "markdown",
   "metadata": {
    "colab_type": "text",
    "id": "5UbaJH21Cypa"
   },
   "source": [
    "### 1.5.4 Merging all the above features"
   ]
  },
  {
   "cell_type": "markdown",
   "metadata": {
    "colab_type": "text",
    "id": "fAZixvIeCypb"
   },
   "source": [
    "- we need to merge all the numerical vectors i.e catogorical, text, numerical vectors"
   ]
  },
  {
   "cell_type": "markdown",
   "metadata": {
    "ExecuteTime": {
     "end_time": "2019-09-08T09:17:35.018428Z",
     "start_time": "2019-09-08T09:17:34.989409Z"
    },
    "colab": {},
    "colab_type": "code",
    "id": "2fhOtv0eCypc",
    "outputId": "d0e65dce-ef82-412d-8db5-ec35535ee23c"
   },
   "source": [
    "Merging Bow"
   ]
  },
  {
   "cell_type": "code",
   "execution_count": 164,
   "metadata": {
    "ExecuteTime": {
     "end_time": "2019-09-22T03:27:37.733195Z",
     "start_time": "2019-09-22T03:27:37.280028Z"
    },
    "colab": {},
    "colab_type": "code",
    "id": "J7uuEmryCype",
    "outputId": "b0360c1d-592a-4bd7-b8c7-a20d91219fa8"
   },
   "outputs": [
    {
     "name": "stdout",
     "output_type": "stream",
     "text": [
      "(33500, 11922)\n",
      "(16500, 11922)\n"
     ]
    },
    {
     "data": {
      "text/plain": [
       "'\\ncv_bow = hstack((X_cv_categories_ohc, X_cv_sub_categories_ohc,X_cv_state_ohe,X_cv_teacher_ohe, X_cv_grade_ohe,cv_essay_bow,cv_title_bow, cv_price_standardized))\\nprint(cv_bow.shape)\\n'"
      ]
     },
     "execution_count": 164,
     "metadata": {},
     "output_type": "execute_result"
    }
   ],
   "source": [
    "# merge two sparse matrices: https://stackoverflow.com/a/19710648/4084039\n",
    "from scipy.sparse import hstack\n",
    "# with the same hstack function we are concatinating a sparse matrix and a dense matirx :)\n",
    "train_bow = hstack((X_train_categories_ohc, X_train_sub_categories_ohc,X_train_state_ohe,X_train_teacher_ohe, X_train_grade_ohe,x_essay_bow,x_title_bow, train_price_standardized))\n",
    "print(train_bow.shape)\n",
    "\n",
    "test_bow = hstack((X_test_categories_ohc, X_test_sub_categories_ohc,X_test_state_ohe,X_test_teacher_ohe, X_test_grade_ohe,essay_bow,title_bow,test_price_standardized))\n",
    "print(test_bow.shape)\n",
    "\n",
    "'''\n",
    "cv_bow = hstack((X_cv_categories_ohc, X_cv_sub_categories_ohc,X_cv_state_ohe,X_cv_teacher_ohe, X_cv_grade_ohe,cv_essay_bow,cv_title_bow, cv_price_standardized))\n",
    "print(cv_bow.shape)\n",
    "'''"
   ]
  },
  {
   "cell_type": "markdown",
   "metadata": {},
   "source": [
    "Merging TFIDF"
   ]
  },
  {
   "cell_type": "code",
   "execution_count": 165,
   "metadata": {
    "ExecuteTime": {
     "end_time": "2019-09-22T03:27:38.113468Z",
     "start_time": "2019-09-22T03:27:37.737198Z"
    }
   },
   "outputs": [
    {
     "name": "stdout",
     "output_type": "stream",
     "text": [
      "(33500, 11922)\n",
      "(16500, 11922)\n"
     ]
    },
    {
     "data": {
      "text/plain": [
       "'\\ncv_tfidf = hstack((X_cv_categories_ohc, X_cv_sub_categories_ohc,X_cv_state_ohe,X_cv_teacher_ohe, X_cv_grade_ohe,cv_essay_tfidf,cv_title_tfidf, cv_price_standardized))\\nprint(cv_tfidf.shape)\\n'"
      ]
     },
     "execution_count": 165,
     "metadata": {},
     "output_type": "execute_result"
    }
   ],
   "source": [
    "train_tfidf = hstack((X_train_categories_ohc, X_train_sub_categories_ohc,X_train_state_ohe,X_train_teacher_ohe, X_train_grade_ohe,x_essay_tfidf,x_title_tfidf, train_price_standardized))\n",
    "print(train_tfidf.shape)\n",
    "\n",
    "test_tfidf = hstack((X_test_categories_ohc, X_test_sub_categories_ohc,X_test_state_ohe,X_test_teacher_ohe, X_test_grade_ohe,essay_tfidf,title_tfidf, test_price_standardized))\n",
    "print(test_tfidf.shape)\n",
    "\n",
    "'''\n",
    "cv_tfidf = hstack((X_cv_categories_ohc, X_cv_sub_categories_ohc,X_cv_state_ohe,X_cv_teacher_ohe, X_cv_grade_ohe,cv_essay_tfidf,cv_title_tfidf, cv_price_standardized))\n",
    "print(cv_tfidf.shape)\n",
    "'''"
   ]
  },
  {
   "cell_type": "markdown",
   "metadata": {},
   "source": [
    "Merging AvgW2V"
   ]
  },
  {
   "cell_type": "code",
   "execution_count": 166,
   "metadata": {
    "ExecuteTime": {
     "end_time": "2019-09-22T03:27:41.246693Z",
     "start_time": "2019-09-22T03:27:38.119471Z"
    },
    "scrolled": true
   },
   "outputs": [
    {
     "name": "stdout",
     "output_type": "stream",
     "text": [
      "(33500, 701)\n",
      "(16500, 701)\n"
     ]
    },
    {
     "data": {
      "text/plain": [
       "'\\ncv_avg = hstack((X_cv_categories_ohc, X_cv_sub_categories_ohc,X_cv_state_ohe,X_cv_teacher_ohe, X_cv_grade_ohe,cv_essay_avg,cv_title_avg, cv_price_standardized))\\nprint(cv_avg.shape)\\n'"
      ]
     },
     "execution_count": 166,
     "metadata": {},
     "output_type": "execute_result"
    }
   ],
   "source": [
    "train_avg = hstack((X_train_categories_ohc, X_train_sub_categories_ohc,X_train_state_ohe,X_train_teacher_ohe, X_train_grade_ohe,x_essay_avg,x_title_avg, train_price_standardized))\n",
    "print(train_avg.shape)\n",
    "\n",
    "test_avg = hstack((X_test_categories_ohc, X_test_sub_categories_ohc,X_test_state_ohe,X_test_teacher_ohe, X_test_grade_ohe,essay_avg,title_avg, test_price_standardized))\n",
    "print(test_avg.shape)\n",
    "\n",
    "'''\n",
    "cv_avg = hstack((X_cv_categories_ohc, X_cv_sub_categories_ohc,X_cv_state_ohe,X_cv_teacher_ohe, X_cv_grade_ohe,cv_essay_avg,cv_title_avg, cv_price_standardized))\n",
    "print(cv_avg.shape)\n",
    "'''"
   ]
  },
  {
   "cell_type": "markdown",
   "metadata": {},
   "source": [
    "Merging TFIDF W2v"
   ]
  },
  {
   "cell_type": "code",
   "execution_count": 167,
   "metadata": {
    "ExecuteTime": {
     "end_time": "2019-09-22T03:27:41.650981Z",
     "start_time": "2019-09-22T03:27:41.252697Z"
    }
   },
   "outputs": [
    {
     "name": "stdout",
     "output_type": "stream",
     "text": [
      "(33500, 701)\n",
      "(16500, 701)\n"
     ]
    },
    {
     "data": {
      "text/plain": [
       "'\\ncv_tfidf_avg = hstack((X_cv_categories_ohc, X_cv_sub_categories_ohc,X_cv_state_ohe,X_cv_teacher_ohe, X_cv_grade_ohe,cv_essay_tfidf_avg,cv_title_tfidf_avg, cv_price_standardized))\\nprint(cv_tfidf_avg.shape)\\n'"
      ]
     },
     "execution_count": 167,
     "metadata": {},
     "output_type": "execute_result"
    }
   ],
   "source": [
    "train_tfidf_avg = hstack((X_train_categories_ohc, X_train_sub_categories_ohc,X_train_state_ohe,X_train_teacher_ohe, X_train_grade_ohe,x_essay_tfidf_avg,x_title_tfidf_avg, train_price_standardized))\n",
    "print(train_tfidf_avg.shape)\n",
    "\n",
    "test_tfidf_avg = hstack((X_test_categories_ohc, X_test_sub_categories_ohc,X_test_state_ohe,X_test_teacher_ohe, X_test_grade_ohe,essay_tfidf_avg,title_tfidf_avg, test_price_standardized))\n",
    "print(test_tfidf_avg.shape)\n",
    "\n",
    "'''\n",
    "cv_tfidf_avg = hstack((X_cv_categories_ohc, X_cv_sub_categories_ohc,X_cv_state_ohe,X_cv_teacher_ohe, X_cv_grade_ohe,cv_essay_tfidf_avg,cv_title_tfidf_avg, cv_price_standardized))\n",
    "print(cv_tfidf_avg.shape)\n",
    "'''"
   ]
  },
  {
   "cell_type": "markdown",
   "metadata": {
    "colab_type": "text",
    "id": "V3vrK7BSCypi"
   },
   "source": [
    "# Assignment 3: Apply KNN"
   ]
  },
  {
   "cell_type": "markdown",
   "metadata": {
    "colab_type": "text",
    "id": "WFI1ug-gCypi"
   },
   "source": [
    "<ol>\n",
    "    <li><strong>[Task-1] Apply KNN(brute force version) on these feature sets</strong>\n",
    "        <ul>\n",
    "            <li><font color='red'>Set 1</font>: categorical, numerical features + project_title(BOW) + preprocessed_essay (BOW)</li>\n",
    "            <li><font color='red'>Set 2</font>: categorical, numerical features + project_title(TFIDF)+  preprocessed_essay (TFIDF)</li>\n",
    "            <li><font color='red'>Set 3</font>: categorical, numerical features + project_title(AVG W2V)+  preprocessed_essay (AVG W2V)</li>\n",
    "            <li><font color='red'>Set 4</font>: categorical, numerical features + project_title(TFIDF W2V)+  preprocessed_essay (TFIDF W2V)</li>\n",
    "        </ul>\n",
    "    </li>\n",
    "    <br>\n",
    "    <li><strong>Hyper paramter tuning to find best K</strong>\n",
    "        <ul>\n",
    "    <li>Find the best hyper parameter which results in the maximum <a href='https://www.appliedaicourse.com/course/applied-ai-course-online/lessons/receiver-operating-characteristic-curve-roc-curve-and-auc-1/'>AUC</a> value</li>\n",
    "    <li>Find the best hyper paramter using k-fold cross validation (or) simple cross validation data</li>\n",
    "    <li>Use gridsearch-cv or randomsearch-cv or  write your own for loops to do this task</li>\n",
    "        </ul>\n",
    "    </li>\n",
    "    <br>\n",
    "    <li>\n",
    "    <strong>Representation of results</strong>\n",
    "        <ul>\n",
    "    <li>You need to plot the performance of model both on train data and cross validation data for each hyper parameter, as shown in the figure\n",
    "    <img src='train_cv_auc.JPG' width=300px></li>\n",
    "    <li>Once you find the best hyper parameter, you need to train your model-M using the best hyper-param. Now, find the AUC on test data and plot the ROC curve on both train and test using model-M.\n",
    "    <img src='train_test_auc.JPG' width=300px></li>\n",
    "    <li>Along with plotting ROC curve, you need to print the <a href='https://www.appliedaicourse.com/course/applied-ai-course-online/lessons/confusion-matrix-tpr-fpr-fnr-tnr-1/'>confusion matrix</a> with predicted and original labels of test data points\n",
    "    <img src='confusion_matrix.png' width=300px></li>\n",
    "        </ul>\n",
    "    </li>\n",
    "    <li><strong> [Task-2] </strong>\n",
    "        <ul>\n",
    "            <li>Select top 2000 features from feature <font color='red'>Set 2</font> using <a href='https://scikit-learn.org/stable/modules/generated/sklearn.feature_selection.SelectKBest.html'>`SelectKBest`</a>\n",
    "and then apply KNN on top of these features</li>\n",
    "            <li>\n",
    "                <pre>\n",
    "                from sklearn.datasets import load_digits\n",
    "                from sklearn.feature_selection import SelectKBest, chi2\n",
    "                X, y = load_digits(return_X_y=True)\n",
    "                X.shape\n",
    "                X_new = SelectKBest(chi2, k=20).fit_transform(X, y)\n",
    "                X_new.shape\n",
    "                ========\n",
    "                output:\n",
    "                (1797, 64)\n",
    "                (1797, 20)\n",
    "                </pre>\n",
    "            </li>\n",
    "            <li>Repeat the steps 2 and 3 on the data matrix after feature selection</li>\n",
    "        </ul>\n",
    "    </li>\n",
    "    <br>\n",
    "    <li><strong>Conclusion</strong>\n",
    "        <ul>\n",
    "    <li>You need to summarize the results at the end of the notebook, summarize it in the table format. To print out a table please refer to this prettytable library<a href='http://zetcode.com/python/prettytable/'> link</a> \n",
    "        <img src='summary.JPG' width=400px>\n",
    "    </li>\n",
    "        </ul>\n",
    "</ol>"
   ]
  },
  {
   "cell_type": "markdown",
   "metadata": {
    "colab_type": "text",
    "id": "vNcsOaPrCypk"
   },
   "source": [
    "<h4><font color='red'>Note: Data Leakage</font></h4>\n",
    "\n",
    "1. There will be an issue of data-leakage if you vectorize the entire data and then split it into train/cv/test.\n",
    "2. To avoid the issue of data-leakag, make sure to split your data first and then vectorize it. \n",
    "3. While vectorizing your data, apply the method fit_transform() on you train data, and apply the method transform() on cv/test data.\n",
    "4. For more details please go through this <a href='https://soundcloud.com/applied-ai-course/leakage-bow-and-tfidf'>link.</a>"
   ]
  },
  {
   "cell_type": "markdown",
   "metadata": {
    "colab_type": "text",
    "id": "u7svGNyWCypl"
   },
   "source": [
    "<h1>2. K Nearest Neighbor</h1>"
   ]
  },
  {
   "cell_type": "markdown",
   "metadata": {
    "colab_type": "text",
    "id": "UL8bHrflCyps"
   },
   "source": [
    "<h2>2.4 Appling KNN on different kind of featurization as mentioned in the instructions</h2>\n",
    "\n",
    "<br>Apply KNN on different kind of featurization as mentioned in the instructions\n",
    "<br> For Every model that you work on make sure you do the step 2 and step 3 of instructions"
   ]
  },
  {
   "cell_type": "code",
   "execution_count": 168,
   "metadata": {
    "ExecuteTime": {
     "end_time": "2019-09-22T03:27:41.755055Z",
     "start_time": "2019-09-22T03:27:41.657986Z"
    }
   },
   "outputs": [],
   "source": [
    "from prettytable import PrettyTable\n",
    "table = PrettyTable()\n",
    "\n",
    "table.field_names = [\"Vectorizer\", \"Model\", \"Hyper parameter\", \"AUC\"]"
   ]
  },
  {
   "cell_type": "code",
   "execution_count": 169,
   "metadata": {
    "ExecuteTime": {
     "end_time": "2019-09-22T03:27:41.953165Z",
     "start_time": "2019-09-22T03:27:41.764061Z"
    }
   },
   "outputs": [],
   "source": [
    "def batch_predict(clf, data):\n",
    "    # roc_auc_score(y_true, y_score) the 2nd parameter should be probability estimates of the positive class\n",
    "    # not the predicted outputs\n",
    "\n",
    "    y_data_pred = []\n",
    "    tr_loop = data.shape[0] - data.shape[0]%1000\n",
    "    # consider you X_tr shape is 49041, then your tr_loop will be 49041 - 49041%1000 = 49000\n",
    "    # in this for loop we will iterate unti the last 1000 multiplier\n",
    "    for i in range(0, tr_loop, 1000):\n",
    "        y_data_pred.extend(clf.predict_proba(data[i:i+1000])[:,1])\n",
    "    # we will be predicting for the last data points\n",
    "    if data.shape[0]%1000 !=0:\n",
    "        y_data_pred.extend(clf.predict_proba(data[tr_loop:])[:,1])\n",
    "    \n",
    "    return y_data_pred"
   ]
  },
  {
   "cell_type": "code",
   "execution_count": 170,
   "metadata": {
    "ExecuteTime": {
     "end_time": "2019-09-22T03:27:42.228194Z",
     "start_time": "2019-09-22T03:27:41.958139Z"
    }
   },
   "outputs": [],
   "source": [
    "def find_best_threshold(threshould, fpr, tpr):\n",
    "    t = threshould[np.argmax(tpr*(1-fpr))]\n",
    "    # (tpr*(1-fpr)) will be maximum if your fpr is very low and tpr is very high\n",
    "    print(\"the maximum value of tpr*(1-fpr)\", max(tpr*(1-fpr)), \"for threshold\", np.round(t,3))\n",
    "    return t\n",
    "\n",
    "def predict_with_best_t(proba, threshould):\n",
    "    predictions = []\n",
    "    for i in proba:\n",
    "        if i>=threshould:\n",
    "            predictions.append(1)\n",
    "        else:\n",
    "            predictions.append(0)\n",
    "    return predictions"
   ]
  },
  {
   "cell_type": "code",
   "execution_count": 171,
   "metadata": {
    "ExecuteTime": {
     "end_time": "2019-09-22T03:27:42.505594Z",
     "start_time": "2019-09-22T03:27:42.242192Z"
    },
    "colab": {},
    "colab_type": "code",
    "id": "Tsay467cCypt"
   },
   "outputs": [],
   "source": [
    "#creating a method for KNN which will be reused by all the algorithms using manual for loop\n",
    "from sklearn.neighbors import KNeighborsClassifier\n",
    "from sklearn.metrics import accuracy_score\n",
    "import matplotlib.pyplot as plt\n",
    "from sklearn.metrics import roc_auc_score\n",
    "  \n",
    "#K = list(range(3, 60, 6))\n",
    "def Train_data1(X_train,y_train, X_cv, y_cv,algorithm,K):\n",
    "    my_dict = {}\n",
    "    train_auc = []\n",
    "    cv_auc = []\n",
    "    for i in K:\n",
    "        print(\"K val = \",i)\n",
    "        neigh = KNeighborsClassifier(n_neighbors=i, algorithm=algorithm, metric='cosine')\n",
    "        neigh.fit(X_train, y_train)\n",
    "        # roc_auc_score(y_true, y_score) the 2nd parameter should be probability estimates of the positive class\n",
    "        # not the predicted outputs\n",
    "        \n",
    "        y_train_pred =  batch_predict(neigh, X_train.tocsr())\n",
    "        y_cv_pred =  batch_predict(neigh, X_cv.tocsr())\n",
    "\n",
    "        train_roc = roc_auc_score(y_train,y_train_pred)\n",
    "        cv_roc = roc_auc_score(y_cv, y_cv_pred)\n",
    "        train_auc.append(train_roc)\n",
    "        cv_auc.append(cv_roc)\n",
    "        \n",
    "        my_dict[i] = train_roc-cv_roc\n",
    "    \n",
    "        \n",
    "    sns.set_style(\"whitegrid\");\n",
    "    plt.plot(K, train_auc, label='Train AUC')\n",
    "    plt.scatter(K, train_auc, label='Train AUC')\n",
    "    plt.plot(K, cv_auc, label='CV AUC')\n",
    "    plt.scatter(K, cv_auc, label='CV AUC')\n",
    "    \n",
    "    plt.legend()\n",
    "    plt.xlabel(\"K: hyperparameter\")\n",
    "    plt.ylabel(\"AUC\")\n",
    "    plt.title(\"ERROR PLOTS\")\n",
    "    plt.show()\n",
    "    return my_dict"
   ]
  },
  {
   "cell_type": "code",
   "execution_count": 172,
   "metadata": {
    "ExecuteTime": {
     "end_time": "2019-09-22T03:27:42.717134Z",
     "start_time": "2019-09-22T03:27:42.520601Z"
    }
   },
   "outputs": [],
   "source": [
    "#using gridsearchcv\n",
    "# https://scikit-learn.org/stable/modules/generated/sklearn.model_selection.GridSearchCV.html\n",
    "#https://stackoverflow.com/questions/52580023/how-to-get-the-best-estimator-parameters-out-from-pipelined-gridsearch-and-cro\n",
    "from sklearn.model_selection import GridSearchCV\n",
    "from sklearn.model_selection import RandomizedSearchCV\n",
    "\n",
    "def Train_data(X_tr,y_train,vectorizer):\n",
    "    neigh = KNeighborsClassifier(algorithm='brute', metric='cosine',n_jobs=-1)\n",
    "    k_range =list(range(3, 60, 6))\n",
    "    parameters = dict(n_neighbors=k_range)\n",
    "    clf = GridSearchCV(neigh, parameters, cv=3, scoring='roc_auc', return_train_score=True)\n",
    "    clf.fit(X_tr, y_train)\n",
    "    \n",
    "    best_parameters = clf.best_params_\n",
    "    print(\"The best parameters for using this model is\", best_parameters)\n",
    "    \n",
    "    K =  clf.cv_results_['param_n_neighbors']\n",
    "   \n",
    "    train_auc = clf.cv_results_['mean_train_score']\n",
    "    train_auc_std = clf.cv_results_['std_train_score']\n",
    "    cv_auc = clf.cv_results_['mean_test_score'] \n",
    "    cv_auc_std= clf.cv_results_['std_test_score']    \n",
    "\n",
    "    plt.plot(K, train_auc, label='Train AUC')\n",
    "    # this code is copied from here: https://stackoverflow.com/a/48803361/4084039\n",
    "    # plt.gca().fill_between(K, train_auc - train_auc_std,train_auc + train_auc_std,alpha=0.2,color='darkblue')\n",
    "\n",
    "    plt.plot(K, cv_auc, label='CV AUC')\n",
    "    # this code is copied from here: https://stackoverflow.com/a/48803361/4084039\n",
    "    # plt.gca().fill_between(K, cv_auc - cv_auc_std,cv_auc + cv_auc_std,alpha=0.2,color='darkorange')\n",
    "\n",
    "    plt.scatter(K, train_auc, label='Train AUC points')\n",
    "    plt.scatter(K, cv_auc, label='CV AUC points')\n",
    "\n",
    "    plt.legend()\n",
    "    plt.xlabel(\"K: hyperparameter\")\n",
    "    plt.ylabel(\"AUC\")\n",
    "    plt.title(\"AUC on various Ks using %s on text features\"%vectorizer)\n",
    "    plt.grid()\n",
    "    plt.show()\n",
    "    \n",
    "    results = pd.DataFrame.from_dict(clf.cv_results_)\n",
    "    results = results.sort_values(['param_n_neighbors'])\n",
    "    print(results.head())"
   ]
  },
  {
   "cell_type": "code",
   "execution_count": 173,
   "metadata": {
    "ExecuteTime": {
     "end_time": "2019-09-22T03:27:42.924302Z",
     "start_time": "2019-09-22T03:27:42.721137Z"
    }
   },
   "outputs": [],
   "source": [
    "#Round off the predicted values to fix value error\n",
    "#https://stackoverflow.com/questions/38015181/accuracy-score-valueerror-cant-handle-mix-of-binary-and-continuous-target\n",
    "from mlxtend.plotting import plot_confusion_matrix\n",
    "def draw_train_confusion_matrix(CM):\n",
    "    fig, ax = plot_confusion_matrix(conf_mat= CM, colorbar=True,\n",
    "                                   show_absolute=True,\n",
    "                                   show_normed=True)\n",
    "    plt.title(\"Train Confusion Matrix \")\n",
    "    plt.ylabel(\"Actual\")\n",
    "    plt.xlabel(\"Predicted\")\n",
    "    plt.show()\n",
    "\n",
    "def draw_test_confusion_matrix(CM):\n",
    "    fig, ax = plot_confusion_matrix(conf_mat= CM, colorbar=True,\n",
    "                                   show_absolute=True,\n",
    "                                   show_normed=True)\n",
    "    plt.title(\"Test Confusion Matrix \")\n",
    "    plt.ylabel(\"Actual\")\n",
    "    plt.xlabel(\"Predicted\")\n",
    "    plt.show()\n",
    "    \n",
    "\n",
    "def Test_Data(X_train, y_train,X_test,y_test, algorithm, best_k, vectorizer):\n",
    "    neigh = KNeighborsClassifier(n_neighbors=best_k, algorithm=algorithm, metric='cosine')\n",
    "    neigh.fit(X_train, y_train)\n",
    "    # roc_auc_score(y_true, y_score) the 2nd parameter should be probability estimates of the positive class\n",
    "    # not the predicted outputs\n",
    "\n",
    "    y_train_pred = batch_predict(neigh, X_train.tocsr())\n",
    "    y_test_pred =  batch_predict(neigh, X_test.tocsr())                    \n",
    "    \n",
    "    train_fpr, train_tpr, thresholds = roc_curve(y_train,y_train_pred)\n",
    "    test_fpr, test_tpr, thresholds = roc_curve(y_test, y_test_pred)\n",
    "\n",
    "    sns.set_style(\"whitegrid\");\n",
    "    plt.plot(train_fpr, train_tpr, label=\"train AUC =\"+str(auc(train_fpr, train_tpr)))\n",
    "    plt.plot(test_fpr, test_tpr, label=\"test AUC =\"+str(auc(test_fpr, test_tpr)))\n",
    "    plt.legend()\n",
    "    plt.xlabel(\"FPR\")\n",
    "    plt.ylabel(\"TPR\")\n",
    "    plt.title(\"ROC Curve using %s on text features\"%vectorizer)\n",
    "    plt.show()\n",
    "\n",
    "    print(\"=\"*100)\n",
    "    \n",
    "    from sklearn.metrics import confusion_matrix\n",
    "    print(\"Train confusion matrix\")\n",
    "    \n",
    "    y_train_pred_val = []\n",
    "    for item in y_train_pred:\n",
    "        y_train_pred_val.append(int(round(item)))\n",
    "        \n",
    "    y_test_pred_val = []\n",
    "    for item in y_test_pred:\n",
    "        y_test_pred_val.append(int(round(item)))\n",
    "    \n",
    "    \n",
    "    \n",
    "    print(\"=\"*100)\n",
    "    from sklearn.metrics import confusion_matrix\n",
    "    best_t = find_best_threshold(thresholds, train_fpr, train_tpr)\n",
    "    \n",
    "    print(\"Train confusion matrix\")\n",
    "    predicted_train=predict_with_best_t(y_train_pred_val, best_t)\n",
    "    cm_train = confusion_matrix(y_train, predicted_train)\n",
    "    print(cm_train)\n",
    "    draw_train_confusion_matrix(cm_train)\n",
    "    \n",
    "    print(\"Test confusion matrix\")\n",
    "    predicted_test=predict_with_best_t(y_test_pred_val, best_t)\n",
    "    cm_test = confusion_matrix(y_test, predicted_test)\n",
    "    print(cm_test)\n",
    "    draw_test_confusion_matrix(cm_test)\n",
    "\n",
    "    table.add_row([vectorizer, algorithm, best_k, str(auc(test_fpr, test_tpr))])\n",
    "     "
   ]
  },
  {
   "cell_type": "markdown",
   "metadata": {
    "colab_type": "text",
    "id": "B1dIm8PiCypw"
   },
   "source": [
    "### 2.4.1 Applying KNN brute force on BOW,<font color='red'> SET 1</font>"
   ]
  },
  {
   "cell_type": "code",
   "execution_count": 174,
   "metadata": {
    "ExecuteTime": {
     "end_time": "2019-09-22T04:11:25.342649Z",
     "start_time": "2019-09-22T03:27:42.929286Z"
    }
   },
   "outputs": [
    {
     "name": "stdout",
     "output_type": "stream",
     "text": [
      "The best parameters for using this model is {'n_neighbors': 57}\n"
     ]
    },
    {
     "data": {
      "image/png": "[encoded data removed]",
      "text/plain": [
       "<Figure size 432x288 with 1 Axes>"
      ]
     },
     "metadata": {
      "needs_background": "light"
     },
     "output_type": "display_data"
    },
    {
     "name": "stdout",
     "output_type": "stream",
     "text": [
      "   mean_fit_time  std_fit_time  mean_score_time  std_score_time  \\\n",
      "0       0.092733      0.012265        27.315941        1.225290   \n",
      "1       0.097403      0.010216        28.485903        1.325895   \n",
      "2       0.112414      0.035543        31.804312        2.213744   \n",
      "3       0.084402      0.001691        27.339175        1.379230   \n",
      "4       0.094737      0.003684        28.695361        1.089827   \n",
      "\n",
      "  param_n_neighbors               params  split0_test_score  \\\n",
      "0                 3   {'n_neighbors': 3}           0.523089   \n",
      "1                 9   {'n_neighbors': 9}           0.532422   \n",
      "2                15  {'n_neighbors': 15}           0.534396   \n",
      "3                21  {'n_neighbors': 21}           0.547403   \n",
      "4                27  {'n_neighbors': 27}           0.552186   \n",
      "\n",
      "   split1_test_score  split2_test_score  mean_test_score  std_test_score  \\\n",
      "0           0.516242           0.525217         0.521516        0.003829   \n",
      "1           0.533335           0.541906         0.535887        0.004272   \n",
      "2           0.543687           0.552324         0.543469        0.007321   \n",
      "3           0.549968           0.562648         0.553339        0.006665   \n",
      "4           0.554701           0.566942         0.557943        0.006446   \n",
      "\n",
      "   rank_test_score  split0_train_score  split1_train_score  \\\n",
      "0               10            0.897745            0.899818   \n",
      "1                9            0.778719            0.776857   \n",
      "2                8            0.732824            0.732110   \n",
      "3                7            0.709360            0.710258   \n",
      "4                5            0.695856            0.696784   \n",
      "\n",
      "   split2_train_score  mean_train_score  std_train_score  \n",
      "0            0.896335          0.897966         0.001431  \n",
      "1            0.774340          0.776639         0.001794  \n",
      "2            0.726570          0.730501         0.002795  \n",
      "3            0.703340          0.707653         0.003071  \n",
      "4            0.687745          0.693462         0.004060  \n"
     ]
    }
   ],
   "source": [
    "Train_data(train_bow,y_train,vectorizer=\"Bow\")"
   ]
  },
  {
   "cell_type": "code",
   "execution_count": 175,
   "metadata": {
    "ExecuteTime": {
     "end_time": "2019-09-22T04:15:39.080424Z",
     "start_time": "2019-09-22T04:11:25.386678Z"
    }
   },
   "outputs": [
    {
     "data": {
      "image/png": "[encoded data removed]",
      "text/plain": [
       "<Figure size 432x288 with 1 Axes>"
      ]
     },
     "metadata": {},
     "output_type": "display_data"
    },
    {
     "name": "stdout",
     "output_type": "stream",
     "text": [
      "====================================================================================================\n",
      "Train confusion matrix\n",
      "====================================================================================================\n",
      "the maximum value of tpr*(1-fpr) 0.37241002199047213 for threshold 0.86\n",
      "Train confusion matrix\n",
      "[[    0  5168]\n",
      " [    0 28332]]\n"
     ]
    },
    {
     "data": {
      "image/png": "[encoded data removed]",
      "text/plain": [
       "<Figure size 432x288 with 2 Axes>"
      ]
     },
     "metadata": {},
     "output_type": "display_data"
    },
    {
     "name": "stdout",
     "output_type": "stream",
     "text": [
      "Test confusion matrix\n",
      "[[    0  2546]\n",
      " [    0 13954]]\n"
     ]
    },
    {
     "data": {
      "image/png": "[encoded data removed]",
      "text/plain": [
       "<Figure size 432x288 with 2 Axes>"
      ]
     },
     "metadata": {},
     "output_type": "display_data"
    }
   ],
   "source": [
    "Test_Data(train_bow,y_train,test_bow,y_test,'brute', best_k=57,vectorizer=\"BOW\")"
   ]
  },
  {
   "cell_type": "markdown",
   "metadata": {
    "colab_type": "text",
    "id": "s85gPOAbCyp1"
   },
   "source": [
    "### 2.4.2 Applying KNN brute force on TFIDF,<font color='red'> SET 2</font>"
   ]
  },
  {
   "cell_type": "code",
   "execution_count": 176,
   "metadata": {
    "ExecuteTime": {
     "end_time": "2019-09-22T05:01:17.186520Z",
     "start_time": "2019-09-22T04:15:39.116450Z"
    }
   },
   "outputs": [
    {
     "name": "stdout",
     "output_type": "stream",
     "text": [
      "The best parameters for using this model is {'n_neighbors': 57}\n"
     ]
    },
    {
     "data": {
      "image/png": "[encoded data removed]",
      "text/plain": [
       "<Figure size 432x288 with 1 Axes>"
      ]
     },
     "metadata": {},
     "output_type": "display_data"
    },
    {
     "name": "stdout",
     "output_type": "stream",
     "text": [
      "   mean_fit_time  std_fit_time  mean_score_time  std_score_time  \\\n",
      "0       0.109746      0.013898        27.566801        2.474099   \n",
      "1       0.112748      0.023813        27.696995        0.936600   \n",
      "2       0.087731      0.000943        27.420103        1.023103   \n",
      "3       0.083061      0.001415        27.070998        0.831749   \n",
      "4       0.091732      0.013030        27.172976        1.015876   \n",
      "\n",
      "  param_n_neighbors               params  split0_test_score  \\\n",
      "0                 3   {'n_neighbors': 3}           0.522604   \n",
      "1                 9   {'n_neighbors': 9}           0.538297   \n",
      "2                15  {'n_neighbors': 15}           0.543062   \n",
      "3                21  {'n_neighbors': 21}           0.550039   \n",
      "4                27  {'n_neighbors': 27}           0.557107   \n",
      "\n",
      "   split1_test_score  split2_test_score  mean_test_score  std_test_score  \\\n",
      "0           0.513505           0.524691         0.520267        0.004856   \n",
      "1           0.531864           0.543043         0.537735        0.004581   \n",
      "2           0.539229           0.555470         0.545920        0.006932   \n",
      "3           0.555291           0.566330         0.557219        0.006789   \n",
      "4           0.553453           0.571218         0.560592        0.007660   \n",
      "\n",
      "   rank_test_score  split0_train_score  split1_train_score  \\\n",
      "0               10            0.896896            0.898974   \n",
      "1                9            0.777076            0.776623   \n",
      "2                8            0.735861            0.731498   \n",
      "3                7            0.710883            0.714648   \n",
      "4                6            0.694837            0.698215   \n",
      "\n",
      "   split2_train_score  mean_train_score  std_train_score  \n",
      "0            0.896560          0.897476         0.001068  \n",
      "1            0.772236          0.775312         0.002183  \n",
      "2            0.728955          0.732105         0.002852  \n",
      "3            0.705113          0.710215         0.003921  \n",
      "4            0.686998          0.693350         0.004699  \n"
     ]
    }
   ],
   "source": [
    "Train_data(train_tfidf,y_train,vectorizer=\"TFIDF\")"
   ]
  },
  {
   "cell_type": "code",
   "execution_count": 177,
   "metadata": {
    "ExecuteTime": {
     "end_time": "2019-09-22T05:07:10.285885Z",
     "start_time": "2019-09-22T05:01:17.433872Z"
    }
   },
   "outputs": [
    {
     "data": {
      "image/png": "[encoded data removed]",
      "text/plain": [
       "<Figure size 432x288 with 1 Axes>"
      ]
     },
     "metadata": {},
     "output_type": "display_data"
    },
    {
     "name": "stdout",
     "output_type": "stream",
     "text": [
      "====================================================================================================\n",
      "Train confusion matrix\n",
      "====================================================================================================\n",
      "the maximum value of tpr*(1-fpr) 0.37219227135001215 for threshold 0.86\n",
      "Train confusion matrix\n",
      "[[    0  5168]\n",
      " [    0 28332]]\n"
     ]
    },
    {
     "data": {
      "image/png": "[encoded data removed]",
      "text/plain": [
       "<Figure size 432x288 with 2 Axes>"
      ]
     },
     "metadata": {},
     "output_type": "display_data"
    },
    {
     "name": "stdout",
     "output_type": "stream",
     "text": [
      "Test confusion matrix\n",
      "[[    0  2546]\n",
      " [    0 13954]]\n"
     ]
    },
    {
     "data": {
      "image/png": "[encoded data removed]",
      "text/plain": [
       "<Figure size 432x288 with 2 Axes>"
      ]
     },
     "metadata": {},
     "output_type": "display_data"
    }
   ],
   "source": [
    "Test_Data(train_tfidf,y_train,test_tfidf,y_test,'brute', best_k=57,vectorizer=\"TFIDF\")"
   ]
  },
  {
   "cell_type": "markdown",
   "metadata": {
    "colab_type": "text",
    "id": "oq3NW2CbCyp3"
   },
   "source": [
    "### 2.4.3 Applying KNN brute force on AVG W2V,<font color='red'> SET 3</font>"
   ]
  },
  {
   "cell_type": "code",
   "execution_count": 178,
   "metadata": {
    "ExecuteTime": {
     "end_time": "2019-09-22T11:56:36.688575Z",
     "start_time": "2019-09-22T05:07:10.320936Z"
    },
    "scrolled": true
   },
   "outputs": [
    {
     "name": "stdout",
     "output_type": "stream",
     "text": [
      "The best parameters for using this model is {'n_neighbors': 57}\n"
     ]
    },
    {
     "data": {
      "image/png": "[encoded data removed]",
      "text/plain": [
       "<Figure size 432x288 with 1 Axes>"
      ]
     },
     "metadata": {},
     "output_type": "display_data"
    },
    {
     "name": "stdout",
     "output_type": "stream",
     "text": [
      "   mean_fit_time  std_fit_time  mean_score_time  std_score_time  \\\n",
      "0       0.544258      0.104724       297.174844       35.454298   \n",
      "1       0.448321      0.041169       255.791134       11.012292   \n",
      "2       0.545392      0.014177       310.817646       13.179156   \n",
      "3       0.494352      0.025683       306.252381       22.391102   \n",
      "4       0.453658      0.020514       288.679326        6.870892   \n",
      "\n",
      "  param_n_neighbors               params  split0_test_score  \\\n",
      "0                 3   {'n_neighbors': 3}           0.517557   \n",
      "1                 9   {'n_neighbors': 9}           0.537366   \n",
      "2                15  {'n_neighbors': 15}           0.545213   \n",
      "3                21  {'n_neighbors': 21}           0.550303   \n",
      "4                27  {'n_neighbors': 27}           0.556278   \n",
      "\n",
      "   split1_test_score  split2_test_score  mean_test_score  std_test_score  \\\n",
      "0           0.515983           0.521290         0.518277        0.002226   \n",
      "1           0.524676           0.539713         0.533918        0.006605   \n",
      "2           0.537930           0.551022         0.544722        0.005356   \n",
      "3           0.541468           0.552822         0.548198        0.004868   \n",
      "4           0.545934           0.562555         0.554922        0.006853   \n",
      "\n",
      "   rank_test_score  split0_train_score  split1_train_score  \\\n",
      "0               10            0.895093            0.896911   \n",
      "1                9            0.774438            0.774454   \n",
      "2                8            0.728625            0.729785   \n",
      "3                7            0.703923            0.706172   \n",
      "4                6            0.688135            0.689286   \n",
      "\n",
      "   split2_train_score  mean_train_score  std_train_score  \n",
      "0            0.895233          0.895745         0.000826  \n",
      "1            0.770279          0.773057         0.001964  \n",
      "2            0.724107          0.727506         0.002449  \n",
      "3            0.698666          0.702920         0.003145  \n",
      "4            0.680592          0.686004         0.003856  \n"
     ]
    }
   ],
   "source": [
    "Train_data(train_avg,y_train,vectorizer=\"AVG W2V\")"
   ]
  },
  {
   "cell_type": "code",
   "execution_count": 179,
   "metadata": {
    "ExecuteTime": {
     "end_time": "2019-09-22T20:18:34.426122Z",
     "start_time": "2019-09-22T11:56:36.717595Z"
    }
   },
   "outputs": [
    {
     "data": {
      "image/png": "[encoded data removed]",
      "text/plain": [
       "<Figure size 432x288 with 1 Axes>"
      ]
     },
     "metadata": {},
     "output_type": "display_data"
    },
    {
     "name": "stdout",
     "output_type": "stream",
     "text": [
      "====================================================================================================\n",
      "Train confusion matrix\n",
      "====================================================================================================\n",
      "the maximum value of tpr*(1-fpr) 0.3642886463642725 for threshold 0.86\n",
      "Train confusion matrix\n",
      "[[    0  5168]\n",
      " [    0 28332]]\n"
     ]
    },
    {
     "data": {
      "image/png": "[encoded data removed]",
      "text/plain": [
       "<Figure size 432x288 with 2 Axes>"
      ]
     },
     "metadata": {},
     "output_type": "display_data"
    },
    {
     "name": "stdout",
     "output_type": "stream",
     "text": [
      "Test confusion matrix\n",
      "[[    0  2546]\n",
      " [    0 13954]]\n"
     ]
    },
    {
     "data": {
      "image/png": "[encoded data removed]",
      "text/plain": [
       "<Figure size 432x288 with 2 Axes>"
      ]
     },
     "metadata": {},
     "output_type": "display_data"
    }
   ],
   "source": [
    "Test_Data(train_avg,y_train,test_avg,y_test,'brute', best_k=57,vectorizer=\"AVG W2V\")"
   ]
  },
  {
   "cell_type": "markdown",
   "metadata": {
    "colab_type": "text",
    "id": "TJLjbsNYCyp5"
   },
   "source": [
    "### 2.4.4 Applying KNN brute force on TFIDF W2V,<font color='red'> SET 4</font>"
   ]
  },
  {
   "cell_type": "code",
   "execution_count": 180,
   "metadata": {
    "ExecuteTime": {
     "end_time": "2019-09-22T20:50:46.588110Z",
     "start_time": "2019-09-22T20:18:34.533196Z"
    },
    "colab": {},
    "colab_type": "code",
    "id": "b-sFaOjWCyp6"
   },
   "outputs": [
    {
     "name": "stdout",
     "output_type": "stream",
     "text": [
      "The best parameters for using this model is {'n_neighbors': 57}\n"
     ]
    },
    {
     "data": {
      "image/png": "[encoded data removed]",
      "text/plain": [
       "<Figure size 432x288 with 1 Axes>"
      ]
     },
     "metadata": {},
     "output_type": "display_data"
    },
    {
     "name": "stdout",
     "output_type": "stream",
     "text": [
      "   mean_fit_time  std_fit_time  mean_score_time  std_score_time  \\\n",
      "0       0.009683      0.001239        19.548058        1.864679   \n",
      "1       0.019014      0.010041        23.123373        0.111245   \n",
      "2       0.011010      0.001634        23.825227        0.616467   \n",
      "3       0.015013      0.002165        24.382332        0.231251   \n",
      "4       0.015343      0.002869        24.395343        0.031295   \n",
      "\n",
      "  param_n_neighbors               params  split0_test_score  \\\n",
      "0                 3   {'n_neighbors': 3}           0.511842   \n",
      "1                 9   {'n_neighbors': 9}           0.530630   \n",
      "2                15  {'n_neighbors': 15}           0.535664   \n",
      "3                21  {'n_neighbors': 21}           0.540204   \n",
      "4                27  {'n_neighbors': 27}           0.545595   \n",
      "\n",
      "   split1_test_score  split2_test_score  mean_test_score  std_test_score  \\\n",
      "0           0.509374           0.512819         0.511345        0.001450   \n",
      "1           0.523648           0.530003         0.528094        0.003154   \n",
      "2           0.532565           0.541399         0.536543        0.003659   \n",
      "3           0.537073           0.549491         0.542256        0.005273   \n",
      "4           0.539587           0.553051         0.546077        0.005507   \n",
      "\n",
      "   rank_test_score  split0_train_score  split1_train_score  \\\n",
      "0               10            0.893798            0.895998   \n",
      "1                9            0.772382            0.771947   \n",
      "2                8            0.721589            0.724875   \n",
      "3                7            0.697901            0.702492   \n",
      "4                6            0.680001            0.683476   \n",
      "\n",
      "   split2_train_score  mean_train_score  std_train_score  \n",
      "0            0.894478          0.894758         0.000920  \n",
      "1            0.767120          0.770483         0.002384  \n",
      "2            0.720184          0.722216         0.001966  \n",
      "3            0.692116          0.697503         0.004245  \n",
      "4            0.673793          0.679090         0.004005  \n"
     ]
    }
   ],
   "source": [
    "# Please write all the code with proper documentation\n",
    "Train_data(train_tfidf_avg,y_train,vectorizer=\"TFIDFW2V\")"
   ]
  },
  {
   "cell_type": "code",
   "execution_count": 181,
   "metadata": {
    "ExecuteTime": {
     "end_time": "2019-09-22T20:52:36.175796Z",
     "start_time": "2019-09-22T20:50:46.648150Z"
    }
   },
   "outputs": [
    {
     "data": {
      "image/png": "[encoded data removed]",
      "text/plain": [
       "<Figure size 432x288 with 1 Axes>"
      ]
     },
     "metadata": {},
     "output_type": "display_data"
    },
    {
     "name": "stdout",
     "output_type": "stream",
     "text": [
      "====================================================================================================\n",
      "Train confusion matrix\n",
      "====================================================================================================\n",
      "the maximum value of tpr*(1-fpr) 0.3600280880090951 for threshold 0.86\n",
      "Train confusion matrix\n",
      "[[    0  5168]\n",
      " [    0 28332]]\n"
     ]
    },
    {
     "data": {
      "image/png": "[encoded data removed]",
      "text/plain": [
       "<Figure size 432x288 with 2 Axes>"
      ]
     },
     "metadata": {},
     "output_type": "display_data"
    },
    {
     "name": "stdout",
     "output_type": "stream",
     "text": [
      "Test confusion matrix\n",
      "[[    0  2546]\n",
      " [    0 13954]]\n"
     ]
    },
    {
     "data": {
      "image/png": "[encoded data removed]",
      "text/plain": [
       "<Figure size 432x288 with 2 Axes>"
      ]
     },
     "metadata": {},
     "output_type": "display_data"
    }
   ],
   "source": [
    "Test_Data(train_tfidf_avg,y_train,test_tfidf_avg,y_test,'brute', best_k=57,vectorizer=\"TFIDFW2V\")"
   ]
  },
  {
   "cell_type": "markdown",
   "metadata": {
    "colab_type": "text",
    "id": "G60n-gK8Cyp7"
   },
   "source": [
    "<h2>2.5 Feature selection with `SelectKBest` </h2>"
   ]
  },
  {
   "cell_type": "code",
   "execution_count": 182,
   "metadata": {
    "ExecuteTime": {
     "end_time": "2019-09-22T20:52:37.568245Z",
     "start_time": "2019-09-22T20:52:36.202812Z"
    },
    "colab": {},
    "colab_type": "code",
    "id": "VThRCDvZCyp9"
   },
   "outputs": [
    {
     "name": "stdout",
     "output_type": "stream",
     "text": [
      "(33500, 2000)\n"
     ]
    }
   ],
   "source": [
    "#chi2 scoring function gave error input X should be non negative, fixed it by using f_classif by following the below reference\n",
    "#https://stats.stackexchange.com/questions/341332/how-to-scale-for-selectkbest-for-feature-selection/341352\n",
    "#https://stackoverflow.com/questions/46927545/get-feature-names-of-selectkbest-function-python\n",
    "from sklearn.datasets import load_digits\n",
    "from sklearn.feature_selection import SelectKBest, f_classif\n",
    "selector = SelectKBest(f_classif, k=2000).fit(train_tfidf, y_train)\n",
    "\n",
    "train_new = selector.transform(train_tfidf)\n",
    "#cv_new = selector.transform(cv_tfidf)\n",
    "test_new = selector.transform(test_tfidf)\n",
    "\n",
    "print(train_new.shape)"
   ]
  },
  {
   "cell_type": "code",
   "execution_count": 183,
   "metadata": {
    "ExecuteTime": {
     "end_time": "2019-09-22T21:26:46.306025Z",
     "start_time": "2019-09-22T20:52:37.623385Z"
    }
   },
   "outputs": [
    {
     "name": "stdout",
     "output_type": "stream",
     "text": [
      "The best parameters for using this model is {'n_neighbors': 57}\n"
     ]
    },
    {
     "data": {
      "image/png": "[encoded data removed]",
      "text/plain": [
       "<Figure size 432x288 with 1 Axes>"
      ]
     },
     "metadata": {},
     "output_type": "display_data"
    },
    {
     "name": "stdout",
     "output_type": "stream",
     "text": [
      "   mean_fit_time  std_fit_time  mean_score_time  std_score_time  \\\n",
      "0       0.049036      0.007262        21.411220        0.248305   \n",
      "1       0.048036      0.005358        23.162620        0.354285   \n",
      "2       0.042032      0.003266        22.644746        0.295130   \n",
      "3       0.041364      0.003093        21.977983        0.315264   \n",
      "4       0.041029      0.004970        21.878924        0.318696   \n",
      "\n",
      "  param_n_neighbors               params  split0_test_score  \\\n",
      "0                 3   {'n_neighbors': 3}           0.519209   \n",
      "1                 9   {'n_neighbors': 9}           0.536568   \n",
      "2                15  {'n_neighbors': 15}           0.549049   \n",
      "3                21  {'n_neighbors': 21}           0.548406   \n",
      "4                27  {'n_neighbors': 27}           0.543496   \n",
      "\n",
      "   split1_test_score  split2_test_score  mean_test_score  std_test_score  \\\n",
      "0           0.515427           0.528256         0.520964        0.005383   \n",
      "1           0.529857           0.543321         0.536582        0.005497   \n",
      "2           0.538981           0.548525         0.545518        0.004627   \n",
      "3           0.544725           0.552480         0.548537        0.003168   \n",
      "4           0.550383           0.561130         0.551669        0.007256   \n",
      "\n",
      "   rank_test_score  split0_train_score  split1_train_score  \\\n",
      "0               10            0.897450            0.898690   \n",
      "1                9            0.775092            0.777295   \n",
      "2                8            0.728456            0.727911   \n",
      "3                7            0.701072            0.702147   \n",
      "4                6            0.685392            0.687568   \n",
      "\n",
      "   split2_train_score  mean_train_score  std_train_score  \n",
      "0            0.896954          0.897698         0.000730  \n",
      "1            0.771970          0.774786         0.002185  \n",
      "2            0.725693          0.727353         0.001195  \n",
      "3            0.696539          0.699919         0.002430  \n",
      "4            0.680035          0.684332         0.003165  \n"
     ]
    }
   ],
   "source": [
    "Train_data(train_new,y_train,vectorizer=\"TFIDF after SelectKBest\")"
   ]
  },
  {
   "cell_type": "code",
   "execution_count": 184,
   "metadata": {
    "ExecuteTime": {
     "end_time": "2019-09-22T21:29:20.970398Z",
     "start_time": "2019-09-22T21:26:46.768984Z"
    }
   },
   "outputs": [
    {
     "data": {
      "image/png": "[encoded data removed]",
      "text/plain": [
       "<Figure size 432x288 with 1 Axes>"
      ]
     },
     "metadata": {},
     "output_type": "display_data"
    },
    {
     "name": "stdout",
     "output_type": "stream",
     "text": [
      "====================================================================================================\n",
      "Train confusion matrix\n",
      "====================================================================================================\n",
      "the maximum value of tpr*(1-fpr) 0.3675098232632182 for threshold 0.842\n",
      "Train confusion matrix\n",
      "[[    0  5168]\n",
      " [    0 28332]]\n"
     ]
    },
    {
     "data": {
      "image/png": "[encoded data removed]",
      "text/plain": [
       "<Figure size 432x288 with 2 Axes>"
      ]
     },
     "metadata": {},
     "output_type": "display_data"
    },
    {
     "name": "stdout",
     "output_type": "stream",
     "text": [
      "Test confusion matrix\n",
      "[[    0  2546]\n",
      " [    0 13954]]\n"
     ]
    },
    {
     "data": {
      "image/png": "[encoded data removed]",
      "text/plain": [
       "<Figure size 432x288 with 2 Axes>"
      ]
     },
     "metadata": {},
     "output_type": "display_data"
    }
   ],
   "source": [
    "Test_Data(train_new,y_train,test_new,y_test,'brute', best_k=57,vectorizer=\"TFIDF after SelectKBest\")"
   ]
  },
  {
   "cell_type": "markdown",
   "metadata": {
    "colab_type": "text",
    "id": "bemispVtCyp-"
   },
   "source": [
    "<h1>3. Conclusions</h1>"
   ]
  },
  {
   "cell_type": "code",
   "execution_count": 185,
   "metadata": {
    "ExecuteTime": {
     "end_time": "2019-09-22T21:29:21.160513Z",
     "start_time": "2019-09-22T21:29:20.993396Z"
    },
    "colab": {},
    "colab_type": "code",
    "id": "zRO-VPG2Cyp_"
   },
   "outputs": [
    {
     "name": "stdout",
     "output_type": "stream",
     "text": [
      "+-------------------------+-------+-----------------+--------------------+\n",
      "|        Vectorizer       | Model | Hyper parameter |        AUC         |\n",
      "+-------------------------+-------+-----------------+--------------------+\n",
      "|           BOW           | brute |        57       | 0.5823308765271955 |\n",
      "|          TFIDF          | brute |        57       | 0.5851640408429852 |\n",
      "|         AVG W2V         | brute |        57       | 0.5810578265180814 |\n",
      "|         TFIDFW2V        | brute |        57       | 0.5743355792193878 |\n",
      "| TFIDF after SelectKBest | brute |        57       | 0.5749526330538867 |\n",
      "+-------------------------+-------+-----------------+--------------------+\n"
     ]
    }
   ],
   "source": [
    "# Please compare all your models using Prettytable library\n",
    "from prettytable import PrettyTable\n",
    "print(table)"
   ]
  },
  {
   "cell_type": "markdown",
   "metadata": {},
   "source": [
    "1. The above results show, KNN is not able to seperate positve and negative texts very clearly even with different hyperparameter values. We should try other algorithms    \n",
    "2. Auc of top 2000 features is also almost closer to TFIDF with all features    \n",
    "3. In order to avoid overfitting the training data I avoided using K=1. As per theory as K increases model starts to underfit  \n",
    "4. The dataset  is imbalanced, we havnt used undersampling or oversampling, that may also have contributed for the conflicting specificity and sensitivity    \n",
    "5. We can also conclude that the words used in title of approved and rejected projects looks almost same"
   ]
  },
  {
   "cell_type": "code",
   "execution_count": null,
   "metadata": {},
   "outputs": [],
   "source": []
  }
 ],
 "metadata": {
  "colab": {
   "collapsed_sections": [
    "0d0QeeQ-CyoD",
    "5YnkzKnmCyoN",
    "W544CoFtCyoN",
    "gK_SHRpTCyol",
    "YHwGesZUCyo1",
    "_s3QN_ZNCypD",
    "B1dIm8PiCypw",
    "s85gPOAbCyp1",
    "oq3NW2CbCyp3",
    "TJLjbsNYCyp5"
   ],
   "name": "3_DonorsChoose_KNN.ipynb",
   "provenance": [],
   "version": "0.3.2"
  },
  "kernelspec": {
   "display_name": "Python 3",
   "language": "python",
   "name": "python3"
  },
  "language_info": {
   "codemirror_mode": {
    "name": "ipython",
    "version": 3
   },
   "file_extension": ".py",
   "mimetype": "text/x-python",
   "name": "python",
   "nbconvert_exporter": "python",
   "pygments_lexer": "ipython3",
   "version": "3.7.3"
  },
  "toc": {
   "base_numbering": 1,
   "nav_menu": {},
   "number_sections": true,
   "sideBar": true,
   "skip_h1_title": false,
   "title_cell": "Table of Contents",
   "title_sidebar": "Contents",
   "toc_cell": false,
   "toc_position": {
    "height": "478px",
    "left": "1070.81px",
    "top": "141px",
    "width": "255.188px"
   },
   "toc_section_display": true,
   "toc_window_display": true
  },
  "varInspector": {
   "cols": {
    "lenName": 16,
    "lenType": 16,
    "lenVar": 40
   },
   "kernels_config": {
    "python": {
     "delete_cmd_postfix": "",
     "delete_cmd_prefix": "del ",
     "library": "var_list.py",
     "varRefreshCmd": "print(var_dic_list())"
    },
    "r": {
     "delete_cmd_postfix": ") ",
     "delete_cmd_prefix": "rm(",
     "library": "var_list.r",
     "varRefreshCmd": "cat(var_dic_list()) "
    }
   },
   "types_to_exclude": [
    "module",
    "function",
    "builtin_function_or_method",
    "instance",
    "_Feature"
   ],
   "window_display": false
  }
 },
 "nbformat": 4,
 "nbformat_minor": 1
}
